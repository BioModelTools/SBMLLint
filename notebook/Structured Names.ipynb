{
 "cells": [
  {
   "cell_type": "markdown",
   "metadata": {},
   "source": [
    "# Structured Names\n",
    "This notebook describes how to use structured names to check SBML models for moiety balance."
   ]
  },
  {
   "cell_type": "code",
   "execution_count": 1,
   "metadata": {
    "scrolled": false
   },
   "outputs": [],
   "source": [
    "import init\n",
    "from SBMLLint.common import constants as cn\n",
    "from SBMLLint.common.molecule import Molecule\n",
    "from SBMLLint.common import simple_sbml\n",
    "from SBMLLint.common.reaction import Reaction\n",
    "from SBMLLint.tools import sbmllint\n",
    "from SBMLLint.tools import print_reactions\n",
    "from SBMLLint.common.simple_sbml import SimpleSBML\n",
    "from SBMLLint.tools import sbmllint\n",
    "from SBMLLint.tools.model_maker import ModelMaker\n",
    "import tellurium as te\n",
    "\n",
    "import os\n",
    "import numpy as np\n",
    "import pandas as pd\n",
    "import matplotlib.pyplot as plt\n",
    "import tellurium as te"
   ]
  },
  {
   "cell_type": "code",
   "execution_count": 2,
   "metadata": {},
   "outputs": [],
   "source": [
    "from SBMLLint.common.simple_sbml import modelIterator"
   ]
  },
  {
   "cell_type": "code",
   "execution_count": 3,
   "metadata": {},
   "outputs": [
    {
     "name": "stdout",
     "output_type": "stream",
     "text": [
      "BIOMD0000000020_url.xml\n",
      "BIOMD0000000021_url.xml\n",
      "BIOMD0000000022_url.xml\n",
      "BIOMD0000000023_url.xml\n",
      "BIOMD0000000024_url.xml\n",
      "BIOMD0000000025_url.xml\n"
     ]
    }
   ],
   "source": [
    "iterator = modelIterator(initial=19, final=25)\n",
    "for item in iterator:\n",
    "    print(item.filename)"
   ]
  },
  {
   "cell_type": "code",
   "execution_count": 4,
   "metadata": {
    "scrolled": false
   },
   "outputs": [
    {
     "ename": "UnboundLocalError",
     "evalue": "local variable 'simple' referenced before assignment",
     "output_type": "error",
     "traceback": [
      "\u001b[0;31m--------------------------------------------------------------------------\u001b[0m",
      "\u001b[0;31mUnboundLocalError\u001b[0m                        Traceback (most recent call last)",
      "\u001b[0;32m<ipython-input-4-a0bc84bd6bdd>\u001b[0m in \u001b[0;36m<module>\u001b[0;34m\u001b[0m\n\u001b[1;32m     11\u001b[0m \u001b[0mA_P_P\u001b[0m \u001b[0;34m=\u001b[0m \u001b[0;36m0\u001b[0m\u001b[0;34m\u001b[0m\u001b[0;34m\u001b[0m\u001b[0m\n\u001b[1;32m     12\u001b[0m \"\"\"\n\u001b[0;32m---> 13\u001b[0;31m \u001b[0m_\u001b[0m \u001b[0;34m=\u001b[0m \u001b[0msbmllint\u001b[0m\u001b[0;34m.\u001b[0m\u001b[0mlint\u001b[0m\u001b[0;34m(\u001b[0m\u001b[0mmodel\u001b[0m\u001b[0;34m)\u001b[0m\u001b[0;34m\u001b[0m\u001b[0;34m\u001b[0m\u001b[0m\n\u001b[0m",
      "\u001b[0;32m~/SBMLLint/SBMLLint/tools/sbmllint.py\u001b[0m in \u001b[0;36mlint\u001b[0;34m(model_reference, file_out, mass_balance_check, config_fid, is_report, implicit_games)\u001b[0m\n\u001b[1;32m     64\u001b[0m       \u001b[0;31m# for r in simple.reactions:\u001b[0m\u001b[0;34m\u001b[0m\u001b[0;34m\u001b[0m\u001b[0;34m\u001b[0m\u001b[0m\n\u001b[1;32m     65\u001b[0m       \u001b[0;31m#   print(r.makeIdentifier(is_include_kinetics=False))\u001b[0m\u001b[0;34m\u001b[0m\u001b[0;34m\u001b[0m\u001b[0;34m\u001b[0m\u001b[0m\n\u001b[0;32m---> 66\u001b[0;31m     \u001b[0mm\u001b[0m \u001b[0;34m=\u001b[0m \u001b[0mGAMES_PP\u001b[0m\u001b[0;34m(\u001b[0m\u001b[0msimple\u001b[0m\u001b[0;34m)\u001b[0m\u001b[0;34m\u001b[0m\u001b[0;34m\u001b[0m\u001b[0m\n\u001b[0m\u001b[1;32m     67\u001b[0m     \u001b[0mgames_result\u001b[0m \u001b[0;34m=\u001b[0m \u001b[0mm\u001b[0m\u001b[0;34m.\u001b[0m\u001b[0manalyze\u001b[0m\u001b[0;34m(\u001b[0m\u001b[0msimple\u001b[0m\u001b[0;34m.\u001b[0m\u001b[0mreactions\u001b[0m\u001b[0;34m)\u001b[0m\u001b[0;34m\u001b[0m\u001b[0;34m\u001b[0m\u001b[0m\n\u001b[1;32m     68\u001b[0m     \u001b[0;32mif\u001b[0m \u001b[0mgames_result\u001b[0m \u001b[0;32mand\u001b[0m \u001b[0mis_report\u001b[0m\u001b[0;34m:\u001b[0m\u001b[0;34m\u001b[0m\u001b[0;34m\u001b[0m\u001b[0m\n",
      "\u001b[0;31mUnboundLocalError\u001b[0m: local variable 'simple' referenced before assignment"
     ]
    }
   ],
   "source": [
    "import init\n",
    "from SBMLLint.tools import sbmllint\n",
    "\n",
    "# The first step in glycolysis, expressed\n",
    "# in the Antimony language.\n",
    "model = \"\"\"\n",
    "Glu + A__P_3 -> Glu_P + A_P_P; 1\n",
    "Glu = 0\n",
    "A_P_P_P = 0\n",
    "Glu_P = 0\n",
    "A_P_P = 0\n",
    "\"\"\"\n",
    "_ = sbmllint.lint(model)"
   ]
  },
  {
   "cell_type": "code",
   "execution_count": null,
   "metadata": {
    "scrolled": false
   },
   "outputs": [],
   "source": [
    "# The first step in glycolysis, with an error (wrongly goes to A instead of A_P_P)\n",
    "model = \"\"\"\n",
    "Glu + A_P_P_P -> Glu_P + A_P; 1\n",
    "\"\"\"\n",
    "_ = sbmllint.lint(model, config_path=\"../SBMLLint/.sbmllint_cfg\")"
   ]
  },
  {
   "cell_type": "code",
   "execution_count": null,
   "metadata": {},
   "outputs": [],
   "source": [
    "cn.ANALYSIS_STRUCTURED_NAMES_DIR"
   ]
  },
  {
   "cell_type": "markdown",
   "metadata": {},
   "source": [
    "## Sturctured Names in BioModels"
   ]
  },
  {
   "cell_type": "code",
   "execution_count": null,
   "metadata": {},
   "outputs": [],
   "source": [
    "path = os.path.join(cn.ANALYSIS_STRUCTURED_NAMES_DIR, \"analyze_structured_names.csv\")\n",
    "df_data = pd.read_csv(path)\n",
    "df_data.head()"
   ]
  },
  {
   "cell_type": "code",
   "execution_count": null,
   "metadata": {},
   "outputs": [],
   "source": [
    "# Basic Statistics\n",
    "num_structured = len(df_data[df_data[cn.IS_STRUCTURED]])\n",
    "num_not_structured = len(df_data) - num_structured\n",
    "_ = plt.pie([num_structured, num_not_structured], \n",
    "            labels=[\"Structured (%d)\" % num_structured, \"Not Structured (%d)\" % num_not_structured])"
   ]
  },
  {
   "cell_type": "code",
   "execution_count": null,
   "metadata": {},
   "outputs": [],
   "source": [
    "df_sort = df_data[df_data[cn.IS_STRUCTURED]]\n",
    "df_sort = df_sort.sort_values(cn.FRAC_BALANCED_REACTIONS)\n",
    "df_sort = df_sort.reset_index()\n",
    "yv = [1.0*i/len(df_sort) for i in df_sort.index]\n",
    "_ = plt.plot(df_sort[cn.FRAC_BALANCED_REACTIONS], yv)\n",
    "plt.xlim(0, 1)\n",
    "plt.ylim(0, 1)\n",
    "plt.xlabel(\"Fraction Balanced Reactions\")\n",
    "plt.ylabel(\"Fraction of Models\")"
   ]
  },
  {
   "cell_type": "code",
   "execution_count": null,
   "metadata": {},
   "outputs": [],
   "source": [
    "def plotIsStructured(df, val):\n",
    "    df1 = df[df[cn.IS_STRUCTURED] == val]\n",
    "    plt.hist(df1[cn.TOTAL_REACTIONS], bins=100, range=(0, 500))\n",
    "    if val:\n",
    "        title = \"Structured Names\"\n",
    "    else:\n",
    "        title = \"Not Structured Names\"\n",
    "    plt.title(title)\n",
    "    plt.xlabel(\"Number Reactions\")\n",
    "    plt.show()\n",
    "plotIsStructured(df_data, True)\n",
    "plotIsStructured(df_data, False)"
   ]
  },
  {
   "cell_type": "code",
   "execution_count": null,
   "metadata": {},
   "outputs": [],
   "source": [
    "def plotFrcBoundary(df, val):\n",
    "    df1 = df[df[cn.IS_STRUCTURED] == val]\n",
    "    plt.scatter(df1[cn.TOTAL_REACTIONS], df1[cn.FRAC_BOUNDARY_REACTIONS])\n",
    "    if val:\n",
    "        title = \"Structured Names\"\n",
    "    else:\n",
    "        title = \"Not Structured Names\"\n",
    "    plt.title(title)\n",
    "    plt.xlabel(\"Number Reactions\")\n",
    "    plt.ylabel(\"Fraction Boundary\")\n",
    "    plt.show()\n",
    "plotFrcBoundary(df_data, True)\n",
    "plotFrcBoundary(df_data, False)"
   ]
  },
  {
   "cell_type": "code",
   "execution_count": null,
   "metadata": {},
   "outputs": [],
   "source": [
    "def plotFracBalanced(df):\n",
    "    df1 = df[df[cn.IS_STRUCTURED]]\n",
    "    xv = (1.0*df1[cn.TOTAL_REACTIONS] - df1[cn.NUM_BOUNDARY_REACTIONS]) / df1[cn.TOTAL_REACTIONS]\n",
    "    plt.scatter(xv, df1[cn.FRAC_BALANCED_REACTIONS])\n",
    "    title = \"Structured Names\"\n",
    "    plt.title(title)\n",
    "    plt.xlabel(\"Fraction Non-Boundary Reactions\")\n",
    "    plt.ylabel(\"Fraction Balanced\")\n",
    "    plt.xlim([0, 1.1])\n",
    "    plt.show()\n",
    "plotFracBalanced(df_data)"
   ]
  },
  {
   "cell_type": "code",
   "execution_count": null,
   "metadata": {},
   "outputs": [],
   "source": [
    "# Histogram of fraction balanced for structured names\n",
    "def plotFracBalancedHist(df):\n",
    "    df1 = df[df[cn.IS_STRUCTURED]]\n",
    "    plt.hist(df1[cn.FRAC_BALANCED_REACTIONS], bins=50)\n",
    "    title = \"Models With Structured Names\"\n",
    "    plt.title(title)\n",
    "    plt.xlabel(\"Fraction Balanced Reactions\")\n",
    "    plt.show()\n",
    "plotFracBalancedHist(df_data)"
   ]
  },
  {
   "cell_type": "markdown",
   "metadata": {},
   "source": [
    "## Detailed Look at Putative Structured Names"
   ]
  },
  {
   "cell_type": "markdown",
   "metadata": {},
   "source": [
    "**Observations**\n",
    "1. Some cases where doing ad hoc structured names that with little change can balance. For example:   \n",
    "   1. BIOMD0000000192_url.xml: RCC1_RanGDP -> RCC1_Ran + GDP, RCC1_Ran + GTP -> RCC1_RanGTP\n",
    "   1. BIOMD0000000010_url.xml: MKKK -> MKKK_P, MKKK_P -> MKKK"
   ]
  },
  {
   "cell_type": "code",
   "execution_count": null,
   "metadata": {
    "scrolled": true
   },
   "outputs": [],
   "source": [
    "df = df_data[df_data[cn.IS_STRUCTURED]]\n",
    "for _, row in df.iterrows():\n",
    "    path = os.path.join(cn.BIOMODELS_DIR, row[cn.FILENAME])\n",
    "    try:\n",
    "        print(\"\\n%s\" % row[cn.FILENAME])\n",
    "        print_reactions.prettyPrint(path, is_include_kinetics=False, is_include_label=False)\n",
    "    except:\n",
    "        pass"
   ]
  },
  {
   "cell_type": "markdown",
   "metadata": {},
   "source": [
    "## BioModel Re-Writes"
   ]
  },
  {
   "cell_type": "code",
   "execution_count": 5,
   "metadata": {},
   "outputs": [],
   "source": [
    "def evaluateModel(path):\n",
    "    with open(path, \"r\") as fd:\n",
    "        model = ''.join(fd.readlines())\n",
    "        # Make sure that the model can be loaded\n",
    "        rr = te.loada(model)\n",
    "        _ = sbmllint.lint(model_reference=path, mass_balance_check=cn.MOIETY_ANALYSIS)"
   ]
  },
  {
   "cell_type": "markdown",
   "metadata": {},
   "source": [
    "### BioModels 611"
   ]
  },
  {
   "cell_type": "code",
   "execution_count": null,
   "metadata": {},
   "outputs": [],
   "source": [
    "# Baseline model\n",
    "evaluateModel(\"BIOMOD611.ant\")"
   ]
  },
  {
   "cell_type": "code",
   "execution_count": null,
   "metadata": {},
   "outputs": [],
   "source": [
    "import init\n",
    "\n",
    "config_path = \"../SBMLLint/.sbmllint_cfg\"\n",
    "_ = sbmllint.lint(model, config_path=\"../SBMLLint/.sbmllint_cfg\")"
   ]
  },
  {
   "cell_type": "code",
   "execution_count": null,
   "metadata": {},
   "outputs": [],
   "source": [
    "# Modified model\n",
    "with open(\"BIOMOD611_mod.ant\", \"r\") as fd:\n",
    "    model = ''.join(fd.readlines())\n",
    "    # Make sure that the model can be loaded\n",
    "    rr = te.loada(model)\n",
    "_ = sbmllint.lint(model, config_path=\"../SBMLLint/.sbmllint_cfg\")"
   ]
  },
  {
   "cell_type": "markdown",
   "metadata": {},
   "source": [
    "Summary of changes:\n",
    "1. \"a\" -> \"\\_a\"\n",
    "1. mII -> m\\_II\n",
    "1. \"\\_\\_\" -> \"\\_\"\n",
    "1. \"4551\" -> \"4551x\"\n",
    "1. Implicits: a1, a2, L (13, 14, 15), m,  2b25, 4551x, 8de8, ad2303, adc8be, mwbdb849d8\n",
    "\n",
    "R13, R14, R15 have are questionable in terms of mass balance?"
   ]
  },
  {
   "cell_type": "markdown",
   "metadata": {},
   "source": [
    "### BioModels 293\n",
    "Terms in models\n",
    "- SUB is substrate\n",
    "- Prot is protein\n",
    "- dam is damaged\n",
    "- asyn is alpha syn*\n",
    "- Ub is ubiquiton"
   ]
  },
  {
   "cell_type": "code",
   "execution_count": null,
   "metadata": {},
   "outputs": [],
   "source": [
    "# Baseline model\n",
    "evaluateModel(\"BIOMOD293.ant\")"
   ]
  },
  {
   "cell_type": "code",
   "execution_count": null,
   "metadata": {},
   "outputs": [],
   "source": [
    "# Eliminate name repeititions\n",
    "maker = ModelMaker(\"BIOMOD293.txt\")\n",
    "maker.makeModelStr()\n",
    "exclude_funcs = [ \n",
    "        lambda n: n[0]==\"k\",\n",
    "        lambda n: n==\"E1\",\n",
    "        lambda n: n==\"E2\",\n",
    "        lambda n: n==\"E3\",\n",
    "        lambda n: \"UCHL1\" in n,\n",
    "        lambda n: \"Uchl1\" in n,\n",
    "        lambda n: n[-2:] == \"E3\",\n",
    "    ]\n",
    "rename_dict = maker.getCandidateRenames(exclude_funcs=exclude_funcs)\n",
    "model_str = maker.replaceSymbols(rename_dict)"
   ]
  },
  {
   "cell_type": "code",
   "execution_count": null,
   "metadata": {},
   "outputs": [],
   "source": [
    "rename_dict[\"ATP\"] = \"A__P__P__P\"\n",
    "rename_dict[\"ADP\"] = \"A__P__P\"\n",
    "rename_dict[\"AMP\"] = \"A__P\"\n",
    "rename_dict[\"agg\"] = \"Agg\"\n",
    "rename_dict[\"Parkin_asyn_dam_Ub\"] = \"Parkin__asyn__dam__Ub\"\n",
    "rename_dict[\"PUb\"] = \"ProtUb\"\n",
    "rename_dict[\"Uchl1\"] = \"UCHL1\"\n",
    "pairs = [\n",
    "    (\"Agg\", \"asyn\"),\n",
    "    (\"Agg\", \"E3\"),\n",
    "    (\"Agg\", \"DUB\"),\n",
    "    (\"Agg\", \"Prot\"),\n",
    "    (\"Agg\", \"Mis\"),\n",
    "    (\"Agg\", \"Parkin\"),\n",
    "    (\"Agg\", \"SUB\"),\n",
    "    (\"Agg\", \"Ub\"),\n",
    "    (\"Agg\", \"UCHL1\"),\n",
    "    (\"asyn\", \"dam\"),\n",
    "    (\"Nat\", \"Prot\"), \n",
    "    (\"Mis\", \"Prot\"),\n",
    "    (\"E3\", \"Mis\"),\n",
    "    (\"E3\", \"SUB\"),\n",
    "    (\"Ub\", \"DUB\"),\n",
    "    (\"P\", \"Ub\"),\n",
    "    (\"P\", \"Proteasome\"),\n",
    "    (\"upreg\", \"Ub\"),\n",
    "    (\"Uchl1\", \"dam\"),\n",
    "    (\"Seq\", \"Agg\"),\n",
    "]\n",
    "for pair in pairs:\n",
    "    original = \"%s%s\" % (pair[0], pair[1])\n",
    "    modified = \"%s__%s\" % (pair[0], pair[1])\n",
    "    rename_dict[original] = modified\n",
    "rename_dict[\"___\"] = \"__\"\n",
    "rename_dict = {k: v for k, v in rename_dict.items() if k[0] != \"k\"}  # do not rename constants\n",
    "rename_dict = {k: v for k, v in rename_dict.items() if not \"AggS\" in k}  # ignore constants\n",
    "model_str = maker.replaceSymbols(rename_dict, is_sort=False)  # Apply changes in order\n",
    "with open(\"BIOMOD293_mod1.ant\", \"w\") as fd:\n",
    "    fd.write(model_str)"
   ]
  },
  {
   "cell_type": "code",
   "execution_count": null,
   "metadata": {},
   "outputs": [],
   "source": [
    "rename_dict"
   ]
  },
  {
   "cell_type": "code",
   "execution_count": null,
   "metadata": {},
   "outputs": [],
   "source": [
    "# Modified model\n",
    "evaluateModel(\"BIOMOD293_mod1.ant\", cfg_path=\"sbmllint_293_cfg.yml\")"
   ]
  },
  {
   "cell_type": "markdown",
   "metadata": {},
   "source": [
    "Observations\n",
    "1. Initial 256/316 imbalanced reactions. 10 boundary reactions.\n",
    "1. Changes reduced this to 146/316\n",
    "    1. Changed \"P\" for protein to Prot to avoid confusion with Phosphates\n",
    "    1. Used separators between transformations (Agg, Mis, Nat, upreg, dam) and moieties (ROS, P, Prot, UCHL1, E3, SUB,\n",
    "    1. Proteasome, A, Ub)\n",
    "    1. Changed implicit repetitions: ATP -> A_P_P_P, AMP -> A_P; implicit P\n",
    "    1. Made transformations implicits and some moieties (P, ROS)\n",
    "\n",
    "1. Issues discovered\n",
    "    1. Not properly expressing transitions from aggregated to misfolded: DisAggregation5: Agg__Prot_1 -> 2.00 Mis__Prot\n",
    "should be DisAggregation5: Agg__Prot_1 -> 2.00 Mis__Prot_2\n",
    "    1. Not counting separate Prot in aggregations that are degraded: Agg__Prot_4 + Proteasome -> Agg__Prot__Proteasome\n",
    "    1. Similarly with UCHL1, SUB, asyn."
   ]
  },
  {
   "cell_type": "markdown",
   "metadata": {},
   "source": [
    "## Biomodels 140"
   ]
  },
  {
   "cell_type": "code",
   "execution_count": null,
   "metadata": {},
   "outputs": [],
   "source": [
    "maker = ModelMaker(\"BIOMOD140.txt\")\n",
    "maker.makeModelStr()\n",
    "print(maker.model_str)"
   ]
  },
  {
   "cell_type": "code",
   "execution_count": null,
   "metadata": {},
   "outputs": [],
   "source": [
    "# Baseline model\n",
    "evaluateModel(\"BIOMOD140.ant\", cfg_path=\"sbmllint_140_cfg.yml\")"
   ]
  }
 ],
 "metadata": {
  "kernelspec": {
   "display_name": "Python 3",
   "language": "python",
   "name": "python3"
  },
  "language_info": {
   "codemirror_mode": {
    "name": "ipython",
    "version": 3
   },
   "file_extension": ".py",
   "mimetype": "text/x-python",
   "name": "python",
   "nbconvert_exporter": "python",
   "pygments_lexer": "ipython3",
   "version": "3.6.7"
  }
 },
 "nbformat": 4,
 "nbformat_minor": 2
}
