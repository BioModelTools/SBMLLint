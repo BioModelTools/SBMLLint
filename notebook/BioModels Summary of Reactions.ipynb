{
 "cells": [
  {
   "cell_type": "markdown",
   "metadata": {},
   "source": [
    "# Models With Imbalanced Reactions\n",
    "This notebook explores models from Chris Myers following discussions at HARMONY 2019 in which he asserted that some reactions must be imbalanced."
   ]
  },
  {
   "cell_type": "code",
   "execution_count": 1,
   "metadata": {},
   "outputs": [],
   "source": [
    "import init\n",
    "import os\n",
    "import pandas as pd\n",
    "import numpy as np\n",
    "from SBMLLint.tools.print_reactions import prettyPrint"
   ]
  },
  {
   "cell_type": "code",
   "execution_count": 2,
   "metadata": {},
   "outputs": [],
   "source": [
    "from os import listdir\n",
    "from os.path import isfile, join\n",
    "dir_path = \"/home/ubuntu/SBMLLint/data/biomodels\"\n",
    "files = [join(dir_path, f) for f in listdir(dir_path) if (\"BIOM\" in f)]"
   ]
  },
  {
   "cell_type": "code",
   "execution_count": 3,
   "metadata": {},
   "outputs": [],
   "source": [
    "import tellurium as te\n",
    "import tesbml\n",
    "from SBMLLint.common.simple_sbml import SimpleSBML\n",
    "with open('/home/ubuntu/SBMLLint/data/biomodels/BIOMD0000000131_url.xml', \"r\") as fd:\n",
    "    inputs = '\\n'.join(fd.readlines())\n",
    "# Try different ways to load the model\n",
    "try:\n",
    "  rr = te.loada(inputs)\n",
    "except:\n",
    "  rr = te.loadSBMLModel(inputs)\n",
    "sbml = rr.getSBML()\n",
    "reader = tesbml.SBMLReader()\n",
    "document = reader.readSBMLFromString(sbml)\n",
    "model = document.getModel()\n",
    "simple = SimpleSBML()\n",
    "simple.initialize(model)\n",
    "\n"
   ]
  },
  {
   "cell_type": "code",
   "execution_count": 4,
   "metadata": {},
   "outputs": [
    {
     "data": {
      "text/plain": [
       "0"
      ]
     },
     "execution_count": 4,
     "metadata": {},
     "output_type": "execute_result"
    }
   ],
   "source": [
    "model.getNumReactions()"
   ]
  },
  {
   "cell_type": "code",
   "execution_count": 6,
   "metadata": {},
   "outputs": [
    {
     "name": "stdout",
     "output_type": "stream",
     "text": [
      "\n",
      "*** /home/ubuntu/SBMLLint/data/biomodels/BIOMD0000000167_url.xml\n",
      "PstatDimerisation: 2.00 Pstat_sol -> PstatDimer_sol; (Kf_PstatDimerisation * pow(Pstat_sol, 2) + -(Kr_PstatDimerisation * PstatDimer_sol)) * sol\n",
      "statDephosphorylation: Pstat_nuc -> stat_nuc; Kcat_dephos * statPhosphatase_nuc * Pstat_nuc * (1 / (Km_dephos + Pstat_nuc)) * nuc\n",
      "statPhosphorylation: stat_sol -> Pstat_sol + species_test; Kcat_phos * statKinase_sol * stat_sol * (1 / (Km_phos + stat_sol)) * sol\n",
      "PstatDimerisationNuc: 2.00 Pstat_nuc -> PstatDimer_nuc; (Kf_PstatDimerisation * pow(Pstat_nuc, 2) + -(Kr_PstatDimerisation * PstatDimer_nuc)) * nuc\n",
      "PstatDimer__import: PstatDimer_sol -> PstatDimer_nuc; PstatDimer_impMax * PstatDimer_sol * (1 / (Kpsd_imp + PstatDimer_sol)) * nm\n",
      "stat_export: stat_sol -> stat_nuc; nuc * stat_expMax * stat_nuc * (1 / (Ks_exp + stat_nuc)) * nm\n",
      "stat_import: stat_sol -> stat_nuc; nuc * stat_impMax * stat_sol * (1 / (Ks_imp + stat_sol)) * nm\n"
     ]
    }
   ],
   "source": [
    "files = ['/home/ubuntu/SBMLLint/data/biomodels/BIOMD0000000167_url.xml']\n",
    "for ff in files:\n",
    "    path = os.path.join(dir_path, ff)\n",
    "    print(\"\\n*** %s\" % ff)\n",
    "    prettyPrint(path, is_include_kinetics=True)"
   ]
  }
 ],
 "metadata": {
  "kernelspec": {
   "display_name": "Python 3",
   "language": "python",
   "name": "python3"
  },
  "language_info": {
   "codemirror_mode": {
    "name": "ipython",
    "version": 3
   },
   "file_extension": ".py",
   "mimetype": "text/x-python",
   "name": "python",
   "nbconvert_exporter": "python",
   "pygments_lexer": "ipython3",
   "version": "3.6.9"
  }
 },
 "nbformat": 4,
 "nbformat_minor": 4
}
