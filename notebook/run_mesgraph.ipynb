{
 "cells": [
  {
   "cell_type": "code",
   "execution_count": 2,
   "metadata": {},
   "outputs": [],
   "source": [
    "from games_setup import *\n",
    "import SBMLLint.common.constants as cn\n",
    "from SBMLLint.games.som import SOM\n",
    "from SBMLLint.games.mesgraph import MESGraph"
   ]
  },
  {
   "cell_type": "code",
   "execution_count": 3,
   "metadata": {},
   "outputs": [
    {
     "name": "stdout",
     "output_type": "stream",
     "text": [
      "Reaction1: Br + BrO3 -> HBrO2 + HOBr\n",
      "Reaction2: Br + HBrO2 -> 2.00 HOBr\n",
      "Reaction3: BrO3 + HBrO2 -> Ce + 2.00 HBrO2\n",
      "Reaction4: 2.00 HBrO2 -> BrO3 + HOBr\n",
      "Reaction5: Ce -> Br\n",
      "reduced reaction... Reaction1: Br + BrO3 -> HBrO2 + HOBr\n",
      "reactant_lessthan_product:  []\n",
      "product_lessthan_reactant:  []\n",
      "no_realtionship : [({Br, Ce}, {HBrO2}), ({Br, Ce}, {HOBr}), ({BrO3}, {HBrO2}), ({BrO3}, {HOBr})]\n",
      "----------------------------------------------------------\n",
      "reduced reaction... Reaction2: Br + HBrO2 -> 2.00 HOBr\n",
      "reactant_lessthan_product:  []\n",
      "product_lessthan_reactant:  []\n",
      "no_realtionship : [({HBrO2}, {HOBr}), ({Br, Ce}, {HOBr})]\n",
      "----------------------------------------------------------\n",
      "reduced reaction... Reaction4: 2.00 HBrO2 -> BrO3 + HOBr\n",
      "reactant_lessthan_product:  [({HBrO2}, {BrO3})]\n",
      "product_lessthan_reactant:  []\n",
      "no_realtionship : [({HBrO2}, {HOBr})]\n",
      "----------------------------------------------------------\n",
      "We are dealing with,  ({HBrO2}, {BrO3})\n",
      "big_som_stoi,  1.0\n",
      "small_som_stoi,  2.0\n",
      "reduced reaction... Reaction1: Br + BrO3 -> HBrO2 + HOBr\n",
      "reactant_lessthan_product:  []\n",
      "product_lessthan_reactant:  [({BrO3}, {HBrO2})]\n",
      "no_realtionship : [({Br, Ce}, {HBrO2}), ({Br, Ce}, {HOBr}), ({BrO3}, {HOBr})]\n",
      "----------------------------------------------------------\n",
      "We are dealing with,  ({BrO3}, {HBrO2})\n",
      "big_som_stoi,  1.0\n",
      "small_som_stoi,  1.0\n",
      "reduced reaction... Reaction2: Br + HBrO2 -> 2.00 HOBr\n",
      "reactant_lessthan_product:  []\n",
      "product_lessthan_reactant:  []\n",
      "no_realtionship : [({HBrO2}, {HOBr}), ({Br, Ce}, {HOBr})]\n",
      "----------------------------------------------------------\n",
      "reduced reaction... Reaction4: 2.00 HBrO2 -> BrO3 + HOBr\n",
      "reactant_lessthan_product:  [({HBrO2}, {BrO3})]\n",
      "product_lessthan_reactant:  []\n",
      "no_realtionship : [({HBrO2}, {HOBr})]\n",
      "----------------------------------------------------------\n",
      "We are dealing with,  ({HBrO2}, {BrO3})\n",
      "big_som_stoi,  1.0\n",
      "small_som_stoi,  2.0\n",
      "Model analyzed...\n",
      "No error found\n"
     ]
    }
   ],
   "source": [
    "num = 281\n",
    "num = 40\n",
    "simple = load_file_from_curated_data(num)\n",
    "reactions = []\n",
    "for reaction in simple.reactions:\n",
    "  if reaction.category != cn.REACTION_BOUNDARY:\n",
    "    reactions.append(reaction.makeIdentifier(is_include_kinetics=False))\n",
    "m = MESGraph(simple)\n",
    "for r in simple.reactions:\n",
    "  print(r.makeIdentifier(is_include_kinetics=False))\n",
    "  #print(r.category)\n",
    "result = m.analyze(simple.reactions)"
   ]
  },
  {
   "cell_type": "code",
   "execution_count": 10,
   "metadata": {},
   "outputs": [
    {
     "data": {
      "text/plain": [
       "[]"
      ]
     },
     "execution_count": 10,
     "metadata": {},
     "output_type": "execute_result"
    }
   ],
   "source": [
    "m.type_one_errors"
   ]
  },
  {
   "cell_type": "code",
   "execution_count": 11,
   "metadata": {},
   "outputs": [
    {
     "data": {
      "text/plain": [
       "OutEdgeDataView([({HBrO2}, {BrO3}, {'reaction': ['Reaction3']}), ({Br, Ce}, {BrO3}, {'reaction': ['Reaction3']})])"
      ]
     },
     "execution_count": 11,
     "metadata": {},
     "output_type": "execute_result"
    }
   ],
   "source": [
    "m.edges(data=True)"
   ]
  },
  {
   "cell_type": "code",
   "execution_count": 5,
   "metadata": {},
   "outputs": [
    {
     "data": {
      "text/plain": [
       "{DIH}->{DIN}\n",
       "{OXY}->{DIN}\n",
       "{GLU};{ENZ};{ENG};{TP1};{ADP};{GLP};{ETZ};{ETG};{GPP};{GAP};{DHA};{DPH};{AGP};{DPN};{MOD};{MOB};{PID};{DGA};{MOX};{PGA};{PYR};{LAC};{XSP};{TP2};{PUE};{PPP};{XI, XSI}"
      ]
     },
     "execution_count": 5,
     "metadata": {},
     "output_type": "execute_result"
    }
   ],
   "source": [
    "m.processUniUniReaction(simple.getReaction('r_19'))\n",
    "m.processMultiMultiReaction(simple.getReaction('r_16'))\n",
    "m"
   ]
  },
  {
   "cell_type": "code",
   "execution_count": 6,
   "metadata": {},
   "outputs": [
    {
     "data": {
      "text/plain": [
       "'r_15'"
      ]
     },
     "execution_count": 6,
     "metadata": {},
     "output_type": "execute_result"
    }
   ],
   "source": [
    "r = simple.getReaction('r_15')\n",
    "r.label"
   ]
  },
  {
   "cell_type": "code",
   "execution_count": 7,
   "metadata": {},
   "outputs": [
    {
     "name": "stdout",
     "output_type": "stream",
     "text": [
      "reduced reaction... r_15: PYR + 4.00 DIN -> 4.00 DIH\n",
      "reactant_lessthan_product:  []\n",
      "product_lessthan_reactant:  [({DIN}, {DIH})]\n",
      "no_realtionship : [({PYR}, {DIH})]\n",
      "----------------------------------------------------------\n",
      "We are dealing with,  ({DIN}, {DIH})\n",
      "big_som_stoi,  4.0\n",
      "small_som_stoi,  4.0\n",
      "type four error added! r_15: PYR + 4.00 DIN -> 4.00 DIH; cell * 1e-6 * k * PYR * DIN\n"
     ]
    },
    {
     "data": {
      "text/plain": [
       "{DIH}->{DIN}\n",
       "{OXY}->{DIN}\n",
       "{GLU};{ENZ};{ENG};{TP1};{ADP};{GLP};{ETZ};{ETG};{GPP};{GAP};{DHA};{DPH};{AGP};{DPN};{MOD};{MOB};{PID};{DGA};{MOX};{PGA};{PYR};{LAC};{XSP};{TP2};{PUE};{PPP};{XI, XSI}"
      ]
     },
     "execution_count": 7,
     "metadata": {},
     "output_type": "execute_result"
    }
   ],
   "source": [
    "m.processMultiMultiReaction(simple.getReaction('r_15'))\n",
    "m"
   ]
  },
  {
   "cell_type": "code",
   "execution_count": 5,
   "metadata": {},
   "outputs": [
    {
     "data": {
      "text/plain": [
       "{DIH}->{DIN}\n",
       "{OXY}->{DIN}\n",
       "{GLU};{ENZ};{ENG};{TP1};{ADP};{GLP};{ETZ};{ETG};{GPP};{GAP};{DHA};{DPH};{AGP};{DPN};{MOD};{MOB};{PID};{DGA};{MOX};{PGA};{PYR};{LAC};{XSP};{TP2};{PUE};{PPP};{XI, XSI}"
      ]
     },
     "execution_count": 5,
     "metadata": {},
     "output_type": "execute_result"
    }
   ],
   "source": [
    "m"
   ]
  },
  {
   "cell_type": "code",
   "execution_count": 13,
   "metadata": {},
   "outputs": [
    {
     "name": "stdout",
     "output_type": "stream",
     "text": [
      "[({GLU}, {ENG}, {'reaction': ['r_1']}), ({ENZ}, {ENG}, {'reaction': ['r_1']}), ({ADP}, {PPP}, {'reaction': ['r_22']}), ({GLP}, {ETG}, {'reaction': ['r_3']}), ({ETZ}, {ETG}, {'reaction': ['r_3']}), ({GAP}, {GPP}, {'reaction': ['r_5']}), ({DHA}, {GPP}, {'reaction': ['r_5']}), ({DPN}, {MOD}, {'reaction': ['r_10']}), ({PID}, {PPP}, {'reaction': ['r_22']}), ({PID}, {XSP}, {'reaction': ['r_17']}), ({MOX}, {MOD}, {'reaction': ['r_10']}), ({DIH}, {DIN}, {'reaction': ['r_16']}), ({OXY}, {DIN}, {'reaction': ['r_16']}), ({PUE}, {PPP}, {'reaction': ['r_22', 'r_21']}), ({XI, XSI}, {XSP}, {'reaction': ['r_17']}), ({TP1, TP2}, {PPP}, {'reaction': ['r_21']})]\n",
      "[{GLU}, {ENZ}, {ENG}, {ADP}, {GLP}, {ETZ}, {ETG}, {GPP}, {GAP}, {DHA}, {DPH}, {AGP}, {DPN}, {MOD}, {MOB}, {PID}, {DGA}, {MOX}, {PGA}, {PYR}, {LAC}, {DIN}, {DIH}, {OXY}, {XSP}, {PUE}, {PPP}, {XI, XSI}, {TP1, TP2}]\n"
     ]
    }
   ],
   "source": [
    "print(m.edges(data=True))\n",
    "print(m.nodes)"
   ]
  },
  {
   "cell_type": "code",
   "execution_count": 18,
   "metadata": {},
   "outputs": [],
   "source": [
    "m.processUniUniReaction(simple.getReaction('r_19'))"
   ]
  },
  {
   "cell_type": "code",
   "execution_count": 8,
   "metadata": {},
   "outputs": [
    {
     "data": {
      "text/plain": [
       "[(1, 3), (2, 3)]"
      ]
     },
     "execution_count": 8,
     "metadata": {},
     "output_type": "execute_result"
    }
   ],
   "source": [
    "list(itertools.product([1,2], [3]))"
   ]
  },
  {
   "cell_type": "code",
   "execution_count": 19,
   "metadata": {},
   "outputs": [
    {
     "data": {
      "text/plain": [
       "NodeView(({GLU}, {ENZ}, {ENG}, {ADP}, {GLP}, {ETZ}, {ETG}, {GPP}, {GAP}, {DHA}, {DPH}, {AGP}, {DPN}, {MOD}, {MOB}, {PID}, {DGA}, {MOX}, {PGA}, {PYR}, {LAC}, {DIN}, {DIH}, {OXY}, {XSP}, {PUE}, {PPP}, {XI, XSI}, {TP1, TP2}))"
      ]
     },
     "execution_count": 19,
     "metadata": {},
     "output_type": "execute_result"
    }
   ],
   "source": [
    "m.nodes"
   ]
  },
  {
   "cell_type": "code",
   "execution_count": 17,
   "metadata": {},
   "outputs": [
    {
     "data": {
      "text/plain": [
       "r_19: XSI -> XI; cell * 1e-6 * k * XSI * DBP"
      ]
     },
     "execution_count": 17,
     "metadata": {},
     "output_type": "execute_result"
    }
   ],
   "source": [
    "simple.getReaction('r_19')"
   ]
  },
  {
   "cell_type": "code",
   "execution_count": 6,
   "metadata": {},
   "outputs": [
    {
     "name": "stdout",
     "output_type": "stream",
     "text": [
      "[({HBrO2}, {HOBr}), ({Br, Ce}, {HOBr})]\n",
      "[{BrO3}, {HBrO2}, {HOBr}, {Br, Ce}]\n"
     ]
    }
   ],
   "source": [
    "m.processMultiMultiReaction(simple.reactions[1])\n",
    "print(m.edges)\n",
    "print(m.nodes)"
   ]
  },
  {
   "cell_type": "code",
   "execution_count": null,
   "metadata": {},
   "outputs": [],
   "source": []
  },
  {
   "cell_type": "code",
   "execution_count": 9,
   "metadata": {},
   "outputs": [
    {
     "name": "stdout",
     "output_type": "stream",
     "text": [
      "Model analyzed...\n",
      "No error found\n"
     ]
    },
    {
     "data": {
      "text/plain": [
       "'No error found in uni-uni and mulit-uni(uni-multi) reactions.\\n*************************************************************\\nNo error found in multi-multi reactions.\\n *************************************************************\\n'"
      ]
     },
     "execution_count": 9,
     "metadata": {},
     "output_type": "execute_result"
    }
   ],
   "source": [
    "m.analyze()"
   ]
  },
  {
   "cell_type": "code",
   "execution_count": 7,
   "metadata": {},
   "outputs": [
    {
     "name": "stdout",
     "output_type": "stream",
     "text": [
      "[({HBrO2}, {BrO3}, {'reaction': ['Reaction3']}), ({Br, Ce}, {BrO3}, {'reaction': ['Reaction3']})]\n",
      "[{BrO3}, {HBrO2}, {HOBr}, {Br, Ce}]\n"
     ]
    }
   ],
   "source": [
    "print(m.edges(data=True))\n",
    "print(m.nodes)"
   ]
  },
  {
   "cell_type": "code",
   "execution_count": 6,
   "metadata": {},
   "outputs": [
    {
     "data": {
      "text/plain": [
       "v2: ATP + AMP -> 2.00 ADP; Vm2 * ATP * AMP / (K + Km2ATP * AMP + Km2AMP * ATP + ATP * AMP)"
      ]
     },
     "execution_count": 6,
     "metadata": {},
     "output_type": "execute_result"
    }
   ],
   "source": [
    "m.reduceReaction(simple.reactions[1])"
   ]
  },
  {
   "cell_type": "code",
   "execution_count": 25,
   "metadata": {},
   "outputs": [
    {
     "data": {
      "text/plain": [
       "OutEdgeView([({HBrO2}, {HOBr}), ({Br, Ce}, {HOBr})])"
      ]
     },
     "execution_count": 25,
     "metadata": {},
     "output_type": "execute_result"
    }
   ],
   "source": [
    "m.edges"
   ]
  },
  {
   "cell_type": "code",
   "execution_count": 13,
   "metadata": {},
   "outputs": [
    {
     "name": "stdout",
     "output_type": "stream",
     "text": [
      "Reaction1: Br + BrO3 -> HBrO2 + HOBr\n",
      "reaction_n_n\n",
      "Reaction2: Br + HBrO2 -> 2.00 HOBr\n",
      "reaction_n_n\n",
      "Reaction3: BrO3 -> HBrO2 + Ce\n",
      "reaction_1_n\n",
      "Reaction4: 2.00 HBrO2 -> BrO3 + HOBr\n",
      "reaction_n_n\n",
      "Reaction5: Ce -> Br\n",
      "reaction_1_1\n"
     ]
    }
   ],
   "source": [
    "for r in simple.reactions:\n",
    "  print(r.makeIdentifier(is_include_kinetics=False))\n",
    "  print(r.category)"
   ]
  },
  {
   "cell_type": "code",
   "execution_count": 4,
   "metadata": {},
   "outputs": [
    {
     "name": "stdout",
     "output_type": "stream",
     "text": [
      "No error found in uni-uni and mulit-uni(uni-multi) reactions.\n",
      "*************************************************************\n",
      "\n"
     ]
    }
   ],
   "source": [
    "print(result)"
   ]
  },
  {
   "cell_type": "code",
   "execution_count": 8,
   "metadata": {},
   "outputs": [
    {
     "data": {
      "text/plain": [
       "[[{BrO3}, {HBrO2}], [{HOBr}, {HBrO2}]]"
      ]
     },
     "execution_count": 8,
     "metadata": {},
     "output_type": "execute_result"
    }
   ],
   "source": [
    "m.type_five_errors"
   ]
  },
  {
   "cell_type": "code",
   "execution_count": 4,
   "metadata": {},
   "outputs": [
    {
     "ename": "AttributeError",
     "evalue": "'NoneType' object has no attribute 'makeIdentifier'",
     "output_type": "error",
     "traceback": [
      "\u001b[0;31m---------------------------------------------------------------------------\u001b[0m",
      "\u001b[0;31mAttributeError\u001b[0m                            Traceback (most recent call last)",
      "\u001b[0;32m<ipython-input-4-d0f015958fa7>\u001b[0m in \u001b[0;36m<module>\u001b[0;34m()\u001b[0m\n\u001b[1;32m      4\u001b[0m \u001b[0msimple2\u001b[0m \u001b[0;34m=\u001b[0m \u001b[0msimple\u001b[0m\u001b[0;34m\u001b[0m\u001b[0m\n\u001b[1;32m      5\u001b[0m \u001b[0mm2\u001b[0m \u001b[0;34m=\u001b[0m \u001b[0mMESGraph\u001b[0m\u001b[0;34m(\u001b[0m\u001b[0msimple2\u001b[0m\u001b[0;34m)\u001b[0m\u001b[0;34m\u001b[0m\u001b[0m\n\u001b[0;32m----> 6\u001b[0;31m \u001b[0mprint\u001b[0m\u001b[0;34m(\u001b[0m\u001b[0msimple2\u001b[0m\u001b[0;34m.\u001b[0m\u001b[0mgetReaction\u001b[0m\u001b[0;34m(\u001b[0m\u001b[0mREACTION1\u001b[0m\u001b[0;34m)\u001b[0m\u001b[0;34m.\u001b[0m\u001b[0mmakeIdentifier\u001b[0m\u001b[0;34m(\u001b[0m\u001b[0mis_include_kinetics\u001b[0m\u001b[0;34m=\u001b[0m\u001b[0;32mFalse\u001b[0m\u001b[0;34m)\u001b[0m\u001b[0;34m)\u001b[0m\u001b[0;34m\u001b[0m\u001b[0m\n\u001b[0m\u001b[1;32m      7\u001b[0m \u001b[0mprint\u001b[0m\u001b[0;34m(\u001b[0m\u001b[0msimple2\u001b[0m\u001b[0;34m.\u001b[0m\u001b[0mgetReaction\u001b[0m\u001b[0;34m(\u001b[0m\u001b[0mREACTION2\u001b[0m\u001b[0;34m)\u001b[0m\u001b[0;34m.\u001b[0m\u001b[0mmakeIdentifier\u001b[0m\u001b[0;34m(\u001b[0m\u001b[0mis_include_kinetics\u001b[0m\u001b[0;34m=\u001b[0m\u001b[0;32mFalse\u001b[0m\u001b[0;34m)\u001b[0m\u001b[0;34m)\u001b[0m\u001b[0;34m\u001b[0m\u001b[0m\n\u001b[1;32m      8\u001b[0m \u001b[0mprint\u001b[0m\u001b[0;34m(\u001b[0m\u001b[0msimple2\u001b[0m\u001b[0;34m.\u001b[0m\u001b[0mgetReaction\u001b[0m\u001b[0;34m(\u001b[0m\u001b[0mREACTION3\u001b[0m\u001b[0;34m)\u001b[0m\u001b[0;34m.\u001b[0m\u001b[0mmakeIdentifier\u001b[0m\u001b[0;34m(\u001b[0m\u001b[0mis_include_kinetics\u001b[0m\u001b[0;34m=\u001b[0m\u001b[0;32mFalse\u001b[0m\u001b[0;34m)\u001b[0m\u001b[0;34m)\u001b[0m\u001b[0;34m\u001b[0m\u001b[0m\n",
      "\u001b[0;31mAttributeError\u001b[0m: 'NoneType' object has no attribute 'makeIdentifier'"
     ]
    }
   ],
   "source": [
    "REACTION1 = \"SHMTr\"\n",
    "REACTION2 = \"MTHFR\"\n",
    "REACTION3 = \"MTR\"\n",
    "simple2 = simple\n",
    "m2 = MESGraph(simple2)\n",
    "print(simple2.getReaction(REACTION1).makeIdentifier(is_include_kinetics=False))\n",
    "print(simple2.getReaction(REACTION2).makeIdentifier(is_include_kinetics=False))\n",
    "print(simple2.getReaction(REACTION3).makeIdentifier(is_include_kinetics=False))\n",
    "m2.processUniUniReaction(simple2.getReaction(REACTION1))\n",
    "m2.processMultiUniReaction(simple2.getReaction(REACTION2))\n",
    "m2.processMultiUniReaction(simple2.getReaction(REACTION3))\n",
    "print(m2.identifier)\n",
    "m2.checkTypeTwoError()\n",
    "# self.assertTrue(mesgraph2.checkTypeTwoError())\n",
    "# self.assertFalse(len(mesgraph2.type_one_errors)>0)\n",
    "# self.assertTrue(len(mesgraph2.type_two_errors)>0)"
   ]
  },
  {
   "cell_type": "code",
   "execution_count": 4,
   "metadata": {},
   "outputs": [
    {
     "data": {
      "text/plain": [
       "v3: DFG -> Gly + Cn; k3 * DFG"
      ]
     },
     "execution_count": 4,
     "metadata": {},
     "output_type": "execute_result"
    }
   ],
   "source": [
    "INITIAL_NODES = 14\n",
    "INITIAL_EDGES = 0\n",
    "FINAL_NODES = 6\n",
    "FINAL_EDGES = 6\n",
    "UNIUNI0 = 0\n",
    "UNIUNI1 = 7\n",
    "UNIUNI2 = 8\n",
    "UNIMULTI = 2\n",
    "MULTIUNI = 13\n",
    "INEQUAL1 = 14\n",
    "INEQUAL2 = 15\n",
    "# Constants for simple\n",
    "AA = \"AA\"\n",
    "CN = \"Cn\"\n",
    "DFG = \"DFG\"\n",
    "E1 = \"E1\"\n",
    "E2 = \"E2\"\n",
    "FRU = \"Fru\"\n",
    "GLY = \"Gly\"\n",
    "MEL = \"Mel\"\n",
    "MG = \"MG\"\n",
    "# Constants for simple2\n",
    "REACTION1 = \"SHMTr\"\n",
    "REACTION2 = \"MTHFR\"\n",
    "REACTION3 = \"MTR\"\n",
    "unimulti_reaction = simple.reactions[UNIMULTI]\n",
    "unimulti_reaction"
   ]
  },
  {
   "cell_type": "code",
   "execution_count": 5,
   "metadata": {},
   "outputs": [
    {
     "name": "stdout",
     "output_type": "stream",
     "text": [
      "[]\n",
      "[({Gly}, {DFG}), ({Cn}, {DFG})]\n"
     ]
    }
   ],
   "source": [
    "print(m.edges)\n",
    "m.processUniMultiReaction(unimulti_reaction)\n",
    "print(m.edges)\n",
    "# # prods = [m.getNode(product.molecule) for product in unimulti_reaction.products]\n",
    "# # dfg = m.getNode(simple.getMolecule(DFG))\n",
    "# # for prod in prods:\n",
    "# #   print(m.has_edge(prod, dfg))\n",
    "# destination = [unimulti_reaction.reactants[0].molecule]\n",
    "# source = [product.molecule for product in unimulti_reaction.products]\n",
    "# arcs = itertools.product(source, destination)\n",
    "# for arc in arcs:\n",
    "#   print(m.checkTypeOneError(arc, reaction)) \n",
    "#   if not m.checkTypeOneError(arc, reaction):\n",
    "#   print(arc)\n",
    "#   print(type(arc[0]), type(arc[1]))\n",
    "#   print(m.checkTypeOneError(arc, reaction))"
   ]
  },
  {
   "cell_type": "code",
   "execution_count": 6,
   "metadata": {},
   "outputs": [
    {
     "name": "stdout",
     "output_type": "stream",
     "text": [
      "\n",
      "AA = _1DG by reaction(s):\n",
      "v9: _1DG -> AA\n",
      "\n",
      "_1DG = Cn by reaction(s):\n",
      "v8: _1DG -> Cn\n",
      "\n",
      "However, the following reaction(s)\n",
      "v15: Cn -> AA + FA + MG\n",
      "imply AA < Cn\n",
      "------------------------------------\n",
      "\n",
      "FA = _3DG by reaction(s):\n",
      "v6: _3DG -> FA\n",
      "\n",
      "_3DG = Cn by reaction(s):\n",
      "v5: _3DG -> Cn\n",
      "\n",
      "However, the following reaction(s)\n",
      "v15: Cn -> AA + FA + MG\n",
      "imply FA < Cn\n",
      "------------------------------------\n",
      "************************************\n"
     ]
    },
    {
     "data": {
      "text/plain": [
       "{Gly}->{DFG, E1, E2}\n",
       "{Gly}->{Mel}\n",
       "{MG}->{AA, Cn, FA, Glu, Man, _1DG, _3DG}\n",
       "{Fru}->{DFG, E1, E2}\n",
       "{AA, Cn, FA, Glu, Man, _1DG, _3DG}->{DFG, E1, E2}\n",
       "{AA, Cn, FA, Glu, Man, _1DG, _3DG}->{Mel}"
      ]
     },
     "execution_count": 6,
     "metadata": {},
     "output_type": "execute_result"
    }
   ],
   "source": [
    "m.analyze(simple.reactions)"
   ]
  },
  {
   "cell_type": "code",
   "execution_count": 7,
   "metadata": {},
   "outputs": [
    {
     "data": {
      "text/plain": [
       "[PathComponents(node1='AA', node2='Cn', reactions=['v15']),\n",
       " PathComponents(node1='FA', node2='Cn', reactions=['v15'])]"
      ]
     },
     "execution_count": 7,
     "metadata": {},
     "output_type": "execute_result"
    }
   ],
   "source": [
    "m.type_one_errors"
   ]
  },
  {
   "cell_type": "code",
   "execution_count": 8,
   "metadata": {},
   "outputs": [
    {
     "name": "stdout",
     "output_type": "stream",
     "text": [
      "[PathComponents(node1='FA', node2='Cn', reactions=['v15']), PathComponents(node1='AA', node2='Cn', reactions=['v15'])]\n"
     ]
    }
   ],
   "source": [
    "PathComponents = collections.namedtuple('PathComponents',\n",
    "                                        'node1 node2 reactions')\n",
    "toe = m.type_one_errors\n",
    "p = toe[0]\n",
    "new_p = PathComponents(p.node1, p.node2, list(set(p.reactions)))\n",
    "toe.remove(p)\n",
    "toe.append(new_p)\n",
    "print(toe)"
   ]
  },
  {
   "cell_type": "code",
   "execution_count": 9,
   "metadata": {},
   "outputs": [
    {
     "name": "stdout",
     "output_type": "stream",
     "text": [
      "[]\n"
     ]
    }
   ],
   "source": [
    "simple = load_file_from_curated_data(142)\n",
    "reactions = []\n",
    "for reaction in simple.reactions:\n",
    "  if reaction.category != cn.REACTION_BOUNDARY:\n",
    "    reactions.append(reaction.makeIdentifier(is_include_kinetics=False))\n",
    "m = MESGraph(simple)\n",
    "print(reactions)\n",
    "#reactions"
   ]
  },
  {
   "cell_type": "code",
   "execution_count": 10,
   "metadata": {},
   "outputs": [
    {
     "name": "stdout",
     "output_type": "stream",
     "text": [
      "No mass balance error found.\n",
      "************************************\n"
     ]
    },
    {
     "data": {
      "text/plain": []
     },
     "execution_count": 10,
     "metadata": {},
     "output_type": "execute_result"
    }
   ],
   "source": [
    "m.analyze(simple.reactions)"
   ]
  },
  {
   "cell_type": "code",
   "execution_count": 11,
   "metadata": {},
   "outputs": [
    {
     "data": {
      "text/plain": [
       "NodeView(())"
      ]
     },
     "execution_count": 11,
     "metadata": {},
     "output_type": "execute_result"
    }
   ],
   "source": [
    "m.nodes"
   ]
  },
  {
   "cell_type": "code",
   "execution_count": 12,
   "metadata": {},
   "outputs": [],
   "source": [
    "for reaction in simple.reactions:\n",
    "  print(reaction.makeIdentifier(is_include_kinetics=False))"
   ]
  },
  {
   "cell_type": "code",
   "execution_count": 13,
   "metadata": {},
   "outputs": [],
   "source": [
    "for reaction in simple.reactions:\n",
    "  if reaction.category != cn.REACTION_BOUNDARY:\n",
    "    print(reaction.makeIdentifier(is_include_kinetics=False))"
   ]
  },
  {
   "cell_type": "code",
   "execution_count": 10,
   "metadata": {
    "collapsed": true,
    "jupyter": {
     "outputs_hidden": true
    }
   },
   "outputs": [],
   "source": [
    "INITIAL_NODES = 14\n",
    "INITIAL_EDGES = 0\n",
    "FINAL_NODES = 6\n",
    "FINAL_EDGES = 6\n",
    "UNIUNI0 = 0\n",
    "UNIUNI1 = 7\n",
    "UNIUNI2 = 8\n",
    "UNIMULTI = 2\n",
    "MULTIUNI = 13\n",
    "INEQUAL1 = 14\n",
    "INEQUAL2 = 15\n",
    "AA = \"AA\"\n",
    "CN = \"Cn\"\n",
    "DFG = \"DFG\"\n",
    "E1 = \"E1\"\n",
    "E2 = \"E2\"\n",
    "FRU = \"Fru\"\n",
    "GLY = \"Gly\"\n",
    "MEL = \"Mel\"\n",
    "MG = \"MG\""
   ]
  },
  {
   "cell_type": "code",
   "execution_count": 13,
   "metadata": {
    "collapsed": true,
    "jupyter": {
     "outputs_hidden": true
    }
   },
   "outputs": [
    {
     "data": {
      "text/plain": [
       "{3}"
      ]
     },
     "execution_count": 13,
     "metadata": {},
     "output_type": "execute_result"
    }
   ],
   "source": [
    "a = collections.deque([1,2,3])\n",
    "b = collections.deque([3,4,5])\n",
    "set(a).intersection(set(b))"
   ]
  },
  {
   "cell_type": "code",
   "execution_count": 9,
   "metadata": {},
   "outputs": [
    {
     "data": {
      "text/plain": [
       "False"
      ]
     },
     "execution_count": 9,
     "metadata": {},
     "output_type": "execute_result"
    }
   ],
   "source": [
    "molecules = [som.molecules for som in m.nodes]\n",
    "{simple.getMolecule('MKKK')} in molecules"
   ]
  },
  {
   "cell_type": "code",
   "execution_count": 10,
   "metadata": {},
   "outputs": [
    {
     "data": {
      "text/plain": [
       "'{DFG};{E1};{E2};{Gly};{Cn};{_3DG};{FA};{_1DG};{AA};{Man};{Glu};{Mel};{MG};{Fru}'"
      ]
     },
     "execution_count": 10,
     "metadata": {},
     "output_type": "execute_result"
    }
   ],
   "source": [
    "m.identifier"
   ]
  },
  {
   "cell_type": "code",
   "execution_count": 11,
   "metadata": {},
   "outputs": [
    {
     "name": "stdout",
     "output_type": "stream",
     "text": [
      "True\n",
      "True\n",
      "True\n"
     ]
    }
   ],
   "source": [
    "# test constructor:\n",
    "print(len(m.nodes) == INITIAL_NODES)\n",
    "print(len(m.edges) == INITIAL_EDGES)\n",
    "dfg = simple.getMolecule(DFG)\n",
    "# molecules is a list of one-molecule sets\n",
    "molecules = [som.molecules for som in m.nodes]\n",
    "print({simple.getMolecule(DFG)} in molecules)"
   ]
  },
  {
   "cell_type": "code",
   "execution_count": 12,
   "metadata": {},
   "outputs": [
    {
     "name": "stdout",
     "output_type": "stream",
     "text": [
      "True\n",
      "True\n",
      "True\n",
      "True\n",
      "True\n",
      "True\n",
      "True\n",
      "True\n",
      "True\n",
      "True\n",
      "True\n",
      "True\n",
      "True\n",
      "True\n"
     ]
    }
   ],
   "source": [
    "# testInitializeSOMs\n",
    "for node in m.nodes:\n",
    "  print(type(node) == SOM)"
   ]
  },
  {
   "cell_type": "code",
   "execution_count": 13,
   "metadata": {},
   "outputs": [
    {
     "name": "stdout",
     "output_type": "stream",
     "text": [
      "True\n"
     ]
    }
   ],
   "source": [
    "# testMakeId\n",
    "identifier = \"\"\n",
    "for key, som in enumerate(m.nodes):\n",
    "  identifier = identifier + som.identifier\n",
    "  if key < len(m.nodes)-1:\n",
    "    identifier = identifier + \";\"\n",
    "print(identifier == m.identifier)"
   ]
  },
  {
   "cell_type": "code",
   "execution_count": 14,
   "metadata": {},
   "outputs": [
    {
     "name": "stdout",
     "output_type": "stream",
     "text": [
      "True\n",
      "True\n"
     ]
    }
   ],
   "source": [
    "# testGetNode\n",
    "aa = simple.getMolecule(AA)\n",
    "aa_som = m.getNode(aa)\n",
    "print(type(aa_som) == SOM)\n",
    "print(aa_som.molecules == {aa})"
   ]
  },
  {
   "cell_type": "code",
   "execution_count": 15,
   "metadata": {},
   "outputs": [
    {
     "name": "stdout",
     "output_type": "stream",
     "text": [
      "True\n",
      "True\n",
      "True\n"
     ]
    }
   ],
   "source": [
    "# testUniUniReaction\n",
    "uniuni_reaction = simple.reactions[UNIUNI0]\n",
    "m.processUniUniReaction(uniuni_reaction)\n",
    "dfg = m.getNode(simple.getMolecule(DFG))\n",
    "e1 = m.getNode(simple.getMolecule(E1))\n",
    "print(m.has_node(dfg) == True)\n",
    "print(m.has_node(e1) == True)\n",
    "print(dfg == e1)"
   ]
  },
  {
   "cell_type": "code",
   "execution_count": 17,
   "metadata": {},
   "outputs": [
    {
     "name": "stdout",
     "output_type": "stream",
     "text": [
      "v3: DFG -> Gly + Cn; k3 * DFG\n",
      "True\n",
      "True\n"
     ]
    }
   ],
   "source": [
    "# testUniMultiReaction\n",
    "unimulti_reaction = simple.reactions[UNIMULTI]\n",
    "print(unimulti_reaction)\n",
    "m.processUniMultiReaction(unimulti_reaction)\n",
    "prods = [m.getNode(product.molecule) for product in unimulti_reaction.products]\n",
    "dfg = m.getNode(simple.getMolecule(DFG))\n",
    "for prod in prods:\n",
    "  print(m.has_edge(prod, dfg))"
   ]
  },
  {
   "cell_type": "code",
   "execution_count": 18,
   "metadata": {},
   "outputs": [
    {
     "data": {
      "text/plain": [
       "OutEdgeView([({Gly}, {DFG, E1}), ({Cn}, {DFG, E1})])"
      ]
     },
     "execution_count": 18,
     "metadata": {},
     "output_type": "execute_result"
    }
   ],
   "source": [
    "m.edges"
   ]
  },
  {
   "cell_type": "code",
   "execution_count": 19,
   "metadata": {},
   "outputs": [
    {
     "name": "stdout",
     "output_type": "stream",
     "text": [
      "v14: Gly + Cn -> Mel; k14 * Cn * Gly\n",
      "True\n",
      "True\n"
     ]
    }
   ],
   "source": [
    "# testMultiUniReaction\n",
    "multiuni_reaction = simple.reactions[MULTIUNI]\n",
    "print(multiuni_reaction)\n",
    "m.processMultiUniReaction(multiuni_reaction)\n",
    "reacts = [m.getNode(reactant.molecule) for reactant in multiuni_reaction.reactants]\n",
    "mel = m.getNode(simple.getMolecule(MEL))\n",
    "for react in reacts:\n",
    "  print(m.has_edge(react, mel))"
   ]
  },
  {
   "cell_type": "code",
   "execution_count": 20,
   "metadata": {},
   "outputs": [
    {
     "data": {
      "text/plain": [
       "OutEdgeView([({Gly}, {DFG, E1}), ({Gly}, {Mel}), ({Cn}, {DFG, E1}), ({Cn}, {Mel})])"
      ]
     },
     "execution_count": 20,
     "metadata": {},
     "output_type": "execute_result"
    }
   ],
   "source": [
    "m.edges"
   ]
  },
  {
   "cell_type": "code",
   "execution_count": 21,
   "metadata": {},
   "outputs": [
    {
     "name": "stdout",
     "output_type": "stream",
     "text": [
      "True\n",
      "True\n",
      "True\n",
      "True\n",
      "[({Gly}, {DFG, E1}), ({Gly}, {Mel}), ({Gly}, {E2}), ({Cn}, {DFG, E1}), ({Cn}, {Mel}), ({Fru}, {E2})]\n"
     ]
    }
   ],
   "source": [
    "# testAddArc\n",
    "source = [simple.getMolecule(FRU), simple.getMolecule(GLY)]\n",
    "destination = [simple.getMolecule(E2)]\n",
    "dummy_reaction = simple.reactions[INEQUAL2]\n",
    "m.addArc(source, destination, dummy_reaction)\n",
    "arc1 = [m.getNode(source[0]), \n",
    "        m.getNode(destination[0])]\n",
    "arc2 = [m.getNode(source[1]), \n",
    "        m.getNode(destination[0])]\n",
    "print(m.has_edge(arc1[0], arc1[1]))\n",
    "print(m.has_edge(arc2[0], arc2[1]))\n",
    "reaction_label1 = m.get_edge_data(arc1[0], arc1[1])[cn.REACTION][0]\n",
    "reaction_label2 = m.get_edge_data(arc2[0], arc1[1])[cn.REACTION][0]\n",
    "print(reaction_label1 == dummy_reaction.label)\n",
    "print(reaction_label1 == reaction_label2)\n",
    "print(m.edges)"
   ]
  },
  {
   "cell_type": "code",
   "execution_count": 22,
   "metadata": {},
   "outputs": [
    {
     "name": "stdout",
     "output_type": "stream",
     "text": [
      "We have a Type I Error...\n",
      "AA  and  Cn  have the same weight by\n",
      "v9: _1DG -> AA; k9 * _1DG\n",
      "v8: _1DG -> Cn; k8 * _1DG\n",
      "\n",
      "However, reaction \" v15: Cn -> AA + FA + MG; k15 * Cn \" implies  AA < Cn\n",
      "We cannot add the arc:  AA -> Cn\n",
      "\n",
      "True\n",
      "True\n"
     ]
    }
   ],
   "source": [
    "# test checkTypeOneError\n",
    "uniuni_reaction1 = simple.reactions[7]\n",
    "uniuni_reaction2 = simple.reactions[8]\n",
    "inequality_reaction1 = simple.reactions[14]\n",
    "inequality_reaction2 = simple.reactions[15]\n",
    "m.processUniUniReaction(uniuni_reaction1)\n",
    "m.processUniUniReaction(uniuni_reaction2)\n",
    "aa = simple.getMolecule(AA)\n",
    "cn = simple.getMolecule(CN)\n",
    "mg = simple.getMolecule(MG)\n",
    "print(m.checkTypeOneError((aa, cn), inequality_reaction1) == True)\n",
    "print(m.checkTypeOneError((mg, aa), inequality_reaction2) == False)"
   ]
  },
  {
   "cell_type": "code",
   "execution_count": 30,
   "metadata": {},
   "outputs": [
    {
     "name": "stdout",
     "output_type": "stream",
     "text": [
      "We have a Type II Error...\n",
      "\n",
      "{HBrO2} < {HOBr} < {HBrO2} \n",
      "\n",
      "{HBrO2} -> {HOBr}  by\n",
      "Reaction2\n",
      "\n",
      "{HOBr} -> {HBrO2}  by\n",
      "Reaction4\n",
      "\n",
      "True\n",
      "True\n",
      "True\n"
     ]
    }
   ],
   "source": [
    "# test checkTypeTwoError\n",
    "REACTION1 = \"Reaction2\"\n",
    "REACTION2 = \"Reaction4\"\n",
    "simple2 = load_file_from_curated_data(40)\n",
    "m2 = MESGraph(simple2)\n",
    "m2.processMultiUniReaction(simple2.getReaction(REACTION1))\n",
    "m2.processUniMultiReaction(simple2.getReaction(REACTION2))\n",
    "print(m2.checkTypeTwoError() == True)\n",
    "print(m2.type_one_error == False)\n",
    "print(m2.type_two_error == True)"
   ]
  },
  {
   "cell_type": "code",
   "execution_count": 107,
   "metadata": {},
   "outputs": [
    {
     "name": "stdout",
     "output_type": "stream",
     "text": [
      "v17: complexC -> Fus3 + Ste11 + Ste7 + Ste5; compartment * complexC * k17\n",
      "[1.0]\n",
      "[1.0, 1.0, 1.0, 1.0]\n"
     ]
    }
   ],
   "source": [
    "reaction = simple.reactions[16]\n",
    "print(reaction)\n",
    "rct = [a.stoichiometry for a in reaction.reactants]\n",
    "pdt = [b.stoichiometry for b in reaction.products]\n",
    "print(rct)\n",
    "print(pdt)"
   ]
  },
  {
   "cell_type": "code",
   "execution_count": 109,
   "metadata": {},
   "outputs": [
    {
     "data": {
      "text/plain": [
       "0"
      ]
     },
     "execution_count": 109,
     "metadata": {},
     "output_type": "execute_result"
    }
   ],
   "source": [
    "sum([])"
   ]
  },
  {
   "cell_type": "code",
   "execution_count": 108,
   "metadata": {},
   "outputs": [
    {
     "data": {
      "text/plain": [
       "4.0"
      ]
     },
     "execution_count": 108,
     "metadata": {},
     "output_type": "execute_result"
    }
   ],
   "source": [
    "sum(pdt)"
   ]
  },
  {
   "cell_type": "code",
   "execution_count": 39,
   "metadata": {},
   "outputs": [
    {
     "data": {
      "text/plain": [
       "NodeView(({MKKK, MKKK_P}, {MKK, MKK_P, MKK_PP}, {MAPK, MAPK_P, MAPK_PP}))"
      ]
     },
     "execution_count": 39,
     "metadata": {},
     "output_type": "execute_result"
    }
   ],
   "source": [
    "m_analyze.nodes"
   ]
  },
  {
   "cell_type": "code",
   "execution_count": 42,
   "metadata": {},
   "outputs": [
    {
     "data": {
      "text/plain": [
       "[Reaction1: Br + BrO3 -> HBrO2 + HOBr; Br * BrO3 * k1 * BZ,\n",
       " Reaction2: Br + HBrO2 -> 2.00 HOBr; Br * HBrO2 * k2 * BZ,\n",
       " Reaction3: BrO3 + HBrO2 -> Ce + 2.00 HBrO2; BrO3 * HBrO2 * k3 * BZ,\n",
       " Reaction4: 2.00 HBrO2 -> BrO3 + HOBr; pow(HBrO2, 2) * k4 * BZ,\n",
       " Reaction5: Ce -> Br; Ce * k5 * BZ]"
      ]
     },
     "execution_count": 42,
     "metadata": {},
     "output_type": "execute_result"
    }
   ],
   "source": [
    "simple2.reactions"
   ]
  },
  {
   "cell_type": "code",
   "execution_count": 40,
   "metadata": {},
   "outputs": [
    {
     "name": "stdout",
     "output_type": "stream",
     "text": [
      "We have a Type I Error...\n",
      "AA  and  Cn  have the same weight by\n",
      "v5: _3DG -> Cn; k5 * _3DG\n",
      "v6: _3DG -> FA; k6 * _3DG\n",
      "v8: _1DG -> Cn; k8 * _1DG\n",
      "v13: Glu -> _3DG; k13 * Glu\n",
      "v12: Man -> Glu; k12 * Man\n",
      "v9: _1DG -> AA; k9 * _1DG\n",
      "\n",
      "However, reaction \" v15: Cn -> AA + FA + MG; k15 * Cn \" implies  AA < Cn\n",
      "We cannot add the arc:  AA -> Cn\n",
      "\n",
      "We have a Type I Error...\n",
      "FA  and  Cn  have the same weight by\n",
      "v5: _3DG -> Cn; k5 * _3DG\n",
      "v6: _3DG -> FA; k6 * _3DG\n",
      "v8: _1DG -> Cn; k8 * _1DG\n",
      "v13: Glu -> _3DG; k13 * Glu\n",
      "v12: Man -> Glu; k12 * Man\n",
      "v9: _1DG -> AA; k9 * _1DG\n",
      "\n",
      "However, reaction \" v15: Cn -> AA + FA + MG; k15 * Cn \" implies  FA < Cn\n",
      "We cannot add the arc:  FA -> Cn\n",
      "\n",
      "No cycles! No Type II Error!\n",
      "{Gly}->{DFG, E1, E2}\n",
      "{Gly}->{Mel}\n",
      "{MG}->{AA, Cn, FA, Glu, Man, _1DG, _3DG}\n",
      "{Fru}->{DFG, E1, E2}\n",
      "{AA, Cn, FA, Glu, Man, _1DG, _3DG}->{DFG, E1, E2}\n",
      "{AA, Cn, FA, Glu, Man, _1DG, _3DG}->{Mel}\n",
      "\n",
      "True\n",
      "True\n",
      "True\n",
      "True\n",
      "We have a Type II Error...\n",
      "\n",
      "{HOBr} < {HBrO2} < {HOBr} \n",
      "\n",
      "{HOBr} -> {HBrO2}  by\n",
      "Reaction4\n",
      "\n",
      "{HBrO2} -> {HOBr}  by\n",
      "Reaction2\n",
      "\n",
      "True\n",
      "True\n"
     ]
    }
   ],
   "source": [
    "# test analyze\n",
    "simple1 = load_file_from_curated_data(50)\n",
    "m_analyze = MESGraph(simple1)\n",
    "m_analyze.analyze(simple1.reactions)\n",
    "print(m_analyze.identifier)\n",
    "print(len(m_analyze.nodes) == 6)\n",
    "print(len(m_analyze.edges) == 6)\n",
    "print(m_analyze.type_one_error == True)\n",
    "print(m_analyze.type_two_error == False)\n",
    "\n",
    "simple2 = load_file_from_curated_data(40)\n",
    "m_analyze2 = MESGraph(simple2)\n",
    "m_analyze2.analyze(simple2.reactions)\n",
    "print(m_analyze2.type_one_error == False)\n",
    "print(m_analyze2.type_two_error == True)"
   ]
  },
  {
   "cell_type": "code",
   "execution_count": null,
   "metadata": {
    "collapsed": true,
    "jupyter": {
     "outputs_hidden": true
    }
   },
   "outputs": [],
   "source": [
    "cn.RE"
   ]
  },
  {
   "cell_type": "code",
   "execution_count": null,
   "metadata": {
    "collapsed": true,
    "jupyter": {
     "outputs_hidden": true
    }
   },
   "outputs": [],
   "source": [
    "# reduceReaction: \n",
    "def reduce(cls, reaction):\n",
    "  Reduces reaction using existing cls.soms\n",
    "  :param Reaction reaction:\n",
    "  :return reaction/False:     \n",
    "  # flag that will show whether the reaction was reduced\n",
    "  reduced = False\n",
    "  if reaction.category != cn.REACTION_n_n:\n",
    "    return reduced\n",
    "  # Reduces the reaction by examining all SOMs\n",
    "  for som in cls.soms:\n",
    "    reactants_in = deque([mole_stoich for mole_stoich in  \n",
    "                           reaction.reactants if \n",
    "                           mole_stoich.molecule in som.molecules])\n",
    "    reactants_out = [mole_stoich for mole_stoich in  \n",
    "                      reaction.reactants if \n",
    "                      mole_stoich.molecule not in som.molecules]\n",
    "    products_in = deque([mole_stoich for mole_stoich in  \n",
    "                          reaction.products if \n",
    "                          mole_stoich.molecule in som.molecules])\n",
    "    products_out = [mole_stoich for mole_stoich in  \n",
    "                     reaction.products if \n",
    "                     mole_stoich.molecule not in som.molecules]\n",
    "      #\n",
    "  while reactants_in and products_in:\n",
    "    reactant = reactants_in[0]\n",
    "    product = products_in[0]\n",
    "    if reactant.stoichiometry > product.stoichiometry:\n",
    "      reactants_in[0] = MoleculeStoichiometry(reactant.molecule,\n",
    "                                            reactant.stoichiometry - product.stoichiometry)\n",
    "      products_in.popleft()\n",
    "    elif reactant.stoichiometry < product.stoichiometry:\n",
    "      products_in[0] = MoleculeStoichiometry(product.molecule,\n",
    "                                            product.stoichiometry - reactant.stoichiometry)\n",
    "      reactants_in.popleft()\n",
    "    else:\n",
    "      reactants_in.popleft()\n",
    "      products_in.popleft()\n",
    "    reactants = list(reactants_in) + reactants_out\n",
    "    products = list(products_in) + products_out\n",
    "    #  \n",
    "  if (len(reaction.reactants) > len(reactants)) | \\\n",
    "    (len(reaction.products) > len(products)):\n",
    "    reduced = True\n",
    "    reaction.reactants = reactants\n",
    "    reaction.products = products\n",
    "        \n",
    "  if reduced:\n",
    "    reaction.identifier = reaction.makeIdentifier()\n",
    "    reaction.category = reaction._getCategory() \n",
    "    return reaction\n",
    "  else:\n",
    "    return reduced"
   ]
  },
  {
   "cell_type": "code",
   "execution_count": null,
   "metadata": {
    "collapsed": true,
    "jupyter": {
     "outputs_hidden": true
    }
   },
   "outputs": [],
   "source": [
    "# processMultiMultiReactions:\n"
   ]
  },
  {
   "cell_type": "code",
   "execution_count": null,
   "metadata": {
    "collapsed": true,
    "jupyter": {
     "outputs_hidden": true
    }
   },
   "outputs": [],
   "source": []
  },
  {
   "cell_type": "code",
   "execution_count": null,
   "metadata": {
    "collapsed": true,
    "jupyter": {
     "outputs_hidden": true
    }
   },
   "outputs": [],
   "source": []
  },
  {
   "cell_type": "code",
   "execution_count": 29,
   "metadata": {},
   "outputs": [
    {
     "name": "stdout",
     "output_type": "stream",
     "text": [
      "We have a Type I Error...\n",
      "AA  and  Cn  have the same weight by\n",
      "v8: _1DG -> Cn; k8 * _1DG\n",
      "v12: Man -> Glu; k12 * Man\n",
      "v9: _1DG -> AA; k9 * _1DG\n",
      "v13: Glu -> _3DG; k13 * Glu\n",
      "v5: _3DG -> Cn; k5 * _3DG\n",
      "v6: _3DG -> FA; k6 * _3DG\n",
      "\n",
      "However, reaction \" v15: Cn -> AA + FA + MG; k15 * Cn \" implies  AA < Cn\n",
      "We cannot add the arc:  AA -> Cn\n",
      "\n",
      "We have a Type I Error...\n",
      "FA  and  Cn  have the same weight by\n",
      "v8: _1DG -> Cn; k8 * _1DG\n",
      "v12: Man -> Glu; k12 * Man\n",
      "v9: _1DG -> AA; k9 * _1DG\n",
      "v13: Glu -> _3DG; k13 * Glu\n",
      "v5: _3DG -> Cn; k5 * _3DG\n",
      "v6: _3DG -> FA; k6 * _3DG\n",
      "\n",
      "However, reaction \" v15: Cn -> AA + FA + MG; k15 * Cn \" implies  FA < Cn\n",
      "We cannot add the arc:  FA -> Cn\n",
      "\n"
     ]
    }
   ],
   "source": [
    "reactions = []\n",
    "for reaction in [r for r in simple.reactions if r.category!=cn.REACTION_BOUNDARY]:\n",
    "  if (reaction.reactants[0].molecule.name == cn.EMPTYSET) | \\\n",
    "      (reaction.products[0].molecule.name == cn.EMPTYSET):\n",
    "   continue\n",
    "  else:\n",
    "    reactions.append(reaction)\n",
    "# for reaction in reactions:\n",
    "#   print(reaction)\n",
    "z = m.analyze(reactions)"
   ]
  },
  {
   "cell_type": "code",
   "execution_count": null,
   "metadata": {},
   "outputs": [],
   "source": []
  }
 ],
 "metadata": {
  "kernelspec": {
   "display_name": "Python 3",
   "language": "python",
   "name": "python3"
  },
  "language_info": {
   "codemirror_mode": {
    "name": "ipython",
    "version": 3
   },
   "file_extension": ".py",
   "mimetype": "text/x-python",
   "name": "python",
   "nbconvert_exporter": "python",
   "pygments_lexer": "ipython3",
   "version": "3.6.9"
  }
 },
 "nbformat": 4,
 "nbformat_minor": 4
}
