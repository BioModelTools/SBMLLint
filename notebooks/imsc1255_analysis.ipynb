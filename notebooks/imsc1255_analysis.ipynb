{
 "cells": [
  {
   "cell_type": "code",
   "execution_count": 42,
   "metadata": {},
   "outputs": [],
   "source": [
    "import init\n",
    "from SBMLLint.common import constants as cn\n",
    "from SBMLLint.common.molecule import Molecule, MoleculeStoichiometry\n",
    "from SBMLLint.common import simple_sbml\n",
    "from SBMLLint.common.reaction import Reaction\n",
    "from SBMLLint.tools import sbmllint\n",
    "from SBMLLint.tools import print_reactions\n",
    "\n",
    "import os\n",
    "import numpy as np\n",
    "import pandas as pd\n",
    "from pulp import *\n",
    "import matplotlib.pyplot as plt\n",
    "import time\n",
    "\n",
    "from scipy.linalg import lu, inv\n",
    "from scipy.optimize import linprog"
   ]
  },
  {
   "cell_type": "code",
   "execution_count": 43,
   "metadata": {},
   "outputs": [],
   "source": [
    "from games_setup import *\n",
    "from SBMLLint.common import constants as cn\n",
    "from SBMLLint.common.simple_sbml import SimpleSBML\n",
    "from SBMLLint.common.stoichiometry_matrix import StoichiometryMatrix\n",
    "\n",
    "from SBMLLint.games.som import SOM\n",
    "from SBMLLint.games.games_pp import GAMES_PP, SOMStoichiometry, SOMReaction, TOLERANCE\n",
    "from SBMLLint.games.games_report import GAMESReport, SimplifiedReaction"
   ]
  },
  {
   "cell_type": "code",
   "execution_count": 8,
   "metadata": {},
   "outputs": [],
   "source": [
    "imsc_filepath = os.path.join(\"/Users/woosubs/Desktop/ModelEngineering/dummy/dummy_data/imsc1255.xml\")\n",
    "simple = SimpleSBML()\n",
    "simple.initialize(imsc_filepath)"
   ]
  },
  {
   "cell_type": "code",
   "execution_count": 31,
   "metadata": {},
   "outputs": [],
   "source": [
    "# MODEL = \"BIOMD0000000167.xml\"\n",
    "# simple = SimpleSBML()\n",
    "# simple.initialize(os.path.join(cn.BIOMODELS_DIR, MODEL))"
   ]
  },
  {
   "cell_type": "code",
   "execution_count": 67,
   "metadata": {},
   "outputs": [
    {
     "data": {
      "text/html": [
       "<div>\n",
       "<style scoped>\n",
       "    .dataframe tbody tr th:only-of-type {\n",
       "        vertical-align: middle;\n",
       "    }\n",
       "\n",
       "    .dataframe tbody tr th {\n",
       "        vertical-align: top;\n",
       "    }\n",
       "\n",
       "    .dataframe thead th {\n",
       "        text-align: right;\n",
       "    }\n",
       "</style>\n",
       "<table border=\"1\" class=\"dataframe\">\n",
       "  <thead>\n",
       "    <tr style=\"text-align: right;\">\n",
       "      <th></th>\n",
       "      <th>R1</th>\n",
       "      <th>R2</th>\n",
       "      <th>R3</th>\n",
       "      <th>R4</th>\n",
       "    </tr>\n",
       "  </thead>\n",
       "  <tbody>\n",
       "    <tr>\n",
       "      <th>A</th>\n",
       "      <td>-1</td>\n",
       "      <td>-1</td>\n",
       "      <td>-1</td>\n",
       "      <td>0</td>\n",
       "    </tr>\n",
       "    <tr>\n",
       "      <th>B</th>\n",
       "      <td>1</td>\n",
       "      <td>1</td>\n",
       "      <td>0</td>\n",
       "      <td>0</td>\n",
       "    </tr>\n",
       "    <tr>\n",
       "      <th>C</th>\n",
       "      <td>1</td>\n",
       "      <td>0</td>\n",
       "      <td>1</td>\n",
       "      <td>0</td>\n",
       "    </tr>\n",
       "    <tr>\n",
       "      <th>D</th>\n",
       "      <td>0</td>\n",
       "      <td>0</td>\n",
       "      <td>0</td>\n",
       "      <td>-1</td>\n",
       "    </tr>\n",
       "    <tr>\n",
       "      <th>E</th>\n",
       "      <td>0</td>\n",
       "      <td>0</td>\n",
       "      <td>0</td>\n",
       "      <td>1</td>\n",
       "    </tr>\n",
       "  </tbody>\n",
       "</table>\n",
       "</div>"
      ],
      "text/plain": [
       "   R1  R2  R3  R4\n",
       "A  -1  -1  -1   0\n",
       "B   1   1   0   0\n",
       "C   1   0   1   0\n",
       "D   0   0   0  -1\n",
       "E   0   0   0   1"
      ]
     },
     "execution_count": 67,
     "metadata": {},
     "output_type": "execute_result"
    }
   ],
   "source": [
    "s = StoichiometryMatrix(simple)\n",
    "mat = s.stoichiometry_matrix\n",
    "# create a dummy matrix\n",
    "mat = pd.DataFrame(np.array([[-1, 1, 1, 0, 0],\n",
    "                             [-1, 1, 0, 0, 0],\n",
    "                             [-1, 0, 1, 0, 0],\n",
    "                            [0, 0, 0, -1, 1]]),\n",
    "                   columns=['A', 'B','C', 'D', 'E'], index=['R1','R2','R3', 'R4']).T\n",
    "\n",
    "mat"
   ]
  },
  {
   "cell_type": "code",
   "execution_count": 68,
   "metadata": {},
   "outputs": [
    {
     "data": {
      "text/plain": [
       "False"
      ]
     },
     "execution_count": 68,
     "metadata": {},
     "output_type": "execute_result"
    }
   ],
   "source": [
    "s.isConsistent()"
   ]
  },
  {
   "cell_type": "code",
   "execution_count": 69,
   "metadata": {},
   "outputs": [
    {
     "name": "stdout",
     "output_type": "stream",
     "text": [
      "MILP time: 0.017105\n"
     ]
    }
   ],
   "source": [
    "def solveMILP(mat):\n",
    "  prob = LpProblem(\"Finding_Unconserved_Metabolites\", LpMaximize)\n",
    "  species = list(mat.index)\n",
    "  species_inclusion = pulp.LpVariable.dicts(\"species\", species, cat=\"Binary\")\n",
    "  species_mass = pulp.LpVariable.dicts(\"mass\", species, cat=\"Continuous\")\n",
    "  # objective function (to maximize the number of species)\n",
    "  prob += lpSum([species_inclusion[i] for i in species])\n",
    "  # constraint 1 (for each reaction, the sum(stoichiometry[i]*mass[i])=0)\n",
    "  for reaction in mat.columns:\n",
    "    prob += lpSum(sum([mat[reaction][species]*species_mass[species] for species in species_inclusion])) == 0\n",
    "  # constraint 2 (species_inclusion is less than or equal to mass of each species)\n",
    "  for species in species_mass.keys():\n",
    "    prob += species_inclusion[species] <= species_mass[species]\n",
    "  prob.solve()\n",
    "  return prob\n",
    "def getUnconservedMetabolites(milp_result):\n",
    "  unconserved_metabolites = []\n",
    "  for v in milp_result.variables():\n",
    "    if v.varValue==0:\n",
    "      if v.name[:7]==\"species\":\n",
    "        unconserved_metabolites.append(v.name[8:])\n",
    "  return unconserved_metabolites\n",
    "#\n",
    "milp_start = time.time()\n",
    "milp_result = solveMILP(mat)\n",
    "unconserved_metabolites = getUnconservedMetabolites(milp_result)\n",
    "milp_end = time.time()\n",
    "milp_time = milp_end - milp_start\n",
    "print(\"MILP time: %f\" % milp_time)"
   ]
  },
  {
   "cell_type": "code",
   "execution_count": 70,
   "metadata": {},
   "outputs": [
    {
     "name": "stdout",
     "output_type": "stream",
     "text": [
      "0.0\n",
      "mass_A\n",
      "0.0\n",
      "mass_B\n",
      "0.0\n",
      "mass_C\n",
      "1.0\n",
      "mass_D\n",
      "1.0\n",
      "mass_E\n",
      "0.0\n",
      "species_A\n",
      "0.0\n",
      "species_B\n",
      "0.0\n",
      "species_C\n",
      "1.0\n",
      "species_D\n",
      "1.0\n",
      "species_E\n"
     ]
    }
   ],
   "source": [
    "for v in milp_result.variables():\n",
    "    print(v.varValue)\n",
    "    print(v.name)"
   ]
  },
  {
   "cell_type": "code",
   "execution_count": 66,
   "metadata": {},
   "outputs": [
    {
     "data": {
      "text/plain": [
       "Finding_Unconserved_Metabolites:\n",
       "MAXIMIZE\n",
       "1*species_A + 1*species_B + 1*species_C + 0\n",
       "SUBJECT TO\n",
       "_C1: - mass_A + mass_B + mass_C = 0\n",
       "\n",
       "_C2: - mass_A + mass_B = 0\n",
       "\n",
       "_C3: - mass_A + mass_C = 0\n",
       "\n",
       "_C4: - mass_A + species_A <= 0\n",
       "\n",
       "_C5: - mass_B + species_B <= 0\n",
       "\n",
       "_C6: - mass_C + species_C <= 0\n",
       "\n",
       "VARIABLES\n",
       "mass_A free Continuous\n",
       "mass_B free Continuous\n",
       "mass_C free Continuous\n",
       "0 <= species_A <= 1 Integer\n",
       "0 <= species_B <= 1 Integer\n",
       "0 <= species_C <= 1 Integer"
      ]
     },
     "execution_count": 66,
     "metadata": {},
     "output_type": "execute_result"
    }
   ],
   "source": [
    "milp_result"
   ]
  },
  {
   "cell_type": "code",
   "execution_count": 41,
   "metadata": {},
   "outputs": [],
   "source": [
    "# milp_result"
   ]
  },
  {
   "cell_type": "code",
   "execution_count": 55,
   "metadata": {},
   "outputs": [
    {
     "data": {
      "text/plain": [
       "1"
      ]
     },
     "execution_count": 55,
     "metadata": {},
     "output_type": "execute_result"
    }
   ],
   "source": [
    "len(unconserved_metabolites)"
   ]
  },
  {
   "cell_type": "code",
   "execution_count": null,
   "metadata": {},
   "outputs": [],
   "source": []
  },
  {
   "cell_type": "code",
   "execution_count": 22,
   "metadata": {},
   "outputs": [
    {
     "name": "stdout",
     "output_type": "stream",
     "text": [
      "['M_n2m2nmasn_e', 'M_na1_e', 'M_4mtolbutamide_e', 'M_tchola_e', 'M_dopa_e', 'M_gthox_e', 'M_sucr_e', 'M_thm_e', 'M_24nph_e', 'M_estrones_e', 'M_estradiolglc_e', 'M_o2_e', 'M_leu_DASH_DASH_DASH_L_e', 'M_pyr_e', 'M_dgchol_e', 'M_gln_DASH_DASH_DASH_L_e', 'M_tmndnc_e', 'M_btn_e', 'M_mercplaccys_e', 'M_dcsptn1_e', 'M_elaid_e', 'M_tettet6_e', 'M_phe_DASH_DASH_DASH_L_e', 'M_ethamp_r', 'M_25hvitd3_e', 'M_xoltri24_e', 'M_cl_e', 'M_thymd_e', 'M_ppa_e', 'M_tyr_DASH_DASH_DASH_L_e', 'M_no_e', 'M_strdnc_e', 'M_imp_e', 'M_his_DASH_DASH_DASH_L_e', 'M_thmtp_e', 'M_tcynt_e', 'M_for_e', 'M_nh4_e', 'M_34dhoxpeg_e', 'M_appnn_e', 'M_Lcystin_e', 'M_inost_e', 'M_camp_e', 'M_hdcea_e', 'M_pnto_DASH_DASH_DASH_R_e', 'M_10fthf7glu_e', 'M_h2o2_e', 'M_crvnc_e', 'M_ribflv_e', 'M_ttdca_e', 'M_retnglc_e', 'M_cmp_e', 'M_hcoumarin_e', 'M_fe2_e', 'M_dlnlcg_e', 'M_carveol_e', 'M_lnlnca_e', 'M_ncam_e', 'M_ps_DASH_hs_e', 'M_acac_e', 'M_utp_e', 'M_glu_DASH_DASH_DASH_L_e', 'M_ser_DASH_DASH_DASH_L_e', 'M_meoh_e', 'M_tetpent6_e', 'M_h2o_e', 'M_2hb_e', 'M_man_e', 'M_adrn_e', 'M_sprm_c', 'M_mepi_e', 'M_k_e', 'M_malttr_e', 'M_clpnd_e', 'M_arab_DASH_DASH_DASH_L_e', 'M_glc_DASH_DASH_DASH_D_e', 'M_oxa_e', 'M_ascb_DASH_DASH_DASH_L_e', 'M_estroneglc_e', 'M_pe_DASH_hs_e', 'M_cyan_e', 'M_tethex3_e', 'M_Asn_DASH_DASH_DASH_X_DASH_DASH_DASH_Ser_DASH_FSLASH_DASH_Thr_l', 'M_tdchola_e', 'M_limnen_e', 'M_ha_DASH_pre1_e', 'M_urate_e', 'M_bilglcur_e', 'M_10fthf_e', 'M_chol_e', 'M_dhf_e', 'M_fuc_DASH_DASH_DASH_L_e', 'M_nrpphrsf_e', 'M_etoh_e', 'M_3aib_e', 'M_3mlda_e', 'M_adp_e', 'M_13_DASH_DASH_DASH_cis_DASH_DASH_DASH_retnglc_e', 'M_3aib_DASH_DASH_DASH_D_e', 'M_taur_e', 'M_7thf_e', 'M_strch1_e', 'M_apnnox_e', 'M_val_DASH_DASH_DASH_L_e', 'M_lys_DASH_DASH_DASH_L_e', 'M_ca2_e', 'M_35cgmp_e', 'M_fol_e', 'M_gam_e', 'M_ksi_e', 'M_ocdca_e', 'M_7dhf_e', 'M_ptdca_e', 'M_lnlc_e', 'M_prostgd2_e', 'M_pydxn_e', 'M_thr_DASH_DASH_DASH_L_e', 'M_txa2_e', 'M_lpchol_DASH_hs_e', 'M_trp_DASH_DASH_DASH_L_e', 'M_lac_DASH_DASH_DASH_D_e', 'M_1mncam_e', 'M_lipoate_e', 'M_pro_DASH_DASH_DASH_L_e', 'M_nac_e', 'M_biocyt_e', 'M_triodthysuf_e', 'M_xoltri25_e', 'M_chsterol_e', 'M_glygn2_e', 'M_5htrp_e', 'M_sl_DASH_DASH_DASH_L_e', 'M_pydx_e', 'M_pi_e', 'M_ksi_DASH_deg1_e', 'M_5fthf_e', 'M_thf_e', 'M_eicostet_e', 'M_lnlncg_e', 'M_nrvnc_e', 'M_dopasf_e', 'M_co2_e', 'M_kdn_c', 'M_arach_e', 'M_coumarin_e', 'M_4hphac_e', 'M_hco3_e', 'M_ocdcea_e', 'M_h_e', 'M_Tyr_DASH_DASH_DASH_ggn_e', 'M_acetone_e', 'M_pydam_e', 'M_xoltri27_e', 'M_hexc_e', 'M_orn_e', 'M_2mcit_e', 'M_xolest_DASH_hs_e', 'M_but_e', 'M_hdca_e', 'M_dttp_m', 'M_triodthy_e', 'M_arg_DASH_DASH_DASH_L_e', 'M_pchol_DASH_hs_e', 'M_vacc_e', 'M_so4_e', 'M_creat_e', 'M_lneldc_e', 'M_perillyl_e', 'M_idp_e', 'M_co_e', 'M_ile_DASH_DASH_DASH_L_e', 'M_hestratriol_e', 'M_tolbutamide_e', 'M_octa_e', 'M_o2s_e', 'M_4nph_e', 'M_fe3_e', 'M_Rtotal2_e', 'M_urea_e', 'M_retn_e', 'M_prostge2_e', 'M_succ_e', 'M_asn_DASH_DASH_DASH_L_e', 'M_cys_DASH_DASH_DASH_L_e', 'M_lgnc_e', 'M_asp_DASH_DASH_DASH_L_e', 'M_crmp_DASH_hs_e', 'M_prostgf2_e', 'M_ala_DASH_DASH_DASH_L_e', 'M_4nphsf_e', 'M_gthrd_e', 'M_s2l2fn2m2masn_e', 'M_atp_e', 'M_tymsf_e', 'M_gal_e', 'M_tetpent3_e', 'M_4pyrdx_e', 'M_rib_DASH_DASH_DASH_D_e', 'M_ala_DASH_DASH_DASH_D_e', 'M_bildglcur_e', 'M_gtp_e', 'M_gly_e', 'M_met_DASH_DASH_DASH_L_e', 'M_hpdca_e']\n"
     ]
    }
   ],
   "source": [
    "boundary_elements = []\n",
    "for r in simple.reactions:\n",
    "  if r.category==cn.REACTION_BOUNDARY:\n",
    "    for re in r.reactants:\n",
    "      boundary_elements.append(re.molecule.name)\n",
    "    for re in r.products:\n",
    "      boundary_elements.append(re.molecule.name)\n",
    "res = list(set(boundary_elements))\n",
    "print(res)"
   ]
  },
  {
   "cell_type": "code",
   "execution_count": 23,
   "metadata": {},
   "outputs": [
    {
     "data": {
      "text/plain": [
       "204"
      ]
     },
     "execution_count": 23,
     "metadata": {},
     "output_type": "execute_result"
    }
   ],
   "source": [
    "len(res)"
   ]
  },
  {
   "cell_type": "code",
   "execution_count": 27,
   "metadata": {},
   "outputs": [
    {
     "data": {
      "text/plain": [
       "1850"
      ]
     },
     "execution_count": 27,
     "metadata": {},
     "output_type": "execute_result"
    }
   ],
   "source": [
    "len(simple.molecules)"
   ]
  },
  {
   "cell_type": "code",
   "execution_count": null,
   "metadata": {},
   "outputs": [],
   "source": []
  }
 ],
 "metadata": {
  "kernelspec": {
   "display_name": "Python 3",
   "language": "python",
   "name": "python3"
  },
  "language_info": {
   "codemirror_mode": {
    "name": "ipython",
    "version": 3
   },
   "file_extension": ".py",
   "mimetype": "text/x-python",
   "name": "python",
   "nbconvert_exporter": "python",
   "pygments_lexer": "ipython3",
   "version": "3.6.10"
  }
 },
 "nbformat": 4,
 "nbformat_minor": 4
}
