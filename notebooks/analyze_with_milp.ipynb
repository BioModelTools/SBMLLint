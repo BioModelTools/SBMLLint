{
 "cells": [
  {
   "cell_type": "code",
   "execution_count": 6,
   "metadata": {},
   "outputs": [],
   "source": [
    "import pulp as p"
   ]
  },
  {
   "cell_type": "code",
   "execution_count": 7,
   "metadata": {},
   "outputs": [
    {
     "name": "stdout",
     "output_type": "stream",
     "text": [
      "Problem:\n",
      "MINIMIZE\n",
      "3*x + 5*y + 0\n",
      "SUBJECT TO\n",
      "_C1: 2 x + 3 y >= 12\n",
      "\n",
      "_C2: - x + y <= 3\n",
      "\n",
      "_C3: x >= 4\n",
      "\n",
      "_C4: y <= 3\n",
      "\n",
      "VARIABLES\n",
      "x Continuous\n",
      "y Continuous\n",
      "\n",
      "Optimal\n",
      "6.0 0.0 18.0\n"
     ]
    }
   ],
   "source": [
    "# Create a LP Minimization problem \n",
    "Lp_prob = p.LpProblem('Problem', p.LpMinimize)  \n",
    "  \n",
    "# Create problem Variables  \n",
    "x = p.LpVariable(\"x\", lowBound = 0)   # Create a variable x >= 0 \n",
    "y = p.LpVariable(\"y\", lowBound = 0)   # Create a variable y >= 0 \n",
    "  \n",
    "# Objective Function \n",
    "Lp_prob += 3 * x + 5 * y    \n",
    "  \n",
    "# Constraints: \n",
    "Lp_prob += 2 * x + 3 * y >= 12\n",
    "Lp_prob += -x + y <= 3\n",
    "Lp_prob += x >= 4\n",
    "Lp_prob += y <= 3\n",
    "  \n",
    "# Display the problem \n",
    "print(Lp_prob) \n",
    "  \n",
    "status = Lp_prob.solve()   # Solver \n",
    "print(p.LpStatus[status])   # The solution status \n",
    "  \n",
    "# Printing the final solution \n",
    "print(p.value(x), p.value(y), p.value(Lp_prob.objective)) "
   ]
  },
  {
   "cell_type": "code",
   "execution_count": 10,
   "metadata": {},
   "outputs": [],
   "source": [
    "import init\n",
    "from SBMLLint.common import constants as cn\n",
    "from SBMLLint.common.molecule import Molecule, MoleculeStoichiometry\n",
    "from SBMLLint.common.reaction import Reaction\n",
    "from SBMLLint.common.simple_sbml import SimpleSBML\n",
    "from SBMLLint.common.stoichiometry_matrix import StoichiometryMatrix\n",
    "from SBMLLint.tools import print_reactions\n",
    "\n",
    "import os\n",
    "import numpy as np\n",
    "import pandas as pd\n",
    "import matplotlib.pyplot as plt\n",
    "import time\n",
    "\n",
    "from scipy.linalg import lu, inv\n",
    "from scipy.optimize import linprog"
   ]
  },
  {
   "cell_type": "code",
   "execution_count": 11,
   "metadata": {},
   "outputs": [],
   "source": [
    "data_dir=cn.BIOMODELS_DIR\n",
    "# we can remove EXCEPTIONS from files, as they are not loaded by simpleSBML\n",
    "raw_files = [f for f in os.listdir(data_dir) if f[:7] == \"BIOMD00\"]"
   ]
  },
  {
   "cell_type": "code",
   "execution_count": 12,
   "metadata": {},
   "outputs": [
    {
     "data": {
      "text/plain": [
       "['BIOMD0000000199_url.xml',\n",
       " 'BIOMD0000000189_url.xml',\n",
       " 'BIOMD0000000387_url.xml',\n",
       " 'BIOMD0000000397_url.xml',\n",
       " 'BIOMD0000000413_url.xml']"
      ]
     },
     "execution_count": 12,
     "metadata": {},
     "output_type": "execute_result"
    }
   ],
   "source": [
    "raw_files[:5]"
   ]
  },
  {
   "cell_type": "code",
   "execution_count": null,
   "metadata": {},
   "outputs": [],
   "source": []
  },
  {
   "cell_type": "code",
   "execution_count": 8,
   "metadata": {},
   "outputs": [],
   "source": [
    "# load a simple biomodel and test formula\n"
   ]
  },
  {
   "cell_type": "code",
   "execution_count": null,
   "metadata": {},
   "outputs": [],
   "source": [
    "# load iCN718 and test formula"
   ]
  }
 ],
 "metadata": {
  "kernelspec": {
   "display_name": "Python 3",
   "language": "python",
   "name": "python3"
  },
  "language_info": {
   "codemirror_mode": {
    "name": "ipython",
    "version": 3
   },
   "file_extension": ".py",
   "mimetype": "text/x-python",
   "name": "python",
   "nbconvert_exporter": "python",
   "pygments_lexer": "ipython3",
   "version": "3.6.10"
  }
 },
 "nbformat": 4,
 "nbformat_minor": 4
}
