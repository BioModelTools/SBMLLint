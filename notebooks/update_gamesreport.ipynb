{
 "cells": [
  {
   "cell_type": "code",
   "execution_count": 1,
   "metadata": {},
   "outputs": [
    {
     "name": "stdout",
     "output_type": "stream",
     "text": [
      "Current Directory: /Users/woosubs/Desktop/ModelEngineering/SBMLLint/SBMLLint/notebooks\n"
     ]
    }
   ],
   "source": [
    "from games_setup import *\n",
    "import SBMLLint.common.constants as cn\n",
    "from SBMLLint.common.reaction import Reaction\n",
    "from SBMLLint.common.stoichiometry_matrix import StoichiometryMatrix\n",
    "from SBMLLint.games.som import SOM\n",
    "from SBMLLint.games.mesgraph import MESGraph\n",
    "from SBMLLint.games.games_pp import GAMES_PP, SOMStoichiometry, SOMReaction, TOLERANCE\n",
    "from SBMLLint.games.games_report import GAMESReport, SimplifiedReaction\n",
    "import collections\n",
    "import numpy as np\n",
    "import pandas as pd\n",
    "import matplotlib.pyplot as plt\n",
    "%matplotlib inline\n",
    "import time\n",
    "from scipy.linalg import lu, inv"
   ]
  },
  {
   "cell_type": "code",
   "execution_count": 2,
   "metadata": {},
   "outputs": [],
   "source": [
    "file = \"BIOMD0000000167_url.xml\"\n",
    "simple = SimpleSBML()\n",
    "simple.initialize(os.path.join(cn.BIOMODELS_DIR, file))\n",
    "m = GAMES_PP(simple)\n",
    "s = StoichiometryMatrix(simple)"
   ]
  },
  {
   "cell_type": "code",
   "execution_count": 3,
   "metadata": {},
   "outputs": [
    {
     "name": "stdout",
     "output_type": "stream",
     "text": [
      "Model analyzed...\n",
      "Type I error:  []\n",
      "Type II error:  []\n",
      "Canceling error:  []\n",
      "Echelon error:  [statPhosphorylation:  -> {species_test}]\n",
      "Type III error:  [PstatDimerisation: 2.00 {Pstat_sol} -> 2.00 {Pstat_nuc=stat_nuc=stat_sol}] \n",
      "\n",
      "At least one error found.\n",
      "\n"
     ]
    }
   ],
   "source": [
    "res = m.analyze(simple_games=False, error_details=True)"
   ]
  },
  {
   "cell_type": "code",
   "execution_count": 4,
   "metadata": {},
   "outputs": [],
   "source": [
    "gr = GAMESReport(m)"
   ]
  },
  {
   "cell_type": "code",
   "execution_count": 20,
   "metadata": {},
   "outputs": [
    {
     "name": "stdout",
     "output_type": "stream",
     "text": [
      "\n",
      "We detected a mass imbalance\n",
      ":  -> species_test\n",
      "\n",
      "from the following isolation set.\n",
      "\n",
      "1. PstatDimerisation: 2.00 Pstat_sol -> PstatDimer_sol\n",
      "2. statPhosphorylation: stat_sol -> Pstat_sol + species_test\n",
      "3. PstatDimerisationNuc: 2.00 Pstat_nuc -> PstatDimer_nuc\n",
      "4. PstatDimer__import: PstatDimer_sol -> PstatDimer_nuc\n",
      "5. stat_export: stat_sol -> stat_nuc\n",
      "6. statDephosphorylation: Pstat_nuc -> stat_nuc\n",
      "\n",
      "\n",
      "**********************************************************************\n",
      "\n",
      "\n",
      "[3]\n"
     ]
    }
   ],
   "source": [
    "rep = gr.reportEchelonError(echelon_errors=m.echelon_errors, explain_details=False)\n",
    "print(rep[0])\n",
    "print(rep[1])"
   ]
  },
  {
   "cell_type": "code",
   "execution_count": 6,
   "metadata": {},
   "outputs": [
    {
     "data": {
      "text/plain": [
       "[PstatDimerisation: 2.00 Pstat_sol -> PstatDimer_sol; (Kf_PstatDimerisation * pow(Pstat_sol, 2) + -(Kr_PstatDimerisation * PstatDimer_sol)) * sol,\n",
       " statDephosphorylation: Pstat_nuc -> stat_nuc; Kcat_dephos * statPhosphatase_nuc * Pstat_nuc * (1 / (Km_dephos + Pstat_nuc)) * nuc,\n",
       " statPhosphorylation: stat_sol -> Pstat_sol + species_test; Kcat_phos * statKinase_sol * stat_sol * (1 / (Km_phos + stat_sol)) * sol,\n",
       " PstatDimerisationNuc: 2.00 Pstat_nuc -> PstatDimer_nuc; (Kf_PstatDimerisation * pow(Pstat_nuc, 2) + -(Kr_PstatDimerisation * PstatDimer_nuc)) * nuc,\n",
       " PstatDimer__import: PstatDimer_sol -> PstatDimer_nuc; PstatDimer_impMax * PstatDimer_sol * (1 / (Kpsd_imp + PstatDimer_sol)) * nm,\n",
       " stat_export: stat_sol -> stat_nuc; nuc * stat_expMax * stat_nuc * (1 / (Ks_exp + stat_nuc)) * nm,\n",
       " stat_import: stat_sol -> stat_nuc; nuc * stat_impMax * stat_sol * (1 / (Ks_imp + stat_sol)) * nm]"
      ]
     },
     "execution_count": 6,
     "metadata": {},
     "output_type": "execute_result"
    }
   ],
   "source": [
    "m.reactions"
   ]
  },
  {
   "cell_type": "code",
   "execution_count": 7,
   "metadata": {},
   "outputs": [
    {
     "data": {
      "text/plain": [
       "[statPhosphorylation: {Pstat_nuc=stat_nuc=stat_sol} -> {Pstat_sol} + {species_test},\n",
       " PstatDimerisation: 2.00 {Pstat_sol} -> {PstatDimer_nuc=PstatDimer_sol},\n",
       " PstatDimerisationNuc: 2.00 {Pstat_nuc=stat_nuc=stat_sol} -> {PstatDimer_nuc=PstatDimer_sol}]"
      ]
     },
     "execution_count": 7,
     "metadata": {},
     "output_type": "execute_result"
    }
   ],
   "source": [
    "m.som_reactions_lu"
   ]
  },
  {
   "cell_type": "code",
   "execution_count": 8,
   "metadata": {},
   "outputs": [
    {
     "name": "stdout",
     "output_type": "stream",
     "text": [
      "['statPhosphorylation', 'PstatDimerisation', 'PstatDimerisationNuc']\n",
      "['{Pstat_sol}', '{species_test}', '{PstatDimer_nuc=PstatDimer_sol}', '{Pstat_nuc=stat_nuc=stat_sol}']\n"
     ]
    }
   ],
   "source": [
    "m.som_reactions_lu\n",
    "reaction_labels = [r.label for r in m.som_reactions_lu]\n",
    "print(reaction_labels)\n",
    "species_names = [s.identifier for s in list(m.nodes)]\n",
    "print(species_names)"
   ]
  },
  {
   "cell_type": "code",
   "execution_count": 9,
   "metadata": {},
   "outputs": [],
   "source": [
    "### issues (they might be conected)\n",
    "# 1. list duplication in m.som_reactions_lu\n",
    "# 2. slicing (assigning values) to matrix in m.getStoichioemtryMatrix. \n",
    "# try to change it to .loc assignment"
   ]
  },
  {
   "cell_type": "code",
   "execution_count": 10,
   "metadata": {},
   "outputs": [
    {
     "data": {
      "text/html": [
       "<div>\n",
       "<style scoped>\n",
       "    .dataframe tbody tr th:only-of-type {\n",
       "        vertical-align: middle;\n",
       "    }\n",
       "\n",
       "    .dataframe tbody tr th {\n",
       "        vertical-align: top;\n",
       "    }\n",
       "\n",
       "    .dataframe thead th {\n",
       "        text-align: right;\n",
       "    }\n",
       "</style>\n",
       "<table border=\"1\" class=\"dataframe\">\n",
       "  <thead>\n",
       "    <tr style=\"text-align: right;\">\n",
       "      <th></th>\n",
       "      <th>statPhosphorylation</th>\n",
       "      <th>PstatDimerisation</th>\n",
       "      <th>PstatDimerisationNuc</th>\n",
       "    </tr>\n",
       "  </thead>\n",
       "  <tbody>\n",
       "    <tr>\n",
       "      <th>{Pstat_sol}</th>\n",
       "      <td>1.0</td>\n",
       "      <td>-2.0</td>\n",
       "      <td>0.0</td>\n",
       "    </tr>\n",
       "    <tr>\n",
       "      <th>{species_test}</th>\n",
       "      <td>1.0</td>\n",
       "      <td>0.0</td>\n",
       "      <td>0.0</td>\n",
       "    </tr>\n",
       "    <tr>\n",
       "      <th>{PstatDimer_nuc=PstatDimer_sol}</th>\n",
       "      <td>0.0</td>\n",
       "      <td>1.0</td>\n",
       "      <td>1.0</td>\n",
       "    </tr>\n",
       "    <tr>\n",
       "      <th>{Pstat_nuc=stat_nuc=stat_sol}</th>\n",
       "      <td>-1.0</td>\n",
       "      <td>0.0</td>\n",
       "      <td>-2.0</td>\n",
       "    </tr>\n",
       "  </tbody>\n",
       "</table>\n",
       "</div>"
      ],
      "text/plain": [
       "                                 statPhosphorylation  PstatDimerisation  \\\n",
       "{Pstat_sol}                                      1.0               -2.0   \n",
       "{species_test}                                   1.0                0.0   \n",
       "{PstatDimer_nuc=PstatDimer_sol}                  0.0                1.0   \n",
       "{Pstat_nuc=stat_nuc=stat_sol}                   -1.0                0.0   \n",
       "\n",
       "                                 PstatDimerisationNuc  \n",
       "{Pstat_sol}                                       0.0  \n",
       "{species_test}                                    0.0  \n",
       "{PstatDimer_nuc=PstatDimer_sol}                   1.0  \n",
       "{Pstat_nuc=stat_nuc=stat_sol}                    -2.0  "
      ]
     },
     "execution_count": 10,
     "metadata": {},
     "output_type": "execute_result"
    }
   ],
   "source": [
    "m.getStoichiometryMatrix(m.som_reactions_lu, list(m.nodes), som=True)"
   ]
  },
  {
   "cell_type": "code",
   "execution_count": 11,
   "metadata": {},
   "outputs": [
    {
     "data": {
      "text/html": [
       "<div>\n",
       "<style scoped>\n",
       "    .dataframe tbody tr th:only-of-type {\n",
       "        vertical-align: middle;\n",
       "    }\n",
       "\n",
       "    .dataframe tbody tr th {\n",
       "        vertical-align: top;\n",
       "    }\n",
       "\n",
       "    .dataframe thead th {\n",
       "        text-align: right;\n",
       "    }\n",
       "</style>\n",
       "<table border=\"1\" class=\"dataframe\">\n",
       "  <thead>\n",
       "    <tr style=\"text-align: right;\">\n",
       "      <th></th>\n",
       "      <th>statPhosphorylation</th>\n",
       "      <th>PstatDimerisation</th>\n",
       "      <th>PstatDimerisationNuc</th>\n",
       "    </tr>\n",
       "  </thead>\n",
       "  <tbody>\n",
       "    <tr>\n",
       "      <th>{Pstat_sol}</th>\n",
       "      <td>2.33</td>\n",
       "      <td>-2.0</td>\n",
       "      <td>0.0</td>\n",
       "    </tr>\n",
       "    <tr>\n",
       "      <th>{species_test}</th>\n",
       "      <td>1.00</td>\n",
       "      <td>0.0</td>\n",
       "      <td>0.0</td>\n",
       "    </tr>\n",
       "    <tr>\n",
       "      <th>{PstatDimer_nuc=PstatDimer_sol}</th>\n",
       "      <td>0.00</td>\n",
       "      <td>1.0</td>\n",
       "      <td>1.0</td>\n",
       "    </tr>\n",
       "    <tr>\n",
       "      <th>{Pstat_nuc=stat_nuc=stat_sol}</th>\n",
       "      <td>-1.00</td>\n",
       "      <td>0.0</td>\n",
       "      <td>-2.0</td>\n",
       "    </tr>\n",
       "  </tbody>\n",
       "</table>\n",
       "</div>"
      ],
      "text/plain": [
       "                                 statPhosphorylation  PstatDimerisation  \\\n",
       "{Pstat_sol}                                     2.33               -2.0   \n",
       "{species_test}                                  1.00                0.0   \n",
       "{PstatDimer_nuc=PstatDimer_sol}                 0.00                1.0   \n",
       "{Pstat_nuc=stat_nuc=stat_sol}                  -1.00                0.0   \n",
       "\n",
       "                                 PstatDimerisationNuc  \n",
       "{Pstat_sol}                                       0.0  \n",
       "{species_test}                                    0.0  \n",
       "{PstatDimer_nuc=PstatDimer_sol}                   1.0  \n",
       "{Pstat_nuc=stat_nuc=stat_sol}                    -2.0  "
      ]
     },
     "execution_count": 11,
     "metadata": {},
     "output_type": "execute_result"
    }
   ],
   "source": [
    "k = m.getStoichiometryMatrix(m.som_reactions_lu, list(m.nodes), som=True)\n",
    "k.loc[\"{Pstat_sol}\", \"statPhosphorylation\"] = 2.33\n",
    "k"
   ]
  },
  {
   "cell_type": "code",
   "execution_count": 12,
   "metadata": {},
   "outputs": [],
   "source": [
    "mat_df = m.som_stoichiometry_matrix\n",
    "reactions = []\n",
    "for reaction_name in mat_df.columns:\n",
    "  reaction_elements = mat_df[reaction_name]\n",
    "  reactants = [SOMStoichiometry(\n",
    "      m.getNode(som_label),\n",
    "      np.round(abs(reaction_elements[som_label]), 3)\n",
    "      ) \\\n",
    "      for som_label in reaction_elements.index \\\n",
    "      if reaction_elements[som_label]<TOLERANCE*(-1)]\n",
    "#   products = [SOMStoichiometry(\n",
    "#       m.getNode(som_label),\n",
    "#       np.round(abs(reaction_elements[som_label]), 3)\n",
    "#       ) \\\n",
    "#       for som_label in reaction_elements.index \\\n",
    "#       if reaction_elements[som_label]>TOLERANCE]\n",
    "#   reactions.append(SOMReaction(\n",
    "#       reactants=reactants,\n",
    "#       products=products,\n",
    "#       label=reaction_name\n",
    "#       ))"
   ]
  },
  {
   "cell_type": "code",
   "execution_count": null,
   "metadata": {},
   "outputs": [],
   "source": []
  }
 ],
 "metadata": {
  "kernelspec": {
   "display_name": "Python 3",
   "language": "python",
   "name": "python3"
  },
  "language_info": {
   "codemirror_mode": {
    "name": "ipython",
    "version": 3
   },
   "file_extension": ".py",
   "mimetype": "text/x-python",
   "name": "python",
   "nbconvert_exporter": "python",
   "pygments_lexer": "ipython3",
   "version": "3.6.10"
  }
 },
 "nbformat": 4,
 "nbformat_minor": 4
}
