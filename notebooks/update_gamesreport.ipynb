{
 "cells": [
  {
   "cell_type": "code",
   "execution_count": 1,
   "metadata": {},
   "outputs": [
    {
     "name": "stdout",
     "output_type": "stream",
     "text": [
      "Current Directory: /Users/woosubs/Desktop/ModelEngineering/SBMLLint/SBMLLint/notebooks\n"
     ]
    }
   ],
   "source": [
    "# update_gamesreport\n",
    "from games_setup import *\n",
    "import SBMLLint.common.constants as cn\n",
    "from SBMLLint.common.reaction import Reaction\n",
    "from SBMLLint.common.stoichiometry_matrix import StoichiometryMatrix\n",
    "from SBMLLint.games.som import SOM\n",
    "from SBMLLint.games.mesgraph import MESGraph\n",
    "from SBMLLint.games.games_pp import GAMES_PP, SOMStoichiometry, SOMReaction, TOLERANCE\n",
    "from SBMLLint.games.games_report import GAMESReport, SimplifiedReaction\n",
    "import collections\n",
    "import numpy as np\n",
    "import pandas as pd\n",
    "import matplotlib.pyplot as plt\n",
    "%matplotlib inline\n",
    "import time\n",
    "from scipy.linalg import lu, inv"
   ]
  },
  {
   "cell_type": "code",
   "execution_count": 13,
   "metadata": {},
   "outputs": [],
   "source": [
    "from SBMLLint.common import config"
   ]
  },
  {
   "cell_type": "code",
   "execution_count": 14,
   "metadata": {},
   "outputs": [
    {
     "data": {
      "text/plain": [
       "'/Users/woosubs/Desktop/ModelEngineering/SBMLLint/SBMLLint/SBMLLint/.sbmllint_cfg.yml'"
      ]
     },
     "execution_count": 14,
     "metadata": {},
     "output_type": "execute_result"
    }
   ],
   "source": [
    "cn.CFG_DEFAULT_PATH"
   ]
  },
  {
   "cell_type": "code",
   "execution_count": 18,
   "metadata": {},
   "outputs": [
    {
     "data": {
      "text/plain": [
       "{'ignored_molecules': ['DUMMYMOLECULE'],\n",
       " 'ignored_moieties': ['DUMMYMOIETY'],\n",
       " 'process_boundary_reactions': False}"
      ]
     },
     "execution_count": 18,
     "metadata": {},
     "output_type": "execute_result"
    }
   ],
   "source": [
    "conf = config.getConfiguration()\n",
    "conf"
   ]
  },
  {
   "cell_type": "code",
   "execution_count": 2,
   "metadata": {},
   "outputs": [],
   "source": [
    "file = \"BIOMD0000000167_url.xml\"\n",
    "simple = SimpleSBML()\n",
    "simple.initialize(os.path.join(cn.BIOMODELS_DIR, file))"
   ]
  },
  {
   "cell_type": "code",
   "execution_count": 3,
   "metadata": {},
   "outputs": [
    {
     "name": "stdout",
     "output_type": "stream",
     "text": [
      "Model analyzed...\n",
      "At least one error found.\n",
      "\n"
     ]
    }
   ],
   "source": [
    "m = GAMES_PP(simple)\n",
    "res = m.analyze(simple_games=False, error_details=False)"
   ]
  },
  {
   "cell_type": "code",
   "execution_count": 4,
   "metadata": {},
   "outputs": [],
   "source": [
    "gr = GAMESReport(m)\n",
    "summary = m.error_summary"
   ]
  },
  {
   "cell_type": "code",
   "execution_count": 5,
   "metadata": {},
   "outputs": [
    {
     "data": {
      "text/plain": [
       "[ErrorSummnary(type='type3', errors=[PstatDimerisation: 2.00 {Pstat_sol} -> 2.00 {Pstat_nuc=stat_nuc=stat_sol}]),\n",
       " ErrorSummnary(type='echelon', errors=[statPhosphorylation:  -> {species_test}])]"
      ]
     },
     "execution_count": 5,
     "metadata": {},
     "output_type": "execute_result"
    }
   ],
   "source": [
    "summary"
   ]
  },
  {
   "cell_type": "code",
   "execution_count": 9,
   "metadata": {},
   "outputs": [
    {
     "name": "stdout",
     "output_type": "stream",
     "text": [
      "\n",
      "We detected a mass imbalance\n",
      ":  -> species_test\n",
      "\n",
      "from the following isolation set.\n",
      "\n",
      "1. statPhosphorylation: stat_sol -> Pstat_sol + species_test\n",
      "2. PstatDimerisation: 2.00 Pstat_sol -> PstatDimer_sol\n",
      "3. PstatDimerisationNuc: 2.00 Pstat_nuc -> PstatDimer_nuc\n",
      "4. PstatDimer__import: PstatDimer_sol -> PstatDimer_nuc\n",
      "5. statDephosphorylation: Pstat_nuc -> stat_nuc\n",
      "6. stat_export: stat_sol -> stat_nuc\n",
      "\n",
      "\n",
      "**********************************************************************\n",
      "\n",
      "\n",
      "[3]\n"
     ]
    }
   ],
   "source": [
    "rep = gr.reportEchelonError(m.echelon_errors, explain_details=False)\n",
    "print(rep[0])\n",
    "print(rep[1])"
   ]
  },
  {
   "cell_type": "code",
   "execution_count": 12,
   "metadata": {},
   "outputs": [
    {
     "name": "stdout",
     "output_type": "stream",
     "text": [
      "We detected a mass imbalance from the following reactions:\n",
      "\n",
      "1. PstatDimerisation: 2.00 Pstat_sol -> PstatDimer_sol\n",
      "2. PstatDimerisationNuc: 2.00 Pstat_nuc -> PstatDimer_nuc\n",
      "\n",
      "----------------------------------------------------------------------\n",
      "----------------------------------------------------------------------\n",
      "\n",
      "These uni-uni reactions created mass-equivalence.\n",
      "(The chemical species within a curly bracket have the same atomic mass.)\n",
      "\n",
      "{PstatDimer_nuc=PstatDimer_sol} is inferred by:\n",
      "3. PstatDimer__import: PstatDimer_sol -> PstatDimer_nuc\n",
      "\n",
      "{Pstat_nuc=stat_nuc=stat_sol} is inferred by:\n",
      "4. statDephosphorylation: Pstat_nuc -> stat_nuc\n",
      "5. stat_export: stat_sol -> stat_nuc\n",
      "\n",
      "----------------------------------------------------------------------\n",
      "\n",
      "These multi-uni reactions created mass-inequality.\n",
      "\n",
      "6. statPhosphorylation: stat_sol -> Pstat_sol + species_test\n",
      "\n",
      "----------------------------------------------------------------------\n",
      "\n",
      "Based on the reactions above, we have mass-equivalent pseudo reactions.\n",
      "\n",
      "(pseudo 1.) PstatDimerisation: 2.00 {Pstat_sol} -> {PstatDimer_nuc=PstatDimer_sol}\n",
      "(pseudo 2.) PstatDimerisationNuc: 2.00 {Pstat_nuc=stat_nuc=stat_sol} -> {PstatDimer_nuc=PstatDimer_sol}\n",
      "\n",
      "----------------------------------------------------------------------\n",
      "\n",
      "An operation between pseudo reactions:\n",
      "\n",
      "1.00 * PstatDimerisation - 1.00 * PstatDimerisationNuc\n",
      "\n",
      "\n",
      "will result in a uni-uni reaction:\n",
      "\n",
      ": 2.00 {Pstat_sol} -> 2.00 {Pstat_nuc=stat_nuc=stat_sol}\n",
      "\n",
      "\n",
      "meaning {Pstat_sol} and {Pstat_nuc=stat_nuc=stat_sol} have equal mass.\n",
      "\n",
      "----------------------------------------------------------------------\n",
      "\n",
      "However, the following mass-equivalent pseudo reaction(s):\n",
      "\n",
      "6. statPhosphorylation: stat_sol -> Pstat_sol + species_test\n",
      "(pseudo 6.) statPhosphorylation: {Pstat_nuc=stat_nuc=stat_sol} -> {Pstat_sol} + {species_test}\n",
      "\n",
      "incidates the masses of {Pstat_sol} and {Pstat_nuc=stat_nuc=stat_sol} are unequal.\n",
      "\n",
      "\n",
      "----------------------------------------------------------------------\n",
      "\n",
      "----------------------------------------------------------------------\n",
      "\n",
      "\n",
      "\n",
      "**********************************************************************\n",
      "\n",
      "\n",
      "[3]\n"
     ]
    }
   ],
   "source": [
    "rep = gr.reportTypeThreeError(m.type_three_errors, explain_details=True)\n",
    "print(rep[0])\n",
    "print(rep[1])"
   ]
  },
  {
   "cell_type": "code",
   "execution_count": null,
   "metadata": {},
   "outputs": [],
   "source": []
  }
 ],
 "metadata": {
  "kernelspec": {
   "display_name": "Python 3",
   "language": "python",
   "name": "python3"
  },
  "language_info": {
   "codemirror_mode": {
    "name": "ipython",
    "version": 3
   },
   "file_extension": ".py",
   "mimetype": "text/x-python",
   "name": "python",
   "nbconvert_exporter": "python",
   "pygments_lexer": "ipython3",
   "version": "3.6.10"
  }
 },
 "nbformat": 4,
 "nbformat_minor": 4
}
