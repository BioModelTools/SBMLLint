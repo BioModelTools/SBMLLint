{
 "cells": [
  {
   "cell_type": "code",
   "execution_count": null,
   "metadata": {},
   "outputs": [],
   "source": [
    "from games_setup import *\n",
    "from SBMLLint.common import constants as cn\n",
    "from SBMLLint.common.molecule import Molecule, MoleculeStoichiometry\n",
    "from SBMLLint.common.reaction import Reaction\n",
    "from SBMLLint.games.som import SOM\n",
    "from SBMLLint.common.simple_sbml import SimpleSBML\n",
    "\n",
    "import collections\n",
    "import copy\n",
    "import itertools\n",
    "import networkx as nx\n",
    "import numpy as np\n",
    "import pandas as pd\n",
    "#\n",
    "from SBMLLint.common.stoichiometry_matrix import StoichiometryMatrix\n",
    "from SBMLLint.games.mesgraph import MESGraph\n",
    "from SBMLLint.games.games_pp import GAMES_PP, SOMStoichiometry, SOMReaction, TOLERANCE\n",
    "from SBMLLint.games.games_report import GAMESReport, SimplifiedReaction\n"
   ]
  },
  {
   "cell_type": "code",
   "execution_count": 5,
   "metadata": {},
   "outputs": [
    {
     "name": "stdout",
     "output_type": "stream",
     "text": [
      "651\n"
     ]
    }
   ],
   "source": [
    "data_dir=cn.BIOMODELS_DIR\n",
    "#files = [f for f in os.listdir(data_dir) if f[-4:] == \".xml\"]\n",
    "files = [f for f in os.listdir(data_dir) if f[:7] == \"BIOMD00\"]\n",
    "#paths = [os.path.join(data_dir, filename) for filename in files]\n",
    "unloadable_models = [\"BIOMD0000000075_url.xml\",\n",
    "                     \"BIOMD0000000081_url.xml\",\n",
    "                     \"BIOMD0000000094_url.xml\",\n",
    "                     \"BIOMD0000000353_url.xml\",\n",
    "                     \"BIOMD0000000596_url.xml\"]\n",
    "net_files = list(set(files) - set(unloadable_models))\n",
    "print(len(net_files))"
   ]
  },
  {
   "cell_type": "code",
   "execution_count": 6,
   "metadata": {},
   "outputs": [],
   "source": [
    "# model statistics columns\n",
    "MODEL_ID = \"model_id\"\n",
    "NUM_TOTAL_REACTIONS = \"num_total_reactions\"\n",
    "NUM_BDRY_REACTIONS = \"num_bdry_reactions\"\n",
    "NUM_UNIUNI_REACTIONS = \"num_uniuni_reactions\"\n",
    "NUM_UMMU_REACTIONS = \"num_ummu_reactions\"\n",
    "NUM_MULTIMULTI_REACTIONS = \"num_multimulti_reactions\"\n",
    "#"
   ]
  },
  {
   "cell_type": "code",
   "execution_count": null,
   "metadata": {},
   "outputs": [],
   "source": [
    "results = pd.DataFrame(0, index=files, columns=result_columns)\n",
    "results[:5]"
   ]
  },
  {
   "cell_type": "code",
   "execution_count": 26,
   "metadata": {},
   "outputs": [],
   "source": [
    "num_uniuni = 0\n",
    "num_ummu = 0\n",
    "num_dic = {cn.REACTION_1_1: 0,\n",
    "                 cn.REACTION_1_n: 0,\n",
    "                 cn.REACTION_n_1: 0\n",
    "                }"
   ]
  },
  {
   "cell_type": "code",
   "execution_count": 27,
   "metadata": {},
   "outputs": [
    {
     "name": "stdout",
     "output_type": "stream",
     "text": [
      "reaction ATPase is  reaction_1_1\n",
      "num_dic, category is 0\n",
      "reaction ENO is  reaction_1_1\n",
      "num_dic, category is 1\n",
      "reaction FBA is  reaction_1_n\n",
      "num_dic, category is 0\n",
      "reaction GPM is  reaction_1_1\n",
      "num_dic, category is 2\n",
      "reaction GPP is  reaction_1_1\n",
      "num_dic, category is 3\n",
      "reaction PDC is  reaction_1_1\n",
      "num_dic, category is 4\n",
      "reaction PGI is  reaction_1_1\n",
      "num_dic, category is 5\n",
      "reaction PGM is  reaction_1_1\n",
      "num_dic, category is 6\n",
      "reaction TPI is  reaction_1_1\n",
      "num_dic, category is 7\n",
      "reaction TPP is  reaction_1_1\n",
      "num_dic, category is 8\n",
      "reaction UGP is  reaction_n_1\n",
      "num_dic, category is 0\n",
      "reaction HXT is  reaction_1_1\n",
      "num_dic, category is 9\n",
      "reaction RKI is  reaction_1_1\n",
      "num_dic, category is 10\n",
      "reaction RPE is  reaction_1_1\n",
      "num_dic, category is 11\n",
      "reaction SOL is  reaction_1_1\n",
      "num_dic, category is 12\n",
      "reaction NADPH_oxidase is  reaction_1_1\n",
      "num_dic, category is 13\n"
     ]
    },
    {
     "data": {
      "text/plain": [
       "{'reaction_1_1': 14, 'reaction_1_n': 1, 'reaction_n_1': 1}"
      ]
     },
     "execution_count": 27,
     "metadata": {},
     "output_type": "execute_result"
    }
   ],
   "source": [
    "for reaction in simple.reactions:\n",
    "  for category in num_dic.keys():\n",
    "    if reaction.category == category:\n",
    "      print(\"reaction\", reaction.label, \"is \", category)\n",
    "      print(\"num_dic, category is\", num_dic[category])\n",
    "      num_dic[category] += 1\n",
    "num_dic"
   ]
  },
  {
   "cell_type": "code",
   "execution_count": 13,
   "metadata": {},
   "outputs": [
    {
     "name": "stdout",
     "output_type": "stream",
     "text": [
      "we are analyzing Model number: 100\n",
      "we are analyzing Model number: 200\n",
      "we are analyzing Model number: 300\n",
      "we are analyzing Model number: 400\n",
      "we are analyzing Model number: 500\n",
      "we are analyzing Model number: 600\n"
     ]
    }
   ],
   "source": [
    "# Checking all graphs \n",
    "count = 0\n",
    "simple = SimpleSBML()\n",
    "res_list = []\n",
    "false_errors = set()\n",
    "for file in net_files:\n",
    "  num_uniuni = 0\n",
    "  num_ummu = 0\n",
    "  num_multimulti = 0\n",
    "  num_bdry = 0\n",
    "  count += 1\n",
    "  if (count%100)==0:\n",
    "    print(\"we are analyzing Model number:\", count)\n",
    "  simple.initialize(os.path.join(data_dir, file))\n",
    "  num_total_reactions = len(simple.reactions)"
   ]
  },
  {
   "cell_type": "code",
   "execution_count": 31,
   "metadata": {},
   "outputs": [
    {
     "name": "stdout",
     "output_type": "stream",
     "text": [
      "we are analyzing Model number: 100\n",
      "we are analyzing Model number: 200\n",
      "we are analyzing Model number: 300\n",
      "we are analyzing Model number: 400\n",
      "we are analyzing Model number: 500\n",
      "we are analyzing Model number: 600\n"
     ]
    }
   ],
   "source": [
    "# Checking all graphs \n",
    "count = 0\n",
    "simple = SimpleSBML()\n",
    "res_list = []\n",
    "false_errors = set()\n",
    "for file in net_files:\n",
    "  num_uniuni = 0\n",
    "  num_ummu = 0\n",
    "  num_multimulti = 0\n",
    "  num_bdry = 0\n",
    "  count += 1\n",
    "  if (count%100)==0:\n",
    "    print(\"we are analyzing Model number:\", count)\n",
    "  simple.initialize(os.path.join(data_dir, file))\n",
    "  num_dic = {cn.REACTION_1_1: 0,\n",
    "             cn.REACTION_1_n: 0,\n",
    "             cn.REACTION_n_1: 0,\n",
    "             cn.REACTION_n_n: 0,\n",
    "             cn.REACTION_BOUNDARY: 0\n",
    "            }  \n",
    "  for reaction in simple.reactions:\n",
    "    for category in num_dic.keys():\n",
    "      if reaction.category == category:\n",
    "        num_dic[category] += 1\n",
    "  res_dic = dict({MODEL_ID: file[:-8],\n",
    "                  NUM_TOTAL_REACTIONS: len(simple.reactions),\n",
    "                  NUM_BDRY_REACTIONS: num_dic[cn.REACTION_BOUNDARY],\n",
    "                  NUM_UNIUNI_REACTIONS: num_dic[cn.REACTION_1_1],\n",
    "                  NUM_UMMU_REACTIONS: num_dic[cn.REACTION_1_n] + num_dic[cn.REACTION_n_1],\n",
    "                  NUM_MULTIMULTI_REACTIONS: num_dic[cn.REACTION_n_n]})\n",
    "  sum = res_dic[NUM_BDRY_REACTIONS] + res_dic[NUM_UNIUNI_REACTIONS] + res_dic[NUM_UMMU_REACTIONS] + res_dic[NUM_MULTIMULTI_REACTIONS]\n",
    "  if sum != res_dic[NUM_TOTAL_REACTIONS]:\n",
    "    print(\"Error! The sum doens't match with model %s\" % file)\n",
    "  res_list.append(res_dic)"
   ]
  },
  {
   "cell_type": "code",
   "execution_count": 32,
   "metadata": {},
   "outputs": [
    {
     "data": {
      "text/html": [
       "<div>\n",
       "<style scoped>\n",
       "    .dataframe tbody tr th:only-of-type {\n",
       "        vertical-align: middle;\n",
       "    }\n",
       "\n",
       "    .dataframe tbody tr th {\n",
       "        vertical-align: top;\n",
       "    }\n",
       "\n",
       "    .dataframe thead th {\n",
       "        text-align: right;\n",
       "    }\n",
       "</style>\n",
       "<table border=\"1\" class=\"dataframe\">\n",
       "  <thead>\n",
       "    <tr style=\"text-align: right;\">\n",
       "      <th></th>\n",
       "      <th>model_id</th>\n",
       "      <th>num_bdry_reactions</th>\n",
       "      <th>num_multimulti_reactions</th>\n",
       "      <th>num_total_reactions</th>\n",
       "      <th>num_ummu_reactions</th>\n",
       "      <th>num_uniuni_reactions</th>\n",
       "    </tr>\n",
       "  </thead>\n",
       "  <tbody>\n",
       "    <tr>\n",
       "      <th>0</th>\n",
       "      <td>BIOMD0000000485</td>\n",
       "      <td>0</td>\n",
       "      <td>0</td>\n",
       "      <td>4</td>\n",
       "      <td>0</td>\n",
       "      <td>4</td>\n",
       "    </tr>\n",
       "    <tr>\n",
       "      <th>1</th>\n",
       "      <td>BIOMD0000000153</td>\n",
       "      <td>0</td>\n",
       "      <td>0</td>\n",
       "      <td>152</td>\n",
       "      <td>146</td>\n",
       "      <td>6</td>\n",
       "    </tr>\n",
       "    <tr>\n",
       "      <th>2</th>\n",
       "      <td>BIOMD0000000359</td>\n",
       "      <td>0</td>\n",
       "      <td>1</td>\n",
       "      <td>8</td>\n",
       "      <td>5</td>\n",
       "      <td>2</td>\n",
       "    </tr>\n",
       "    <tr>\n",
       "      <th>3</th>\n",
       "      <td>BIOMD0000000076</td>\n",
       "      <td>0</td>\n",
       "      <td>0</td>\n",
       "      <td>2</td>\n",
       "      <td>0</td>\n",
       "      <td>2</td>\n",
       "    </tr>\n",
       "    <tr>\n",
       "      <th>4</th>\n",
       "      <td>BIOMD0000000392</td>\n",
       "      <td>1</td>\n",
       "      <td>8</td>\n",
       "      <td>27</td>\n",
       "      <td>14</td>\n",
       "      <td>4</td>\n",
       "    </tr>\n",
       "  </tbody>\n",
       "</table>\n",
       "</div>"
      ],
      "text/plain": [
       "          model_id  num_bdry_reactions  num_multimulti_reactions  \\\n",
       "0  BIOMD0000000485                   0                         0   \n",
       "1  BIOMD0000000153                   0                         0   \n",
       "2  BIOMD0000000359                   0                         1   \n",
       "3  BIOMD0000000076                   0                         0   \n",
       "4  BIOMD0000000392                   1                         8   \n",
       "\n",
       "   num_total_reactions  num_ummu_reactions  num_uniuni_reactions  \n",
       "0                    4                   0                     4  \n",
       "1                  152                 146                     6  \n",
       "2                    8                   5                     2  \n",
       "3                    2                   0                     2  \n",
       "4                   27                  14                     4  "
      ]
     },
     "execution_count": 32,
     "metadata": {},
     "output_type": "execute_result"
    }
   ],
   "source": [
    "res_df = pd.DataFrame(res_list)\n",
    "res_df.head()"
   ]
  },
  {
   "cell_type": "code",
   "execution_count": 47,
   "metadata": {},
   "outputs": [
    {
     "name": "stdout",
     "output_type": "stream",
     "text": [
      "average total reactions 36.69278033794163\n",
      "average bdry reactions 5.7910906298003075\n",
      "Average number of uniuni 12.109062980030721\n",
      "Average fraction of uni uni reactions 0.36403940743727137\n"
     ]
    }
   ],
   "source": [
    "print(\"average total reactions\", np.mean(res_df[NUM_TOTAL_REACTIONS]))\n",
    "print(\"average bdry reactions\", np.mean(res_df[NUM_BDRY_REACTIONS]))\n",
    "print(\"Average number of uniuni\", np.mean(res_df[NUM_UNIUNI_REACTIONS]))\n",
    "print(\"Average fraction of uni uni reactions\",\n",
    "      np.mean(res_df[NUM_UNIUNI_REACTIONS] / res_df[NUM_TOTAL_REACTIONS]))"
   ]
  },
  {
   "cell_type": "code",
   "execution_count": 57,
   "metadata": {},
   "outputs": [
    {
     "name": "stdout",
     "output_type": "stream",
     "text": [
      "se Number total reactions 3.6081273739288404\n",
      "se Number bdry reactions 0.4483080965923733\n",
      "se Number of uniuni 1.810567518477487\n",
      "se Fraction, uni uni reactions 0.012625484543655559\n"
     ]
    }
   ],
   "source": [
    "print(\"se Number total reactions\", np.std(res_df[NUM_TOTAL_REACTIONS]) / np.sqrt(len(res_df)))\n",
    "print(\"se Number bdry reactions\", np.std(res_df[NUM_BDRY_REACTIONS]) / np.sqrt(len(res_df)))\n",
    "print(\"se Number of uniuni\",\n",
    "      np.std(res_df[NUM_UNIUNI_REACTIONS]) / np.sqrt(len(res_df)))\n",
    "print(\"se Fraction, uni uni reactions\",\n",
    "      np.std(res_df[NUM_UNIUNI_REACTIONS] / res_df[NUM_TOTAL_REACTIONS]) / np.sqrt(len(res_df)))"
   ]
  },
  {
   "cell_type": "code",
   "execution_count": 37,
   "metadata": {},
   "outputs": [
    {
     "name": "stdout",
     "output_type": "stream",
     "text": [
      "Average number of UMMU 13.84331797235023\n",
      "Average fraction of UMMU 0.2473310978579935\n"
     ]
    }
   ],
   "source": [
    "print(\"Average number of UMMU\",\n",
    "     np.mean(res_df[NUM_UMMU_REACTIONS]))\n",
    "print(\"Average fraction of UMMU\",\n",
    "     np.mean(res_df[NUM_UMMU_REACTIONS]/res_df[NUM_TOTAL_REACTIONS]))"
   ]
  },
  {
   "cell_type": "code",
   "execution_count": 59,
   "metadata": {},
   "outputs": [
    {
     "name": "stdout",
     "output_type": "stream",
     "text": [
      "se number of UMMU 2.1399575261708894\n",
      "se fraction of UMMU 0.011693589931140719\n"
     ]
    }
   ],
   "source": [
    "print(\"se number of UMMU\",\n",
    "     np.std(res_df[NUM_UMMU_REACTIONS]) / np.sqrt(len(res_df)))\n",
    "print(\"se fraction of UMMU\",\n",
    "     np.std(res_df[NUM_UMMU_REACTIONS]/res_df[NUM_TOTAL_REACTIONS])  / np.sqrt(len(res_df)) )"
   ]
  },
  {
   "cell_type": "code",
   "execution_count": 38,
   "metadata": {},
   "outputs": [
    {
     "name": "stdout",
     "output_type": "stream",
     "text": [
      "Average number of multi-multi 4.949308755760368\n",
      "Average fraction of multi-multi 0.09515350455497812\n"
     ]
    }
   ],
   "source": [
    "print(\"Average number of multi-multi\",\n",
    "     np.mean(res_df[NUM_MULTIMULTI_REACTIONS]))\n",
    "print(\"Average fraction of multi-multi\",\n",
    "     np.mean(res_df[NUM_MULTIMULTI_REACTIONS]/res_df[NUM_TOTAL_REACTIONS]))"
   ]
  },
  {
   "cell_type": "code",
   "execution_count": 60,
   "metadata": {},
   "outputs": [
    {
     "name": "stdout",
     "output_type": "stream",
     "text": [
      "se number of multi-multi 0.9786276392683663\n",
      "se fraction of multi-multi 0.007434063376789388\n"
     ]
    }
   ],
   "source": [
    "print(\"se number of multi-multi\",\n",
    "     np.std(res_df[NUM_MULTIMULTI_REACTIONS]) / np.sqrt(len(res_df)) )\n",
    "print(\"se fraction of multi-multi\",\n",
    "     np.std(res_df[NUM_MULTIMULTI_REACTIONS]/res_df[NUM_TOTAL_REACTIONS]) / np.sqrt(len(res_df)))"
   ]
  },
  {
   "cell_type": "code",
   "execution_count": 46,
   "metadata": {},
   "outputs": [
    {
     "name": "stdout",
     "output_type": "stream",
     "text": [
      "Average number of bdry 5.7910906298003075\n",
      "Average fraction of bdry 0.2934759901497571\n"
     ]
    }
   ],
   "source": [
    "print(\"Average number of bdry\",\n",
    "     np.mean(res_df[NUM_BDRY_REACTIONS]))\n",
    "print(\"Average fraction of bdry\",\n",
    "     np.mean(res_df[NUM_BDRY_REACTIONS]/res_df[NUM_TOTAL_REACTIONS]))"
   ]
  },
  {
   "cell_type": "code",
   "execution_count": 61,
   "metadata": {},
   "outputs": [
    {
     "name": "stdout",
     "output_type": "stream",
     "text": [
      "se of bdry 0.4483080965923733\n",
      "se of bdry 0.01420549716980877\n"
     ]
    }
   ],
   "source": [
    "print(\"se of bdry\",\n",
    "     np.std(res_df[NUM_BDRY_REACTIONS]) / np.sqrt(len(res_df)))\n",
    "print(\"se of bdry\",\n",
    "     np.std(res_df[NUM_BDRY_REACTIONS]/res_df[NUM_TOTAL_REACTIONS]) / np.sqrt(len(res_df)))"
   ]
  },
  {
   "cell_type": "code",
   "execution_count": 42,
   "metadata": {},
   "outputs": [
    {
     "name": "stdout",
     "output_type": "stream",
     "text": [
      "Number of models with no boundary reactions 346\n"
     ]
    }
   ],
   "source": [
    "print(\"Number of models with no boundary reactions\", len(res_df[res_df[NUM_BDRY_REACTIONS]==0]))"
   ]
  },
  {
   "cell_type": "code",
   "execution_count": 43,
   "metadata": {},
   "outputs": [
    {
     "name": "stdout",
     "output_type": "stream",
     "text": [
      "Number of models with no uniuni reactions 194\n"
     ]
    }
   ],
   "source": [
    "print(\"Number of models with no uniuni reactions\", len(res_df[res_df[NUM_UNIUNI_REACTIONS]==0]))"
   ]
  },
  {
   "cell_type": "code",
   "execution_count": 44,
   "metadata": {},
   "outputs": [
    {
     "name": "stdout",
     "output_type": "stream",
     "text": [
      "Number of models with no multimulti reactions 492\n"
     ]
    }
   ],
   "source": [
    "print(\"Number of models with no multimulti reactions\", len(res_df[res_df[NUM_MULTIMULTI_REACTIONS]==0]))"
   ]
  },
  {
   "cell_type": "code",
   "execution_count": 45,
   "metadata": {},
   "outputs": [
    {
     "name": "stdout",
     "output_type": "stream",
     "text": [
      "Number of models with no UMMU reactions 294\n"
     ]
    }
   ],
   "source": [
    "print(\"Number of models with no UMMU reactions\", len(res_df[res_df[NUM_UMMU_REACTIONS]==0]))"
   ]
  },
  {
   "cell_type": "code",
   "execution_count": null,
   "metadata": {},
   "outputs": [],
   "source": []
  }
 ],
 "metadata": {
  "kernelspec": {
   "display_name": "Python 3",
   "language": "python",
   "name": "python3"
  },
  "language_info": {
   "codemirror_mode": {
    "name": "ipython",
    "version": 3
   },
   "file_extension": ".py",
   "mimetype": "text/x-python",
   "name": "python",
   "nbconvert_exporter": "python",
   "pygments_lexer": "ipython3",
   "version": "3.6.9"
  }
 },
 "nbformat": 4,
 "nbformat_minor": 4
}
