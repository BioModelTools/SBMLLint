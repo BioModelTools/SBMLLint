{
 "cells": [
  {
   "cell_type": "code",
   "execution_count": 1,
   "metadata": {},
   "outputs": [],
   "source": [
    "import init\n",
    "from SBMLLint.common import constants as cn\n",
    "from SBMLLint.common.molecule import Molecule, MoleculeStoichiometry\n",
    "from SBMLLint.common import simple_sbml\n",
    "from SBMLLint.common.reaction import Reaction\n",
    "from SBMLLint.tools import sbmllint\n",
    "from SBMLLint.tools import print_reactions\n",
    "\n",
    "import os\n",
    "import numpy as np\n",
    "import pandas as pd\n",
    "import matplotlib.pyplot as plt\n",
    "import time\n",
    "\n",
    "from scipy.linalg import lu, inv\n",
    "from scipy.optimize import linprog"
   ]
  },
  {
   "cell_type": "code",
   "execution_count": 2,
   "metadata": {},
   "outputs": [
    {
     "name": "stdout",
     "output_type": "stream",
     "text": [
      "Current Directory: /Users/woosubs/Desktop/ModelEngineering/SBMLLint/SBMLLint/notebooks\n"
     ]
    }
   ],
   "source": [
    "from games_setup import *\n",
    "from SBMLLint.common import constants as cn\n",
    "from SBMLLint.common.simple_sbml import SimpleSBML\n",
    "from SBMLLint.common.stoichiometry_matrix import StoichiometryMatrix\n",
    "\n",
    "from SBMLLint.games.som import SOM\n",
    "from SBMLLint.games.games_pp import GAMES_PP, SOMStoichiometry, SOMReaction, TOLERANCE\n",
    "from SBMLLint.games.games_report import GAMESReport, SimplifiedReaction"
   ]
  },
  {
   "cell_type": "code",
   "execution_count": 3,
   "metadata": {},
   "outputs": [
    {
     "data": {
      "text/plain": [
       "'/Users/woosubs/Desktop/ModelEngineering/SBMLLint/SBMLLint/notebooks'"
      ]
     },
     "execution_count": 3,
     "metadata": {},
     "output_type": "execute_result"
    }
   ],
   "source": [
    "os.getcwd()"
   ]
  },
  {
   "cell_type": "code",
   "execution_count": 6,
   "metadata": {},
   "outputs": [
    {
     "name": "stdout",
     "output_type": "stream",
     "text": [
      "number of BiGG models: 108\n"
     ]
    },
    {
     "data": {
      "text/plain": [
       "[{'bigg_id': 'e_coli_core',\n",
       "  'gene_count': 137,\n",
       "  'reaction_count': 95,\n",
       "  'organism': 'Escherichia coli str. K-12 substr. MG1655',\n",
       "  'metabolite_count': 72}]"
      ]
     },
     "execution_count": 6,
     "metadata": {},
     "output_type": "execute_result"
    }
   ],
   "source": [
    "# Load relevant bigg models\n",
    "# bigg constants\n",
    "BIGG_RESULTS = \"results\"\n",
    "BIGG_ID = \"bigg_id\"\n",
    "BIGG_GENECOUNT = \"gene_count\"\n",
    "BIGG_REACTION_COUNT = \"reaction_count\"\n",
    "BIGG_ORGANISM = \"organism\"\n",
    "BIGG_METABOLITE_COUNT = \"metabolite_count\"\n",
    "import requests\n",
    "res = requests.get('http://bigg.ucsd.edu/api/v2/models')\n",
    "bigg_models = res.json()[BIGG_RESULTS]\n",
    "bigg_ids = [bigg[BIGG_ID] for bigg in bigg_models]\n",
    "print(\"number of BiGG models: %d\" % len(bigg_models))\n",
    "bigg_models[:1]"
   ]
  },
  {
   "cell_type": "code",
   "execution_count": 7,
   "metadata": {},
   "outputs": [
    {
     "data": {
      "text/html": [
       "<div>\n",
       "<style scoped>\n",
       "    .dataframe tbody tr th:only-of-type {\n",
       "        vertical-align: middle;\n",
       "    }\n",
       "\n",
       "    .dataframe tbody tr th {\n",
       "        vertical-align: top;\n",
       "    }\n",
       "\n",
       "    .dataframe thead th {\n",
       "        text-align: right;\n",
       "    }\n",
       "</style>\n",
       "<table border=\"1\" class=\"dataframe\">\n",
       "  <thead>\n",
       "    <tr style=\"text-align: right;\">\n",
       "      <th></th>\n",
       "      <th>gene_count</th>\n",
       "      <th>reaction_count</th>\n",
       "      <th>organism</th>\n",
       "      <th>metabolite_count</th>\n",
       "    </tr>\n",
       "    <tr>\n",
       "      <th>bigg_id</th>\n",
       "      <th></th>\n",
       "      <th></th>\n",
       "      <th></th>\n",
       "      <th></th>\n",
       "    </tr>\n",
       "  </thead>\n",
       "  <tbody>\n",
       "    <tr>\n",
       "      <th>e_coli_core</th>\n",
       "      <td>137</td>\n",
       "      <td>95</td>\n",
       "      <td>Escherichia coli str. K-12 substr. MG1655</td>\n",
       "      <td>72</td>\n",
       "    </tr>\n",
       "    <tr>\n",
       "      <th>iAB_RBC_283</th>\n",
       "      <td>346</td>\n",
       "      <td>469</td>\n",
       "      <td>Homo sapiens</td>\n",
       "      <td>342</td>\n",
       "    </tr>\n",
       "    <tr>\n",
       "      <th>iIS312</th>\n",
       "      <td>312</td>\n",
       "      <td>519</td>\n",
       "      <td>Trypanosoma cruzi Dm28c</td>\n",
       "      <td>606</td>\n",
       "    </tr>\n",
       "    <tr>\n",
       "      <th>iIS312_Amastigote</th>\n",
       "      <td>312</td>\n",
       "      <td>519</td>\n",
       "      <td>Trypanosoma cruzi Dm28c</td>\n",
       "      <td>606</td>\n",
       "    </tr>\n",
       "    <tr>\n",
       "      <th>iIS312_Epimastigote</th>\n",
       "      <td>312</td>\n",
       "      <td>519</td>\n",
       "      <td>Trypanosoma cruzi Dm28c</td>\n",
       "      <td>606</td>\n",
       "    </tr>\n",
       "  </tbody>\n",
       "</table>\n",
       "</div>"
      ],
      "text/plain": [
       "                     gene_count  reaction_count  \\\n",
       "bigg_id                                           \n",
       "e_coli_core                 137              95   \n",
       "iAB_RBC_283                 346             469   \n",
       "iIS312                      312             519   \n",
       "iIS312_Amastigote           312             519   \n",
       "iIS312_Epimastigote         312             519   \n",
       "\n",
       "                                                      organism  \\\n",
       "bigg_id                                                          \n",
       "e_coli_core          Escherichia coli str. K-12 substr. MG1655   \n",
       "iAB_RBC_283                                       Homo sapiens   \n",
       "iIS312                                 Trypanosoma cruzi Dm28c   \n",
       "iIS312_Amastigote                      Trypanosoma cruzi Dm28c   \n",
       "iIS312_Epimastigote                    Trypanosoma cruzi Dm28c   \n",
       "\n",
       "                     metabolite_count  \n",
       "bigg_id                                \n",
       "e_coli_core                        72  \n",
       "iAB_RBC_283                       342  \n",
       "iIS312                            606  \n",
       "iIS312_Amastigote                 606  \n",
       "iIS312_Epimastigote               606  "
      ]
     },
     "execution_count": 7,
     "metadata": {},
     "output_type": "execute_result"
    }
   ],
   "source": [
    "bigg_df = pd.DataFrame(bigg_models).set_index(BIGG_ID)\n",
    "bigg_df.sort_values(by=BIGG_REACTION_COUNT, \n",
    "                    inplace=True)\n",
    "bigg_df.head()"
   ]
  },
  {
   "cell_type": "code",
   "execution_count": 8,
   "metadata": {},
   "outputs": [
    {
     "data": {
      "text/html": [
       "<div>\n",
       "<style scoped>\n",
       "    .dataframe tbody tr th:only-of-type {\n",
       "        vertical-align: middle;\n",
       "    }\n",
       "\n",
       "    .dataframe tbody tr th {\n",
       "        vertical-align: top;\n",
       "    }\n",
       "\n",
       "    .dataframe thead th {\n",
       "        text-align: right;\n",
       "    }\n",
       "</style>\n",
       "<table border=\"1\" class=\"dataframe\">\n",
       "  <thead>\n",
       "    <tr style=\"text-align: right;\">\n",
       "      <th></th>\n",
       "      <th>gene_count</th>\n",
       "      <th>reaction_count</th>\n",
       "      <th>organism</th>\n",
       "      <th>metabolite_count</th>\n",
       "    </tr>\n",
       "    <tr>\n",
       "      <th>bigg_id</th>\n",
       "      <th></th>\n",
       "      <th></th>\n",
       "      <th></th>\n",
       "      <th></th>\n",
       "    </tr>\n",
       "  </thead>\n",
       "  <tbody>\n",
       "    <tr>\n",
       "      <th>RECON1</th>\n",
       "      <td>1905</td>\n",
       "      <td>3741</td>\n",
       "      <td>Homo sapiens</td>\n",
       "      <td>2766</td>\n",
       "    </tr>\n",
       "    <tr>\n",
       "      <th>iCHOv1_DG44</th>\n",
       "      <td>1184</td>\n",
       "      <td>3942</td>\n",
       "      <td>Cricetulus griseus</td>\n",
       "      <td>2751</td>\n",
       "    </tr>\n",
       "    <tr>\n",
       "      <th>iLB1027_lipid</th>\n",
       "      <td>1027</td>\n",
       "      <td>4456</td>\n",
       "      <td>Phaeodactylum tricornutum CCAP 1055/1</td>\n",
       "      <td>2172</td>\n",
       "    </tr>\n",
       "    <tr>\n",
       "      <th>iCHOv1</th>\n",
       "      <td>1766</td>\n",
       "      <td>6663</td>\n",
       "      <td>Cricetulus griseus</td>\n",
       "      <td>4456</td>\n",
       "    </tr>\n",
       "    <tr>\n",
       "      <th>Recon3D</th>\n",
       "      <td>2248</td>\n",
       "      <td>10600</td>\n",
       "      <td>Homo sapiens</td>\n",
       "      <td>5835</td>\n",
       "    </tr>\n",
       "  </tbody>\n",
       "</table>\n",
       "</div>"
      ],
      "text/plain": [
       "               gene_count  reaction_count  \\\n",
       "bigg_id                                     \n",
       "RECON1               1905            3741   \n",
       "iCHOv1_DG44          1184            3942   \n",
       "iLB1027_lipid        1027            4456   \n",
       "iCHOv1               1766            6663   \n",
       "Recon3D              2248           10600   \n",
       "\n",
       "                                            organism  metabolite_count  \n",
       "bigg_id                                                                 \n",
       "RECON1                                  Homo sapiens              2766  \n",
       "iCHOv1_DG44                       Cricetulus griseus              2751  \n",
       "iLB1027_lipid  Phaeodactylum tricornutum CCAP 1055/1              2172  \n",
       "iCHOv1                            Cricetulus griseus              4456  \n",
       "Recon3D                                 Homo sapiens              5835  "
      ]
     },
     "execution_count": 8,
     "metadata": {},
     "output_type": "execute_result"
    }
   ],
   "source": [
    "bigg_df.tail()"
   ]
  },
  {
   "cell_type": "code",
   "execution_count": 25,
   "metadata": {},
   "outputs": [
    {
     "name": "stdout",
     "output_type": "stream",
     "text": [
      "------------------------------------------------------\n",
      "gene_count                                  709\n",
      "reaction_count                             1015\n",
      "organism            Acinetobacter baumannii AYE\n",
      "metabolite_count                            888\n",
      "Name: iCN718, dtype: object\n",
      "------------------------------------------------------\n",
      "gene_count                                           1027\n",
      "reaction_count                                       4456\n",
      "organism            Phaeodactylum tricornutum CCAP 1055/1\n",
      "metabolite_count                                     2172\n",
      "Name: iLB1027_lipid, dtype: object\n",
      "------------------------------------------------------\n",
      "gene_count                        1766\n",
      "reaction_count                    6663\n",
      "organism            Cricetulus griseus\n",
      "metabolite_count                  4456\n",
      "Name: iCHOv1, dtype: object\n",
      "------------------------------------------------------\n",
      "gene_count                  2248\n",
      "reaction_count             10600\n",
      "organism            Homo sapiens\n",
      "metabolite_count            5835\n",
      "Name: Recon3D, dtype: object\n",
      "------------------------------------------------------\n"
     ]
    }
   ],
   "source": [
    "# define four bigg models depending on size\n",
    "MODEL_1000 = \"iCN718.xml\"\n",
    "MODEL_4000 = \"iLB1027_lipid.xml\"\n",
    "MODEL_6000 = \"iCHOv1.xml\"\n",
    "MODEL_10000 = \"Recon3D.xml\"\n",
    "FOUR_BIGG = [MODEL_1000, MODEL_4000, MODEL_6000, MODEL_10000]\n",
    "print(\"------------------------------------------------------\")\n",
    "for bigg in FOUR_BIGG:\n",
    "  print(bigg_df.loc[bigg[:-4]])\n",
    "  print(\"------------------------------------------------------\")"
   ]
  },
  {
   "cell_type": "code",
   "execution_count": 27,
   "metadata": {},
   "outputs": [],
   "source": [
    "SAMPLE_MODEL = FOUR_BIGG[0]\n",
    "fpath = os.path.join(cn.BIGG_DIR, SAMPLE_MODEL)\n",
    "simple = SimpleSBML()\n",
    "simple.initialize(fpath)"
   ]
  },
  {
   "cell_type": "code",
   "execution_count": 28,
   "metadata": {},
   "outputs": [
    {
     "name": "stdout",
     "output_type": "stream",
     "text": [
      "53.78262805938721\n",
      "xGAMES found an error!\n"
     ]
    }
   ],
   "source": [
    "xgames_start = time.time()\n",
    "m = GAMES_PP(simple)\n",
    "res = m.analyze(simple_games=False, error_details=False, suppress_message=True)\n",
    "xgames_end = time.time()\n",
    "xgames_time = xgames_end - xgames_start\n",
    "print(xgames_time)\n",
    "if res:\n",
    "  print(\"xGAMES found an error!\")\n",
    "else:\n",
    "  print(\"xGAMES didn't find an error!\")"
   ]
  },
  {
   "cell_type": "code",
   "execution_count": 29,
   "metadata": {},
   "outputs": [
    {
     "name": "stderr",
     "output_type": "stream",
     "text": [
      "//anaconda3/envs/sbml_env/lib/python3.6/site-packages/scipy/optimize/_linprog_util.py:763: OptimizeWarning: A_eq does not appear to be of full row rank. To improve performance, check the problem formulation for redundant equality constraints.\n",
      "  warn(redundancy_warning, OptimizeWarning)\n"
     ]
    },
    {
     "name": "stdout",
     "output_type": "stream",
     "text": [
      "1.9641730785369873\n"
     ]
    }
   ],
   "source": [
    "lp_start = time.time()\n",
    "s = StoichiometryMatrix(simple)\n",
    "lp_res = s.isConsistent()\n",
    "lp_end = time.time()\n",
    "print(lp_end - lp_start)"
   ]
  },
  {
   "cell_type": "code",
   "execution_count": 13,
   "metadata": {},
   "outputs": [
    {
     "data": {
      "text/plain": [
       "False"
      ]
     },
     "execution_count": 13,
     "metadata": {},
     "output_type": "execute_result"
    }
   ],
   "source": []
  },
  {
   "cell_type": "code",
   "execution_count": 14,
   "metadata": {},
   "outputs": [
    {
     "data": {
      "text/plain": [
       "[R_SEAHCYSHYD_1:  -> {M_h_c}]"
      ]
     },
     "execution_count": 14,
     "metadata": {},
     "output_type": "execute_result"
    }
   ],
   "source": [
    "m.echelon_errors"
   ]
  },
  {
   "cell_type": "code",
   "execution_count": 20,
   "metadata": {},
   "outputs": [
    {
     "data": {
      "text/plain": [
       "[R_SEAHCYSHYD_1:  -> {M_h_c}]"
      ]
     },
     "execution_count": 20,
     "metadata": {},
     "output_type": "execute_result"
    }
   ],
   "source": [
    "m.echelon_errors"
   ]
  },
  {
   "cell_type": "code",
   "execution_count": 21,
   "metadata": {},
   "outputs": [
    {
     "data": {
      "text/plain": [
       "R_SEAHCYSHYD_1: M_h2o_c + M_seahcys_c -> M_adn_c + M_h_c + M_selhcys_c"
      ]
     },
     "execution_count": 21,
     "metadata": {},
     "output_type": "execute_result"
    }
   ],
   "source": [
    "simple.getReaction(\"R_SEAHCYSHYD_1\")"
   ]
  },
  {
   "cell_type": "code",
   "execution_count": 40,
   "metadata": {},
   "outputs": [
    {
     "data": {
      "text/plain": [
       "R_SEAHCYSHYD: M_h2o_c + M_seahcys_c -> M_adn_c + M_selhcys_c"
      ]
     },
     "execution_count": 40,
     "metadata": {},
     "output_type": "execute_result"
    }
   ],
   "source": [
    "simple.getReaction(\"R_SEAHCYSHYD\")"
   ]
  },
  {
   "cell_type": "code",
   "execution_count": 29,
   "metadata": {},
   "outputs": [
    {
     "data": {
      "text/plain": [
       "M_h2o_c"
      ]
     },
     "execution_count": 29,
     "metadata": {},
     "output_type": "execute_result"
    }
   ],
   "source": [
    "simple.getMolecule(\"M_h2o_c\")"
   ]
  },
  {
   "cell_type": "code",
   "execution_count": 31,
   "metadata": {},
   "outputs": [
    {
     "data": {
      "text/plain": [
       "{M_adn_c}"
      ]
     },
     "execution_count": 31,
     "metadata": {},
     "output_type": "execute_result"
    }
   ],
   "source": [
    "m.getNode(simple.getMolecule(\"M_adn_c\"))"
   ]
  },
  {
   "cell_type": "code",
   "execution_count": 39,
   "metadata": {},
   "outputs": [
    {
     "name": "stdout",
     "output_type": "stream",
     "text": [
      "Index(['R_SEAHCYSHYD', 'R_SEAHCYSHYD_1'], dtype='object')\n",
      "R_SEAHCYSHYD     -1.0\n",
      "R_SEAHCYSHYD_1    1.0\n",
      "Name: R_SEAHCYSHYD_1, dtype: float64\n"
     ]
    }
   ],
   "source": [
    "error_column = m.lower_inverse.T[m.echelon_errors[0].label]\n",
    "error_loc = error_column.to_numpy().nonzero()\n",
    "error_reactions = error_column.index[error_loc]\n",
    "print(error_reactions)\n",
    "print(error_column[error_loc[0]])"
   ]
  },
  {
   "cell_type": "code",
   "execution_count": null,
   "metadata": {},
   "outputs": [],
   "source": []
  },
  {
   "cell_type": "code",
   "execution_count": 33,
   "metadata": {},
   "outputs": [
    {
     "data": {
      "text/plain": [
       "     con: array([-4.48441284e-12])\n",
       "     fun: 6.00000000000065\n",
       " message: 'Optimization terminated successfully.'\n",
       "     nit: 4\n",
       "   slack: array([], dtype=float64)\n",
       "  status: 0\n",
       " success: True\n",
       "       x: array([1.5, 1. , 1. , 1. , 1.5])"
      ]
     },
     "execution_count": 33,
     "metadata": {},
     "output_type": "execute_result"
    }
   ],
   "source": [
    "select_mat = m.som_stoichiometry_matrix[set(error_reactions)]\n",
    "lp_mat = select_mat.loc[(select_mat!=0.0).any(axis=1)].T\n",
    "nmet = lp_mat.shape[1]\n",
    "# number of reactions\n",
    "nreac = lp_mat.shape[0]  \n",
    "#  \n",
    "b = np.zeros(nreac)\n",
    "c = np.ones(nmet)\n",
    "# Linear programming. c is constraint (here, zero), \n",
    "# b is vector of possible values for molecule vector. \n",
    "lp_res = linprog(c, A_eq=lp_mat, b_eq=b, bounds=(1, None))\n",
    "lp_res"
   ]
  },
  {
   "cell_type": "code",
   "execution_count": 35,
   "metadata": {},
   "outputs": [
    {
     "data": {
      "text/html": [
       "<div>\n",
       "<style scoped>\n",
       "    .dataframe tbody tr th:only-of-type {\n",
       "        vertical-align: middle;\n",
       "    }\n",
       "\n",
       "    .dataframe tbody tr th {\n",
       "        vertical-align: top;\n",
       "    }\n",
       "\n",
       "    .dataframe thead th {\n",
       "        text-align: right;\n",
       "    }\n",
       "</style>\n",
       "<table border=\"1\" class=\"dataframe\">\n",
       "  <thead>\n",
       "    <tr style=\"text-align: right;\">\n",
       "      <th></th>\n",
       "      <th>{M_seahcys_c}</th>\n",
       "      <th>{M_selhcys_c}</th>\n",
       "      <th>{M_adn_c}</th>\n",
       "      <th>{M_h_c}</th>\n",
       "      <th>{M_h2o_c=M_h2o_e}</th>\n",
       "    </tr>\n",
       "  </thead>\n",
       "  <tbody>\n",
       "    <tr>\n",
       "      <th>R_SEAHCYSHYD_1</th>\n",
       "      <td>-1.0</td>\n",
       "      <td>1.0</td>\n",
       "      <td>1.0</td>\n",
       "      <td>1.0</td>\n",
       "      <td>-1.0</td>\n",
       "    </tr>\n",
       "  </tbody>\n",
       "</table>\n",
       "</div>"
      ],
      "text/plain": [
       "                {M_seahcys_c}  {M_selhcys_c}  {M_adn_c}  {M_h_c}  \\\n",
       "R_SEAHCYSHYD_1           -1.0            1.0        1.0      1.0   \n",
       "\n",
       "                {M_h2o_c=M_h2o_e}  \n",
       "R_SEAHCYSHYD_1               -1.0  "
      ]
     },
     "execution_count": 35,
     "metadata": {},
     "output_type": "execute_result"
    }
   ],
   "source": [
    "lp_mat"
   ]
  },
  {
   "cell_type": "code",
   "execution_count": 73,
   "metadata": {},
   "outputs": [],
   "source": [
    "error_series = error_column[error_loc[0]]\n",
    "error_series = error_series.reindex(index=lp_mat.index)"
   ]
  },
  {
   "cell_type": "code",
   "execution_count": 81,
   "metadata": {},
   "outputs": [
    {
     "data": {
      "text/plain": [
       "25"
      ]
     },
     "execution_count": 81,
     "metadata": {},
     "output_type": "execute_result"
    }
   ],
   "source": [
    "# for r in error_reactions:\n",
    "#   print(simple.getReaction(r))\n",
    "len(error_reactions)"
   ]
  },
  {
   "cell_type": "code",
   "execution_count": 58,
   "metadata": {},
   "outputs": [
    {
     "data": {
      "text/plain": [
       "M_hcys__L_c      0.0\n",
       "M_2mecdp_c       0.0\n",
       "M_2mahmp_c       0.0\n",
       "M_aibut_c        0.0\n",
       "M_dtdp4d6dg_c    0.0\n",
       "                ... \n",
       "M_fru_e          0.0\n",
       "M_urate_c        0.0\n",
       "M_trp__L_e       0.0\n",
       "M_tyrtrna_c      0.0\n",
       "M_idp_c          0.0\n",
       "Name: R_SEAHCYSHYD, Length: 852, dtype: float64"
      ]
     },
     "execution_count": 58,
     "metadata": {},
     "output_type": "execute_result"
    }
   ],
   "source": [
    "original_stoichiometry_matrix[\"R_SEAHCYSHYD\"]"
   ]
  },
  {
   "cell_type": "code",
   "execution_count": 60,
   "metadata": {},
   "outputs": [
    {
     "data": {
      "text/plain": [
       "2"
      ]
     },
     "execution_count": 60,
     "metadata": {},
     "output_type": "execute_result"
    }
   ],
   "source": [
    "s = StoichiometryMatrix(simple)\n",
    "original_stoichiometry_matrix = s.stoichiometry_matrix\n",
    "original_stoichiometry_matrix.drop([\"R_SEAHCYSHYD_1\"], axis=1, inplace=True)\n",
    "original_stoichiometry_matrix.drop([\"R_SEAHCYSHYD\"], axis=1, inplace=True)\n",
    "select_mat = original_stoichiometry_matrix\n",
    "lp_mat = select_mat.loc[(select_mat!=0.0).any(axis=1)].T\n",
    "nmet = lp_mat.shape[1]\n",
    "# number of reactions\n",
    "nreac = lp_mat.shape[0]  \n",
    "#  \n",
    "b = np.zeros(nreac)\n",
    "c = np.ones(nmet)\n",
    "# Linear programming. c is constraint (here, zero), \n",
    "# b is vector of possible values for molecule vector. \n",
    "lp_res = linprog(c, A_eq=lp_mat, b_eq=b, bounds=(1, None))\n",
    "lp_res.status"
   ]
  },
  {
   "cell_type": "code",
   "execution_count": 61,
   "metadata": {},
   "outputs": [
    {
     "data": {
      "text/plain": [
       "R_SEAHCYSHYD_1: M_h2o_c + M_seahcys_c -> M_adn_c + M_h_c + M_selhcys_c"
      ]
     },
     "execution_count": 61,
     "metadata": {},
     "output_type": "execute_result"
    }
   ],
   "source": [
    "simple.getReaction(\"R_SEAHCYSHYD_1\")"
   ]
  },
  {
   "cell_type": "code",
   "execution_count": 62,
   "metadata": {},
   "outputs": [
    {
     "data": {
      "text/plain": [
       "R_SEAHCYSHYD: M_h2o_c + M_seahcys_c -> M_adn_c + M_selhcys_c"
      ]
     },
     "execution_count": 62,
     "metadata": {},
     "output_type": "execute_result"
    }
   ],
   "source": [
    "simple.getReaction(\"R_SEAHCYSHYD\")"
   ]
  },
  {
   "cell_type": "code",
   "execution_count": 53,
   "metadata": {},
   "outputs": [],
   "source": [
    "original_stoichiometry_matrix.drop([\"R_GGTT\"], axis=1, inplace=True)"
   ]
  },
  {
   "cell_type": "code",
   "execution_count": 45,
   "metadata": {},
   "outputs": [
    {
     "data": {
      "text/plain": [
       "M_hcys__L_c      0.0\n",
       "M_2mecdp_c       0.0\n",
       "M_2mahmp_c       0.0\n",
       "M_aibut_c        0.0\n",
       "M_dtdp4d6dg_c    0.0\n",
       "                ... \n",
       "M_fru_e          0.0\n",
       "M_urate_c        0.0\n",
       "M_trp__L_e       0.0\n",
       "M_tyrtrna_c      0.0\n",
       "M_idp_c          0.0\n",
       "Name: R_SEAHCYSHYD_1, Length: 852, dtype: float64"
      ]
     },
     "execution_count": 45,
     "metadata": {},
     "output_type": "execute_result"
    }
   ],
   "source": [
    "original_stoichiometry_matrix([\"R_SEAHCYSHYD_1\"]"
   ]
  },
  {
   "cell_type": "code",
   "execution_count": null,
   "metadata": {},
   "outputs": [],
   "source": []
  },
  {
   "cell_type": "code",
   "execution_count": null,
   "metadata": {},
   "outputs": [],
   "source": []
  },
  {
   "cell_type": "code",
   "execution_count": null,
   "metadata": {},
   "outputs": [],
   "source": []
  },
  {
   "cell_type": "code",
   "execution_count": 9,
   "metadata": {},
   "outputs": [
    {
     "data": {
      "text/plain": [
       "(array([ 1.,  1.,  7.,  5., 11.,  5.,  1.,  1.,  1.,  1.,  3.,  5., 58.,\n",
       "         1.,  0.,  1.,  0.,  2.,  1.,  0.,  1.,  0.,  0.,  0.,  0.,  0.,\n",
       "         0.,  0.,  0.,  0.,  0.,  1.,  0.,  0.,  0.,  0.,  0.,  0.,  0.,\n",
       "         0.,  0.,  0.,  0.,  0.,  0.,  0.,  0.,  0.,  0.,  1.]),\n",
       " array([   95. ,   305.1,   515.2,   725.3,   935.4,  1145.5,  1355.6,\n",
       "         1565.7,  1775.8,  1985.9,  2196. ,  2406.1,  2616.2,  2826.3,\n",
       "         3036.4,  3246.5,  3456.6,  3666.7,  3876.8,  4086.9,  4297. ,\n",
       "         4507.1,  4717.2,  4927.3,  5137.4,  5347.5,  5557.6,  5767.7,\n",
       "         5977.8,  6187.9,  6398. ,  6608.1,  6818.2,  7028.3,  7238.4,\n",
       "         7448.5,  7658.6,  7868.7,  8078.8,  8288.9,  8499. ,  8709.1,\n",
       "         8919.2,  9129.3,  9339.4,  9549.5,  9759.6,  9969.7, 10179.8,\n",
       "        10389.9, 10600. ]),\n",
       " <a list of 50 Patch objects>)"
      ]
     },
     "execution_count": 9,
     "metadata": {},
     "output_type": "execute_result"
    },
    {
     "data": {
      "image/png": "[encoded data removed]",
      "text/plain": [
       "<Figure size 432x288 with 1 Axes>"
      ]
     },
     "metadata": {
      "needs_background": "light"
     },
     "output_type": "display_data"
    }
   ],
   "source": [
    "plt.hist(bigg_df[BIGG_REACTION_COUNT], bins=50)"
   ]
  },
  {
   "cell_type": "code",
   "execution_count": 10,
   "metadata": {},
   "outputs": [],
   "source": [
    "# Download it to BiGG folder - executed so commentized for now\n",
    "# from urllib.request import urlopen\n",
    "# for bigg_id in bigg_ids:\n",
    "#   url_str = \"http://bigg.ucsd.edu/static/models/\" + bigg_id + \".xml\"\n",
    "#   url_connect = urlopen(url_str)\n",
    "#   contents = url_connect.read()\n",
    "#   file = open(os.path.join(cn.BIGG_DIR, bigg_id + \".xml\"), 'wb')\n",
    "#   file.write(contents)\n",
    "#   file.close()"
   ]
  },
  {
   "cell_type": "code",
   "execution_count": 11,
   "metadata": {},
   "outputs": [
    {
     "data": {
      "text/plain": [
       "'/Users/woosubs/Desktop/ModelEngineering/SBMLLint/SBMLLint/data/bigg/e_coli_core.xml'"
      ]
     },
     "execution_count": 11,
     "metadata": {},
     "output_type": "execute_result"
    }
   ],
   "source": [
    "bigg_file = os.path.join(cn.BIGG_DIR, smallest_bigg+\".xml\")\n",
    "bigg_file"
   ]
  },
  {
   "cell_type": "code",
   "execution_count": 47,
   "metadata": {},
   "outputs": [
    {
     "data": {
      "text/html": [
       "<div>\n",
       "<style scoped>\n",
       "    .dataframe tbody tr th:only-of-type {\n",
       "        vertical-align: middle;\n",
       "    }\n",
       "\n",
       "    .dataframe tbody tr th {\n",
       "        vertical-align: top;\n",
       "    }\n",
       "\n",
       "    .dataframe thead th {\n",
       "        text-align: right;\n",
       "    }\n",
       "</style>\n",
       "<table border=\"1\" class=\"dataframe\">\n",
       "  <thead>\n",
       "    <tr style=\"text-align: right;\">\n",
       "      <th></th>\n",
       "      <th>gene_count</th>\n",
       "      <th>reaction_count</th>\n",
       "      <th>organism</th>\n",
       "      <th>metabolite_count</th>\n",
       "    </tr>\n",
       "    <tr>\n",
       "      <th>bigg_id</th>\n",
       "      <th></th>\n",
       "      <th></th>\n",
       "      <th></th>\n",
       "      <th></th>\n",
       "    </tr>\n",
       "  </thead>\n",
       "  <tbody>\n",
       "    <tr>\n",
       "      <th>RECON1</th>\n",
       "      <td>1905</td>\n",
       "      <td>3741</td>\n",
       "      <td>Homo sapiens</td>\n",
       "      <td>2766</td>\n",
       "    </tr>\n",
       "    <tr>\n",
       "      <th>iCHOv1_DG44</th>\n",
       "      <td>1184</td>\n",
       "      <td>3942</td>\n",
       "      <td>Cricetulus griseus</td>\n",
       "      <td>2751</td>\n",
       "    </tr>\n",
       "    <tr>\n",
       "      <th>iLB1027_lipid</th>\n",
       "      <td>1027</td>\n",
       "      <td>4456</td>\n",
       "      <td>Phaeodactylum tricornutum CCAP 1055/1</td>\n",
       "      <td>2172</td>\n",
       "    </tr>\n",
       "    <tr>\n",
       "      <th>iCHOv1</th>\n",
       "      <td>1766</td>\n",
       "      <td>6663</td>\n",
       "      <td>Cricetulus griseus</td>\n",
       "      <td>4456</td>\n",
       "    </tr>\n",
       "    <tr>\n",
       "      <th>Recon3D</th>\n",
       "      <td>2248</td>\n",
       "      <td>10600</td>\n",
       "      <td>Homo sapiens</td>\n",
       "      <td>5835</td>\n",
       "    </tr>\n",
       "  </tbody>\n",
       "</table>\n",
       "</div>"
      ],
      "text/plain": [
       "               gene_count  reaction_count  \\\n",
       "bigg_id                                     \n",
       "RECON1               1905            3741   \n",
       "iCHOv1_DG44          1184            3942   \n",
       "iLB1027_lipid        1027            4456   \n",
       "iCHOv1               1766            6663   \n",
       "Recon3D              2248           10600   \n",
       "\n",
       "                                            organism  metabolite_count  \n",
       "bigg_id                                                                 \n",
       "RECON1                                  Homo sapiens              2766  \n",
       "iCHOv1_DG44                       Cricetulus griseus              2751  \n",
       "iLB1027_lipid  Phaeodactylum tricornutum CCAP 1055/1              2172  \n",
       "iCHOv1                            Cricetulus griseus              4456  \n",
       "Recon3D                                 Homo sapiens              5835  "
      ]
     },
     "execution_count": 47,
     "metadata": {},
     "output_type": "execute_result"
    }
   ],
   "source": [
    "bigg_df.tail()"
   ]
  },
  {
   "cell_type": "code",
   "execution_count": 12,
   "metadata": {},
   "outputs": [
    {
     "data": {
      "text/plain": [
       "pandas.core.indexes.base.Index"
      ]
     },
     "execution_count": 12,
     "metadata": {},
     "output_type": "execute_result"
    }
   ],
   "source": [
    "type(bigg_df.index)\n"
   ]
  },
  {
   "cell_type": "code",
   "execution_count": 13,
   "metadata": {},
   "outputs": [],
   "source": [
    "# initialization test\n",
    "EXCEPTIONS = [\"iAT_PLT_636\",\n",
    "             \"iSynCJ816\",\n",
    "             \"iRC1080\",\n",
    "             \"iYS1720\",\n",
    "             \"iMM1415\"]\n",
    "# count = 0\n",
    "# for f in bigg_df.index:\n",
    "#   fpath = os.path.join(cn.BIGG_DIR, f+\".xml\")\n",
    "#   count += 1\n",
    "#   if (count%5)==0:\n",
    "#     print(\"Model %s, %d(th) reaction has %d reactions\" % (f,\n",
    "#                                                           count,\n",
    "#                                                           len(simple.reactions)))\n",
    "#   try:\n",
    "#     simple = SimpleSBML()\n",
    "#     simple.initialize(fpath)\n",
    "#   except:\n",
    "#     print(\"Model %s has issue\" % f)\n",
    "#     EXCEPTIONS.append(f)"
   ]
  },
  {
   "cell_type": "code",
   "execution_count": null,
   "metadata": {},
   "outputs": [],
   "source": []
  },
  {
   "cell_type": "code",
   "execution_count": 16,
   "metadata": {},
   "outputs": [
    {
     "name": "stdout",
     "output_type": "stream",
     "text": [
      "we are analyzing Model number: 10\n",
      "we are analyzing Model number: 20\n",
      "we are analyzing Model number: 30\n",
      "we are analyzing Model number: 40\n",
      "we are analyzing Model number: 50\n",
      "we are analyzing Model number: 60\n",
      "we are analyzing Model number: 70\n",
      "we are analyzing Model number: 80\n",
      "we are analyzing Model number: 90\n",
      "we are analyzing Model number: 100\n"
     ]
    },
    {
     "data": {
      "text/html": [
       "<div>\n",
       "<style scoped>\n",
       "    .dataframe tbody tr th:only-of-type {\n",
       "        vertical-align: middle;\n",
       "    }\n",
       "\n",
       "    .dataframe tbody tr th {\n",
       "        vertical-align: top;\n",
       "    }\n",
       "\n",
       "    .dataframe thead th {\n",
       "        text-align: right;\n",
       "    }\n",
       "</style>\n",
       "<table border=\"1\" class=\"dataframe\">\n",
       "  <thead>\n",
       "    <tr style=\"text-align: right;\">\n",
       "      <th></th>\n",
       "      <th>model_id</th>\n",
       "      <th>num_total_reactions</th>\n",
       "      <th>num_bdry_reactions</th>\n",
       "      <th>num_uniuni_reactions</th>\n",
       "      <th>num_ummu_reactions</th>\n",
       "      <th>num_multimulti_reactions</th>\n",
       "    </tr>\n",
       "  </thead>\n",
       "  <tbody>\n",
       "    <tr>\n",
       "      <th>0</th>\n",
       "      <td>e_c</td>\n",
       "      <td>95</td>\n",
       "      <td>20</td>\n",
       "      <td>11</td>\n",
       "      <td>6</td>\n",
       "      <td>58</td>\n",
       "    </tr>\n",
       "    <tr>\n",
       "      <th>1</th>\n",
       "      <td>iAB</td>\n",
       "      <td>469</td>\n",
       "      <td>99</td>\n",
       "      <td>63</td>\n",
       "      <td>14</td>\n",
       "      <td>293</td>\n",
       "    </tr>\n",
       "    <tr>\n",
       "      <th>2</th>\n",
       "      <td></td>\n",
       "      <td>519</td>\n",
       "      <td>45</td>\n",
       "      <td>110</td>\n",
       "      <td>23</td>\n",
       "      <td>341</td>\n",
       "    </tr>\n",
       "    <tr>\n",
       "      <th>3</th>\n",
       "      <td>iIS312_Am</td>\n",
       "      <td>519</td>\n",
       "      <td>45</td>\n",
       "      <td>110</td>\n",
       "      <td>23</td>\n",
       "      <td>341</td>\n",
       "    </tr>\n",
       "    <tr>\n",
       "      <th>4</th>\n",
       "      <td>iIS312_Epim</td>\n",
       "      <td>519</td>\n",
       "      <td>45</td>\n",
       "      <td>110</td>\n",
       "      <td>23</td>\n",
       "      <td>341</td>\n",
       "    </tr>\n",
       "    <tr>\n",
       "      <th>5</th>\n",
       "      <td>iIS312_Trypom</td>\n",
       "      <td>520</td>\n",
       "      <td>45</td>\n",
       "      <td>110</td>\n",
       "      <td>23</td>\n",
       "      <td>342</td>\n",
       "    </tr>\n",
       "    <tr>\n",
       "      <th>6</th>\n",
       "      <td></td>\n",
       "      <td>554</td>\n",
       "      <td>77</td>\n",
       "      <td>41</td>\n",
       "      <td>36</td>\n",
       "      <td>400</td>\n",
       "    </tr>\n",
       "    <tr>\n",
       "      <th>7</th>\n",
       "      <td></td>\n",
       "      <td>652</td>\n",
       "      <td>84</td>\n",
       "      <td>43</td>\n",
       "      <td>43</td>\n",
       "      <td>482</td>\n",
       "    </tr>\n",
       "    <tr>\n",
       "      <th>8</th>\n",
       "      <td></td>\n",
       "      <td>690</td>\n",
       "      <td>70</td>\n",
       "      <td>48</td>\n",
       "      <td>45</td>\n",
       "      <td>527</td>\n",
       "    </tr>\n",
       "    <tr>\n",
       "      <th>9</th>\n",
       "      <td></td>\n",
       "      <td>743</td>\n",
       "      <td>86</td>\n",
       "      <td>40</td>\n",
       "      <td>46</td>\n",
       "      <td>571</td>\n",
       "    </tr>\n",
       "    <tr>\n",
       "      <th>10</th>\n",
       "      <td></td>\n",
       "      <td>754</td>\n",
       "      <td>106</td>\n",
       "      <td>57</td>\n",
       "      <td>42</td>\n",
       "      <td>549</td>\n",
       "    </tr>\n",
       "    <tr>\n",
       "      <th>11</th>\n",
       "      <td></td>\n",
       "      <td>785</td>\n",
       "      <td>97</td>\n",
       "      <td>45</td>\n",
       "      <td>61</td>\n",
       "      <td>582</td>\n",
       "    </tr>\n",
       "    <tr>\n",
       "      <th>12</th>\n",
       "      <td></td>\n",
       "      <td>849</td>\n",
       "      <td>59</td>\n",
       "      <td>87</td>\n",
       "      <td>80</td>\n",
       "      <td>623</td>\n",
       "    </tr>\n",
       "    <tr>\n",
       "      <th>13</th>\n",
       "      <td></td>\n",
       "      <td>863</td>\n",
       "      <td>57</td>\n",
       "      <td>90</td>\n",
       "      <td>58</td>\n",
       "      <td>658</td>\n",
       "    </tr>\n",
       "    <tr>\n",
       "      <th>14</th>\n",
       "      <td></td>\n",
       "      <td>1015</td>\n",
       "      <td>129</td>\n",
       "      <td>65</td>\n",
       "      <td>78</td>\n",
       "      <td>743</td>\n",
       "    </tr>\n",
       "    <tr>\n",
       "      <th>15</th>\n",
       "      <td></td>\n",
       "      <td>1025</td>\n",
       "      <td>87</td>\n",
       "      <td>68</td>\n",
       "      <td>56</td>\n",
       "      <td>814</td>\n",
       "    </tr>\n",
       "    <tr>\n",
       "      <th>16</th>\n",
       "      <td></td>\n",
       "      <td>1054</td>\n",
       "      <td>107</td>\n",
       "      <td>128</td>\n",
       "      <td>85</td>\n",
       "      <td>734</td>\n",
       "    </tr>\n",
       "    <tr>\n",
       "      <th>17</th>\n",
       "      <td>i</td>\n",
       "      <td>1067</td>\n",
       "      <td>103</td>\n",
       "      <td>222</td>\n",
       "      <td>48</td>\n",
       "      <td>694</td>\n",
       "    </tr>\n",
       "    <tr>\n",
       "      <th>18</th>\n",
       "      <td>i</td>\n",
       "      <td>1074</td>\n",
       "      <td>105</td>\n",
       "      <td>222</td>\n",
       "      <td>48</td>\n",
       "      <td>699</td>\n",
       "    </tr>\n",
       "    <tr>\n",
       "      <th>19</th>\n",
       "      <td></td>\n",
       "      <td>1075</td>\n",
       "      <td>143</td>\n",
       "      <td>61</td>\n",
       "      <td>74</td>\n",
       "      <td>797</td>\n",
       "    </tr>\n",
       "    <tr>\n",
       "      <th>20</th>\n",
       "      <td>i</td>\n",
       "      <td>1078</td>\n",
       "      <td>108</td>\n",
       "      <td>222</td>\n",
       "      <td>49</td>\n",
       "      <td>699</td>\n",
       "    </tr>\n",
       "    <tr>\n",
       "      <th>21</th>\n",
       "      <td>i</td>\n",
       "      <td>1079</td>\n",
       "      <td>108</td>\n",
       "      <td>222</td>\n",
       "      <td>49</td>\n",
       "      <td>700</td>\n",
       "    </tr>\n",
       "    <tr>\n",
       "      <th>22</th>\n",
       "      <td>i</td>\n",
       "      <td>1083</td>\n",
       "      <td>108</td>\n",
       "      <td>222</td>\n",
       "      <td>49</td>\n",
       "      <td>704</td>\n",
       "    </tr>\n",
       "    <tr>\n",
       "      <th>23</th>\n",
       "      <td></td>\n",
       "      <td>1226</td>\n",
       "      <td>118</td>\n",
       "      <td>77</td>\n",
       "      <td>78</td>\n",
       "      <td>953</td>\n",
       "    </tr>\n",
       "    <tr>\n",
       "      <th>24</th>\n",
       "      <td></td>\n",
       "      <td>1229</td>\n",
       "      <td>132</td>\n",
       "      <td>98</td>\n",
       "      <td>95</td>\n",
       "      <td>904</td>\n",
       "    </tr>\n",
       "    <tr>\n",
       "      <th>25</th>\n",
       "      <td></td>\n",
       "      <td>1250</td>\n",
       "      <td>229</td>\n",
       "      <td>61</td>\n",
       "      <td>64</td>\n",
       "      <td>896</td>\n",
       "    </tr>\n",
       "    <tr>\n",
       "      <th>26</th>\n",
       "      <td></td>\n",
       "      <td>1266</td>\n",
       "      <td>116</td>\n",
       "      <td>179</td>\n",
       "      <td>60</td>\n",
       "      <td>911</td>\n",
       "    </tr>\n",
       "    <tr>\n",
       "      <th>27</th>\n",
       "      <td></td>\n",
       "      <td>1285</td>\n",
       "      <td>97</td>\n",
       "      <td>128</td>\n",
       "      <td>87</td>\n",
       "      <td>973</td>\n",
       "    </tr>\n",
       "    <tr>\n",
       "      <th>28</th>\n",
       "      <td></td>\n",
       "      <td>1455</td>\n",
       "      <td>247</td>\n",
       "      <td>129</td>\n",
       "      <td>110</td>\n",
       "      <td>969</td>\n",
       "    </tr>\n",
       "    <tr>\n",
       "      <th>29</th>\n",
       "      <td></td>\n",
       "      <td>1577</td>\n",
       "      <td>164</td>\n",
       "      <td>253</td>\n",
       "      <td>69</td>\n",
       "      <td>1091</td>\n",
       "    </tr>\n",
       "    <tr>\n",
       "      <th>...</th>\n",
       "      <td>...</td>\n",
       "      <td>...</td>\n",
       "      <td>...</td>\n",
       "      <td>...</td>\n",
       "      <td>...</td>\n",
       "      <td>...</td>\n",
       "    </tr>\n",
       "    <tr>\n",
       "      <th>73</th>\n",
       "      <td>iEcSM</td>\n",
       "      <td>2746</td>\n",
       "      <td>391</td>\n",
       "      <td>466</td>\n",
       "      <td>131</td>\n",
       "      <td>1758</td>\n",
       "    </tr>\n",
       "    <tr>\n",
       "      <th>74</th>\n",
       "      <td>iE</td>\n",
       "      <td>2748</td>\n",
       "      <td>391</td>\n",
       "      <td>464</td>\n",
       "      <td>136</td>\n",
       "      <td>1757</td>\n",
       "    </tr>\n",
       "    <tr>\n",
       "      <th>75</th>\n",
       "      <td>i</td>\n",
       "      <td>2748</td>\n",
       "      <td>391</td>\n",
       "      <td>464</td>\n",
       "      <td>136</td>\n",
       "      <td>1757</td>\n",
       "    </tr>\n",
       "    <tr>\n",
       "      <th>76</th>\n",
       "      <td>iEc</td>\n",
       "      <td>2750</td>\n",
       "      <td>391</td>\n",
       "      <td>462</td>\n",
       "      <td>131</td>\n",
       "      <td>1766</td>\n",
       "    </tr>\n",
       "    <tr>\n",
       "      <th>77</th>\n",
       "      <td>iE</td>\n",
       "      <td>2753</td>\n",
       "      <td>391</td>\n",
       "      <td>464</td>\n",
       "      <td>139</td>\n",
       "      <td>1759</td>\n",
       "    </tr>\n",
       "    <tr>\n",
       "      <th>78</th>\n",
       "      <td>iECDH1ME8</td>\n",
       "      <td>2755</td>\n",
       "      <td>391</td>\n",
       "      <td>466</td>\n",
       "      <td>131</td>\n",
       "      <td>1767</td>\n",
       "    </tr>\n",
       "    <tr>\n",
       "      <th>79</th>\n",
       "      <td>iEC55</td>\n",
       "      <td>2756</td>\n",
       "      <td>391</td>\n",
       "      <td>469</td>\n",
       "      <td>134</td>\n",
       "      <td>1762</td>\n",
       "    </tr>\n",
       "    <tr>\n",
       "      <th>80</th>\n",
       "      <td>iEC134</td>\n",
       "      <td>2756</td>\n",
       "      <td>345</td>\n",
       "      <td>457</td>\n",
       "      <td>155</td>\n",
       "      <td>1799</td>\n",
       "    </tr>\n",
       "    <tr>\n",
       "      <th>81</th>\n",
       "      <td>iE</td>\n",
       "      <td>2756</td>\n",
       "      <td>391</td>\n",
       "      <td>464</td>\n",
       "      <td>132</td>\n",
       "      <td>1769</td>\n",
       "    </tr>\n",
       "    <tr>\n",
       "      <th>82</th>\n",
       "      <td>iEC13</td>\n",
       "      <td>2758</td>\n",
       "      <td>345</td>\n",
       "      <td>456</td>\n",
       "      <td>155</td>\n",
       "      <td>1802</td>\n",
       "    </tr>\n",
       "    <tr>\n",
       "      <th>83</th>\n",
       "      <td>iECO</td>\n",
       "      <td>2758</td>\n",
       "      <td>391</td>\n",
       "      <td>470</td>\n",
       "      <td>140</td>\n",
       "      <td>1757</td>\n",
       "    </tr>\n",
       "    <tr>\n",
       "      <th>84</th>\n",
       "      <td>i</td>\n",
       "      <td>2759</td>\n",
       "      <td>391</td>\n",
       "      <td>467</td>\n",
       "      <td>131</td>\n",
       "      <td>1770</td>\n",
       "    </tr>\n",
       "    <tr>\n",
       "      <th>85</th>\n",
       "      <td>iECO</td>\n",
       "      <td>2760</td>\n",
       "      <td>391</td>\n",
       "      <td>467</td>\n",
       "      <td>140</td>\n",
       "      <td>1762</td>\n",
       "    </tr>\n",
       "    <tr>\n",
       "      <th>86</th>\n",
       "      <td>iEcE24</td>\n",
       "      <td>2763</td>\n",
       "      <td>391</td>\n",
       "      <td>470</td>\n",
       "      <td>134</td>\n",
       "      <td>1768</td>\n",
       "    </tr>\n",
       "    <tr>\n",
       "      <th>87</th>\n",
       "      <td>i</td>\n",
       "      <td>2764</td>\n",
       "      <td>345</td>\n",
       "      <td>462</td>\n",
       "      <td>161</td>\n",
       "      <td>1796</td>\n",
       "    </tr>\n",
       "    <tr>\n",
       "      <th>88</th>\n",
       "      <td>iECI</td>\n",
       "      <td>2765</td>\n",
       "      <td>391</td>\n",
       "      <td>469</td>\n",
       "      <td>140</td>\n",
       "      <td>1765</td>\n",
       "    </tr>\n",
       "    <tr>\n",
       "      <th>89</th>\n",
       "      <td>iE</td>\n",
       "      <td>2768</td>\n",
       "      <td>391</td>\n",
       "      <td>469</td>\n",
       "      <td>140</td>\n",
       "      <td>1768</td>\n",
       "    </tr>\n",
       "    <tr>\n",
       "      <th>90</th>\n",
       "      <td>iEc</td>\n",
       "      <td>2768</td>\n",
       "      <td>391</td>\n",
       "      <td>469</td>\n",
       "      <td>138</td>\n",
       "      <td>1770</td>\n",
       "    </tr>\n",
       "    <tr>\n",
       "      <th>91</th>\n",
       "      <td>iUMN</td>\n",
       "      <td>2777</td>\n",
       "      <td>391</td>\n",
       "      <td>467</td>\n",
       "      <td>133</td>\n",
       "      <td>1786</td>\n",
       "    </tr>\n",
       "    <tr>\n",
       "      <th>92</th>\n",
       "      <td>iEK</td>\n",
       "      <td>2778</td>\n",
       "      <td>391</td>\n",
       "      <td>471</td>\n",
       "      <td>140</td>\n",
       "      <td>1776</td>\n",
       "    </tr>\n",
       "    <tr>\n",
       "      <th>93</th>\n",
       "      <td>iEC1</td>\n",
       "      <td>2779</td>\n",
       "      <td>345</td>\n",
       "      <td>456</td>\n",
       "      <td>154</td>\n",
       "      <td>1824</td>\n",
       "    </tr>\n",
       "    <tr>\n",
       "      <th>94</th>\n",
       "      <td>iEC</td>\n",
       "      <td>2780</td>\n",
       "      <td>391</td>\n",
       "      <td>470</td>\n",
       "      <td>140</td>\n",
       "      <td>1779</td>\n",
       "    </tr>\n",
       "    <tr>\n",
       "      <th>95</th>\n",
       "      <td>i</td>\n",
       "      <td>2782</td>\n",
       "      <td>391</td>\n",
       "      <td>470</td>\n",
       "      <td>140</td>\n",
       "      <td>1781</td>\n",
       "    </tr>\n",
       "    <tr>\n",
       "      <th>96</th>\n",
       "      <td>i</td>\n",
       "      <td>2782</td>\n",
       "      <td>391</td>\n",
       "      <td>470</td>\n",
       "      <td>140</td>\n",
       "      <td>1781</td>\n",
       "    </tr>\n",
       "    <tr>\n",
       "      <th>97</th>\n",
       "      <td></td>\n",
       "      <td>2927</td>\n",
       "      <td>381</td>\n",
       "      <td>482</td>\n",
       "      <td>185</td>\n",
       "      <td>1879</td>\n",
       "    </tr>\n",
       "    <tr>\n",
       "      <th>98</th>\n",
       "      <td></td>\n",
       "      <td>3741</td>\n",
       "      <td>430</td>\n",
       "      <td>820</td>\n",
       "      <td>85</td>\n",
       "      <td>2406</td>\n",
       "    </tr>\n",
       "    <tr>\n",
       "      <th>99</th>\n",
       "      <td>iCH</td>\n",
       "      <td>3942</td>\n",
       "      <td>587</td>\n",
       "      <td>889</td>\n",
       "      <td>90</td>\n",
       "      <td>2376</td>\n",
       "    </tr>\n",
       "    <tr>\n",
       "      <th>100</th>\n",
       "      <td>iLB10</td>\n",
       "      <td>4456</td>\n",
       "      <td>44</td>\n",
       "      <td>259</td>\n",
       "      <td>139</td>\n",
       "      <td>4014</td>\n",
       "    </tr>\n",
       "    <tr>\n",
       "      <th>101</th>\n",
       "      <td></td>\n",
       "      <td>6663</td>\n",
       "      <td>642</td>\n",
       "      <td>1113</td>\n",
       "      <td>310</td>\n",
       "      <td>4598</td>\n",
       "    </tr>\n",
       "    <tr>\n",
       "      <th>102</th>\n",
       "      <td></td>\n",
       "      <td>10600</td>\n",
       "      <td>1806</td>\n",
       "      <td>2020</td>\n",
       "      <td>267</td>\n",
       "      <td>6507</td>\n",
       "    </tr>\n",
       "  </tbody>\n",
       "</table>\n",
       "<p>103 rows × 6 columns</p>\n",
       "</div>"
      ],
      "text/plain": [
       "        model_id  num_total_reactions  num_bdry_reactions  \\\n",
       "0            e_c                   95                  20   \n",
       "1            iAB                  469                  99   \n",
       "2                                 519                  45   \n",
       "3      iIS312_Am                  519                  45   \n",
       "4    iIS312_Epim                  519                  45   \n",
       "..           ...                  ...                 ...   \n",
       "98                               3741                 430   \n",
       "99           iCH                 3942                 587   \n",
       "100        iLB10                 4456                  44   \n",
       "101                              6663                 642   \n",
       "102                             10600                1806   \n",
       "\n",
       "     num_uniuni_reactions  num_ummu_reactions  num_multimulti_reactions  \n",
       "0                      11                   6                        58  \n",
       "1                      63                  14                       293  \n",
       "2                     110                  23                       341  \n",
       "3                     110                  23                       341  \n",
       "4                     110                  23                       341  \n",
       "..                    ...                 ...                       ...  \n",
       "98                    820                  85                      2406  \n",
       "99                    889                  90                      2376  \n",
       "100                   259                 139                      4014  \n",
       "101                  1113                 310                      4598  \n",
       "102                  2020                 267                      6507  \n",
       "\n",
       "[103 rows x 6 columns]"
      ]
     },
     "execution_count": 16,
     "metadata": {},
     "output_type": "execute_result"
    }
   ],
   "source": [
    "MODEL_ID = \"model_id\"\n",
    "NUM_TOTAL_REACTIONS = \"num_total_reactions\"\n",
    "NUM_BDRY_REACTIONS = \"num_bdry_reactions\"\n",
    "NUM_UNIUNI_REACTIONS = \"num_uniuni_reactions\"\n",
    "NUM_UMMU_REACTIONS = \"num_ummu_reactions\"\n",
    "NUM_MULTIMULTI_REACTIONS = \"num_multimulti_reactions\"\n",
    "# Checking all models to calculate number of reactions per type \n",
    "count = 0\n",
    "simple = SimpleSBML()\n",
    "res_list = []\n",
    "false_errors = set()\n",
    "for file in bigg_df.index:\n",
    "  if file in EXCEPTIONS:\n",
    "    continue\n",
    "  num_uniuni = 0\n",
    "  num_ummu = 0\n",
    "  num_multimulti = 0\n",
    "  num_bdry = 0\n",
    "  count += 1\n",
    "  if (count%10)==0:\n",
    "    print(\"we are analyzing Model number:\", count)\n",
    "  simple.initialize(os.path.join(cn.BIGG_DIR, file+\".xml\"))\n",
    "  num_dic = {cn.REACTION_1_1: 0,\n",
    "             cn.REACTION_1_n: 0,\n",
    "             cn.REACTION_n_1: 0,\n",
    "             cn.REACTION_n_n: 0,\n",
    "             cn.REACTION_BOUNDARY: 0\n",
    "            }  \n",
    "  for reaction in simple.reactions:\n",
    "    for category in num_dic.keys():\n",
    "      if reaction.category == category:\n",
    "        num_dic[category] += 1\n",
    "  res_dic = dict({MODEL_ID: file[:-8],\n",
    "                  NUM_TOTAL_REACTIONS: len(simple.reactions),\n",
    "                  NUM_BDRY_REACTIONS: num_dic[cn.REACTION_BOUNDARY],\n",
    "                  NUM_UNIUNI_REACTIONS: num_dic[cn.REACTION_1_1],\n",
    "                  NUM_UMMU_REACTIONS: num_dic[cn.REACTION_1_n] + num_dic[cn.REACTION_n_1],\n",
    "                  NUM_MULTIMULTI_REACTIONS: num_dic[cn.REACTION_n_n]})\n",
    "  sum = res_dic[NUM_BDRY_REACTIONS] + res_dic[NUM_UNIUNI_REACTIONS] + res_dic[NUM_UMMU_REACTIONS] + res_dic[NUM_MULTIMULTI_REACTIONS]\n",
    "  if sum != res_dic[NUM_TOTAL_REACTIONS]:\n",
    "    print(\"Error! The sum doens't match with model %s\" % file)\n",
    "  res_list.append(res_dic)\n",
    "pd.DataFrame(res_list)"
   ]
  },
  {
   "cell_type": "code",
   "execution_count": 25,
   "metadata": {},
   "outputs": [
    {
     "data": {
      "text/plain": [
       "'reaction_1_1'"
      ]
     },
     "execution_count": 25,
     "metadata": {},
     "output_type": "execute_result"
    }
   ],
   "source": [
    "x = reaction_cat[0]\n",
    "cn.rea"
   ]
  },
  {
   "cell_type": "code",
   "execution_count": 41,
   "metadata": {},
   "outputs": [
    {
     "data": {
      "text/plain": [
       "num_uniuni_reactions        15.726071\n",
       "num_ummu_reactions           5.108687\n",
       "num_multimulti_reactions    66.041247\n",
       "dtype: float64"
      ]
     },
     "execution_count": 41,
     "metadata": {},
     "output_type": "execute_result"
    }
   ],
   "source": [
    "stats_df = pd.DataFrame(res_list)\n",
    "reaction_num_cat = [NUM_UNIUNI_REACTIONS,\n",
    "                    NUM_UMMU_REACTIONS,\n",
    "                    NUM_MULTIMULTI_REACTIONS\n",
    "]\n",
    "reaction_prop = [(stats_df[x]/stats_df[NUM_TOTAL_REACTIONS]).mean()*100\n",
    "                 for x in\n",
    "                 reaction_num_cat]\n",
    "bigg_reaction_prop = pd.Series(reaction_prop, index=reaction_num_cat)\n",
    "bigg_reaction_prop"
   ]
  },
  {
   "cell_type": "code",
   "execution_count": 18,
   "metadata": {},
   "outputs": [],
   "source": [
    "# LP method for bigg\n",
    "# if want to suppress warnings\n",
    "# import warnings\n",
    "# warnings.filterwarnings('ignore')\n",
    "\n",
    "import time\n",
    "lp_begin = time.time()\n",
    "data_dir=cn.BIGG_DIR\n",
    "bigg_files = [f for f in os.listdir(data_dir) if f[-4:] == \".xml\"]\n",
    "# simple = SimpleSBML()\n",
    "# count = 0\n",
    "# for f in bigg_df.index[:2]:\n",
    "#   print(\"Our model is: %s\" % f)\n",
    "#   count += 1\n",
    "#   fpath = os.path.join(cn.BIGG_DIR, f+\".xml\")\n",
    "#   simple.initialize(fpath)\n",
    "#   s = StoichiometryMatrix(simple)\n",
    "#   num_total_reactions = len(simple.reactions)\n",
    "#   num_nonbdry_reactions = s.stoichiometry_matrix.shape[1]\n",
    "#   print(\"number of total reactions: %d\" % num_total_reactions)\n",
    "#   print(\"number of total nonbdry: %d\" % num_nonbdry_reactions)\n",
    "#   consistent = s.isConsistent()\n",
    "#   if not consistent:\n",
    "#     print(\"%s is not consistent! Error detected\\n\" % f)\n",
    "#   else:\n",
    "#     print(\"%s is consistent\" % f)\n",
    "# lp_end=time.time()\n",
    "# print(\"Total LP time for %d models is %f\" % (count, lp_end - lp_begin))"
   ]
  },
  {
   "cell_type": "code",
   "execution_count": 19,
   "metadata": {},
   "outputs": [
    {
     "data": {
      "text/plain": [
       "['iCHOv1.xml',\n",
       " 'iYL1228.xml',\n",
       " 'iIS312.xml',\n",
       " 'iSDY_1059.xml',\n",
       " 'iEC1356_Bl21DE3.xml']"
      ]
     },
     "execution_count": 19,
     "metadata": {},
     "output_type": "execute_result"
    }
   ],
   "source": [
    "bigg_files[:5]"
   ]
  },
  {
   "cell_type": "code",
   "execution_count": 18,
   "metadata": {},
   "outputs": [
    {
     "data": {
      "text/plain": [
       "13.354275226593018"
      ]
     },
     "execution_count": 18,
     "metadata": {},
     "output_type": "execute_result"
    }
   ],
   "source": [
    "time.time() - lp_begin"
   ]
  }
 ],
 "metadata": {
  "kernelspec": {
   "display_name": "Python 3",
   "language": "python",
   "name": "python3"
  },
  "language_info": {
   "codemirror_mode": {
    "name": "ipython",
    "version": 3
   },
   "file_extension": ".py",
   "mimetype": "text/x-python",
   "name": "python",
   "nbconvert_exporter": "python",
   "pygments_lexer": "ipython3",
   "version": "3.6.10"
  }
 },
 "nbformat": 4,
 "nbformat_minor": 4
}
