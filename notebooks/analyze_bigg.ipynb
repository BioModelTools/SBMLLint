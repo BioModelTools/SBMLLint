{
 "cells": [
  {
   "cell_type": "code",
   "execution_count": 1,
   "metadata": {},
   "outputs": [],
   "source": [
    "# BiGG analysis - \n",
    "# before doing that need to do two things:\n",
    "# 1. finalize roundup: done\n",
    "# 2. test coverage for biomodels: \n",
    "# 3. \"Reaction Isolation Set\": done\n",
    "# 4. check (text) reporting threshold: ?\n",
    "# 5. change Report: done\n",
    "\n",
    "import init\n",
    "from SBMLLint.common import constants as cn\n",
    "from SBMLLint.common.molecule import Molecule, MoleculeStoichiometry\n",
    "from SBMLLint.common import simple_sbml\n",
    "from SBMLLint.common.reaction import Reaction\n",
    "from SBMLLint.tools import sbmllint\n",
    "from SBMLLint.tools import print_reactions\n",
    "\n",
    "import os\n",
    "import numpy as np\n",
    "import pandas as pd\n",
    "from pulp import *\n",
    "import matplotlib.pyplot as plt\n",
    "import time\n",
    "\n",
    "from scipy.linalg import lu, inv\n",
    "from scipy.optimize import linprog"
   ]
  },
  {
   "cell_type": "code",
   "execution_count": 2,
   "metadata": {},
   "outputs": [
    {
     "name": "stdout",
     "output_type": "stream",
     "text": [
      "Current Directory: /Users/woosubs/Desktop/ModelEngineering/SBMLLint/SBMLLint/notebooks\n"
     ]
    }
   ],
   "source": [
    "from games_setup import *\n",
    "from SBMLLint.common import constants as cn\n",
    "from SBMLLint.common.simple_sbml import SimpleSBML\n",
    "from SBMLLint.common.stoichiometry_matrix import StoichiometryMatrix\n",
    "\n",
    "from SBMLLint.games.som import SOM\n",
    "from SBMLLint.games.games_pp import GAMES_PP, SOMStoichiometry, SOMReaction, TOLERANCE\n",
    "from SBMLLint.games.games_report import GAMESReport, SimplifiedReaction"
   ]
  },
  {
   "cell_type": "code",
   "execution_count": 3,
   "metadata": {},
   "outputs": [
    {
     "data": {
      "text/plain": [
       "'/Users/woosubs/Desktop/ModelEngineering/SBMLLint/SBMLLint/notebooks'"
      ]
     },
     "execution_count": 3,
     "metadata": {},
     "output_type": "execute_result"
    }
   ],
   "source": [
    "os.getcwd()"
   ]
  },
  {
   "cell_type": "code",
   "execution_count": 4,
   "metadata": {},
   "outputs": [
    {
     "name": "stdout",
     "output_type": "stream",
     "text": [
      "number of BiGG models: 108\n"
     ]
    },
    {
     "data": {
      "text/plain": [
       "[{'bigg_id': 'e_coli_core',\n",
       "  'gene_count': 137,\n",
       "  'reaction_count': 95,\n",
       "  'organism': 'Escherichia coli str. K-12 substr. MG1655',\n",
       "  'metabolite_count': 72}]"
      ]
     },
     "execution_count": 4,
     "metadata": {},
     "output_type": "execute_result"
    }
   ],
   "source": [
    "# Load relevant bigg models\n",
    "# bigg constants\n",
    "BIGG_RESULTS = \"results\"\n",
    "BIGG_ID = \"bigg_id\"\n",
    "BIGG_GENECOUNT = \"gene_count\"\n",
    "BIGG_REACTION_COUNT = \"reaction_count\"\n",
    "BIGG_ORGANISM = \"organism\"\n",
    "BIGG_METABOLITE_COUNT = \"metabolite_count\"\n",
    "import requests\n",
    "res = requests.get('http://bigg.ucsd.edu/api/v2/models')\n",
    "bigg_models = res.json()[BIGG_RESULTS]\n",
    "bigg_ids = [bigg[BIGG_ID] for bigg in bigg_models]\n",
    "print(\"number of BiGG models: %d\" % len(bigg_models))\n",
    "bigg_models[:1]"
   ]
  },
  {
   "cell_type": "code",
   "execution_count": 5,
   "metadata": {},
   "outputs": [
    {
     "data": {
      "text/html": [
       "<div>\n",
       "<style scoped>\n",
       "    .dataframe tbody tr th:only-of-type {\n",
       "        vertical-align: middle;\n",
       "    }\n",
       "\n",
       "    .dataframe tbody tr th {\n",
       "        vertical-align: top;\n",
       "    }\n",
       "\n",
       "    .dataframe thead th {\n",
       "        text-align: right;\n",
       "    }\n",
       "</style>\n",
       "<table border=\"1\" class=\"dataframe\">\n",
       "  <thead>\n",
       "    <tr style=\"text-align: right;\">\n",
       "      <th></th>\n",
       "      <th>gene_count</th>\n",
       "      <th>reaction_count</th>\n",
       "      <th>organism</th>\n",
       "      <th>metabolite_count</th>\n",
       "    </tr>\n",
       "    <tr>\n",
       "      <th>bigg_id</th>\n",
       "      <th></th>\n",
       "      <th></th>\n",
       "      <th></th>\n",
       "      <th></th>\n",
       "    </tr>\n",
       "  </thead>\n",
       "  <tbody>\n",
       "    <tr>\n",
       "      <th>RECON1</th>\n",
       "      <td>1905</td>\n",
       "      <td>3741</td>\n",
       "      <td>Homo sapiens</td>\n",
       "      <td>2766</td>\n",
       "    </tr>\n",
       "    <tr>\n",
       "      <th>iCHOv1_DG44</th>\n",
       "      <td>1184</td>\n",
       "      <td>3942</td>\n",
       "      <td>Cricetulus griseus</td>\n",
       "      <td>2751</td>\n",
       "    </tr>\n",
       "    <tr>\n",
       "      <th>iLB1027_lipid</th>\n",
       "      <td>1027</td>\n",
       "      <td>4456</td>\n",
       "      <td>Phaeodactylum tricornutum CCAP 1055/1</td>\n",
       "      <td>2172</td>\n",
       "    </tr>\n",
       "    <tr>\n",
       "      <th>iCHOv1</th>\n",
       "      <td>1766</td>\n",
       "      <td>6663</td>\n",
       "      <td>Cricetulus griseus</td>\n",
       "      <td>4456</td>\n",
       "    </tr>\n",
       "    <tr>\n",
       "      <th>Recon3D</th>\n",
       "      <td>2248</td>\n",
       "      <td>10600</td>\n",
       "      <td>Homo sapiens</td>\n",
       "      <td>5835</td>\n",
       "    </tr>\n",
       "  </tbody>\n",
       "</table>\n",
       "</div>"
      ],
      "text/plain": [
       "               gene_count  reaction_count  \\\n",
       "bigg_id                                     \n",
       "RECON1               1905            3741   \n",
       "iCHOv1_DG44          1184            3942   \n",
       "iLB1027_lipid        1027            4456   \n",
       "iCHOv1               1766            6663   \n",
       "Recon3D              2248           10600   \n",
       "\n",
       "                                            organism  metabolite_count  \n",
       "bigg_id                                                                 \n",
       "RECON1                                  Homo sapiens              2766  \n",
       "iCHOv1_DG44                       Cricetulus griseus              2751  \n",
       "iLB1027_lipid  Phaeodactylum tricornutum CCAP 1055/1              2172  \n",
       "iCHOv1                            Cricetulus griseus              4456  \n",
       "Recon3D                                 Homo sapiens              5835  "
      ]
     },
     "execution_count": 5,
     "metadata": {},
     "output_type": "execute_result"
    }
   ],
   "source": [
    "bigg_df = pd.DataFrame(bigg_models).set_index(BIGG_ID)\n",
    "bigg_df.sort_values(by=BIGG_REACTION_COUNT, \n",
    "                    inplace=True)\n",
    "bigg_df.tail(5)"
   ]
  },
  {
   "cell_type": "code",
   "execution_count": 6,
   "metadata": {},
   "outputs": [
    {
     "name": "stdout",
     "output_type": "stream",
     "text": [
      "------------------------------------------------------\n",
      "gene_count                                  709\n",
      "reaction_count                             1015\n",
      "organism            Acinetobacter baumannii AYE\n",
      "metabolite_count                            888\n",
      "Name: iCN718, dtype: object\n",
      "------------------------------------------------------\n",
      "gene_count                           1343\n",
      "reaction_count                       2765\n",
      "organism            Escherichia coli IAI1\n",
      "metabolite_count                     1968\n",
      "Name: iECIAI1_1343, dtype: object\n",
      "------------------------------------------------------\n",
      "gene_count                                           1027\n",
      "reaction_count                                       4456\n",
      "organism            Phaeodactylum tricornutum CCAP 1055/1\n",
      "metabolite_count                                     2172\n",
      "Name: iLB1027_lipid, dtype: object\n",
      "------------------------------------------------------\n",
      "gene_count                        1766\n",
      "reaction_count                    6663\n",
      "organism            Cricetulus griseus\n",
      "metabolite_count                  4456\n",
      "Name: iCHOv1, dtype: object\n",
      "------------------------------------------------------\n",
      "gene_count                  2248\n",
      "reaction_count             10600\n",
      "organism            Homo sapiens\n",
      "metabolite_count            5835\n",
      "Name: Recon3D, dtype: object\n",
      "------------------------------------------------------\n"
     ]
    }
   ],
   "source": [
    "# define four bigg models depending on size\n",
    "MODEL_1000 = \"iCN718.xml\"\n",
    "MODEL_3000 = \"iECIAI1_1343.xml\"\n",
    "MODEL_4000 = \"iLB1027_lipid.xml\"\n",
    "MODEL_6000 = \"iCHOv1.xml\"\n",
    "MODEL_10000 = \"Recon3D.xml\"\n",
    "FOUR_BIGG = [MODEL_1000, MODEL_3000, MODEL_4000, MODEL_6000, MODEL_10000]\n",
    "print(\"------------------------------------------------------\")\n",
    "for bigg in FOUR_BIGG:\n",
    "  print(bigg_df.loc[bigg[:-4]])\n",
    "  print(\"------------------------------------------------------\")"
   ]
  },
  {
   "cell_type": "code",
   "execution_count": 7,
   "metadata": {},
   "outputs": [],
   "source": [
    "# use Recon3D\n",
    "# SAMPLE_MODEL = FOUR_BIGG[3]\n",
    "# fpath = os.path.join(cn.BIGG_DIR, SAMPLE_MODEL)\n",
    "# simple = SimpleSBML()\n",
    "# simple.initialize(fpath)"
   ]
  },
  {
   "cell_type": "code",
   "execution_count": 8,
   "metadata": {},
   "outputs": [],
   "source": [
    "def solveMILP(mat):\n",
    "  prob = LpProblem(\"Finding_Unconserved_Metabolites\", LpMaximize)\n",
    "  species = list(mat.index)\n",
    "  species_inclusion = pulp.LpVariable.dicts(\"species\", species, cat=\"Binary\")\n",
    "  species_mass = pulp.LpVariable.dicts(\"mass\", species, cat=\"Continuous\")\n",
    "  # objective function (to maximize the number of species)\n",
    "  prob += lpSum([species_inclusion[i] for i in species])\n",
    "  # constraint 1 (for each reaction, the sum(stoichiometry[i]*mass[i])=0)\n",
    "  for reaction in mat.columns:\n",
    "    prob += lpSum(sum([mat[reaction][species]*species_mass[species] for species in species_inclusion])) == 0\n",
    "  # constraint 2 (species_inclusion is less than or equal to mass of each species)\n",
    "  for species in species_mass.keys():\n",
    "    prob += species_inclusion[species] <= species_mass[species]\n",
    "  prob.solve()\n",
    "  return prob\n",
    "def getUnconservedMetabolites(milp_result):\n",
    "  unconserved_metabolites = []\n",
    "  for v in milp_result.variables():\n",
    "    if v.varValue==0:\n",
    "      if v.name[:7]==\"species\":\n",
    "        unconserved_metabolites.append(v.name[8:])\n",
    "  return unconserved_metabolites"
   ]
  },
  {
   "cell_type": "code",
   "execution_count": 9,
   "metadata": {},
   "outputs": [],
   "source": [
    "# milp_start = time.time()\n",
    "# s = StoichiometryMatrix(simple)\n",
    "# milp_result = solveMILP(s.stoichiometry_matrix)\n",
    "# unconserved_metabolites = getUnconservedMetabolites(milp_result)\n",
    "# milp_end = time.time()\n",
    "# milp_time = milp_end - milp_start\n",
    "# print(\"MILP time: %f\" % milp_time)"
   ]
  },
  {
   "cell_type": "code",
   "execution_count": null,
   "metadata": {},
   "outputs": [],
   "source": []
  },
  {
   "cell_type": "code",
   "execution_count": 10,
   "metadata": {},
   "outputs": [],
   "source": [
    "def analyzeBIGG(model_file):\n",
    "  simple = SimpleSBML()\n",
    "  simple.initialize(os.path.join(cn.BIGG_DIR, model_file))\n",
    "  print(\"Model: %s\" % model_file)\n",
    "  xgames_start = time.time()\n",
    "  m = GAMES_PP(simple)\n",
    "  res = m.analyze(simple_games=False, error_details=False, suppress_message=True)\n",
    "  xgames_end = time.time()\n",
    "  xgames_time = xgames_end - xgames_start\n",
    "  print(\"xGAMES time: %f\" % xgames_time)\n",
    "  if res:\n",
    "    print(\"xGAMES found an error!\")\n",
    "  else:\n",
    "    print(\"xGAMES didn't find an error!\")\n",
    "  lp_start = time.time()\n",
    "  s = StoichiometryMatrix(simple)\n",
    "  lp_res = s.isConsistent()\n",
    "  lp_end = time.time()\n",
    "  lp_time = lp_end - lp_start\n",
    "  print(\"LP time: %f\" % lp_time)\n",
    "  if s.result.status!=0:\n",
    "    print(\"LP found an error!\")\n",
    "  milp_start = time.time()\n",
    "  milp_result = solveMILP(s.stoichiometry_matrix)\n",
    "  unconserved_metabolites = getUnconservedMetabolites(milp_result)\n",
    "  milp_end = time.time()\n",
    "  milp_time = milp_end - milp_start\n",
    "  print(\"MILP time: %f\" % milp_time)\n",
    "  return m, s, milp_result, unconserved_metabolites"
   ]
  },
  {
   "cell_type": "code",
   "execution_count": 11,
   "metadata": {},
   "outputs": [],
   "source": [
    "def analyzeByGAMES(model_file):\n",
    "  simple = SimpleSBML()\n",
    "  simple.initialize(os.path.join(cn.BIGG_DIR, model_file))\n",
    "  print(\"Model: %s\" % model_file)\n",
    "  xgames_start = time.time()\n",
    "  m = GAMES_PP(simple)\n",
    "  res = m.analyze(simple_games=False, error_details=False, suppress_message=True)\n",
    "  xgames_end = time.time()\n",
    "  xgames_time = xgames_end - xgames_start\n",
    "  print(\"xGAMES time: %f\" % xgames_time)\n",
    "  if res:\n",
    "    print(\"xGAMES found an error!\")\n",
    "  else:\n",
    "    print(\"xGAMES didn't find an error!\")\n",
    "  return m, xgames_time"
   ]
  },
  {
   "cell_type": "code",
   "execution_count": 12,
   "metadata": {},
   "outputs": [],
   "source": [
    "def getISS(m_games):\n",
    "  result = []\n",
    "  gr = GAMESReport(m_games)\n",
    "  operation_df = gr.getOperationMatrix()\n",
    "  if m_games.echelon_errors:\n",
    "    for reaction in m_games.echelon_errors:\n",
    "      operation_series = operation_df.T[reaction.label]\n",
    "      result.append(len(operation_series.to_numpy().nonzero()[0]))\n",
    "  if m_games.type_three_errors:\n",
    "    for reaction in m_games.echelon_errors:\n",
    "      operation_series = operation_df.T[reaction.label]\n",
    "      result.append(len(operation_series.to_numpy().nonzero()[0]))\n",
    "  print(result)\n",
    "  return(result)"
   ]
  },
  {
   "cell_type": "code",
   "execution_count": 14,
   "metadata": {},
   "outputs": [],
   "source": [
    "# m1_1000.echelon_errors"
   ]
  },
  {
   "cell_type": "code",
   "execution_count": 15,
   "metadata": {},
   "outputs": [],
   "source": [
    "# er = m2_1000.echelon_errors[0]\n",
    "# gr = GAMESReport(m2_1000)\n",
    "# operation_df = gr.getOperationMatrix()\n",
    "# sere = operation_df.T[er.label]\n",
    "# len(sere.to_numpy().nonzero()[0])"
   ]
  },
  {
   "cell_type": "code",
   "execution_count": 16,
   "metadata": {},
   "outputs": [
    {
     "name": "stdout",
     "output_type": "stream",
     "text": [
      "Model: iCN718.xml\n",
      "xGAMES time: 99.683036\n",
      "xGAMES found an error!\n",
      "Model: iCN718.xml\n",
      "xGAMES time: 55.920234\n",
      "xGAMES found an error!\n",
      "Model: iCN718.xml\n",
      "xGAMES time: 97.075783\n",
      "xGAMES found an error!\n"
     ]
    }
   ],
   "source": [
    "m1_1000, time1_1000 = analyzeByGAMES(MODEL_1000)\n",
    "m2_1000, time2_1000 = analyzeByGAMES(MODEL_1000)\n",
    "m3_1000, time3_1000 = analyzeByGAMES(MODEL_1000)"
   ]
  },
  {
   "cell_type": "code",
   "execution_count": 17,
   "metadata": {},
   "outputs": [
    {
     "data": {
      "text/plain": [
       "'average games time for 1000-reaction model: 84.23'"
      ]
     },
     "execution_count": 17,
     "metadata": {},
     "output_type": "execute_result"
    }
   ],
   "source": [
    "ave_1000_time = (time1_1000 + time2_1000 + time3_1000)/3\n",
    "\"average games time for 1000-reaction model: %.02f\" % ave_1000_time"
   ]
  },
  {
   "cell_type": "code",
   "execution_count": 18,
   "metadata": {},
   "outputs": [
    {
     "name": "stdout",
     "output_type": "stream",
     "text": [
      "[160, 164, 176, 170, 189, 164, 294, 159, 294, 158, 164, 281, 221, 281, 197, 230, 219, 215, 215, 217, 194, 194, 191, 188, 181, 166, 167, 167, 167, 167, 172, 166, 163, 163, 160, 162, 162, 163, 162, 158, 141, 151, 153, 138, 150, 151, 145, 104, 110, 103, 160, 164, 176, 170, 189, 164, 294, 159, 294, 158, 164, 281, 221, 281, 197, 230, 219, 215, 215, 217, 194, 194, 191, 188, 181, 166, 167, 167, 167, 167, 172, 166, 163, 163, 160, 162, 162, 163, 162, 158, 141, 151, 153, 138, 150, 151, 145, 104, 110, 103]\n",
      "[111, 113]\n",
      "[113, 234, 125, 100, 238, 125, 138, 121, 106, 137, 124, 125, 138, 236, 125, 200, 238, 121, 235, 237, 233, 224, 121, 223, 199, 199, 201, 199, 138, 138, 138, 121, 136, 138, 126, 130, 125, 126, 124, 124, 124, 123, 123, 124, 125, 123, 114, 99, 116, 120, 106, 113, 113, 100, 99, 89, 93, 93, 92, 92, 85, 82, 113, 234, 125, 100, 238, 125, 138, 121, 106, 137, 124, 125, 138, 236, 125, 200, 238, 121, 235, 237, 233, 224, 121, 223, 199, 199, 201, 199, 138, 138, 138, 121, 136, 138, 126, 130, 125, 126, 124, 124, 124, 123, 123, 124, 125, 123, 114, 99, 116, 120, 106, 113, 113, 100, 99, 89, 93, 93, 92, 92, 85, 82]\n"
     ]
    }
   ],
   "source": [
    "m1_1000_ris = getISS(m1_1000)\n",
    "m2_1000_ris = getISS(m2_1000)\n",
    "m3_1000_ris = getISS(m3_1000)\n",
    "#calculate mean of each run, and mean of all three"
   ]
  },
  {
   "cell_type": "code",
   "execution_count": 28,
   "metadata": {},
   "outputs": [
    {
     "data": {
      "text/plain": [
       "143.76602150537633"
      ]
     },
     "execution_count": 28,
     "metadata": {},
     "output_type": "execute_result"
    }
   ],
   "source": [
    "(np.mean(m1_1000_ris) + np.mean(m2_1000_ris) + np.mean(m3_1000_ris))/3"
   ]
  },
  {
   "cell_type": "code",
   "execution_count": 30,
   "metadata": {},
   "outputs": [
    {
     "data": {
      "text/plain": [
       "75.33333333333333"
      ]
     },
     "execution_count": 30,
     "metadata": {},
     "output_type": "execute_result"
    }
   ],
   "source": [
    "(len(m1_1000_ris) + len(m2_1000_ris) + len(m3_1000_ris)) / 3"
   ]
  },
  {
   "cell_type": "code",
   "execution_count": 65,
   "metadata": {},
   "outputs": [
    {
     "data": {
      "text/plain": [
       "[ErrorSummary(type='echelon', errors=[R_ASPO1:  -> 3.07 {M_2obut_c=M_2obut_e} + 1.55 {M_2mcit_c=M_micit_c} + 2.32 {M_ara5p_c=M_r1p_c=M_r5p_c=M_ru5p__D_c=M_xu5p__D_c=M_xyl__D_c=M_xyl__D_e} + 0.59 {M_2hyoxplac_c=M_34dhpha_c} + 7.31 {M_no2_c=M_no2_e}, R_AIRC1:  -> 0.01 {M_2obut_c=M_2obut_e} + 0.00 {M_2mcit_c=M_micit_c} + 0.01 {M_no2_c=M_no2_e}, R_FUMt2r:  -> 0.00 {M_2obut_c=M_2obut_e} + 0.00 {M_no2_c=M_no2_e}, R_ACLSb:  -> 0.00 {M_2obut_c=M_2obut_e} + 0.00 {M_ara5p_c=M_r1p_c=M_r5p_c=M_ru5p__D_c=M_xu5p__D_c=M_xyl__D_c=M_xyl__D_e} + 0.00 {M_no2_c=M_no2_e}])]"
      ]
     },
     "execution_count": 65,
     "metadata": {},
     "output_type": "execute_result"
    }
   ],
   "source": [
    "m2_1000.error_summary"
   ]
  },
  {
   "cell_type": "code",
   "execution_count": null,
   "metadata": {},
   "outputs": [],
   "source": []
  },
  {
   "cell_type": "code",
   "execution_count": 20,
   "metadata": {},
   "outputs": [
    {
     "name": "stdout",
     "output_type": "stream",
     "text": [
      "Model: iECIAI1_1343.xml\n",
      "xGAMES time: 864.426708\n",
      "xGAMES found an error!\n",
      "Model: iECIAI1_1343.xml\n",
      "xGAMES time: 889.898211\n",
      "xGAMES found an error!\n",
      "Model: iECIAI1_1343.xml\n",
      "xGAMES time: 838.926634\n",
      "xGAMES found an error!\n"
     ]
    }
   ],
   "source": [
    "m1_3000, time1_3000 = analyzeByGAMES(MODEL_3000)\n",
    "m2_3000, time2_3000 = analyzeByGAMES(MODEL_3000)\n",
    "m3_3000, time3_3000 = analyzeByGAMES(MODEL_3000)"
   ]
  },
  {
   "cell_type": "code",
   "execution_count": 31,
   "metadata": {},
   "outputs": [
    {
     "data": {
      "text/plain": [
       "'average games time for 1000-reaction model: 864.42'"
      ]
     },
     "execution_count": 31,
     "metadata": {},
     "output_type": "execute_result"
    }
   ],
   "source": [
    "ave_3000_time = (time1_3000 + time2_3000 + time3_3000)/3\n",
    "\"average games time for 1000-reaction model: %.02f\" % ave_3000_time"
   ]
  },
  {
   "cell_type": "code",
   "execution_count": 23,
   "metadata": {},
   "outputs": [
    {
     "name": "stdout",
     "output_type": "stream",
     "text": [
      "[505, 505, 517, 483, 505, 484, 507, 506, 503, 506, 443, 500, 501, 510, 501, 505, 484, 514, 370, 501, 506, 501, 483, 497, 500, 498, 502, 443, 502, 500, 502, 501, 501, 497, 499, 498, 485, 500, 501, 500, 499, 500, 501, 461, 499, 503, 503, 502, 501, 502, 499, 500, 500, 499, 504, 503, 502, 500, 501, 500, 502, 498, 501, 497, 497, 499, 499, 501, 500, 498, 498, 499, 500, 497, 497, 497, 501, 512, 500, 499, 497, 497, 490, 489, 483, 488, 483, 476, 484, 484, 488, 484, 461, 482, 478, 463, 464, 460, 461, 460, 460, 461, 461, 466, 465, 459, 463, 464, 462, 460, 461, 458, 458, 458, 458, 458, 458, 457, 454, 462, 457, 458, 454, 452, 448, 449, 450, 447, 450, 452, 449, 450, 451, 450, 449, 444, 444, 447, 442, 444, 445, 446, 447, 445, 443, 443, 442, 444, 447, 444, 445, 445, 431, 429, 428, 419, 409, 406, 402, 397, 397, 393, 391, 386, 385, 387, 387, 385, 386, 383, 377, 369, 371, 369, 366, 361, 356, 353, 341, 339, 505, 505, 517, 483, 505, 484, 507, 506, 503, 506, 443, 500, 501, 510, 501, 505, 484, 514, 370, 501, 506, 501, 483, 497, 500, 498, 502, 443, 502, 500, 502, 501, 501, 497, 499, 498, 485, 500, 501, 500, 499, 500, 501, 461, 499, 503, 503, 502, 501, 502, 499, 500, 500, 499, 504, 503, 502, 500, 501, 500, 502, 498, 501, 497, 497, 499, 499, 501, 500, 498, 498, 499, 500, 497, 497, 497, 501, 512, 500, 499, 497, 497, 490, 489, 483, 488, 483, 476, 484, 484, 488, 484, 461, 482, 478, 463, 464, 460, 461, 460, 460, 461, 461, 466, 465, 459, 463, 464, 462, 460, 461, 458, 458, 458, 458, 458, 458, 457, 454, 462, 457, 458, 454, 452, 448, 449, 450, 447, 450, 452, 449, 450, 451, 450, 449, 444, 444, 447, 442, 444, 445, 446, 447, 445, 443, 443, 442, 444, 447, 444, 445, 445, 431, 429, 428, 419, 409, 406, 402, 397, 397, 393, 391, 386, 385, 387, 387, 385, 386, 383, 377, 369, 371, 369, 366, 361, 356, 353, 341, 339]\n",
      "[441, 583, 569, 559, 502, 513, 574, 562, 574, 514, 482, 574, 441, 518, 432, 534, 557, 545, 560, 559, 557, 558, 558, 555, 543, 558, 556, 555, 553, 551, 554, 549, 546, 543, 544, 537, 531, 529, 529, 530, 528, 527, 531, 530, 526, 522, 517, 517, 515, 516, 515, 514, 514, 515, 522, 520, 515, 519, 520, 514, 515, 511, 512, 511, 511, 505, 505, 503, 501, 516, 516, 502, 501, 501, 504, 490, 491, 489, 488, 487, 487, 484, 482, 480, 487, 485, 486, 480, 481, 482, 477, 479, 479, 481, 482, 477, 482, 478, 480, 474, 477, 476, 483, 473, 474, 480, 479, 478, 471, 484, 464, 466, 463, 461, 454, 448, 455, 448, 446, 445, 430, 446, 446, 438, 438, 445, 437, 432, 427, 424, 426, 421, 419, 416, 406, 402, 441, 583, 569, 559, 502, 513, 574, 562, 574, 514, 482, 574, 441, 518, 432, 534, 557, 545, 560, 559, 557, 558, 558, 555, 543, 558, 556, 555, 553, 551, 554, 549, 546, 543, 544, 537, 531, 529, 529, 530, 528, 527, 531, 530, 526, 522, 517, 517, 515, 516, 515, 514, 514, 515, 522, 520, 515, 519, 520, 514, 515, 511, 512, 511, 511, 505, 505, 503, 501, 516, 516, 502, 501, 501, 504, 490, 491, 489, 488, 487, 487, 484, 482, 480, 487, 485, 486, 480, 481, 482, 477, 479, 479, 481, 482, 477, 482, 478, 480, 474, 477, 476, 483, 473, 474, 480, 479, 478, 471, 484, 464, 466, 463, 461, 454, 448, 455, 448, 446, 445, 430, 446, 446, 438, 438, 445, 437, 432, 427, 424, 426, 421, 419, 416, 406, 402]\n",
      "[468, 408, 494, 409, 409, 402, 408, 409, 490, 357, 507, 505, 283, 405, 514, 299, 509, 502, 502, 487, 451, 498, 495, 458, 490, 468, 467, 467, 468, 474, 457, 413, 413, 416, 416, 406, 407, 403, 403, 402, 402, 402, 403, 401, 399, 395, 398, 394, 395, 395, 395, 393, 391, 391, 388, 379, 380, 379, 378, 372, 374, 373, 362, 372, 359, 370, 370, 368, 351, 361, 352, 350, 341, 330, 339, 338, 337, 331, 336, 348, 337, 336, 334, 341, 327, 328, 325, 322, 314, 309, 309, 302, 300, 299, 298, 294, 294, 301, 296, 294, 288, 282, 276, 275, 272, 269, 266, 468, 408, 494, 409, 409, 402, 408, 409, 490, 357, 507, 505, 283, 405, 514, 299, 509, 502, 502, 487, 451, 498, 495, 458, 490, 468, 467, 467, 468, 474, 457, 413, 413, 416, 416, 406, 407, 403, 403, 402, 402, 402, 403, 401, 399, 395, 398, 394, 395, 395, 395, 393, 391, 391, 388, 379, 380, 379, 378, 372, 374, 373, 362, 372, 359, 370, 370, 368, 351, 361, 352, 350, 341, 330, 339, 338, 337, 331, 336, 348, 337, 336, 334, 341, 327, 328, 325, 322, 314, 309, 309, 302, 300, 299, 298, 294, 294, 301, 296, 294, 288, 282, 276, 275, 272, 269, 266]\n"
     ]
    },
    {
     "data": {
      "text/plain": [
       "487.16949891067543"
      ]
     },
     "execution_count": 23,
     "metadata": {},
     "output_type": "execute_result"
    }
   ],
   "source": [
    "m1_3000_ris = getISS(m1_3000)\n",
    "m2_3000_ris = getISS(m2_3000)\n",
    "m3_3000_ris = getISS(m3_3000)\n",
    "(np.mean(m1_3000_ris) + np.mean(m2_3000_ris) + np.mean(m2_3000_ris))/3"
   ]
  },
  {
   "cell_type": "code",
   "execution_count": 32,
   "metadata": {},
   "outputs": [
    {
     "data": {
      "text/plain": [
       "282.0"
      ]
     },
     "execution_count": 32,
     "metadata": {},
     "output_type": "execute_result"
    }
   ],
   "source": [
    "(len(m1_3000_ris) + len(m2_3000_ris) + len(m3_3000_ris)) / 3"
   ]
  },
  {
   "cell_type": "code",
   "execution_count": null,
   "metadata": {},
   "outputs": [],
   "source": []
  },
  {
   "cell_type": "code",
   "execution_count": 21,
   "metadata": {},
   "outputs": [
    {
     "name": "stdout",
     "output_type": "stream",
     "text": [
      "Model: iLB1027_lipid.xml\n",
      "xGAMES time: 1646.834592\n",
      "xGAMES didn't find an error!\n",
      "Model: iLB1027_lipid.xml\n",
      "xGAMES time: 1653.936392\n",
      "xGAMES didn't find an error!\n",
      "Model: iLB1027_lipid.xml\n",
      "xGAMES time: 1661.339419\n",
      "xGAMES didn't find an error!\n"
     ]
    }
   ],
   "source": [
    "# m1_4000, time1_4000 = analyzeByGAMES(MODEL_4000)\n",
    "# m2_4000, time2_4000 = analyzeByGAMES(MODEL_4000)\n",
    "# m3_4000, time3_4000 = analyzeByGAMES(MODEL_4000)"
   ]
  },
  {
   "cell_type": "code",
   "execution_count": null,
   "metadata": {},
   "outputs": [],
   "source": []
  },
  {
   "cell_type": "code",
   "execution_count": null,
   "metadata": {},
   "outputs": [],
   "source": []
  },
  {
   "cell_type": "code",
   "execution_count": null,
   "metadata": {},
   "outputs": [],
   "source": []
  },
  {
   "cell_type": "code",
   "execution_count": null,
   "metadata": {},
   "outputs": [],
   "source": []
  },
  {
   "cell_type": "code",
   "execution_count": null,
   "metadata": {},
   "outputs": [],
   "source": []
  },
  {
   "cell_type": "code",
   "execution_count": 24,
   "metadata": {},
   "outputs": [
    {
     "name": "stdout",
     "output_type": "stream",
     "text": [
      "Model: iCHOv1.xml\n",
      "xGAMES time: 10228.406311\n",
      "xGAMES found an error!\n"
     ]
    }
   ],
   "source": [
    "m1_6000, time1_6000 = analyzeByGAMES(MODEL_6000)"
   ]
  },
  {
   "cell_type": "code",
   "execution_count": 25,
   "metadata": {},
   "outputs": [
    {
     "name": "stdout",
     "output_type": "stream",
     "text": [
      "Model: iCHOv1.xml\n",
      "xGAMES time: 10203.272835\n",
      "xGAMES found an error!\n"
     ]
    }
   ],
   "source": [
    "m2_6000, time2_6000 = analyzeByGAMES(MODEL_6000)"
   ]
  },
  {
   "cell_type": "code",
   "execution_count": 26,
   "metadata": {},
   "outputs": [
    {
     "name": "stdout",
     "output_type": "stream",
     "text": [
      "Model: iCHOv1.xml\n",
      "xGAMES time: 10777.770320\n",
      "xGAMES found an error!\n"
     ]
    }
   ],
   "source": [
    "m3_6000, time3_6000 = analyzeByGAMES(MODEL_6000)"
   ]
  },
  {
   "cell_type": "code",
   "execution_count": 27,
   "metadata": {},
   "outputs": [],
   "source": [
    "# m4_6000, time4_6000 = analyzeByGAMES(MODEL_6000)"
   ]
  },
  {
   "cell_type": "code",
   "execution_count": 33,
   "metadata": {},
   "outputs": [
    {
     "data": {
      "text/plain": [
       "'average games time for 1000-reaction model: 10403.15'"
      ]
     },
     "execution_count": 33,
     "metadata": {},
     "output_type": "execute_result"
    }
   ],
   "source": [
    "ave_6000_time = (time1_6000 + time2_6000 + time3_6000)/3\n",
    "\"average games time for 1000-reaction model: %.02f\" % ave_6000_time"
   ]
  },
  {
   "cell_type": "code",
   "execution_count": 86,
   "metadata": {},
   "outputs": [
    {
     "data": {
      "text/plain": [
       "'average games time for 1000-reaction model: 9206.54'"
      ]
     },
     "execution_count": 86,
     "metadata": {},
     "output_type": "execute_result"
    }
   ],
   "source": [
    "# ave_6000_time = (10206.073371 + 7281.181085 + 10132.363248)/3\n",
    "# \"average games time for 1000-reaction model: %.02f\" % ave_6000_time"
   ]
  },
  {
   "cell_type": "code",
   "execution_count": 35,
   "metadata": {},
   "outputs": [
    {
     "name": "stdout",
     "output_type": "stream",
     "text": [
      "[476, 513, 512, 578, 514, 513, 510, 510, 485, 427, 401, 485, 644, 483, 620, 483, 437, 510, 487, 429, 557, 441, 551, 546, 535, 528, 521, 519, 520, 514, 514, 509, 510, 510, 509, 509, 509, 510, 508, 508, 508, 502, 489, 483, 483, 483, 476, 480, 480, 481, 477, 476, 476, 476, 468, 464, 457, 457, 452, 447, 444, 447, 441, 442, 447, 443, 441, 442, 441, 436, 430, 427, 426, 426, 416, 407, 406, 400, 400, 400, 400, 399]\n",
      "[375, 482, 515, 535, 514, 507, 437, 496, 558, 439, 438, 380, 438, 561, 559, 559, 550, 537, 537, 534, 535, 534, 538, 533, 509, 509, 509, 509, 508, 507, 507, 508, 512, 512, 503, 498, 496, 496, 496, 498, 492, 492, 488, 488, 489, 488, 481, 481, 482, 483, 472, 474, 469, 469, 442, 443, 442, 438, 438, 439, 438, 437, 436, 435, 431, 435, 407, 385, 379, 379, 379]\n",
      "[550, 517, 548, 544, 544, 513, 505, 529, 465, 542, 333, 407, 542, 545, 542, 503, 541, 467, 407, 542, 533, 542, 519, 515, 405, 545, 552, 523, 524, 515, 545, 405, 535, 406, 534, 514, 544, 522, 366, 516, 516, 547, 405, 546, 400, 405, 539, 459, 534, 538, 536, 541, 538, 531, 541, 518, 540, 534, 533, 533, 561, 565, 531, 528, 531, 528, 522, 527, 526, 524, 522, 533, 513, 514, 520, 511, 511, 511, 511, 517, 511, 511, 502, 502, 502, 502, 502, 500, 501, 502, 497, 498, 486, 484, 482, 483, 481, 481, 474, 469, 469, 469, 467, 466, 460, 459, 465, 463, 457, 457, 448, 410, 407, 405, 408, 405, 407, 403, 402, 403, 403, 403, 403, 399, 399, 405, 399, 399, 392, 390, 382, 380, 369, 370, 369, 368, 365, 365, 366, 365, 365, 365, 366, 365, 360, 360, 353, 345, 342, 337, 332, 332, 332, 550, 517, 548, 544, 544, 513, 505, 529, 465, 542, 333, 407, 542, 545, 542, 503, 541, 467, 407, 542, 533, 542, 519, 515, 405, 545, 552, 523, 524, 515, 545, 405, 535, 406, 534, 514, 544, 522, 366, 516, 516, 547, 405, 546, 400, 405, 539, 459, 534, 538, 536, 541, 538, 531, 541, 518, 540, 534, 533, 533, 561, 565, 531, 528, 531, 528, 522, 527, 526, 524, 522, 533, 513, 514, 520, 511, 511, 511, 511, 517, 511, 511, 502, 502, 502, 502, 502, 500, 501, 502, 497, 498, 486, 484, 482, 483, 481, 481, 474, 469, 469, 469, 467, 466, 460, 459, 465, 463, 457, 457, 448, 410, 407, 405, 408, 405, 407, 403, 402, 403, 403, 403, 403, 399, 399, 405, 399, 399, 392, 390, 382, 380, 369, 370, 369, 368, 365, 365, 366, 365, 365, 365, 366, 365, 360, 360, 353, 345, 342, 337, 332, 332, 332]\n"
     ]
    },
    {
     "data": {
      "text/plain": [
       "475.8008496806868"
      ]
     },
     "execution_count": 35,
     "metadata": {},
     "output_type": "execute_result"
    }
   ],
   "source": [
    "m1_6000_ris = getISS(m1_6000)\n",
    "m2_6000_ris = getISS(m2_6000)\n",
    "m3_6000_ris = getISS(m3_6000)\n",
    "(np.mean(m1_6000_ris) + np.mean(m2_6000_ris) + np.mean(m3_6000_ris))/3"
   ]
  },
  {
   "cell_type": "code",
   "execution_count": 36,
   "metadata": {},
   "outputs": [
    {
     "data": {
      "text/plain": [
       "153.0"
      ]
     },
     "execution_count": 36,
     "metadata": {},
     "output_type": "execute_result"
    }
   ],
   "source": [
    "(len(m1_6000_ris) + len(m2_6000_ris) + len(m3_6000_ris)) / 3"
   ]
  },
  {
   "cell_type": "code",
   "execution_count": 13,
   "metadata": {},
   "outputs": [
    {
     "name": "stdout",
     "output_type": "stream",
     "text": [
      "Model: iCN718.xml\n",
      "xGAMES time: 55.211241\n",
      "xGAMES found an error!\n"
     ]
    }
   ],
   "source": [
    "# games_1000 = analyzeByGAMES(MODEL_1000)"
   ]
  },
  {
   "cell_type": "code",
   "execution_count": 37,
   "metadata": {},
   "outputs": [
    {
     "name": "stdout",
     "output_type": "stream",
     "text": [
      "[ErrorSummary(type='echelon', errors=[R_MTHFC_1: {M_h_c} -> , R_DNADDP:  -> 0.47 {M_2obut_c=M_2obut_e} + 0.06 {M_2mcit_c=M_micit_c}, R_ASPO6:  -> 0.35 {M_2mcit_c=M_micit_c}])]\n"
     ]
    }
   ],
   "source": [
    "# print(games_1000.error_summary)"
   ]
  },
  {
   "cell_type": "code",
   "execution_count": 97,
   "metadata": {},
   "outputs": [],
   "source": [
    "# gr_1000 = GAMESReport(games_1000)"
   ]
  },
  {
   "cell_type": "code",
   "execution_count": 98,
   "metadata": {},
   "outputs": [
    {
     "name": "stdout",
     "output_type": "stream",
     "text": [
      "\n",
      "We detected a mass imbalance\n",
      ": M_h_c -> \n",
      "\n",
      "from the following reaction isolation set.\n",
      "\n",
      "1. R_MTHFC: M_h2o_c + M_methf_c -> M_10fthf_c + M_h_c\n",
      "2. R_MTHFC_1: M_h2o_c + M_methf_c -> M_10fthf_c\n",
      "\n",
      "----------------------------------------------------------------------\n",
      "----------------------------------------------------------------------\n",
      "\n",
      "These uni-uni reactions created mass-equivalence.\n",
      "(The chemical species within a curly bracket have the same atomic mass.)\n",
      "\n",
      "{M_h2o_c=M_h2o_e} is inferred by:\n",
      "3. R_H2Ot: M_h2o_e -> M_h2o_c\n",
      "\n",
      "----------------------------------------------------------------------\n",
      "\n",
      "Based on the uni-uni reactions above, we create mass-equivalent pseudo reactions.\n",
      "\n",
      "(pseudo 1.) R_MTHFC: {M_methf_c} + {M_h2o_c=M_h2o_e} -> {M_10fthf_c} + {M_h_c}\n",
      "(pseudo 2.) R_MTHFC_1: {M_methf_c} + {M_h2o_c=M_h2o_e} -> {M_10fthf_c}\n",
      "\n",
      "----------------------------------------------------------------------\n",
      "\n",
      "An operation between the pseudo reactions:\n",
      "-1.00 * R_MTHFC + 1.00 * R_MTHFC_1\n",
      "\n",
      "will result in empty product with zero mass:\n",
      "\n",
      ": {M_h_c} -> \n",
      "\n",
      "\n",
      "----------------------------------------------------------------------\n",
      "\n",
      "----------------------------------------------------------------------\n",
      "\n",
      "\n",
      "\n",
      "**********************************************************************\n",
      "\n",
      "\n"
     ]
    }
   ],
   "source": [
    "# print(gr_1000.reportEchelonError([games_1000.echelon_errors[0]], explain_details=True)[0])"
   ]
  },
  {
   "cell_type": "code",
   "execution_count": 17,
   "metadata": {},
   "outputs": [
    {
     "data": {
      "text/plain": [
       "R_TRILIP: M_tg160_c -> M_12dgr160_c + 0.04 M_bhdodec_c + 0.01 M_decacid_c + 0.05 M_dodecacid_c + 0.02 M_hepadecacid_c + 0.02 M_hepedecacid_c + 0.28 M_hexadecacid_c + 0.19 M_hexedecacid_c + 0.01 M_octadecacid_c + 0.38 M_octedecacid_c + 0.00 M_pendecacid_c + 0.00 M_tetdecacid_c"
      ]
     },
     "execution_count": 17,
     "metadata": {},
     "output_type": "execute_result"
    }
   ],
   "source": [
    "# simple = SimpleSBML()\n",
    "# simple.initialize(os.path.join(cn.BIGG_DIR, MODEL_1000))\n",
    "# simple.getReaction(\"R_TRILIP\")"
   ]
  },
  {
   "cell_type": "code",
   "execution_count": 19,
   "metadata": {},
   "outputs": [
    {
     "data": {
      "text/plain": [
       "R_BIWLIP: M_coa_c + M_tg160_c -> M_12dgr160_c + 0.04 M_bhdodec_c + 0.01 M_decacid_c + 0.05 M_dodecacid_c + 0.02 M_hepadecacid_c + 0.02 M_hepedecacid_c + 0.28 M_hexadecacid_c + 0.19 M_hexedecacid_c + 0.01 M_octadecacid_c + 0.38 M_octedecacid_c + 0.00 M_pendecacid_c + 0.00 M_tetdecacid_c"
      ]
     },
     "execution_count": 19,
     "metadata": {},
     "output_type": "execute_result"
    }
   ],
   "source": [
    "# simple.getReaction(\"R_BIWLIP\")"
   ]
  },
  {
   "cell_type": "code",
   "execution_count": null,
   "metadata": {},
   "outputs": [],
   "source": []
  },
  {
   "cell_type": "code",
   "execution_count": null,
   "metadata": {},
   "outputs": [],
   "source": []
  },
  {
   "cell_type": "code",
   "execution_count": null,
   "metadata": {},
   "outputs": [],
   "source": []
  },
  {
   "cell_type": "code",
   "execution_count": 99,
   "metadata": {},
   "outputs": [
    {
     "name": "stdout",
     "output_type": "stream",
     "text": [
      "Model: Recon3D.xml\n",
      "xGAMES time: 23622.311754\n",
      "xGAMES didn't find an error!\n"
     ]
    }
   ],
   "source": [
    "# games_10000, time_10000 = analyzeByGAMES(MODEL_10000)"
   ]
  },
  {
   "cell_type": "code",
   "execution_count": 100,
   "metadata": {},
   "outputs": [
    {
     "name": "stdout",
     "output_type": "stream",
     "text": [
      "[]\n"
     ]
    },
    {
     "data": {
      "text/plain": [
       "nan"
      ]
     },
     "execution_count": 100,
     "metadata": {},
     "output_type": "execute_result"
    }
   ],
   "source": [
    "# m_10000_ris = getISS(games_10000)\n",
    "# np.mean(m_10000_ris)"
   ]
  },
  {
   "cell_type": "code",
   "execution_count": null,
   "metadata": {},
   "outputs": [],
   "source": []
  },
  {
   "cell_type": "code",
   "execution_count": null,
   "metadata": {},
   "outputs": [],
   "source": []
  },
  {
   "cell_type": "code",
   "execution_count": 21,
   "metadata": {},
   "outputs": [
    {
     "name": "stdout",
     "output_type": "stream",
     "text": [
      "Model: iCN718.xml\n",
      "xGAMES time: 108.660436\n",
      "xGAMES found an error!\n"
     ]
    },
    {
     "name": "stderr",
     "output_type": "stream",
     "text": [
      "//anaconda3/envs/sbml_env/lib/python3.6/site-packages/scipy/optimize/_linprog_util.py:763: OptimizeWarning: A_eq does not appear to be of full row rank. To improve performance, check the problem formulation for redundant equality constraints.\n",
      "  warn(redundancy_warning, OptimizeWarning)\n"
     ]
    },
    {
     "name": "stdout",
     "output_type": "stream",
     "text": [
      "LP time: 2.030797\n",
      "LP found an error!\n",
      "MILP time: 23.239786\n"
     ]
    }
   ],
   "source": [
    "m_1000, s_1000, milp_result_1000, unconserved_metabolites_1000 = analyzeBIGG(MODEL_1000)"
   ]
  },
  {
   "cell_type": "code",
   "execution_count": null,
   "metadata": {},
   "outputs": [],
   "source": []
  },
  {
   "cell_type": "code",
   "execution_count": 61,
   "metadata": {},
   "outputs": [
    {
     "name": "stdout",
     "output_type": "stream",
     "text": [
      "Model: iLB1027_lipid.xml\n",
      "xGAMES time: 1626.331340\n",
      "xGAMES found an error!\n",
      "LP time: 272.211592\n",
      "LP found an error!\n",
      "MILP time: 285.884376\n"
     ]
    }
   ],
   "source": [
    "m_4000, s_4000, milp_result_4000, unconserved_metabolites_4000 = analyzeBIGG(MODEL_4000)"
   ]
  },
  {
   "cell_type": "code",
   "execution_count": 62,
   "metadata": {},
   "outputs": [
    {
     "name": "stdout",
     "output_type": "stream",
     "text": [
      "Model: iCHOv1.xml\n",
      "xGAMES time: 7200.678418\n",
      "xGAMES found an error!\n",
      "LP time: 759.267629\n",
      "LP found an error!\n",
      "MILP time: 796.065499\n"
     ]
    }
   ],
   "source": [
    "m_6000, s_6000, milp_result_6000, unconserved_metabolites_6000 = analyzeBIGG(MODEL_6000)"
   ]
  },
  {
   "cell_type": "code",
   "execution_count": 68,
   "metadata": {},
   "outputs": [
    {
     "data": {
      "text/plain": [
       "2370"
      ]
     },
     "execution_count": 68,
     "metadata": {},
     "output_type": "execute_result"
    }
   ],
   "source": [
    "len(unconserved_metabolites_6000)"
   ]
  },
  {
   "cell_type": "code",
   "execution_count": 71,
   "metadata": {},
   "outputs": [
    {
     "name": "stdout",
     "output_type": "stream",
     "text": [
      "2\n",
      "2\n"
     ]
    }
   ],
   "source": [
    "print(s_4000.result.status)\n",
    "print(s_6000.result.status)"
   ]
  },
  {
   "cell_type": "code",
   "execution_count": 184,
   "metadata": {},
   "outputs": [
    {
     "data": {
      "text/plain": [
       "'/usr/ilog/cplex/bin/x86_rhel4.0_3.4/libcplex110.so'"
      ]
     },
     "execution_count": 184,
     "metadata": {},
     "output_type": "execute_result"
    }
   ],
   "source": [
    "pulp.cplex_dll_path"
   ]
  },
  {
   "cell_type": "code",
   "execution_count": null,
   "metadata": {},
   "outputs": [],
   "source": []
  },
  {
   "cell_type": "code",
   "execution_count": null,
   "metadata": {},
   "outputs": [],
   "source": []
  }
 ],
 "metadata": {
  "kernelspec": {
   "display_name": "Python 3",
   "language": "python",
   "name": "python3"
  },
  "language_info": {
   "codemirror_mode": {
    "name": "ipython",
    "version": 3
   },
   "file_extension": ".py",
   "mimetype": "text/x-python",
   "name": "python",
   "nbconvert_exporter": "python",
   "pygments_lexer": "ipython3",
   "version": "3.6.10"
  }
 },
 "nbformat": 4,
 "nbformat_minor": 4
}
