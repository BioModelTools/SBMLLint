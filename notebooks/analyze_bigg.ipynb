{
 "cells": [
  {
   "cell_type": "code",
   "execution_count": 1,
   "metadata": {},
   "outputs": [],
   "source": [
    "# BiGG analysis - \n",
    "# before doing that need to do two things:\n",
    "# 1. finalize roundup\n",
    "# 2. test coverage for biomodels\n",
    "# 3. \"Reaction Isolation Set\"\n",
    "# 4. check (text) reporting threshold\n",
    "# 5. change Report\n",
    "\n",
    "import init\n",
    "from SBMLLint.common import constants as cn\n",
    "from SBMLLint.common.molecule import Molecule, MoleculeStoichiometry\n",
    "from SBMLLint.common import simple_sbml\n",
    "from SBMLLint.common.reaction import Reaction\n",
    "from SBMLLint.tools import sbmllint\n",
    "from SBMLLint.tools import print_reactions\n",
    "\n",
    "import os\n",
    "import numpy as np\n",
    "import pandas as pd\n",
    "from pulp import *\n",
    "import matplotlib.pyplot as plt\n",
    "import time\n",
    "\n",
    "from scipy.linalg import lu, inv\n",
    "from scipy.optimize import linprog"
   ]
  },
  {
   "cell_type": "code",
   "execution_count": 2,
   "metadata": {},
   "outputs": [
    {
     "name": "stdout",
     "output_type": "stream",
     "text": [
      "Current Directory: /Users/woosubs/Desktop/ModelEngineering/SBMLLint/SBMLLint/notebooks\n"
     ]
    }
   ],
   "source": [
    "from games_setup import *\n",
    "from SBMLLint.common import constants as cn\n",
    "from SBMLLint.common.simple_sbml import SimpleSBML\n",
    "from SBMLLint.common.stoichiometry_matrix import StoichiometryMatrix\n",
    "\n",
    "from SBMLLint.games.som import SOM\n",
    "from SBMLLint.games.games_pp import GAMES_PP, SOMStoichiometry, SOMReaction, TOLERANCE\n",
    "from SBMLLint.games.games_report import GAMESReport, SimplifiedReaction"
   ]
  },
  {
   "cell_type": "code",
   "execution_count": 3,
   "metadata": {},
   "outputs": [
    {
     "data": {
      "text/plain": [
       "'/Users/woosubs/Desktop/ModelEngineering/SBMLLint/SBMLLint/notebooks'"
      ]
     },
     "execution_count": 3,
     "metadata": {},
     "output_type": "execute_result"
    }
   ],
   "source": [
    "os.getcwd()"
   ]
  },
  {
   "cell_type": "code",
   "execution_count": 4,
   "metadata": {},
   "outputs": [
    {
     "name": "stdout",
     "output_type": "stream",
     "text": [
      "number of BiGG models: 108\n"
     ]
    },
    {
     "data": {
      "text/plain": [
       "[{'bigg_id': 'e_coli_core',\n",
       "  'gene_count': 137,\n",
       "  'reaction_count': 95,\n",
       "  'organism': 'Escherichia coli str. K-12 substr. MG1655',\n",
       "  'metabolite_count': 72}]"
      ]
     },
     "execution_count": 4,
     "metadata": {},
     "output_type": "execute_result"
    }
   ],
   "source": [
    "# Load relevant bigg models\n",
    "# bigg constants\n",
    "BIGG_RESULTS = \"results\"\n",
    "BIGG_ID = \"bigg_id\"\n",
    "BIGG_GENECOUNT = \"gene_count\"\n",
    "BIGG_REACTION_COUNT = \"reaction_count\"\n",
    "BIGG_ORGANISM = \"organism\"\n",
    "BIGG_METABOLITE_COUNT = \"metabolite_count\"\n",
    "import requests\n",
    "res = requests.get('http://bigg.ucsd.edu/api/v2/models')\n",
    "bigg_models = res.json()[BIGG_RESULTS]\n",
    "bigg_ids = [bigg[BIGG_ID] for bigg in bigg_models]\n",
    "print(\"number of BiGG models: %d\" % len(bigg_models))\n",
    "bigg_models[:1]"
   ]
  },
  {
   "cell_type": "code",
   "execution_count": 5,
   "metadata": {},
   "outputs": [
    {
     "data": {
      "text/html": [
       "<div>\n",
       "<style scoped>\n",
       "    .dataframe tbody tr th:only-of-type {\n",
       "        vertical-align: middle;\n",
       "    }\n",
       "\n",
       "    .dataframe tbody tr th {\n",
       "        vertical-align: top;\n",
       "    }\n",
       "\n",
       "    .dataframe thead th {\n",
       "        text-align: right;\n",
       "    }\n",
       "</style>\n",
       "<table border=\"1\" class=\"dataframe\">\n",
       "  <thead>\n",
       "    <tr style=\"text-align: right;\">\n",
       "      <th></th>\n",
       "      <th>gene_count</th>\n",
       "      <th>reaction_count</th>\n",
       "      <th>organism</th>\n",
       "      <th>metabolite_count</th>\n",
       "    </tr>\n",
       "    <tr>\n",
       "      <th>bigg_id</th>\n",
       "      <th></th>\n",
       "      <th></th>\n",
       "      <th></th>\n",
       "      <th></th>\n",
       "    </tr>\n",
       "  </thead>\n",
       "  <tbody>\n",
       "    <tr>\n",
       "      <th>iECW_1372</th>\n",
       "      <td>1372</td>\n",
       "      <td>2782</td>\n",
       "      <td>Escherichia coli W</td>\n",
       "      <td>1973</td>\n",
       "    </tr>\n",
       "    <tr>\n",
       "      <th>iWFL_1372</th>\n",
       "      <td>1372</td>\n",
       "      <td>2782</td>\n",
       "      <td>Escherichia coli W</td>\n",
       "      <td>1973</td>\n",
       "    </tr>\n",
       "    <tr>\n",
       "      <th>iJN1463</th>\n",
       "      <td>1462</td>\n",
       "      <td>2927</td>\n",
       "      <td>Pseudomonas putida KT2440</td>\n",
       "      <td>2153</td>\n",
       "    </tr>\n",
       "    <tr>\n",
       "      <th>iYS1720</th>\n",
       "      <td>1707</td>\n",
       "      <td>3357</td>\n",
       "      <td>Salmonella pan-reactome</td>\n",
       "      <td>2436</td>\n",
       "    </tr>\n",
       "    <tr>\n",
       "      <th>iMM1415</th>\n",
       "      <td>1375</td>\n",
       "      <td>3726</td>\n",
       "      <td>Mus musculus</td>\n",
       "      <td>2775</td>\n",
       "    </tr>\n",
       "    <tr>\n",
       "      <th>RECON1</th>\n",
       "      <td>1905</td>\n",
       "      <td>3741</td>\n",
       "      <td>Homo sapiens</td>\n",
       "      <td>2766</td>\n",
       "    </tr>\n",
       "    <tr>\n",
       "      <th>iCHOv1_DG44</th>\n",
       "      <td>1184</td>\n",
       "      <td>3942</td>\n",
       "      <td>Cricetulus griseus</td>\n",
       "      <td>2751</td>\n",
       "    </tr>\n",
       "    <tr>\n",
       "      <th>iLB1027_lipid</th>\n",
       "      <td>1027</td>\n",
       "      <td>4456</td>\n",
       "      <td>Phaeodactylum tricornutum CCAP 1055/1</td>\n",
       "      <td>2172</td>\n",
       "    </tr>\n",
       "    <tr>\n",
       "      <th>iCHOv1</th>\n",
       "      <td>1766</td>\n",
       "      <td>6663</td>\n",
       "      <td>Cricetulus griseus</td>\n",
       "      <td>4456</td>\n",
       "    </tr>\n",
       "    <tr>\n",
       "      <th>Recon3D</th>\n",
       "      <td>2248</td>\n",
       "      <td>10600</td>\n",
       "      <td>Homo sapiens</td>\n",
       "      <td>5835</td>\n",
       "    </tr>\n",
       "  </tbody>\n",
       "</table>\n",
       "</div>"
      ],
      "text/plain": [
       "               gene_count  reaction_count  \\\n",
       "bigg_id                                     \n",
       "iECW_1372            1372            2782   \n",
       "iWFL_1372            1372            2782   \n",
       "iJN1463              1462            2927   \n",
       "iYS1720              1707            3357   \n",
       "iMM1415              1375            3726   \n",
       "RECON1               1905            3741   \n",
       "iCHOv1_DG44          1184            3942   \n",
       "iLB1027_lipid        1027            4456   \n",
       "iCHOv1               1766            6663   \n",
       "Recon3D              2248           10600   \n",
       "\n",
       "                                            organism  metabolite_count  \n",
       "bigg_id                                                                 \n",
       "iECW_1372                         Escherichia coli W              1973  \n",
       "iWFL_1372                         Escherichia coli W              1973  \n",
       "iJN1463                    Pseudomonas putida KT2440              2153  \n",
       "iYS1720                      Salmonella pan-reactome              2436  \n",
       "iMM1415                                 Mus musculus              2775  \n",
       "RECON1                                  Homo sapiens              2766  \n",
       "iCHOv1_DG44                       Cricetulus griseus              2751  \n",
       "iLB1027_lipid  Phaeodactylum tricornutum CCAP 1055/1              2172  \n",
       "iCHOv1                            Cricetulus griseus              4456  \n",
       "Recon3D                                 Homo sapiens              5835  "
      ]
     },
     "execution_count": 5,
     "metadata": {},
     "output_type": "execute_result"
    }
   ],
   "source": [
    "bigg_df = pd.DataFrame(bigg_models).set_index(BIGG_ID)\n",
    "bigg_df.sort_values(by=BIGG_REACTION_COUNT, \n",
    "                    inplace=True)\n",
    "bigg_df.tail(10)"
   ]
  },
  {
   "cell_type": "code",
   "execution_count": 6,
   "metadata": {},
   "outputs": [
    {
     "name": "stdout",
     "output_type": "stream",
     "text": [
      "------------------------------------------------------\n",
      "gene_count                                  709\n",
      "reaction_count                             1015\n",
      "organism            Acinetobacter baumannii AYE\n",
      "metabolite_count                            888\n",
      "Name: iCN718, dtype: object\n",
      "------------------------------------------------------\n",
      "gene_count                                           1027\n",
      "reaction_count                                       4456\n",
      "organism            Phaeodactylum tricornutum CCAP 1055/1\n",
      "metabolite_count                                     2172\n",
      "Name: iLB1027_lipid, dtype: object\n",
      "------------------------------------------------------\n",
      "gene_count                        1766\n",
      "reaction_count                    6663\n",
      "organism            Cricetulus griseus\n",
      "metabolite_count                  4456\n",
      "Name: iCHOv1, dtype: object\n",
      "------------------------------------------------------\n",
      "gene_count                  2248\n",
      "reaction_count             10600\n",
      "organism            Homo sapiens\n",
      "metabolite_count            5835\n",
      "Name: Recon3D, dtype: object\n",
      "------------------------------------------------------\n"
     ]
    }
   ],
   "source": [
    "# define four bigg models depending on size\n",
    "MODEL_1000 = \"iCN718.xml\"\n",
    "MODEL_4000 = \"iLB1027_lipid.xml\"\n",
    "MODEL_6000 = \"iCHOv1.xml\"\n",
    "MODEL_10000 = \"Recon3D.xml\"\n",
    "FOUR_BIGG = [MODEL_1000, MODEL_4000, MODEL_6000, MODEL_10000]\n",
    "print(\"------------------------------------------------------\")\n",
    "for bigg in FOUR_BIGG:\n",
    "  print(bigg_df.loc[bigg[:-4]])\n",
    "  print(\"------------------------------------------------------\")"
   ]
  },
  {
   "cell_type": "code",
   "execution_count": 7,
   "metadata": {},
   "outputs": [],
   "source": [
    "# use Recon3D\n",
    "# SAMPLE_MODEL = FOUR_BIGG[3]\n",
    "# fpath = os.path.join(cn.BIGG_DIR, SAMPLE_MODEL)\n",
    "# simple = SimpleSBML()\n",
    "# simple.initialize(fpath)"
   ]
  },
  {
   "cell_type": "code",
   "execution_count": 8,
   "metadata": {},
   "outputs": [],
   "source": [
    "def solveMILP(mat):\n",
    "  prob = LpProblem(\"Finding_Unconserved_Metabolites\", LpMaximize)\n",
    "  species = list(mat.index)\n",
    "  species_inclusion = pulp.LpVariable.dicts(\"species\", species, cat=\"Binary\")\n",
    "  species_mass = pulp.LpVariable.dicts(\"mass\", species, cat=\"Continuous\")\n",
    "  # objective function (to maximize the number of species)\n",
    "  prob += lpSum([species_inclusion[i] for i in species])\n",
    "  # constraint 1 (for each reaction, the sum(stoichiometry[i]*mass[i])=0)\n",
    "  for reaction in mat.columns:\n",
    "    prob += lpSum(sum([mat[reaction][species]*species_mass[species] for species in species_inclusion])) == 0\n",
    "  # constraint 2 (species_inclusion is less than or equal to mass of each species)\n",
    "  for species in species_mass.keys():\n",
    "    prob += species_inclusion[species] <= species_mass[species]\n",
    "  prob.solve()\n",
    "  return prob\n",
    "def getUnconservedMetabolites(milp_result):\n",
    "  unconserved_metabolites = []\n",
    "  for v in milp_result.variables():\n",
    "    if v.varValue==0:\n",
    "      if v.name[:7]==\"species\":\n",
    "        unconserved_metabolites.append(v.name[8:])\n",
    "  return unconserved_metabolites"
   ]
  },
  {
   "cell_type": "code",
   "execution_count": 9,
   "metadata": {},
   "outputs": [],
   "source": [
    "# milp_start = time.time()\n",
    "# s = StoichiometryMatrix(simple)\n",
    "# milp_result = solveMILP(s.stoichiometry_matrix)\n",
    "# unconserved_metabolites = getUnconservedMetabolites(milp_result)\n",
    "# milp_end = time.time()\n",
    "# milp_time = milp_end - milp_start\n",
    "# print(\"MILP time: %f\" % milp_time)"
   ]
  },
  {
   "cell_type": "code",
   "execution_count": null,
   "metadata": {},
   "outputs": [],
   "source": []
  },
  {
   "cell_type": "code",
   "execution_count": 10,
   "metadata": {},
   "outputs": [],
   "source": [
    "def analyzeBIGG(model_file):\n",
    "  simple = SimpleSBML()\n",
    "  simple.initialize(os.path.join(cn.BIGG_DIR, model_file))\n",
    "  print(\"Model: %s\" % model_file)\n",
    "  xgames_start = time.time()\n",
    "  m = GAMES_PP(simple)\n",
    "  res = m.analyze(simple_games=False, error_details=False, suppress_message=True)\n",
    "  xgames_end = time.time()\n",
    "  xgames_time = xgames_end - xgames_start\n",
    "  print(\"xGAMES time: %f\" % xgames_time)\n",
    "  if res:\n",
    "    print(\"xGAMES found an error!\")\n",
    "  else:\n",
    "    print(\"xGAMES didn't find an error!\")\n",
    "  lp_start = time.time()\n",
    "  s = StoichiometryMatrix(simple)\n",
    "  lp_res = s.isConsistent()\n",
    "  lp_end = time.time()\n",
    "  lp_time = lp_end - lp_start\n",
    "  print(\"LP time: %f\" % lp_time)\n",
    "  if s.result.status!=0:\n",
    "    print(\"LP found an error!\")\n",
    "  milp_start = time.time()\n",
    "  milp_result = solveMILP(s.stoichiometry_matrix)\n",
    "  unconserved_metabolites = getUnconservedMetabolites(milp_result)\n",
    "  milp_end = time.time()\n",
    "  milp_time = milp_end - milp_start\n",
    "  print(\"MILP time: %f\" % milp_time)\n",
    "  return m, s, milp_result, unconserved_metabolites"
   ]
  },
  {
   "cell_type": "code",
   "execution_count": 11,
   "metadata": {},
   "outputs": [],
   "source": [
    "def analyzeByGAMES(model_file):\n",
    "  simple = SimpleSBML()\n",
    "  simple.initialize(os.path.join(cn.BIGG_DIR, model_file))\n",
    "  print(\"Model: %s\" % model_file)\n",
    "  xgames_start = time.time()\n",
    "  m = GAMES_PP(simple)\n",
    "  res = m.analyze(simple_games=False, error_details=False, suppress_message=True)\n",
    "  xgames_end = time.time()\n",
    "  xgames_time = xgames_end - xgames_start\n",
    "  print(\"xGAMES time: %f\" % xgames_time)\n",
    "  if res:\n",
    "    print(\"xGAMES found an error!\")\n",
    "  else:\n",
    "    print(\"xGAMES didn't find an error!\")\n",
    "  lp_start = time.time()\n",
    "  return m"
   ]
  },
  {
   "cell_type": "code",
   "execution_count": null,
   "metadata": {},
   "outputs": [],
   "source": []
  },
  {
   "cell_type": "code",
   "execution_count": 12,
   "metadata": {},
   "outputs": [
    {
     "name": "stdout",
     "output_type": "stream",
     "text": [
      "Model: iCN718.xml\n",
      "xGAMES time: 56.937363\n",
      "xGAMES found an error!\n"
     ]
    }
   ],
   "source": [
    "games_1000 = analyzeByGAMES(MODEL_1000)"
   ]
  },
  {
   "cell_type": "code",
   "execution_count": 13,
   "metadata": {},
   "outputs": [
    {
     "name": "stdout",
     "output_type": "stream",
     "text": [
      "[ErrorSummary(type='echelon', errors=[R_BIWLIP: {M_coa_c} -> , R_GLYO1:  -> 0.60 {M_no2_c=M_no2_e}, R_NADH10: 0.41 {M_no2_c=M_no2_e} -> ])]\n"
     ]
    }
   ],
   "source": [
    "print(games_1000.error_summary)"
   ]
  },
  {
   "cell_type": "code",
   "execution_count": 14,
   "metadata": {},
   "outputs": [],
   "source": [
    "gr_1000 = GAMESReport(games_1000)"
   ]
  },
  {
   "cell_type": "code",
   "execution_count": 22,
   "metadata": {},
   "outputs": [
    {
     "name": "stdout",
     "output_type": "stream",
     "text": [
      "\n",
      "We detected a mass imbalance\n",
      ": M_coa_c -> \n",
      "\n",
      "from the following isolation set.\n",
      "\n",
      "1. R_TRILIP: M_tg160_c -> M_12dgr160_c + 0.04 M_bhdodec_c + 0.01 M_decacid_c + 0.05 M_dodecacid_c + 0.02 M_hepadecacid_c + 0.02 M_hepedecacid_c + 0.28 M_hexadecacid_c + 0.19 M_hexedecacid_c + 0.01 M_octadecacid_c + 0.38 M_octedecacid_c + 0.00 M_pendecacid_c + 0.00 M_tetdecacid_c\n",
      "2. R_BIWLIP: M_coa_c + M_tg160_c -> M_12dgr160_c + 0.04 M_bhdodec_c + 0.01 M_decacid_c + 0.05 M_dodecacid_c + 0.02 M_hepadecacid_c + 0.02 M_hepedecacid_c + 0.28 M_hexadecacid_c + 0.19 M_hexedecacid_c + 0.01 M_octadecacid_c + 0.38 M_octedecacid_c + 0.00 M_pendecacid_c + 0.00 M_tetdecacid_c\n",
      "\n",
      "----------------------------------------------------------------------\n",
      "----------------------------------------------------------------------\n",
      "\n",
      "These uni-uni reactions created mass-equivalence.\n",
      "(The chemical species within a curly bracket have the same atomic mass.)\n",
      "\n",
      "----------------------------------------------------------------------\n",
      "\n",
      "Based on the uni-uni reactions above, we create mass-equivalent pseudo reactions.\n",
      "\n",
      "(pseudo 1.) R_TRILIP: {M_tg160_c} -> 0.28 {M_hexadecacid_c} + 0.02 {M_hepadecacid_c} + 0.38 {M_octedecacid_c} + 0.01 {M_decacid_c} + 0.00 {M_pendecacid_c} + 0.19 {M_hexedecacid_c} + {M_12dgr160_c} + 0.00 {M_tetdecacid_c} + 0.05 {M_dodecacid_c} + 0.02 {M_hepedecacid_c} + 0.04 {M_bhdodec_c} + 0.01 {M_octadecacid_c}\n",
      "(pseudo 2.) R_BIWLIP: {M_coa_c} + {M_tg160_c} -> 0.28 {M_hexadecacid_c} + 0.02 {M_hepadecacid_c} + 0.38 {M_octedecacid_c} + 0.01 {M_decacid_c} + 0.00 {M_pendecacid_c} + 0.19 {M_hexedecacid_c} + {M_12dgr160_c} + 0.00 {M_tetdecacid_c} + 0.05 {M_dodecacid_c} + 0.02 {M_hepedecacid_c} + 0.04 {M_bhdodec_c} + 0.01 {M_octadecacid_c}\n",
      "\n",
      "----------------------------------------------------------------------\n",
      "\n",
      "An operation between the pseudo reactions:\n",
      "-1.00 * R_TRILIP + 1.00 * R_BIWLIP\n",
      "\n",
      "will result in empty product with zero mass:\n",
      "\n",
      ": {M_coa_c} -> \n",
      "\n",
      "\n",
      "----------------------------------------------------------------------\n",
      "\n",
      "----------------------------------------------------------------------\n",
      "\n",
      "\n",
      "\n",
      "**********************************************************************\n",
      "\n",
      "\n"
     ]
    }
   ],
   "source": [
    "print(gr_1000.reportEchelonError([games_1000.echelon_errors[0]], explain_details=True)[0])"
   ]
  },
  {
   "cell_type": "code",
   "execution_count": 18,
   "metadata": {},
   "outputs": [
    {
     "data": {
      "text/plain": [
       "R_TRILIP: M_tg160_c -> M_12dgr160_c + 0.04 M_bhdodec_c + 0.01 M_decacid_c + 0.05 M_dodecacid_c + 0.02 M_hepadecacid_c + 0.02 M_hepedecacid_c + 0.28 M_hexadecacid_c + 0.19 M_hexedecacid_c + 0.01 M_octadecacid_c + 0.38 M_octedecacid_c + 0.00 M_pendecacid_c + 0.00 M_tetdecacid_c"
      ]
     },
     "execution_count": 18,
     "metadata": {},
     "output_type": "execute_result"
    }
   ],
   "source": [
    "simple = SimpleSBML()\n",
    "simple.initialize(os.path.join(cn.BIGG_DIR, MODEL_1000))\n",
    "simple.getReaction(\"R_TRILIP\")"
   ]
  },
  {
   "cell_type": "code",
   "execution_count": 19,
   "metadata": {},
   "outputs": [
    {
     "data": {
      "text/plain": [
       "R_BIWLIP: M_coa_c + M_tg160_c -> M_12dgr160_c + 0.04 M_bhdodec_c + 0.01 M_decacid_c + 0.05 M_dodecacid_c + 0.02 M_hepadecacid_c + 0.02 M_hepedecacid_c + 0.28 M_hexadecacid_c + 0.19 M_hexedecacid_c + 0.01 M_octadecacid_c + 0.38 M_octedecacid_c + 0.00 M_pendecacid_c + 0.00 M_tetdecacid_c"
      ]
     },
     "execution_count": 19,
     "metadata": {},
     "output_type": "execute_result"
    }
   ],
   "source": [
    "simple.getReaction(\"R_BIWLIP\")"
   ]
  },
  {
   "cell_type": "code",
   "execution_count": null,
   "metadata": {},
   "outputs": [],
   "source": []
  },
  {
   "cell_type": "code",
   "execution_count": null,
   "metadata": {},
   "outputs": [],
   "source": []
  },
  {
   "cell_type": "code",
   "execution_count": null,
   "metadata": {},
   "outputs": [],
   "source": []
  },
  {
   "cell_type": "code",
   "execution_count": 61,
   "metadata": {},
   "outputs": [
    {
     "name": "stdout",
     "output_type": "stream",
     "text": [
      "False\n",
      "False\n",
      "False\n",
      "False\n",
      "False\n",
      "False\n",
      "False\n",
      "False\n",
      "False\n",
      "False\n"
     ]
    }
   ],
   "source": [
    "limit_repeat = 0\n",
    "found_error = False\n",
    "while (found_error is False) and (limit_repeat<20):\n",
    "  limit_repeat += 1\n",
    "\n",
    "#   games_1000 = analyzeByGAMES(MODEL_1000)\n",
    "# for er in games_1000.echelon_errors:\n",
    "#   x, y = gr_1000.reportEchelonError([er])\n",
    "#   if y[0]<10:\n",
    "#     print(x)"
   ]
  },
  {
   "cell_type": "code",
   "execution_count": 63,
   "metadata": {},
   "outputs": [
    {
     "data": {
      "text/plain": [
       "10"
      ]
     },
     "execution_count": 63,
     "metadata": {},
     "output_type": "execute_result"
    }
   ],
   "source": [
    "limit_repeat"
   ]
  },
  {
   "cell_type": "code",
   "execution_count": null,
   "metadata": {},
   "outputs": [],
   "source": []
  },
  {
   "cell_type": "code",
   "execution_count": 15,
   "metadata": {},
   "outputs": [
    {
     "name": "stdout",
     "output_type": "stream",
     "text": [
      "Model: Recon3D.xml\n",
      "xGAMES time: 23346.919296\n",
      "xGAMES found an error!\n"
     ]
    }
   ],
   "source": [
    "games_10000 = analyzeByGAMES(MODEL_10000)"
   ]
  },
  {
   "cell_type": "code",
   "execution_count": 16,
   "metadata": {},
   "outputs": [
    {
     "data": {
      "text/plain": [
       "[ErrorSummary(type='type3', errors=[R_ECOAH12: {M_2mp2coa_c} -> {M_3hibutcoa_c}, R_FCLPA: {M_fc1p_c} -> {M_lald__L_c}, R_PYDXNO: {M_pydxn_c} -> {M_pydx_c}, R_TDPGDH: {M_dtdpgal_c=M_dtdpglu_c} -> {M_dtdp4d6dg_c=M_dtdp4d6dm_c}]),\n",
       " ErrorSummary(type='echelon', errors=[R_ADCS:  -> {M_4adcho_c}, R_TKT1:  -> {M_s7p_c}, R_HPA3MO: {M_4hphac_c} + {M_etoh_c} -> , R_PALDH: {M_Pald_c} -> , R_DHQTi: {M_3dhq_c} -> , R_DRPA:  -> {M_acald_c}, R_GLUt4: {M_glu__L_e} -> , R_PROt4: {M_pro__L_e} -> , R_THRD_L: {M_thr__L_c} -> , R_HBCHLR:  -> {M_b2coa_c}, R_CHORS: {M_3psme_c} -> , R_ETHAAL: {M_etha_c} -> , R_GMNA: {M_gln__D_c} -> , R_ASNN: {M_asn__L_c} + 0.01 {M_2obut_c=M_2obut_e} + 0.27 {M_2mcit_c=M_micit_c} -> , R_HPOXR: 2.00 {M_h2o2_c} -> , R_PGLYCP: {M_2pglyc_c} -> , R_PENDECACID:  -> 0.77 {M_octedecacid_c}, R_ANS2:  -> {M_Lkynr_c}, R_TETDECACID:  -> 0.97 {M_pendecacid_c}, R_BIWLIP:  -> 0.13 {M_tetdecacid_c}, R_FLAVO2: {M_hh3phac_c} -> , R_ACOADH1: {M_2mbcoa_c} -> , R_DHPS:  -> 0.91 {M_itp_c} + 0.13 {M_2obut_c=M_2obut_e} + 0.62 {M_2mcit_c=M_micit_c}, R_ALDD2y: 1.01 {M_2dr1p_c=M_2dr5p_c} -> , R_GLYALDDr:  -> 0.99 {M_dhap_c=M_g3p_c}, R_PSP_L: 1.20 {M_2pg_c=M_3pg_c} -> , R_CITL: {M_cit_c=M_icit_c} -> , R_TRSARr: {M_2h3oppan_c=M_hpyr_c} -> , R_GF6PTA:  -> {M_gam1p_c=M_gam6p_c}, R_SDPDS:  -> 0.73 {M_4fumacac_c=M_4mlacac_c}, R_ANPRT:  -> {M_2cpr5p_c=M_pran_c}, R_G3PD6:  -> 3.36 {M_gln__L_c=M_gln__L_e}, R_GLUTRR: 1.32 {M_glu__D_c=M_glu__L_c=M_glu__L_r} -> , R_CYSS: 1.01 {M_ala__D_c=M_ala__L_c} -> , R_AADb: 1.44 {M_ac_c=M_ac_e} -> , R_FDH: 1.07 {M_for_c=M_for_e} -> , R_MCITL2:  -> 0.89 {M_glyclt_c=M_glyclt_e}, R_P5CR: 0.45 {M_5aop_c=M_glu1sa_c} -> , R_NO3R2: 1.04 {M_chor_c=M_ichor_c=M_pphn_c} -> , R_PPA:  -> 3.22 {M_pi_c=M_pi_e}, R_FOLR2:  -> 0.86 {M_no3_c=M_no3_e}, R_ADK1:  -> 0.69 {M_3hbcoa__R_c=M_3hbcoa_c}, R_GLYO1:  -> 0.41 {M_tyr__L_c=M_tyr__L_e}, R_PPNDH:  -> 3.00 {M_h2o_c=M_h2o_e}, R_GLNS: 1.24 {M_nh4_c=M_nh4_e} -> , R_MADH:  -> 0.57 {M_34dhbz_c=M_3dhsk_c}, R_NADDP:  -> 0.88 {M_4ahmmp_c=M_air_c}, R_ACS: 0.39 {M_gly_c=M_igly_c} -> , R_GLUSy:  -> 0.31 {M_pro__D_c=M_pro__L_c}, R_CS:  -> 0.00 {M_o2_c=M_o2_e}, R_LDH_L:  -> 0.36 {M_26dap_LL_c=M_26dap__M_c} + 0.01 {M_2obut_c=M_2obut_e} + 0.01 {M_2mcit_c=M_micit_c}, R_GLUDy: 0.76 {M_f6p_c=M_g1p_c=M_g6p_B_c=M_g6p_c=M_man1p_c=M_man6p_c} -> , R_OBTFL: 0.35 {M_2obut_c=M_2obut_e} -> , R_P5CD:  -> 0.69 {M_2mcit_c=M_micit_c}])]"
      ]
     },
     "execution_count": 16,
     "metadata": {},
     "output_type": "execute_result"
    }
   ],
   "source": []
  },
  {
   "cell_type": "code",
   "execution_count": null,
   "metadata": {},
   "outputs": [],
   "source": []
  },
  {
   "cell_type": "code",
   "execution_count": null,
   "metadata": {},
   "outputs": [],
   "source": []
  },
  {
   "cell_type": "code",
   "execution_count": 21,
   "metadata": {},
   "outputs": [
    {
     "name": "stdout",
     "output_type": "stream",
     "text": [
      "Model: iCN718.xml\n",
      "xGAMES time: 108.660436\n",
      "xGAMES found an error!\n"
     ]
    },
    {
     "name": "stderr",
     "output_type": "stream",
     "text": [
      "//anaconda3/envs/sbml_env/lib/python3.6/site-packages/scipy/optimize/_linprog_util.py:763: OptimizeWarning: A_eq does not appear to be of full row rank. To improve performance, check the problem formulation for redundant equality constraints.\n",
      "  warn(redundancy_warning, OptimizeWarning)\n"
     ]
    },
    {
     "name": "stdout",
     "output_type": "stream",
     "text": [
      "LP time: 2.030797\n",
      "LP found an error!\n",
      "MILP time: 23.239786\n"
     ]
    }
   ],
   "source": [
    "m_1000, s_1000, milp_result_1000, unconserved_metabolites_1000 = analyzeBIGG(MODEL_1000)"
   ]
  },
  {
   "cell_type": "code",
   "execution_count": null,
   "metadata": {},
   "outputs": [],
   "source": []
  },
  {
   "cell_type": "code",
   "execution_count": 61,
   "metadata": {},
   "outputs": [
    {
     "name": "stdout",
     "output_type": "stream",
     "text": [
      "Model: iLB1027_lipid.xml\n",
      "xGAMES time: 1626.331340\n",
      "xGAMES found an error!\n",
      "LP time: 272.211592\n",
      "LP found an error!\n",
      "MILP time: 285.884376\n"
     ]
    }
   ],
   "source": [
    "m_4000, s_4000, milp_result_4000, unconserved_metabolites_4000 = analyzeBIGG(MODEL_4000)"
   ]
  },
  {
   "cell_type": "code",
   "execution_count": 62,
   "metadata": {},
   "outputs": [
    {
     "name": "stdout",
     "output_type": "stream",
     "text": [
      "Model: iCHOv1.xml\n",
      "xGAMES time: 7200.678418\n",
      "xGAMES found an error!\n",
      "LP time: 759.267629\n",
      "LP found an error!\n",
      "MILP time: 796.065499\n"
     ]
    }
   ],
   "source": [
    "m_6000, s_6000, milp_result_6000, unconserved_metabolites_6000 = analyzeBIGG(MODEL_6000)"
   ]
  },
  {
   "cell_type": "code",
   "execution_count": 68,
   "metadata": {},
   "outputs": [
    {
     "data": {
      "text/plain": [
       "2370"
      ]
     },
     "execution_count": 68,
     "metadata": {},
     "output_type": "execute_result"
    }
   ],
   "source": [
    "len(unconserved_metabolites_6000)"
   ]
  },
  {
   "cell_type": "code",
   "execution_count": 71,
   "metadata": {},
   "outputs": [
    {
     "name": "stdout",
     "output_type": "stream",
     "text": [
      "2\n",
      "2\n"
     ]
    }
   ],
   "source": [
    "print(s_4000.result.status)\n",
    "print(s_6000.result.status)"
   ]
  },
  {
   "cell_type": "code",
   "execution_count": 184,
   "metadata": {},
   "outputs": [
    {
     "data": {
      "text/plain": [
       "'/usr/ilog/cplex/bin/x86_rhel4.0_3.4/libcplex110.so'"
      ]
     },
     "execution_count": 184,
     "metadata": {},
     "output_type": "execute_result"
    }
   ],
   "source": [
    "pulp.cplex_dll_path"
   ]
  },
  {
   "cell_type": "code",
   "execution_count": null,
   "metadata": {},
   "outputs": [],
   "source": []
  },
  {
   "cell_type": "code",
   "execution_count": null,
   "metadata": {},
   "outputs": [],
   "source": []
  }
 ],
 "metadata": {
  "kernelspec": {
   "display_name": "Python 3",
   "language": "python",
   "name": "python3"
  },
  "language_info": {
   "codemirror_mode": {
    "name": "ipython",
    "version": 3
   },
   "file_extension": ".py",
   "mimetype": "text/x-python",
   "name": "python",
   "nbconvert_exporter": "python",
   "pygments_lexer": "ipython3",
   "version": "3.6.10"
  }
 },
 "nbformat": 4,
 "nbformat_minor": 4
}
