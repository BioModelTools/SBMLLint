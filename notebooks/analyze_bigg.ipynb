{
 "cells": [
  {
   "cell_type": "code",
   "execution_count": 30,
   "metadata": {},
   "outputs": [],
   "source": [
    "import init\n",
    "from SBMLLint.common import constants as cn\n",
    "from SBMLLint.common.molecule import Molecule, MoleculeStoichiometry\n",
    "from SBMLLint.common import simple_sbml\n",
    "from SBMLLint.common.reaction import Reaction\n",
    "from SBMLLint.tools import sbmllint\n",
    "from SBMLLint.tools import print_reactions\n",
    "\n",
    "import os\n",
    "import numpy as np\n",
    "import pandas as pd\n",
    "from pulp import *\n",
    "import matplotlib.pyplot as plt\n",
    "import time\n",
    "\n",
    "from scipy.linalg import lu, inv\n",
    "from scipy.optimize import linprog"
   ]
  },
  {
   "cell_type": "code",
   "execution_count": 2,
   "metadata": {},
   "outputs": [
    {
     "name": "stdout",
     "output_type": "stream",
     "text": [
      "Current Directory: /Users/woosubs/Desktop/ModelEngineering/SBMLLint/SBMLLint/notebooks\n"
     ]
    }
   ],
   "source": [
    "from games_setup import *\n",
    "from SBMLLint.common import constants as cn\n",
    "from SBMLLint.common.simple_sbml import SimpleSBML\n",
    "from SBMLLint.common.stoichiometry_matrix import StoichiometryMatrix\n",
    "\n",
    "from SBMLLint.games.som import SOM\n",
    "from SBMLLint.games.games_pp import GAMES_PP, SOMStoichiometry, SOMReaction, TOLERANCE\n",
    "from SBMLLint.games.games_report import GAMESReport, SimplifiedReaction"
   ]
  },
  {
   "cell_type": "code",
   "execution_count": 3,
   "metadata": {},
   "outputs": [
    {
     "data": {
      "text/plain": [
       "'/Users/woosubs/Desktop/ModelEngineering/SBMLLint/SBMLLint/notebooks'"
      ]
     },
     "execution_count": 3,
     "metadata": {},
     "output_type": "execute_result"
    }
   ],
   "source": [
    "os.getcwd()"
   ]
  },
  {
   "cell_type": "code",
   "execution_count": 4,
   "metadata": {},
   "outputs": [
    {
     "name": "stdout",
     "output_type": "stream",
     "text": [
      "number of BiGG models: 108\n"
     ]
    },
    {
     "data": {
      "text/plain": [
       "[{'bigg_id': 'e_coli_core',\n",
       "  'gene_count': 137,\n",
       "  'reaction_count': 95,\n",
       "  'organism': 'Escherichia coli str. K-12 substr. MG1655',\n",
       "  'metabolite_count': 72}]"
      ]
     },
     "execution_count": 4,
     "metadata": {},
     "output_type": "execute_result"
    }
   ],
   "source": [
    "# Load relevant bigg models\n",
    "# bigg constants\n",
    "BIGG_RESULTS = \"results\"\n",
    "BIGG_ID = \"bigg_id\"\n",
    "BIGG_GENECOUNT = \"gene_count\"\n",
    "BIGG_REACTION_COUNT = \"reaction_count\"\n",
    "BIGG_ORGANISM = \"organism\"\n",
    "BIGG_METABOLITE_COUNT = \"metabolite_count\"\n",
    "import requests\n",
    "res = requests.get('http://bigg.ucsd.edu/api/v2/models')\n",
    "bigg_models = res.json()[BIGG_RESULTS]\n",
    "bigg_ids = [bigg[BIGG_ID] for bigg in bigg_models]\n",
    "print(\"number of BiGG models: %d\" % len(bigg_models))\n",
    "bigg_models[:1]"
   ]
  },
  {
   "cell_type": "code",
   "execution_count": 5,
   "metadata": {},
   "outputs": [
    {
     "data": {
      "text/html": [
       "<div>\n",
       "<style scoped>\n",
       "    .dataframe tbody tr th:only-of-type {\n",
       "        vertical-align: middle;\n",
       "    }\n",
       "\n",
       "    .dataframe tbody tr th {\n",
       "        vertical-align: top;\n",
       "    }\n",
       "\n",
       "    .dataframe thead th {\n",
       "        text-align: right;\n",
       "    }\n",
       "</style>\n",
       "<table border=\"1\" class=\"dataframe\">\n",
       "  <thead>\n",
       "    <tr style=\"text-align: right;\">\n",
       "      <th></th>\n",
       "      <th>gene_count</th>\n",
       "      <th>reaction_count</th>\n",
       "      <th>organism</th>\n",
       "      <th>metabolite_count</th>\n",
       "    </tr>\n",
       "    <tr>\n",
       "      <th>bigg_id</th>\n",
       "      <th></th>\n",
       "      <th></th>\n",
       "      <th></th>\n",
       "      <th></th>\n",
       "    </tr>\n",
       "  </thead>\n",
       "  <tbody>\n",
       "    <tr>\n",
       "      <th>e_coli_core</th>\n",
       "      <td>137</td>\n",
       "      <td>95</td>\n",
       "      <td>Escherichia coli str. K-12 substr. MG1655</td>\n",
       "      <td>72</td>\n",
       "    </tr>\n",
       "    <tr>\n",
       "      <th>iAB_RBC_283</th>\n",
       "      <td>346</td>\n",
       "      <td>469</td>\n",
       "      <td>Homo sapiens</td>\n",
       "      <td>342</td>\n",
       "    </tr>\n",
       "    <tr>\n",
       "      <th>iIS312</th>\n",
       "      <td>312</td>\n",
       "      <td>519</td>\n",
       "      <td>Trypanosoma cruzi Dm28c</td>\n",
       "      <td>606</td>\n",
       "    </tr>\n",
       "    <tr>\n",
       "      <th>iIS312_Amastigote</th>\n",
       "      <td>312</td>\n",
       "      <td>519</td>\n",
       "      <td>Trypanosoma cruzi Dm28c</td>\n",
       "      <td>606</td>\n",
       "    </tr>\n",
       "    <tr>\n",
       "      <th>iIS312_Epimastigote</th>\n",
       "      <td>312</td>\n",
       "      <td>519</td>\n",
       "      <td>Trypanosoma cruzi Dm28c</td>\n",
       "      <td>606</td>\n",
       "    </tr>\n",
       "  </tbody>\n",
       "</table>\n",
       "</div>"
      ],
      "text/plain": [
       "                     gene_count  reaction_count  \\\n",
       "bigg_id                                           \n",
       "e_coli_core                 137              95   \n",
       "iAB_RBC_283                 346             469   \n",
       "iIS312                      312             519   \n",
       "iIS312_Amastigote           312             519   \n",
       "iIS312_Epimastigote         312             519   \n",
       "\n",
       "                                                      organism  \\\n",
       "bigg_id                                                          \n",
       "e_coli_core          Escherichia coli str. K-12 substr. MG1655   \n",
       "iAB_RBC_283                                       Homo sapiens   \n",
       "iIS312                                 Trypanosoma cruzi Dm28c   \n",
       "iIS312_Amastigote                      Trypanosoma cruzi Dm28c   \n",
       "iIS312_Epimastigote                    Trypanosoma cruzi Dm28c   \n",
       "\n",
       "                     metabolite_count  \n",
       "bigg_id                                \n",
       "e_coli_core                        72  \n",
       "iAB_RBC_283                       342  \n",
       "iIS312                            606  \n",
       "iIS312_Amastigote                 606  \n",
       "iIS312_Epimastigote               606  "
      ]
     },
     "execution_count": 5,
     "metadata": {},
     "output_type": "execute_result"
    }
   ],
   "source": [
    "bigg_df = pd.DataFrame(bigg_models).set_index(BIGG_ID)\n",
    "bigg_df.sort_values(by=BIGG_REACTION_COUNT, \n",
    "                    inplace=True)\n",
    "bigg_df.head()"
   ]
  },
  {
   "cell_type": "code",
   "execution_count": 6,
   "metadata": {},
   "outputs": [
    {
     "data": {
      "text/html": [
       "<div>\n",
       "<style scoped>\n",
       "    .dataframe tbody tr th:only-of-type {\n",
       "        vertical-align: middle;\n",
       "    }\n",
       "\n",
       "    .dataframe tbody tr th {\n",
       "        vertical-align: top;\n",
       "    }\n",
       "\n",
       "    .dataframe thead th {\n",
       "        text-align: right;\n",
       "    }\n",
       "</style>\n",
       "<table border=\"1\" class=\"dataframe\">\n",
       "  <thead>\n",
       "    <tr style=\"text-align: right;\">\n",
       "      <th></th>\n",
       "      <th>gene_count</th>\n",
       "      <th>reaction_count</th>\n",
       "      <th>organism</th>\n",
       "      <th>metabolite_count</th>\n",
       "    </tr>\n",
       "    <tr>\n",
       "      <th>bigg_id</th>\n",
       "      <th></th>\n",
       "      <th></th>\n",
       "      <th></th>\n",
       "      <th></th>\n",
       "    </tr>\n",
       "  </thead>\n",
       "  <tbody>\n",
       "    <tr>\n",
       "      <th>RECON1</th>\n",
       "      <td>1905</td>\n",
       "      <td>3741</td>\n",
       "      <td>Homo sapiens</td>\n",
       "      <td>2766</td>\n",
       "    </tr>\n",
       "    <tr>\n",
       "      <th>iCHOv1_DG44</th>\n",
       "      <td>1184</td>\n",
       "      <td>3942</td>\n",
       "      <td>Cricetulus griseus</td>\n",
       "      <td>2751</td>\n",
       "    </tr>\n",
       "    <tr>\n",
       "      <th>iLB1027_lipid</th>\n",
       "      <td>1027</td>\n",
       "      <td>4456</td>\n",
       "      <td>Phaeodactylum tricornutum CCAP 1055/1</td>\n",
       "      <td>2172</td>\n",
       "    </tr>\n",
       "    <tr>\n",
       "      <th>iCHOv1</th>\n",
       "      <td>1766</td>\n",
       "      <td>6663</td>\n",
       "      <td>Cricetulus griseus</td>\n",
       "      <td>4456</td>\n",
       "    </tr>\n",
       "    <tr>\n",
       "      <th>Recon3D</th>\n",
       "      <td>2248</td>\n",
       "      <td>10600</td>\n",
       "      <td>Homo sapiens</td>\n",
       "      <td>5835</td>\n",
       "    </tr>\n",
       "  </tbody>\n",
       "</table>\n",
       "</div>"
      ],
      "text/plain": [
       "               gene_count  reaction_count  \\\n",
       "bigg_id                                     \n",
       "RECON1               1905            3741   \n",
       "iCHOv1_DG44          1184            3942   \n",
       "iLB1027_lipid        1027            4456   \n",
       "iCHOv1               1766            6663   \n",
       "Recon3D              2248           10600   \n",
       "\n",
       "                                            organism  metabolite_count  \n",
       "bigg_id                                                                 \n",
       "RECON1                                  Homo sapiens              2766  \n",
       "iCHOv1_DG44                       Cricetulus griseus              2751  \n",
       "iLB1027_lipid  Phaeodactylum tricornutum CCAP 1055/1              2172  \n",
       "iCHOv1                            Cricetulus griseus              4456  \n",
       "Recon3D                                 Homo sapiens              5835  "
      ]
     },
     "execution_count": 6,
     "metadata": {},
     "output_type": "execute_result"
    }
   ],
   "source": [
    "bigg_df.tail()"
   ]
  },
  {
   "cell_type": "code",
   "execution_count": 7,
   "metadata": {},
   "outputs": [
    {
     "name": "stdout",
     "output_type": "stream",
     "text": [
      "------------------------------------------------------\n",
      "gene_count                                  709\n",
      "reaction_count                             1015\n",
      "organism            Acinetobacter baumannii AYE\n",
      "metabolite_count                            888\n",
      "Name: iCN718, dtype: object\n",
      "------------------------------------------------------\n",
      "gene_count                                           1027\n",
      "reaction_count                                       4456\n",
      "organism            Phaeodactylum tricornutum CCAP 1055/1\n",
      "metabolite_count                                     2172\n",
      "Name: iLB1027_lipid, dtype: object\n",
      "------------------------------------------------------\n",
      "gene_count                        1766\n",
      "reaction_count                    6663\n",
      "organism            Cricetulus griseus\n",
      "metabolite_count                  4456\n",
      "Name: iCHOv1, dtype: object\n",
      "------------------------------------------------------\n",
      "gene_count                  2248\n",
      "reaction_count             10600\n",
      "organism            Homo sapiens\n",
      "metabolite_count            5835\n",
      "Name: Recon3D, dtype: object\n",
      "------------------------------------------------------\n"
     ]
    }
   ],
   "source": [
    "# define four bigg models depending on size\n",
    "MODEL_1000 = \"iCN718.xml\"\n",
    "MODEL_4000 = \"iLB1027_lipid.xml\"\n",
    "MODEL_6000 = \"iCHOv1.xml\"\n",
    "MODEL_10000 = \"Recon3D.xml\"\n",
    "FOUR_BIGG = [MODEL_1000, MODEL_4000, MODEL_6000, MODEL_10000]\n",
    "print(\"------------------------------------------------------\")\n",
    "for bigg in FOUR_BIGG:\n",
    "  print(bigg_df.loc[bigg[:-4]])\n",
    "  print(\"------------------------------------------------------\")"
   ]
  },
  {
   "cell_type": "code",
   "execution_count": 8,
   "metadata": {},
   "outputs": [],
   "source": [
    "SAMPLE_MODEL = FOUR_BIGG[0]\n",
    "fpath = os.path.join(cn.BIGG_DIR, SAMPLE_MODEL)\n",
    "simple = SimpleSBML()\n",
    "simple.initialize(fpath)"
   ]
  },
  {
   "cell_type": "code",
   "execution_count": 29,
   "metadata": {},
   "outputs": [
    {
     "name": "stdout",
     "output_type": "stream",
     "text": [
      "xGAMES time: 95.359424\n"
     ]
    }
   ],
   "source": [
    "print(\"xGAMES time: %f\" % xgames_time)"
   ]
  },
  {
   "cell_type": "code",
   "execution_count": 32,
   "metadata": {},
   "outputs": [],
   "source": [
    "def solveMILP(mat):\n",
    "  prob = LpProblem(\"Finding_Unconserved_Metabolites\", LpMaximize)\n",
    "  species = list(mat.index)\n",
    "  species_inclusion = pulp.LpVariable.dicts(\"species\", species, cat=\"Binary\")\n",
    "  species_mass = pulp.LpVariable.dicts(\"mass\", species, cat=\"Continuous\")\n",
    "  # objective function (to maximize the number of species)\n",
    "  prob += lpSum([species_inclusion[i] for i in species])\n",
    "  # constraint 1 (for each reaction, the sum(stoichiometry[i]*mass[i])=0)\n",
    "  for reaction in mat.columns:\n",
    "    prob += lpSum(sum([mat[reaction][species]*species_mass[species] for species in species_inclusion])) == 0\n",
    "  # constraint 2 (species_inclusion is less than or equal to mass of each species)\n",
    "  for species in species_mass.keys():\n",
    "    prob += species_inclusion[species] <= species_mass[species]\n",
    "  prob.solve()\n",
    "  return prob\n",
    "# print(\"Status:\", LpStatus[prob.status])"
   ]
  },
  {
   "cell_type": "code",
   "execution_count": 35,
   "metadata": {},
   "outputs": [],
   "source": []
  },
  {
   "cell_type": "code",
   "execution_count": 43,
   "metadata": {},
   "outputs": [],
   "source": [
    "def getUnconservedMetabolites(milp_result):\n",
    "  unconserved_metabolites = []\n",
    "  for v in milp_result.variables():\n",
    "    if v.varValue==0:\n",
    "      if v.name[:7]==\"species\":\n",
    "        unconserved_metabolites.append(v.name[8:])\n",
    "  return unconserved_metabolites"
   ]
  },
  {
   "cell_type": "code",
   "execution_count": 59,
   "metadata": {},
   "outputs": [],
   "source": [
    "def analyzeBIGG(simple, model_file):\n",
    "  simple.initialize(os.path.join(cn.BIGG_DIR, model_file))\n",
    "  print(\"Model: %s\" % model_file)\n",
    "  xgames_start = time.time()\n",
    "  m = GAMES_PP(simple)\n",
    "  res = m.analyze(simple_games=False, error_details=False, suppress_message=True)\n",
    "  xgames_end = time.time()\n",
    "  xgames_time = xgames_end - xgames_start\n",
    "  print(\"xGAMES time: %f\" % xgames_time)\n",
    "  if res:\n",
    "    print(\"xGAMES found an error!\")\n",
    "  else:\n",
    "    print(\"xGAMES didn't find an error!\")\n",
    "  lp_start = time.time()\n",
    "  s = StoichiometryMatrix(simple)\n",
    "  lp_res = s.isConsistent()\n",
    "  lp_end = time.time()\n",
    "  lp_time = lp_end - lp_start\n",
    "  print(\"LP time: %f\" % lp_time)\n",
    "  if s.result.status!=0:\n",
    "    print(\"LP found an error!\")\n",
    "  milp_start = time.time()\n",
    "  milp_result = solveMILP(s.stoichiometry_matrix)\n",
    "  unconserved_metabolites = getUnconservedMetabolites(milp_result)\n",
    "  milp_end = time.time()\n",
    "  milp_time = milp_end - milp_start\n",
    "  print(\"MILP time: %f\" % milp_time)\n",
    "  return m, s, milp_result, unconserved_metabolites"
   ]
  },
  {
   "cell_type": "code",
   "execution_count": 60,
   "metadata": {},
   "outputs": [
    {
     "name": "stdout",
     "output_type": "stream",
     "text": [
      "Model: iCN718.xml\n",
      "xGAMES time: 58.408306\n",
      "xGAMES found an error!\n"
     ]
    },
    {
     "name": "stderr",
     "output_type": "stream",
     "text": [
      "//anaconda3/envs/sbml_env/lib/python3.6/site-packages/scipy/optimize/_linprog_util.py:763: OptimizeWarning: A_eq does not appear to be of full row rank. To improve performance, check the problem formulation for redundant equality constraints.\n",
      "  warn(redundancy_warning, OptimizeWarning)\n"
     ]
    },
    {
     "name": "stdout",
     "output_type": "stream",
     "text": [
      "LP time: 1.910074\n",
      "LP found an error!\n",
      "MILP time: 21.994424\n"
     ]
    }
   ],
   "source": [
    "m_1000, s_1000, milp_result_1000, unconserved_metabolites_1000 = analyzeBIGG(simple, MODEL_1000)"
   ]
  },
  {
   "cell_type": "code",
   "execution_count": 61,
   "metadata": {},
   "outputs": [
    {
     "name": "stdout",
     "output_type": "stream",
     "text": [
      "Model: iLB1027_lipid.xml\n",
      "xGAMES time: 1626.331340\n",
      "xGAMES found an error!\n",
      "LP time: 272.211592\n",
      "LP found an error!\n",
      "MILP time: 285.884376\n"
     ]
    }
   ],
   "source": [
    "m_4000, s_4000, milp_result_4000, unconserved_metabolites_4000 = analyzeBIGG(simple, MODEL_4000)"
   ]
  },
  {
   "cell_type": "code",
   "execution_count": 62,
   "metadata": {},
   "outputs": [
    {
     "name": "stdout",
     "output_type": "stream",
     "text": [
      "Model: iCHOv1.xml\n",
      "xGAMES time: 7200.678418\n",
      "xGAMES found an error!\n",
      "LP time: 759.267629\n",
      "LP found an error!\n",
      "MILP time: 796.065499\n"
     ]
    }
   ],
   "source": [
    "m_6000, s_6000, milp_result_6000, unconserved_metabolites_6000 = analyzeBIGG(simple, MODEL_6000)"
   ]
  },
  {
   "cell_type": "code",
   "execution_count": 68,
   "metadata": {},
   "outputs": [
    {
     "data": {
      "text/plain": [
       "2370"
      ]
     },
     "execution_count": 68,
     "metadata": {},
     "output_type": "execute_result"
    }
   ],
   "source": [
    "len(unconserved_metabolites_6000)"
   ]
  },
  {
   "cell_type": "code",
   "execution_count": 71,
   "metadata": {},
   "outputs": [
    {
     "name": "stdout",
     "output_type": "stream",
     "text": [
      "2\n",
      "2\n"
     ]
    }
   ],
   "source": [
    "print(s_4000.result.status)\n",
    "print(s_6000.result.status)"
   ]
  },
  {
   "cell_type": "code",
   "execution_count": 184,
   "metadata": {},
   "outputs": [
    {
     "data": {
      "text/plain": [
       "'/usr/ilog/cplex/bin/x86_rhel4.0_3.4/libcplex110.so'"
      ]
     },
     "execution_count": 184,
     "metadata": {},
     "output_type": "execute_result"
    }
   ],
   "source": [
    "pulp.cplex_dll_path"
   ]
  },
  {
   "cell_type": "code",
   "execution_count": 172,
   "metadata": {},
   "outputs": [],
   "source": [
    "import cobra"
   ]
  },
  {
   "cell_type": "code",
   "execution_count": 179,
   "metadata": {},
   "outputs": [],
   "source": [
    "from SBMLLint.common import util\n",
    "import libsbml\n",
    "xml = util.getXML(os.path.join(cn.BIGG_DIR, MODEL_1000))\n",
    "reader = libsbml.SBMLReader()\n",
    "document = reader.readSBMLFromString(xml)\n",
    "model = document.getModel()"
   ]
  },
  {
   "cell_type": "code",
   "execution_count": 182,
   "metadata": {},
   "outputs": [
    {
     "ename": "AttributeError",
     "evalue": "module 'cobra' has no attribute 'verifyModel'",
     "output_type": "error",
     "traceback": [
      "\u001b[0;31m---------------------------------------------------------------------------\u001b[0m",
      "\u001b[0;31mAttributeError\u001b[0m                            Traceback (most recent call last)",
      "\u001b[0;32m<ipython-input-182-e76570e6a981>\u001b[0m in \u001b[0;36m<module>\u001b[0;34m\u001b[0m\n\u001b[0;32m----> 1\u001b[0;31m \u001b[0mcobra\u001b[0m\u001b[0;34m.\u001b[0m\u001b[0mverifyModel\u001b[0m\u001b[0;34m(\u001b[0m\u001b[0mmodel\u001b[0m\u001b[0;34m,\u001b[0m\u001b[0;34m'massBalance'\u001b[0m\u001b[0;34m,\u001b[0m \u001b[0mtrue\u001b[0m\u001b[0;34m)\u001b[0m\u001b[0;34m\u001b[0m\u001b[0;34m\u001b[0m\u001b[0m\n\u001b[0m",
      "\u001b[0;31mAttributeError\u001b[0m: module 'cobra' has no attribute 'verifyModel'"
     ]
    }
   ],
   "source": [
    "cobra.(model,'massBalance', true)"
   ]
  },
  {
   "cell_type": "code",
   "execution_count": 104,
   "metadata": {},
   "outputs": [],
   "source": [
    "# test roundup\n",
    "echelon_df = round(m_1000.echelon_df)\n",
    "rref_df = round(m_1000.getRREFMatrix(echelon_df))"
   ]
  },
  {
   "cell_type": "code",
   "execution_count": 105,
   "metadata": {},
   "outputs": [],
   "source": [
    "lower_inv = inv(np.round(m.lower))"
   ]
  },
  {
   "cell_type": "code",
   "execution_count": 106,
   "metadata": {},
   "outputs": [],
   "source": [
    "op_df = m_1000.rref_operation.dot(lower_inv)"
   ]
  },
  {
   "cell_type": "code",
   "execution_count": 147,
   "metadata": {},
   "outputs": [
    {
     "data": {
      "text/plain": [
       "Index(['R_G3PD4', 'R_ASPT', 'R_BDH', 'R_PTHPS', 'R_PPPPH', 'R_METTRS',\n",
       "       'R_IMPC', 'R_EDD', 'R_BACCL2', 'R_CAOPT3',\n",
       "       ...\n",
       "       'R_4ABUTD', 'R_ADK1', 'R_CTPS1', 'R_TYRt2r', 'R_GLUabc', 'R_ALDD20y',\n",
       "       'R_NTPP1', 'R_ALDD2y', 'R_GLNt2r', 'R_LYSabc'],\n",
       "      dtype='object', length=821)"
      ]
     },
     "execution_count": 147,
     "metadata": {},
     "output_type": "execute_result"
    }
   ],
   "source": [
    "op_df.index"
   ]
  },
  {
   "cell_type": "code",
   "execution_count": 149,
   "metadata": {},
   "outputs": [],
   "source": [
    "op_df.columns = op_df.index"
   ]
  },
  {
   "cell_type": "code",
   "execution_count": 107,
   "metadata": {},
   "outputs": [
    {
     "data": {
      "text/plain": [
       "(788, 821)"
      ]
     },
     "execution_count": 107,
     "metadata": {},
     "output_type": "execute_result"
    }
   ],
   "source": [
    "m_1000.som_stoichiometry_matrix.shape"
   ]
  },
  {
   "cell_type": "code",
   "execution_count": 151,
   "metadata": {},
   "outputs": [],
   "source": [
    "som_reactions = m_1000.convertMatrixToSOMReactions(rref_df)"
   ]
  },
  {
   "cell_type": "code",
   "execution_count": null,
   "metadata": {},
   "outputs": [],
   "source": []
  },
  {
   "cell_type": "code",
   "execution_count": null,
   "metadata": {},
   "outputs": [],
   "source": []
  },
  {
   "cell_type": "code",
   "execution_count": 117,
   "metadata": {},
   "outputs": [
    {
     "data": {
      "text/plain": [
       "[]"
      ]
     },
     "execution_count": 117,
     "metadata": {},
     "output_type": "execute_result"
    }
   ],
   "source": [
    "m.echelon_errors"
   ]
  },
  {
   "cell_type": "code",
   "execution_count": 141,
   "metadata": {},
   "outputs": [],
   "source": [
    "gr = GAMESReport(m_1000)"
   ]
  },
  {
   "cell_type": "code",
   "execution_count": 158,
   "metadata": {},
   "outputs": [],
   "source": [
    "reaction_operation = gr.convertOperationSeriesToReactionOperations(op_df.T[res[0]])"
   ]
  },
  {
   "cell_type": "code",
   "execution_count": 159,
   "metadata": {},
   "outputs": [
    {
     "data": {
      "text/plain": [
       "[ReactionOperation(reaction='R_HMGL_2', operation=-1.0),\n",
       " ReactionOperation(reaction='R_BPNT', operation=19.0),\n",
       " ReactionOperation(reaction='R_FBP', operation=1.0)]"
      ]
     },
     "execution_count": 159,
     "metadata": {},
     "output_type": "execute_result"
    }
   ],
   "source": [
    "reaction_operation[:3]"
   ]
  },
  {
   "cell_type": "code",
   "execution_count": 170,
   "metadata": {},
   "outputs": [],
   "source": [
    "m_1000.simple.getReaction(\"R_HMGL_2\")"
   ]
  },
  {
   "cell_type": "code",
   "execution_count": 169,
   "metadata": {},
   "outputs": [],
   "source": [
    "gr.mesgraph.simple.getReaction(\"R_HMGL_2\")"
   ]
  },
  {
   "cell_type": "code",
   "execution_count": 171,
   "metadata": {},
   "outputs": [
    {
     "ename": "AttributeError",
     "evalue": "'NoneType' object has no attribute 'reactants'",
     "output_type": "error",
     "traceback": [
      "\u001b[0;31m---------------------------------------------------------------------------\u001b[0m",
      "\u001b[0;31mAttributeError\u001b[0m                            Traceback (most recent call last)",
      "\u001b[0;32m<ipython-input-171-010f7d856c8d>\u001b[0m in \u001b[0;36m<module>\u001b[0;34m\u001b[0m\n\u001b[0;32m----> 1\u001b[0;31m \u001b[0mgr\u001b[0m\u001b[0;34m.\u001b[0m\u001b[0mgetOperationStoichiometryMatrix\u001b[0m\u001b[0;34m(\u001b[0m\u001b[0mreaction_operation\u001b[0m\u001b[0;34m[\u001b[0m\u001b[0;36m1\u001b[0m\u001b[0;34m:\u001b[0m\u001b[0;34m]\u001b[0m\u001b[0;34m)\u001b[0m\u001b[0;34m\u001b[0m\u001b[0;34m\u001b[0m\u001b[0m\n\u001b[0m",
      "\u001b[0;32m~/Desktop/ModelEngineering/SBMLLint/SBMLLint/SBMLLint/games/games_report.py\u001b[0m in \u001b[0;36mgetOperationStoichiometryMatrix\u001b[0;34m(self, reaction_operations)\u001b[0m\n\u001b[1;32m    382\u001b[0m           \u001b[0mreaction\u001b[0m \u001b[0;34m=\u001b[0m \u001b[0mself\u001b[0m\u001b[0;34m.\u001b[0m\u001b[0mmesgraph\u001b[0m\u001b[0;34m.\u001b[0m\u001b[0msimple\u001b[0m\u001b[0;34m.\u001b[0m\u001b[0mgetReaction\u001b[0m\u001b[0;34m(\u001b[0m\u001b[0mop\u001b[0m\u001b[0;34m.\u001b[0m\u001b[0mreaction\u001b[0m\u001b[0;34m)\u001b[0m\u001b[0;34m\u001b[0m\u001b[0;34m\u001b[0m\u001b[0m\n\u001b[1;32m    383\u001b[0m           \u001b[0mreactions\u001b[0m\u001b[0;34m.\u001b[0m\u001b[0mappend\u001b[0m\u001b[0;34m(\u001b[0m\u001b[0mreaction\u001b[0m\u001b[0;34m)\u001b[0m\u001b[0;34m\u001b[0m\u001b[0;34m\u001b[0m\u001b[0m\n\u001b[0;32m--> 384\u001b[0;31m           \u001b[0mspecies\u001b[0m \u001b[0;34m=\u001b[0m \u001b[0mspecies\u001b[0m\u001b[0;34m.\u001b[0m\u001b[0munion\u001b[0m\u001b[0;34m(\u001b[0m\u001b[0;34m{\u001b[0m\u001b[0mr\u001b[0m\u001b[0;34m.\u001b[0m\u001b[0mmolecule\u001b[0m\u001b[0;34m.\u001b[0m\u001b[0mname\u001b[0m \u001b[0;32mfor\u001b[0m \u001b[0mr\u001b[0m \u001b[0;32min\u001b[0m \u001b[0mreaction\u001b[0m\u001b[0;34m.\u001b[0m\u001b[0mreactants\u001b[0m\u001b[0;34m}\u001b[0m\u001b[0;34m)\u001b[0m\u001b[0;34m\u001b[0m\u001b[0;34m\u001b[0m\u001b[0m\n\u001b[0m\u001b[1;32m    385\u001b[0m           \u001b[0mspecies\u001b[0m \u001b[0;34m=\u001b[0m \u001b[0mspecies\u001b[0m\u001b[0;34m.\u001b[0m\u001b[0munion\u001b[0m\u001b[0;34m(\u001b[0m\u001b[0;34m{\u001b[0m\u001b[0mp\u001b[0m\u001b[0;34m.\u001b[0m\u001b[0mmolecule\u001b[0m\u001b[0;34m.\u001b[0m\u001b[0mname\u001b[0m \u001b[0;32mfor\u001b[0m \u001b[0mp\u001b[0m \u001b[0;32min\u001b[0m \u001b[0mreaction\u001b[0m\u001b[0;34m.\u001b[0m\u001b[0mproducts\u001b[0m\u001b[0;34m}\u001b[0m\u001b[0;34m)\u001b[0m\u001b[0;34m\u001b[0m\u001b[0;34m\u001b[0m\u001b[0m\n\u001b[1;32m    386\u001b[0m         \u001b[0moperations\u001b[0m \u001b[0;34m=\u001b[0m \u001b[0mnp\u001b[0m\u001b[0;34m.\u001b[0m\u001b[0marray\u001b[0m\u001b[0;34m(\u001b[0m\u001b[0;34m[\u001b[0m\u001b[0mval\u001b[0m\u001b[0;34m.\u001b[0m\u001b[0moperation\u001b[0m \u001b[0;32mfor\u001b[0m \u001b[0mval\u001b[0m \u001b[0;32min\u001b[0m \u001b[0mreaction_operations\u001b[0m\u001b[0;34m]\u001b[0m\u001b[0;34m)\u001b[0m\u001b[0;34m\u001b[0m\u001b[0;34m\u001b[0m\u001b[0m\n",
      "\u001b[0;31mAttributeError\u001b[0m: 'NoneType' object has no attribute 'reactants'"
     ]
    }
   ],
   "source": [
    "gr.getOperationStoichiometryMatrix(reaction_operation[1:])"
   ]
  },
  {
   "cell_type": "code",
   "execution_count": 155,
   "metadata": {},
   "outputs": [
    {
     "ename": "AttributeError",
     "evalue": "'NoneType' object has no attribute 'reactants'",
     "output_type": "error",
     "traceback": [
      "\u001b[0;31m---------------------------------------------------------------------------\u001b[0m",
      "\u001b[0;31mAttributeError\u001b[0m                            Traceback (most recent call last)",
      "\u001b[0;32m<ipython-input-155-7ef10f2125c0>\u001b[0m in \u001b[0;36m<module>\u001b[0;34m\u001b[0m\n\u001b[0;32m----> 1\u001b[0;31m \u001b[0minferred_reaction\u001b[0m \u001b[0;34m=\u001b[0m \u001b[0mgr\u001b[0m\u001b[0;34m.\u001b[0m\u001b[0mgetInferredReaction\u001b[0m\u001b[0;34m(\u001b[0m\u001b[0mreaction_operation\u001b[0m\u001b[0;34m)\u001b[0m\u001b[0;34m\u001b[0m\u001b[0;34m\u001b[0m\u001b[0m\n\u001b[0m",
      "\u001b[0;32m~/Desktop/ModelEngineering/SBMLLint/SBMLLint/SBMLLint/games/games_report.py\u001b[0m in \u001b[0;36mgetInferredReaction\u001b[0;34m(self, reaction_operations)\u001b[0m\n\u001b[1;32m    396\u001b[0m   \t\"\"\"\n\u001b[1;32m    397\u001b[0m         \u001b[0mINFERRED_REACTION\u001b[0m \u001b[0;34m=\u001b[0m \u001b[0;34m\"Inferred Reaction\"\u001b[0m\u001b[0;34m\u001b[0m\u001b[0;34m\u001b[0m\u001b[0m\n\u001b[0;32m--> 398\u001b[0;31m         \u001b[0mstoichiometry_df\u001b[0m \u001b[0;34m=\u001b[0m \u001b[0mself\u001b[0m\u001b[0;34m.\u001b[0m\u001b[0mgetOperationStoichiometryMatrix\u001b[0m\u001b[0;34m(\u001b[0m\u001b[0mreaction_operations\u001b[0m\u001b[0;34m)\u001b[0m\u001b[0;34m\u001b[0m\u001b[0;34m\u001b[0m\u001b[0m\n\u001b[0m\u001b[1;32m    399\u001b[0m         \u001b[0mreaction_index\u001b[0m \u001b[0;34m=\u001b[0m \u001b[0;34m[\u001b[0m\u001b[0mop\u001b[0m\u001b[0;34m.\u001b[0m\u001b[0mreaction\u001b[0m \u001b[0;32mfor\u001b[0m \u001b[0mop\u001b[0m \u001b[0;32min\u001b[0m \u001b[0mreaction_operations\u001b[0m\u001b[0;34m]\u001b[0m\u001b[0;34m\u001b[0m\u001b[0;34m\u001b[0m\u001b[0m\n\u001b[1;32m    400\u001b[0m         \u001b[0moperation_series\u001b[0m \u001b[0;34m=\u001b[0m \u001b[0mpd\u001b[0m\u001b[0;34m.\u001b[0m\u001b[0mSeries\u001b[0m\u001b[0;34m(\u001b[0m\u001b[0;34m[\u001b[0m\u001b[0mval\u001b[0m\u001b[0;34m.\u001b[0m\u001b[0moperation\u001b[0m \u001b[0;32mfor\u001b[0m \u001b[0mval\u001b[0m \u001b[0;32min\u001b[0m \u001b[0mreaction_operations\u001b[0m\u001b[0;34m]\u001b[0m\u001b[0;34m,\u001b[0m \u001b[0mindex\u001b[0m\u001b[0;34m=\u001b[0m\u001b[0mreaction_index\u001b[0m\u001b[0;34m)\u001b[0m\u001b[0;34m\u001b[0m\u001b[0;34m\u001b[0m\u001b[0m\n",
      "\u001b[0;32m~/Desktop/ModelEngineering/SBMLLint/SBMLLint/SBMLLint/games/games_report.py\u001b[0m in \u001b[0;36mgetOperationStoichiometryMatrix\u001b[0;34m(self, reaction_operations)\u001b[0m\n\u001b[1;32m    382\u001b[0m           \u001b[0mreaction\u001b[0m \u001b[0;34m=\u001b[0m \u001b[0mself\u001b[0m\u001b[0;34m.\u001b[0m\u001b[0mmesgraph\u001b[0m\u001b[0;34m.\u001b[0m\u001b[0msimple\u001b[0m\u001b[0;34m.\u001b[0m\u001b[0mgetReaction\u001b[0m\u001b[0;34m(\u001b[0m\u001b[0mop\u001b[0m\u001b[0;34m.\u001b[0m\u001b[0mreaction\u001b[0m\u001b[0;34m)\u001b[0m\u001b[0;34m\u001b[0m\u001b[0;34m\u001b[0m\u001b[0m\n\u001b[1;32m    383\u001b[0m           \u001b[0mreactions\u001b[0m\u001b[0;34m.\u001b[0m\u001b[0mappend\u001b[0m\u001b[0;34m(\u001b[0m\u001b[0mreaction\u001b[0m\u001b[0;34m)\u001b[0m\u001b[0;34m\u001b[0m\u001b[0;34m\u001b[0m\u001b[0m\n\u001b[0;32m--> 384\u001b[0;31m           \u001b[0mspecies\u001b[0m \u001b[0;34m=\u001b[0m \u001b[0mspecies\u001b[0m\u001b[0;34m.\u001b[0m\u001b[0munion\u001b[0m\u001b[0;34m(\u001b[0m\u001b[0;34m{\u001b[0m\u001b[0mr\u001b[0m\u001b[0;34m.\u001b[0m\u001b[0mmolecule\u001b[0m\u001b[0;34m.\u001b[0m\u001b[0mname\u001b[0m \u001b[0;32mfor\u001b[0m \u001b[0mr\u001b[0m \u001b[0;32min\u001b[0m \u001b[0mreaction\u001b[0m\u001b[0;34m.\u001b[0m\u001b[0mreactants\u001b[0m\u001b[0;34m}\u001b[0m\u001b[0;34m)\u001b[0m\u001b[0;34m\u001b[0m\u001b[0;34m\u001b[0m\u001b[0m\n\u001b[0m\u001b[1;32m    385\u001b[0m           \u001b[0mspecies\u001b[0m \u001b[0;34m=\u001b[0m \u001b[0mspecies\u001b[0m\u001b[0;34m.\u001b[0m\u001b[0munion\u001b[0m\u001b[0;34m(\u001b[0m\u001b[0;34m{\u001b[0m\u001b[0mp\u001b[0m\u001b[0;34m.\u001b[0m\u001b[0mmolecule\u001b[0m\u001b[0;34m.\u001b[0m\u001b[0mname\u001b[0m \u001b[0;32mfor\u001b[0m \u001b[0mp\u001b[0m \u001b[0;32min\u001b[0m \u001b[0mreaction\u001b[0m\u001b[0;34m.\u001b[0m\u001b[0mproducts\u001b[0m\u001b[0;34m}\u001b[0m\u001b[0;34m)\u001b[0m\u001b[0;34m\u001b[0m\u001b[0;34m\u001b[0m\u001b[0m\n\u001b[1;32m    386\u001b[0m         \u001b[0moperations\u001b[0m \u001b[0;34m=\u001b[0m \u001b[0mnp\u001b[0m\u001b[0;34m.\u001b[0m\u001b[0marray\u001b[0m\u001b[0;34m(\u001b[0m\u001b[0;34m[\u001b[0m\u001b[0mval\u001b[0m\u001b[0;34m.\u001b[0m\u001b[0moperation\u001b[0m \u001b[0;32mfor\u001b[0m \u001b[0mval\u001b[0m \u001b[0;32min\u001b[0m \u001b[0mreaction_operations\u001b[0m\u001b[0;34m]\u001b[0m\u001b[0;34m)\u001b[0m\u001b[0;34m\u001b[0m\u001b[0;34m\u001b[0m\u001b[0m\n",
      "\u001b[0;31mAttributeError\u001b[0m: 'NoneType' object has no attribute 'reactants'"
     ]
    }
   ],
   "source": [
    "inferred_reaction = gr.getInferredReaction(reaction_operation)"
   ]
  },
  {
   "cell_type": "code",
   "execution_count": 129,
   "metadata": {},
   "outputs": [
    {
     "name": "stdout",
     "output_type": "stream",
     "text": [
      "['R_FBP', 'R_TKT1', 'R_ASPK', 'R_ASPTA', 'R_TALA', 'R_ASAD', 'R_OOAP', 'R_HCO3E', 'R_ASPt2r', 'R_GLCD', 'R_NT5C', 'R_GLUSx_copy2', 'R_DHFR2i', 'R_DHFOR', 'R_MALTt2', 'R_G5SADs', 'R_PSP_L', 'R_FUM']\n"
     ]
    }
   ],
   "source": [
    "res = []\n",
    "for reaction in som_reactions:\n",
    "  if reaction.category == cn.REACTION_ERROR:\n",
    "    res.append(reaction.label)\n",
    "print(res)"
   ]
  },
  {
   "cell_type": "code",
   "execution_count": 130,
   "metadata": {},
   "outputs": [
    {
     "data": {
      "text/html": [
       "<div>\n",
       "<style scoped>\n",
       "    .dataframe tbody tr th:only-of-type {\n",
       "        vertical-align: middle;\n",
       "    }\n",
       "\n",
       "    .dataframe tbody tr th {\n",
       "        vertical-align: top;\n",
       "    }\n",
       "\n",
       "    .dataframe thead th {\n",
       "        text-align: right;\n",
       "    }\n",
       "</style>\n",
       "<table border=\"1\" class=\"dataframe\">\n",
       "  <thead>\n",
       "    <tr style=\"text-align: right;\">\n",
       "      <th></th>\n",
       "      <th>0</th>\n",
       "      <th>1</th>\n",
       "      <th>2</th>\n",
       "      <th>3</th>\n",
       "      <th>4</th>\n",
       "      <th>5</th>\n",
       "      <th>6</th>\n",
       "      <th>7</th>\n",
       "      <th>8</th>\n",
       "      <th>9</th>\n",
       "      <th>...</th>\n",
       "      <th>811</th>\n",
       "      <th>812</th>\n",
       "      <th>813</th>\n",
       "      <th>814</th>\n",
       "      <th>815</th>\n",
       "      <th>816</th>\n",
       "      <th>817</th>\n",
       "      <th>818</th>\n",
       "      <th>819</th>\n",
       "      <th>820</th>\n",
       "    </tr>\n",
       "  </thead>\n",
       "  <tbody>\n",
       "    <tr>\n",
       "      <th>R_G3PD4</th>\n",
       "      <td>2.25000</td>\n",
       "      <td>0.0</td>\n",
       "      <td>0.0</td>\n",
       "      <td>0.0</td>\n",
       "      <td>0.0</td>\n",
       "      <td>0.0</td>\n",
       "      <td>0.0</td>\n",
       "      <td>0.0</td>\n",
       "      <td>0.0</td>\n",
       "      <td>0.0</td>\n",
       "      <td>...</td>\n",
       "      <td>0.0</td>\n",
       "      <td>0.0</td>\n",
       "      <td>0.0</td>\n",
       "      <td>0.0</td>\n",
       "      <td>0.0</td>\n",
       "      <td>0.0</td>\n",
       "      <td>0.0</td>\n",
       "      <td>0.0</td>\n",
       "      <td>0.0</td>\n",
       "      <td>0.0</td>\n",
       "    </tr>\n",
       "    <tr>\n",
       "      <th>R_ASPT</th>\n",
       "      <td>0.00000</td>\n",
       "      <td>1.0</td>\n",
       "      <td>0.0</td>\n",
       "      <td>0.0</td>\n",
       "      <td>0.0</td>\n",
       "      <td>0.0</td>\n",
       "      <td>0.0</td>\n",
       "      <td>0.0</td>\n",
       "      <td>0.0</td>\n",
       "      <td>0.0</td>\n",
       "      <td>...</td>\n",
       "      <td>0.0</td>\n",
       "      <td>0.0</td>\n",
       "      <td>0.0</td>\n",
       "      <td>0.0</td>\n",
       "      <td>0.0</td>\n",
       "      <td>0.0</td>\n",
       "      <td>0.0</td>\n",
       "      <td>0.0</td>\n",
       "      <td>0.0</td>\n",
       "      <td>0.0</td>\n",
       "    </tr>\n",
       "    <tr>\n",
       "      <th>R_BDH</th>\n",
       "      <td>-8.25000</td>\n",
       "      <td>0.0</td>\n",
       "      <td>1.0</td>\n",
       "      <td>0.0</td>\n",
       "      <td>0.0</td>\n",
       "      <td>0.0</td>\n",
       "      <td>0.0</td>\n",
       "      <td>0.0</td>\n",
       "      <td>0.0</td>\n",
       "      <td>0.0</td>\n",
       "      <td>...</td>\n",
       "      <td>0.0</td>\n",
       "      <td>0.0</td>\n",
       "      <td>0.0</td>\n",
       "      <td>0.0</td>\n",
       "      <td>0.0</td>\n",
       "      <td>0.0</td>\n",
       "      <td>0.0</td>\n",
       "      <td>0.0</td>\n",
       "      <td>0.0</td>\n",
       "      <td>0.0</td>\n",
       "    </tr>\n",
       "    <tr>\n",
       "      <th>R_PTHPS</th>\n",
       "      <td>-1.53125</td>\n",
       "      <td>0.0</td>\n",
       "      <td>0.0</td>\n",
       "      <td>1.0</td>\n",
       "      <td>0.0</td>\n",
       "      <td>0.0</td>\n",
       "      <td>0.0</td>\n",
       "      <td>0.0</td>\n",
       "      <td>0.0</td>\n",
       "      <td>0.0</td>\n",
       "      <td>...</td>\n",
       "      <td>0.0</td>\n",
       "      <td>0.0</td>\n",
       "      <td>0.0</td>\n",
       "      <td>0.0</td>\n",
       "      <td>0.0</td>\n",
       "      <td>0.0</td>\n",
       "      <td>0.0</td>\n",
       "      <td>0.0</td>\n",
       "      <td>0.0</td>\n",
       "      <td>0.0</td>\n",
       "    </tr>\n",
       "    <tr>\n",
       "      <th>R_PPPPH</th>\n",
       "      <td>3.78125</td>\n",
       "      <td>0.0</td>\n",
       "      <td>0.0</td>\n",
       "      <td>0.0</td>\n",
       "      <td>1.0</td>\n",
       "      <td>0.0</td>\n",
       "      <td>0.0</td>\n",
       "      <td>0.0</td>\n",
       "      <td>0.0</td>\n",
       "      <td>0.0</td>\n",
       "      <td>...</td>\n",
       "      <td>0.0</td>\n",
       "      <td>0.0</td>\n",
       "      <td>0.0</td>\n",
       "      <td>0.0</td>\n",
       "      <td>0.0</td>\n",
       "      <td>0.0</td>\n",
       "      <td>0.0</td>\n",
       "      <td>0.0</td>\n",
       "      <td>0.0</td>\n",
       "      <td>0.0</td>\n",
       "    </tr>\n",
       "    <tr>\n",
       "      <th>...</th>\n",
       "      <td>...</td>\n",
       "      <td>...</td>\n",
       "      <td>...</td>\n",
       "      <td>...</td>\n",
       "      <td>...</td>\n",
       "      <td>...</td>\n",
       "      <td>...</td>\n",
       "      <td>...</td>\n",
       "      <td>...</td>\n",
       "      <td>...</td>\n",
       "      <td>...</td>\n",
       "      <td>...</td>\n",
       "      <td>...</td>\n",
       "      <td>...</td>\n",
       "      <td>...</td>\n",
       "      <td>...</td>\n",
       "      <td>...</td>\n",
       "      <td>...</td>\n",
       "      <td>...</td>\n",
       "      <td>...</td>\n",
       "      <td>...</td>\n",
       "    </tr>\n",
       "    <tr>\n",
       "      <th>R_ALDD20y</th>\n",
       "      <td>0.00000</td>\n",
       "      <td>0.0</td>\n",
       "      <td>0.0</td>\n",
       "      <td>0.0</td>\n",
       "      <td>0.0</td>\n",
       "      <td>0.0</td>\n",
       "      <td>0.0</td>\n",
       "      <td>0.0</td>\n",
       "      <td>0.0</td>\n",
       "      <td>0.0</td>\n",
       "      <td>...</td>\n",
       "      <td>0.0</td>\n",
       "      <td>0.0</td>\n",
       "      <td>0.0</td>\n",
       "      <td>0.0</td>\n",
       "      <td>0.0</td>\n",
       "      <td>1.0</td>\n",
       "      <td>0.0</td>\n",
       "      <td>0.0</td>\n",
       "      <td>0.0</td>\n",
       "      <td>0.0</td>\n",
       "    </tr>\n",
       "    <tr>\n",
       "      <th>R_NTPP1</th>\n",
       "      <td>0.00000</td>\n",
       "      <td>0.0</td>\n",
       "      <td>0.0</td>\n",
       "      <td>0.0</td>\n",
       "      <td>0.0</td>\n",
       "      <td>0.0</td>\n",
       "      <td>0.0</td>\n",
       "      <td>0.0</td>\n",
       "      <td>0.0</td>\n",
       "      <td>0.0</td>\n",
       "      <td>...</td>\n",
       "      <td>0.0</td>\n",
       "      <td>0.0</td>\n",
       "      <td>0.0</td>\n",
       "      <td>0.0</td>\n",
       "      <td>0.0</td>\n",
       "      <td>0.0</td>\n",
       "      <td>1.0</td>\n",
       "      <td>0.0</td>\n",
       "      <td>0.0</td>\n",
       "      <td>0.0</td>\n",
       "    </tr>\n",
       "    <tr>\n",
       "      <th>R_ALDD2y</th>\n",
       "      <td>0.00000</td>\n",
       "      <td>0.0</td>\n",
       "      <td>0.0</td>\n",
       "      <td>0.0</td>\n",
       "      <td>0.0</td>\n",
       "      <td>0.0</td>\n",
       "      <td>0.0</td>\n",
       "      <td>0.0</td>\n",
       "      <td>0.0</td>\n",
       "      <td>0.0</td>\n",
       "      <td>...</td>\n",
       "      <td>0.0</td>\n",
       "      <td>0.0</td>\n",
       "      <td>0.0</td>\n",
       "      <td>0.0</td>\n",
       "      <td>0.0</td>\n",
       "      <td>0.0</td>\n",
       "      <td>0.0</td>\n",
       "      <td>1.0</td>\n",
       "      <td>0.0</td>\n",
       "      <td>0.0</td>\n",
       "    </tr>\n",
       "    <tr>\n",
       "      <th>R_GLNt2r</th>\n",
       "      <td>0.00000</td>\n",
       "      <td>0.0</td>\n",
       "      <td>0.0</td>\n",
       "      <td>0.0</td>\n",
       "      <td>0.0</td>\n",
       "      <td>0.0</td>\n",
       "      <td>0.0</td>\n",
       "      <td>0.0</td>\n",
       "      <td>0.0</td>\n",
       "      <td>0.0</td>\n",
       "      <td>...</td>\n",
       "      <td>0.0</td>\n",
       "      <td>0.0</td>\n",
       "      <td>0.0</td>\n",
       "      <td>0.0</td>\n",
       "      <td>0.0</td>\n",
       "      <td>0.0</td>\n",
       "      <td>0.0</td>\n",
       "      <td>0.0</td>\n",
       "      <td>1.0</td>\n",
       "      <td>0.0</td>\n",
       "    </tr>\n",
       "    <tr>\n",
       "      <th>R_LYSabc</th>\n",
       "      <td>0.00000</td>\n",
       "      <td>0.0</td>\n",
       "      <td>0.0</td>\n",
       "      <td>0.0</td>\n",
       "      <td>0.0</td>\n",
       "      <td>0.0</td>\n",
       "      <td>0.0</td>\n",
       "      <td>0.0</td>\n",
       "      <td>0.0</td>\n",
       "      <td>0.0</td>\n",
       "      <td>...</td>\n",
       "      <td>0.0</td>\n",
       "      <td>0.0</td>\n",
       "      <td>0.0</td>\n",
       "      <td>0.0</td>\n",
       "      <td>0.0</td>\n",
       "      <td>0.0</td>\n",
       "      <td>0.0</td>\n",
       "      <td>0.0</td>\n",
       "      <td>0.0</td>\n",
       "      <td>1.0</td>\n",
       "    </tr>\n",
       "  </tbody>\n",
       "</table>\n",
       "<p>821 rows × 821 columns</p>\n",
       "</div>"
      ],
      "text/plain": [
       "               0    1    2    3    4    5    6    7    8    9    ...  811  \\\n",
       "R_G3PD4    2.25000  0.0  0.0  0.0  0.0  0.0  0.0  0.0  0.0  0.0  ...  0.0   \n",
       "R_ASPT     0.00000  1.0  0.0  0.0  0.0  0.0  0.0  0.0  0.0  0.0  ...  0.0   \n",
       "R_BDH     -8.25000  0.0  1.0  0.0  0.0  0.0  0.0  0.0  0.0  0.0  ...  0.0   \n",
       "R_PTHPS   -1.53125  0.0  0.0  1.0  0.0  0.0  0.0  0.0  0.0  0.0  ...  0.0   \n",
       "R_PPPPH    3.78125  0.0  0.0  0.0  1.0  0.0  0.0  0.0  0.0  0.0  ...  0.0   \n",
       "...            ...  ...  ...  ...  ...  ...  ...  ...  ...  ...  ...  ...   \n",
       "R_ALDD20y  0.00000  0.0  0.0  0.0  0.0  0.0  0.0  0.0  0.0  0.0  ...  0.0   \n",
       "R_NTPP1    0.00000  0.0  0.0  0.0  0.0  0.0  0.0  0.0  0.0  0.0  ...  0.0   \n",
       "R_ALDD2y   0.00000  0.0  0.0  0.0  0.0  0.0  0.0  0.0  0.0  0.0  ...  0.0   \n",
       "R_GLNt2r   0.00000  0.0  0.0  0.0  0.0  0.0  0.0  0.0  0.0  0.0  ...  0.0   \n",
       "R_LYSabc   0.00000  0.0  0.0  0.0  0.0  0.0  0.0  0.0  0.0  0.0  ...  0.0   \n",
       "\n",
       "           812  813  814  815  816  817  818  819  820  \n",
       "R_G3PD4    0.0  0.0  0.0  0.0  0.0  0.0  0.0  0.0  0.0  \n",
       "R_ASPT     0.0  0.0  0.0  0.0  0.0  0.0  0.0  0.0  0.0  \n",
       "R_BDH      0.0  0.0  0.0  0.0  0.0  0.0  0.0  0.0  0.0  \n",
       "R_PTHPS    0.0  0.0  0.0  0.0  0.0  0.0  0.0  0.0  0.0  \n",
       "R_PPPPH    0.0  0.0  0.0  0.0  0.0  0.0  0.0  0.0  0.0  \n",
       "...        ...  ...  ...  ...  ...  ...  ...  ...  ...  \n",
       "R_ALDD20y  0.0  0.0  0.0  0.0  1.0  0.0  0.0  0.0  0.0  \n",
       "R_NTPP1    0.0  0.0  0.0  0.0  0.0  1.0  0.0  0.0  0.0  \n",
       "R_ALDD2y   0.0  0.0  0.0  0.0  0.0  0.0  1.0  0.0  0.0  \n",
       "R_GLNt2r   0.0  0.0  0.0  0.0  0.0  0.0  0.0  1.0  0.0  \n",
       "R_LYSabc   0.0  0.0  0.0  0.0  0.0  0.0  0.0  0.0  1.0  \n",
       "\n",
       "[821 rows x 821 columns]"
      ]
     },
     "execution_count": 130,
     "metadata": {},
     "output_type": "execute_result"
    }
   ],
   "source": [
    "op_df"
   ]
  },
  {
   "cell_type": "code",
   "execution_count": 121,
   "metadata": {},
   "outputs": [
    {
     "data": {
      "text/plain": [
       "'reaction_error'"
      ]
     },
     "execution_count": 121,
     "metadata": {},
     "output_type": "execute_result"
    }
   ],
   "source": []
  },
  {
   "cell_type": "code",
   "execution_count": 99,
   "metadata": {},
   "outputs": [
    {
     "data": {
      "text/html": [
       "<div>\n",
       "<style scoped>\n",
       "    .dataframe tbody tr th:only-of-type {\n",
       "        vertical-align: middle;\n",
       "    }\n",
       "\n",
       "    .dataframe tbody tr th {\n",
       "        vertical-align: top;\n",
       "    }\n",
       "\n",
       "    .dataframe thead th {\n",
       "        text-align: right;\n",
       "    }\n",
       "</style>\n",
       "<table border=\"1\" class=\"dataframe\">\n",
       "  <thead>\n",
       "    <tr style=\"text-align: right;\">\n",
       "      <th></th>\n",
       "      <th>0</th>\n",
       "      <th>1</th>\n",
       "      <th>2</th>\n",
       "      <th>3</th>\n",
       "      <th>4</th>\n",
       "      <th>5</th>\n",
       "      <th>6</th>\n",
       "      <th>7</th>\n",
       "      <th>8</th>\n",
       "      <th>9</th>\n",
       "      <th>...</th>\n",
       "      <th>811</th>\n",
       "      <th>812</th>\n",
       "      <th>813</th>\n",
       "      <th>814</th>\n",
       "      <th>815</th>\n",
       "      <th>816</th>\n",
       "      <th>817</th>\n",
       "      <th>818</th>\n",
       "      <th>819</th>\n",
       "      <th>820</th>\n",
       "    </tr>\n",
       "  </thead>\n",
       "  <tbody>\n",
       "    <tr>\n",
       "      <th>{M_mqn7_c}</th>\n",
       "      <td>-1.0</td>\n",
       "      <td>0.0</td>\n",
       "      <td>0.0</td>\n",
       "      <td>0.0</td>\n",
       "      <td>0.0</td>\n",
       "      <td>0.0</td>\n",
       "      <td>0.0</td>\n",
       "      <td>0.0</td>\n",
       "      <td>0.0</td>\n",
       "      <td>0.0</td>\n",
       "      <td>...</td>\n",
       "      <td>0.0</td>\n",
       "      <td>0.0</td>\n",
       "      <td>0.0</td>\n",
       "      <td>0.0</td>\n",
       "      <td>0.0</td>\n",
       "      <td>0.0</td>\n",
       "      <td>0.0</td>\n",
       "      <td>0.0</td>\n",
       "      <td>0.0</td>\n",
       "      <td>0.0</td>\n",
       "    </tr>\n",
       "    <tr>\n",
       "      <th>{M_fum_c}</th>\n",
       "      <td>0.0</td>\n",
       "      <td>1.0</td>\n",
       "      <td>0.0</td>\n",
       "      <td>0.0</td>\n",
       "      <td>0.0</td>\n",
       "      <td>0.0</td>\n",
       "      <td>0.0</td>\n",
       "      <td>0.0</td>\n",
       "      <td>0.0</td>\n",
       "      <td>0.0</td>\n",
       "      <td>...</td>\n",
       "      <td>0.0</td>\n",
       "      <td>0.0</td>\n",
       "      <td>0.0</td>\n",
       "      <td>0.0</td>\n",
       "      <td>0.0</td>\n",
       "      <td>0.0</td>\n",
       "      <td>0.0</td>\n",
       "      <td>0.0</td>\n",
       "      <td>0.0</td>\n",
       "      <td>0.0</td>\n",
       "    </tr>\n",
       "    <tr>\n",
       "      <th>{M_bhb_c}</th>\n",
       "      <td>0.0</td>\n",
       "      <td>0.0</td>\n",
       "      <td>-1.0</td>\n",
       "      <td>0.0</td>\n",
       "      <td>0.0</td>\n",
       "      <td>0.0</td>\n",
       "      <td>0.0</td>\n",
       "      <td>0.0</td>\n",
       "      <td>0.0</td>\n",
       "      <td>0.0</td>\n",
       "      <td>...</td>\n",
       "      <td>0.0</td>\n",
       "      <td>0.0</td>\n",
       "      <td>0.0</td>\n",
       "      <td>0.0</td>\n",
       "      <td>0.0</td>\n",
       "      <td>0.0</td>\n",
       "      <td>0.0</td>\n",
       "      <td>0.0</td>\n",
       "      <td>0.0</td>\n",
       "      <td>0.0</td>\n",
       "    </tr>\n",
       "    <tr>\n",
       "      <th>{M_6pthp_c}</th>\n",
       "      <td>0.0</td>\n",
       "      <td>0.0</td>\n",
       "      <td>0.0</td>\n",
       "      <td>1.0</td>\n",
       "      <td>0.0</td>\n",
       "      <td>0.0</td>\n",
       "      <td>0.0</td>\n",
       "      <td>0.0</td>\n",
       "      <td>0.0</td>\n",
       "      <td>0.0</td>\n",
       "      <td>...</td>\n",
       "      <td>0.0</td>\n",
       "      <td>0.0</td>\n",
       "      <td>0.0</td>\n",
       "      <td>0.0</td>\n",
       "      <td>0.0</td>\n",
       "      <td>0.0</td>\n",
       "      <td>0.0</td>\n",
       "      <td>0.0</td>\n",
       "      <td>0.0</td>\n",
       "      <td>0.0</td>\n",
       "    </tr>\n",
       "    <tr>\n",
       "      <th>{M_gbdp_c}</th>\n",
       "      <td>0.0</td>\n",
       "      <td>0.0</td>\n",
       "      <td>0.0</td>\n",
       "      <td>0.0</td>\n",
       "      <td>-1.0</td>\n",
       "      <td>0.0</td>\n",
       "      <td>0.0</td>\n",
       "      <td>0.0</td>\n",
       "      <td>0.0</td>\n",
       "      <td>0.0</td>\n",
       "      <td>...</td>\n",
       "      <td>0.0</td>\n",
       "      <td>0.0</td>\n",
       "      <td>0.0</td>\n",
       "      <td>0.0</td>\n",
       "      <td>0.0</td>\n",
       "      <td>0.0</td>\n",
       "      <td>0.0</td>\n",
       "      <td>0.0</td>\n",
       "      <td>0.0</td>\n",
       "      <td>0.0</td>\n",
       "    </tr>\n",
       "    <tr>\n",
       "      <th>...</th>\n",
       "      <td>...</td>\n",
       "      <td>...</td>\n",
       "      <td>...</td>\n",
       "      <td>...</td>\n",
       "      <td>...</td>\n",
       "      <td>...</td>\n",
       "      <td>...</td>\n",
       "      <td>...</td>\n",
       "      <td>...</td>\n",
       "      <td>...</td>\n",
       "      <td>...</td>\n",
       "      <td>...</td>\n",
       "      <td>...</td>\n",
       "      <td>...</td>\n",
       "      <td>...</td>\n",
       "      <td>...</td>\n",
       "      <td>...</td>\n",
       "      <td>...</td>\n",
       "      <td>...</td>\n",
       "      <td>...</td>\n",
       "      <td>...</td>\n",
       "    </tr>\n",
       "    <tr>\n",
       "      <th>{M_2mcit_c=M_micit_c}</th>\n",
       "      <td>5.0</td>\n",
       "      <td>0.0</td>\n",
       "      <td>4.0</td>\n",
       "      <td>1.0</td>\n",
       "      <td>9.0</td>\n",
       "      <td>-7.0</td>\n",
       "      <td>11.0</td>\n",
       "      <td>0.0</td>\n",
       "      <td>8.0</td>\n",
       "      <td>3.0</td>\n",
       "      <td>...</td>\n",
       "      <td>0.0</td>\n",
       "      <td>0.0</td>\n",
       "      <td>0.0</td>\n",
       "      <td>0.0</td>\n",
       "      <td>0.0</td>\n",
       "      <td>0.0</td>\n",
       "      <td>0.0</td>\n",
       "      <td>0.0</td>\n",
       "      <td>0.0</td>\n",
       "      <td>0.0</td>\n",
       "    </tr>\n",
       "    <tr>\n",
       "      <th>{M_ara5p_c=M_r1p_c=M_r5p_c=M_ru5p__D_c=M_xu5p__D_c=M_xyl__D_c=M_xyl__D_e}</th>\n",
       "      <td>-133.0</td>\n",
       "      <td>-1.0</td>\n",
       "      <td>-34.0</td>\n",
       "      <td>43.0</td>\n",
       "      <td>-13.0</td>\n",
       "      <td>-10.0</td>\n",
       "      <td>45.0</td>\n",
       "      <td>0.0</td>\n",
       "      <td>-67.0</td>\n",
       "      <td>-126.0</td>\n",
       "      <td>...</td>\n",
       "      <td>0.0</td>\n",
       "      <td>0.0</td>\n",
       "      <td>0.0</td>\n",
       "      <td>0.0</td>\n",
       "      <td>0.0</td>\n",
       "      <td>0.0</td>\n",
       "      <td>0.0</td>\n",
       "      <td>0.0</td>\n",
       "      <td>0.0</td>\n",
       "      <td>0.0</td>\n",
       "    </tr>\n",
       "    <tr>\n",
       "      <th>{M_lac__L_c=M_lac__L_e}</th>\n",
       "      <td>0.0</td>\n",
       "      <td>0.0</td>\n",
       "      <td>-1.0</td>\n",
       "      <td>1.0</td>\n",
       "      <td>-1.0</td>\n",
       "      <td>1.0</td>\n",
       "      <td>-2.0</td>\n",
       "      <td>0.0</td>\n",
       "      <td>-2.0</td>\n",
       "      <td>1.0</td>\n",
       "      <td>...</td>\n",
       "      <td>0.0</td>\n",
       "      <td>0.0</td>\n",
       "      <td>0.0</td>\n",
       "      <td>0.0</td>\n",
       "      <td>0.0</td>\n",
       "      <td>0.0</td>\n",
       "      <td>0.0</td>\n",
       "      <td>0.0</td>\n",
       "      <td>0.0</td>\n",
       "      <td>0.0</td>\n",
       "    </tr>\n",
       "    <tr>\n",
       "      <th>{M_2hyoxplac_c=M_34dhpha_c}</th>\n",
       "      <td>-1.0</td>\n",
       "      <td>0.0</td>\n",
       "      <td>0.0</td>\n",
       "      <td>1.0</td>\n",
       "      <td>0.0</td>\n",
       "      <td>0.0</td>\n",
       "      <td>0.0</td>\n",
       "      <td>0.0</td>\n",
       "      <td>0.0</td>\n",
       "      <td>-2.0</td>\n",
       "      <td>...</td>\n",
       "      <td>0.0</td>\n",
       "      <td>0.0</td>\n",
       "      <td>0.0</td>\n",
       "      <td>0.0</td>\n",
       "      <td>0.0</td>\n",
       "      <td>0.0</td>\n",
       "      <td>0.0</td>\n",
       "      <td>0.0</td>\n",
       "      <td>0.0</td>\n",
       "      <td>0.0</td>\n",
       "    </tr>\n",
       "    <tr>\n",
       "      <th>{M_no2_c=M_no2_e}</th>\n",
       "      <td>0.0</td>\n",
       "      <td>0.0</td>\n",
       "      <td>0.0</td>\n",
       "      <td>0.0</td>\n",
       "      <td>0.0</td>\n",
       "      <td>0.0</td>\n",
       "      <td>0.0</td>\n",
       "      <td>0.0</td>\n",
       "      <td>0.0</td>\n",
       "      <td>0.0</td>\n",
       "      <td>...</td>\n",
       "      <td>0.0</td>\n",
       "      <td>0.0</td>\n",
       "      <td>0.0</td>\n",
       "      <td>0.0</td>\n",
       "      <td>0.0</td>\n",
       "      <td>0.0</td>\n",
       "      <td>0.0</td>\n",
       "      <td>0.0</td>\n",
       "      <td>0.0</td>\n",
       "      <td>0.0</td>\n",
       "    </tr>\n",
       "  </tbody>\n",
       "</table>\n",
       "<p>788 rows × 821 columns</p>\n",
       "</div>"
      ],
      "text/plain": [
       "                                                      0    1     2     3    \\\n",
       "{M_mqn7_c}                                           -1.0  0.0   0.0   0.0   \n",
       "{M_fum_c}                                             0.0  1.0   0.0   0.0   \n",
       "{M_bhb_c}                                             0.0  0.0  -1.0   0.0   \n",
       "{M_6pthp_c}                                           0.0  0.0   0.0   1.0   \n",
       "{M_gbdp_c}                                            0.0  0.0   0.0   0.0   \n",
       "...                                                   ...  ...   ...   ...   \n",
       "{M_2mcit_c=M_micit_c}                                 5.0  0.0   4.0   1.0   \n",
       "{M_ara5p_c=M_r1p_c=M_r5p_c=M_ru5p__D_c=M_xu5p__... -133.0 -1.0 -34.0  43.0   \n",
       "{M_lac__L_c=M_lac__L_e}                               0.0  0.0  -1.0   1.0   \n",
       "{M_2hyoxplac_c=M_34dhpha_c}                          -1.0  0.0   0.0   1.0   \n",
       "{M_no2_c=M_no2_e}                                     0.0  0.0   0.0   0.0   \n",
       "\n",
       "                                                     4     5     6    7    \\\n",
       "{M_mqn7_c}                                           0.0   0.0   0.0  0.0   \n",
       "{M_fum_c}                                            0.0   0.0   0.0  0.0   \n",
       "{M_bhb_c}                                            0.0   0.0   0.0  0.0   \n",
       "{M_6pthp_c}                                          0.0   0.0   0.0  0.0   \n",
       "{M_gbdp_c}                                          -1.0   0.0   0.0  0.0   \n",
       "...                                                  ...   ...   ...  ...   \n",
       "{M_2mcit_c=M_micit_c}                                9.0  -7.0  11.0  0.0   \n",
       "{M_ara5p_c=M_r1p_c=M_r5p_c=M_ru5p__D_c=M_xu5p__... -13.0 -10.0  45.0  0.0   \n",
       "{M_lac__L_c=M_lac__L_e}                             -1.0   1.0  -2.0  0.0   \n",
       "{M_2hyoxplac_c=M_34dhpha_c}                          0.0   0.0   0.0  0.0   \n",
       "{M_no2_c=M_no2_e}                                    0.0   0.0   0.0  0.0   \n",
       "\n",
       "                                                     8      9    ...  811  \\\n",
       "{M_mqn7_c}                                           0.0    0.0  ...  0.0   \n",
       "{M_fum_c}                                            0.0    0.0  ...  0.0   \n",
       "{M_bhb_c}                                            0.0    0.0  ...  0.0   \n",
       "{M_6pthp_c}                                          0.0    0.0  ...  0.0   \n",
       "{M_gbdp_c}                                           0.0    0.0  ...  0.0   \n",
       "...                                                  ...    ...  ...  ...   \n",
       "{M_2mcit_c=M_micit_c}                                8.0    3.0  ...  0.0   \n",
       "{M_ara5p_c=M_r1p_c=M_r5p_c=M_ru5p__D_c=M_xu5p__... -67.0 -126.0  ...  0.0   \n",
       "{M_lac__L_c=M_lac__L_e}                             -2.0    1.0  ...  0.0   \n",
       "{M_2hyoxplac_c=M_34dhpha_c}                          0.0   -2.0  ...  0.0   \n",
       "{M_no2_c=M_no2_e}                                    0.0    0.0  ...  0.0   \n",
       "\n",
       "                                                    812  813  814  815  816  \\\n",
       "{M_mqn7_c}                                          0.0  0.0  0.0  0.0  0.0   \n",
       "{M_fum_c}                                           0.0  0.0  0.0  0.0  0.0   \n",
       "{M_bhb_c}                                           0.0  0.0  0.0  0.0  0.0   \n",
       "{M_6pthp_c}                                         0.0  0.0  0.0  0.0  0.0   \n",
       "{M_gbdp_c}                                          0.0  0.0  0.0  0.0  0.0   \n",
       "...                                                 ...  ...  ...  ...  ...   \n",
       "{M_2mcit_c=M_micit_c}                               0.0  0.0  0.0  0.0  0.0   \n",
       "{M_ara5p_c=M_r1p_c=M_r5p_c=M_ru5p__D_c=M_xu5p__...  0.0  0.0  0.0  0.0  0.0   \n",
       "{M_lac__L_c=M_lac__L_e}                             0.0  0.0  0.0  0.0  0.0   \n",
       "{M_2hyoxplac_c=M_34dhpha_c}                         0.0  0.0  0.0  0.0  0.0   \n",
       "{M_no2_c=M_no2_e}                                   0.0  0.0  0.0  0.0  0.0   \n",
       "\n",
       "                                                    817  818  819  820  \n",
       "{M_mqn7_c}                                          0.0  0.0  0.0  0.0  \n",
       "{M_fum_c}                                           0.0  0.0  0.0  0.0  \n",
       "{M_bhb_c}                                           0.0  0.0  0.0  0.0  \n",
       "{M_6pthp_c}                                         0.0  0.0  0.0  0.0  \n",
       "{M_gbdp_c}                                          0.0  0.0  0.0  0.0  \n",
       "...                                                 ...  ...  ...  ...  \n",
       "{M_2mcit_c=M_micit_c}                               0.0  0.0  0.0  0.0  \n",
       "{M_ara5p_c=M_r1p_c=M_r5p_c=M_ru5p__D_c=M_xu5p__...  0.0  0.0  0.0  0.0  \n",
       "{M_lac__L_c=M_lac__L_e}                             0.0  0.0  0.0  0.0  \n",
       "{M_2hyoxplac_c=M_34dhpha_c}                         0.0  0.0  0.0  0.0  \n",
       "{M_no2_c=M_no2_e}                                   0.0  0.0  0.0  0.0  \n",
       "\n",
       "[788 rows x 821 columns]"
      ]
     },
     "execution_count": 99,
     "metadata": {},
     "output_type": "execute_result"
    }
   ],
   "source": [
    "for col in op_df.columns[:10]:\n",
    "  result_reaction = op_df"
   ]
  },
  {
   "cell_type": "code",
   "execution_count": null,
   "metadata": {},
   "outputs": [],
   "source": []
  },
  {
   "cell_type": "code",
   "execution_count": 79,
   "metadata": {},
   "outputs": [
    {
     "data": {
      "text/plain": [
       "6433"
      ]
     },
     "execution_count": 79,
     "metadata": {},
     "output_type": "execute_result"
    }
   ],
   "source": [
    "(((echelon_df < TOLERANCE) & (echelon_df > 0)).sum()).sum()"
   ]
  },
  {
   "cell_type": "code",
   "execution_count": 81,
   "metadata": {},
   "outputs": [
    {
     "data": {
      "text/plain": [
       "[ErrorSummnary(type='echelon', errors=[R_ASPO1:  -> 0.00 {M_o2_c=M_o2_e} + 0.11 {M_26dap_LL_c=M_26dap__M_c} + 0.14 {M_glc__D_c=M_glc__bD_c} + 0.20 {M_f6p_c=M_g1p_c=M_g6p_B_c=M_g6p_c=M_man1p_c=M_man6p_c} + 0.08 {M_prfp_c=M_prlp_c} + 0.06 {M_asp__D_c=M_asp__D_e=M_asp__L_c} + 0.06 {M_2obut_c=M_2obut_e} + 0.03 {M_ara5p_c=M_r1p_c=M_r5p_c=M_ru5p__D_c=M_xu5p__D_c=M_xyl__D_c=M_xyl__D_e} + 0.06 {M_no2_c=M_no2_e}, R_GLYCLTDy: 0.00 {M_asp__D_c=M_asp__D_e=M_asp__L_c} + 0.00 {M_2obut_c=M_2obut_e} + 0.00 {M_ara5p_c=M_r1p_c=M_r5p_c=M_ru5p__D_c=M_xu5p__D_c=M_xyl__D_c=M_xyl__D_e} + 0.01 {M_no2_c=M_no2_e} -> , R_P5CCD: 0.05 {M_asp__D_c=M_asp__D_e=M_asp__L_c} + 0.12 {M_2obut_c=M_2obut_e} + 0.12 {M_ara5p_c=M_r1p_c=M_r5p_c=M_ru5p__D_c=M_xu5p__D_c=M_xyl__D_c=M_xyl__D_e} + 0.37 {M_no2_c=M_no2_e} -> ])]"
      ]
     },
     "execution_count": 81,
     "metadata": {},
     "output_type": "execute_result"
    }
   ],
   "source": [
    "m_1000.error_summary"
   ]
  },
  {
   "cell_type": "code",
   "execution_count": 69,
   "metadata": {},
   "outputs": [],
   "source": [
    "# for MODEL_1000\n",
    "simple.getReaction(\"R_SEAHCYSHYD_1\")"
   ]
  },
  {
   "cell_type": "code",
   "execution_count": 15,
   "metadata": {},
   "outputs": [
    {
     "data": {
      "text/plain": [
       "R_SEAHCYSHYD: M_h2o_c + M_seahcys_c -> M_adn_c + M_selhcys_c"
      ]
     },
     "execution_count": 15,
     "metadata": {},
     "output_type": "execute_result"
    }
   ],
   "source": [
    "simple.getReaction(\"R_SEAHCYSHYD\")"
   ]
  },
  {
   "cell_type": "code",
   "execution_count": 16,
   "metadata": {},
   "outputs": [
    {
     "data": {
      "text/plain": [
       "M_h2o_c"
      ]
     },
     "execution_count": 16,
     "metadata": {},
     "output_type": "execute_result"
    }
   ],
   "source": [
    "simple.getMolecule(\"M_h2o_c\")"
   ]
  },
  {
   "cell_type": "code",
   "execution_count": 17,
   "metadata": {},
   "outputs": [
    {
     "data": {
      "text/plain": [
       "{M_adn_c}"
      ]
     },
     "execution_count": 17,
     "metadata": {},
     "output_type": "execute_result"
    }
   ],
   "source": [
    "m.getNode(simple.getMolecule(\"M_adn_c\"))"
   ]
  },
  {
   "cell_type": "code",
   "execution_count": 18,
   "metadata": {},
   "outputs": [
    {
     "name": "stdout",
     "output_type": "stream",
     "text": [
      "Index(['R_ENO'], dtype='object')\n",
      "R_ENO    1.0\n",
      "Name: R_ENO, dtype: float64\n"
     ]
    }
   ],
   "source": [
    "error_column = m.lower_inverse.T[m.echelon_errors[0].label]\n",
    "error_loc = error_column.to_numpy().nonzero()\n",
    "error_reactions = error_column.index[error_loc]\n",
    "print(error_reactions)\n",
    "print(error_column[error_loc[0]])"
   ]
  },
  {
   "cell_type": "code",
   "execution_count": 19,
   "metadata": {},
   "outputs": [
    {
     "data": {
      "text/plain": [
       "R_ENO: M_2pg_c -> M_h2o_c + M_pep_c"
      ]
     },
     "execution_count": 19,
     "metadata": {},
     "output_type": "execute_result"
    }
   ],
   "source": [
    "simple.getReaction(\"R_ENO\")"
   ]
  },
  {
   "cell_type": "code",
   "execution_count": 22,
   "metadata": {},
   "outputs": [
    {
     "data": {
      "text/plain": [
       "{M_2pg_c=M_3pg_c}"
      ]
     },
     "execution_count": 22,
     "metadata": {},
     "output_type": "execute_result"
    }
   ],
   "source": [
    "m.getNode(simple.getMolecule(\"M_2pg_c\"))"
   ]
  },
  {
   "cell_type": "code",
   "execution_count": 23,
   "metadata": {},
   "outputs": [],
   "source": [
    "# select_mat = m.som_stoichiometry_matrix[set(error_reactions)]\n",
    "# lp_mat = select_mat.loc[(select_mat!=0.0).any(axis=1)].T\n",
    "# nmet = lp_mat.shape[1]\n",
    "# # number of reactions\n",
    "# nreac = lp_mat.shape[0]  \n",
    "# #  \n",
    "# b = np.zeros(nreac)\n",
    "# c = np.ones(nmet)\n",
    "# # Linear programming. c is constraint (here, zero), \n",
    "# # b is vector of possible values for molecule vector. \n",
    "# lp_res = linprog(c, A_eq=lp_mat, b_eq=b, bounds=(1, None))\n",
    "# lp_res"
   ]
  },
  {
   "cell_type": "code",
   "execution_count": null,
   "metadata": {},
   "outputs": [],
   "source": []
  },
  {
   "cell_type": "code",
   "execution_count": null,
   "metadata": {},
   "outputs": [],
   "source": []
  },
  {
   "cell_type": "code",
   "execution_count": null,
   "metadata": {},
   "outputs": [],
   "source": []
  },
  {
   "cell_type": "code",
   "execution_count": null,
   "metadata": {},
   "outputs": [],
   "source": []
  },
  {
   "cell_type": "code",
   "execution_count": null,
   "metadata": {},
   "outputs": [],
   "source": []
  },
  {
   "cell_type": "code",
   "execution_count": null,
   "metadata": {},
   "outputs": [],
   "source": []
  }
 ],
 "metadata": {
  "kernelspec": {
   "display_name": "Python 3",
   "language": "python",
   "name": "python3"
  },
  "language_info": {
   "codemirror_mode": {
    "name": "ipython",
    "version": 3
   },
   "file_extension": ".py",
   "mimetype": "text/x-python",
   "name": "python",
   "nbconvert_exporter": "python",
   "pygments_lexer": "ipython3",
   "version": "3.6.10"
  }
 },
 "nbformat": 4,
 "nbformat_minor": 4
}
