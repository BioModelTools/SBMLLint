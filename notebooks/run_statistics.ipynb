{
 "cells": [
  {
   "cell_type": "code",
   "execution_count": 1,
   "metadata": {},
   "outputs": [
    {
     "name": "stdout",
     "output_type": "stream",
     "text": [
      "Current Directory: /Users/woosubs/Desktop/ModelEngineering/SBMLLint/SBMLLint/notebook\n"
     ]
    }
   ],
   "source": [
    "from games_setup import *\n",
    "import SBMLLint.common.constants as cn\n",
    "from SBMLLint.common.reaction import Reaction\n",
    "from SBMLLint.common.stoichiometry_matrix import StoichiometryMatrix\n",
    "from SBMLLint.games.som import SOM\n",
    "from SBMLLint.games.mesgraph import MESGraph\n",
    "from SBMLLint.games.games_pp import GAMES_PP, SOMStoichiometry, SOMReaction, TOLERANCE\n",
    "from SBMLLint.games.games_report import GAMESReport, SimplifiedReaction\n",
    "import collections\n",
    "import numpy as np\n",
    "import pandas as pd\n",
    "import matplotlib.pyplot as plt\n",
    "%matplotlib inline\n",
    "import time\n",
    "from scipy.linalg import lu, inv"
   ]
  },
  {
   "cell_type": "code",
   "execution_count": 2,
   "metadata": {},
   "outputs": [],
   "source": [
    "# The following models are not loadable by simple SBML\n",
    "EXCEPTIONS = [\"BIOMD0000000075_url.xml\",\n",
    "              \"BIOMD0000000081_url.xml\",\n",
    "              \"BIOMD0000000094_url.xml\",\n",
    "              \"BIOMD0000000353_url.xml\",\n",
    "              \"BIOMD0000000596_url.xml\",\n",
    "             ]\n",
    "data_dir=cn.BIOMODELS_DIR\n",
    "# we can remove EXCEPTIONS from files, as they are not loaded by simpleSBML\n",
    "raw_files = [f for f in os.listdir(data_dir) if f[:7] == \"BIOMD00\"]\n",
    "files = [f for f in raw_files if f not in EXCEPTIONS]\n",
    "paths = [os.path.join(data_dir, filename) for filename in files]"
   ]
  },
  {
   "cell_type": "code",
   "execution_count": 3,
   "metadata": {},
   "outputs": [
    {
     "data": {
      "text/plain": [
       "'/Users/woosubs/Desktop/ModelEngineering/SBMLLint/SBMLLint/data/biomodels'"
      ]
     },
     "execution_count": 3,
     "metadata": {},
     "output_type": "execute_result"
    }
   ],
   "source": [
    "data_dir"
   ]
  },
  {
   "cell_type": "code",
   "execution_count": 4,
   "metadata": {},
   "outputs": [
    {
     "data": {
      "text/plain": [
       "651"
      ]
     },
     "execution_count": 4,
     "metadata": {},
     "output_type": "execute_result"
    }
   ],
   "source": [
    "len(files)"
   ]
  },
  {
   "cell_type": "code",
   "execution_count": 5,
   "metadata": {},
   "outputs": [],
   "source": [
    "# statistics columns\n",
    "NUM_REACTIONS = \"num_reactions(nonbdry)\"\n",
    "LP_ERROR = \"lp_error\"\n",
    "GAMES_ERROR = \"games_error\"\n",
    "GAMESPP_ERROR = \"gamespp_error\"\n",
    "TYPEI_ERROR = \"type1_error\"\n",
    "TYPEII_ERROR = \"type2_error\"\n",
    "CANCELING_ERROR = \"canceling_error\"\n",
    "ECHELON_ERROR = \"echelon_error\"\n",
    "TYPEIII_ERROR = \"type3_error\"\n",
    "result_columns = [NUM_REACTIONS,\n",
    "                  LP_ERROR,\n",
    "                  GAMES_ERROR,\n",
    "                  GAMESPP_ERROR,\n",
    "                  TYPEI_ERROR,\n",
    "                  TYPEII_ERROR,\n",
    "                  CANCELING_ERROR,\n",
    "                  ECHELON_ERROR,\n",
    "                  TYPEIII_ERROR]\n",
    "## invertible matrix column? \n",
    "# INVERTIBLE = \"l_inverse\""
   ]
  },
  {
   "cell_type": "code",
   "execution_count": 6,
   "metadata": {},
   "outputs": [
    {
     "data": {
      "text/html": [
       "<div>\n",
       "<style scoped>\n",
       "    .dataframe tbody tr th:only-of-type {\n",
       "        vertical-align: middle;\n",
       "    }\n",
       "\n",
       "    .dataframe tbody tr th {\n",
       "        vertical-align: top;\n",
       "    }\n",
       "\n",
       "    .dataframe thead th {\n",
       "        text-align: right;\n",
       "    }\n",
       "</style>\n",
       "<table border=\"1\" class=\"dataframe\">\n",
       "  <thead>\n",
       "    <tr style=\"text-align: right;\">\n",
       "      <th></th>\n",
       "      <th>num_reactions(nonbdry)</th>\n",
       "      <th>lp_error</th>\n",
       "      <th>games_error</th>\n",
       "      <th>gamespp_error</th>\n",
       "      <th>type1_error</th>\n",
       "      <th>type2_error</th>\n",
       "      <th>canceling_error</th>\n",
       "      <th>echelon_error</th>\n",
       "      <th>type3_error</th>\n",
       "    </tr>\n",
       "  </thead>\n",
       "  <tbody>\n",
       "    <tr>\n",
       "      <th>BIOMD0000000199_url.xml</th>\n",
       "      <td>0</td>\n",
       "      <td>0</td>\n",
       "      <td>0</td>\n",
       "      <td>0</td>\n",
       "      <td>0</td>\n",
       "      <td>0</td>\n",
       "      <td>0</td>\n",
       "      <td>0</td>\n",
       "      <td>0</td>\n",
       "    </tr>\n",
       "    <tr>\n",
       "      <th>BIOMD0000000189_url.xml</th>\n",
       "      <td>0</td>\n",
       "      <td>0</td>\n",
       "      <td>0</td>\n",
       "      <td>0</td>\n",
       "      <td>0</td>\n",
       "      <td>0</td>\n",
       "      <td>0</td>\n",
       "      <td>0</td>\n",
       "      <td>0</td>\n",
       "    </tr>\n",
       "    <tr>\n",
       "      <th>BIOMD0000000387_url.xml</th>\n",
       "      <td>0</td>\n",
       "      <td>0</td>\n",
       "      <td>0</td>\n",
       "      <td>0</td>\n",
       "      <td>0</td>\n",
       "      <td>0</td>\n",
       "      <td>0</td>\n",
       "      <td>0</td>\n",
       "      <td>0</td>\n",
       "    </tr>\n",
       "    <tr>\n",
       "      <th>BIOMD0000000397_url.xml</th>\n",
       "      <td>0</td>\n",
       "      <td>0</td>\n",
       "      <td>0</td>\n",
       "      <td>0</td>\n",
       "      <td>0</td>\n",
       "      <td>0</td>\n",
       "      <td>0</td>\n",
       "      <td>0</td>\n",
       "      <td>0</td>\n",
       "    </tr>\n",
       "    <tr>\n",
       "      <th>BIOMD0000000413_url.xml</th>\n",
       "      <td>0</td>\n",
       "      <td>0</td>\n",
       "      <td>0</td>\n",
       "      <td>0</td>\n",
       "      <td>0</td>\n",
       "      <td>0</td>\n",
       "      <td>0</td>\n",
       "      <td>0</td>\n",
       "      <td>0</td>\n",
       "    </tr>\n",
       "  </tbody>\n",
       "</table>\n",
       "</div>"
      ],
      "text/plain": [
       "                         num_reactions(nonbdry)  lp_error  games_error  \\\n",
       "BIOMD0000000199_url.xml                       0         0            0   \n",
       "BIOMD0000000189_url.xml                       0         0            0   \n",
       "BIOMD0000000387_url.xml                       0         0            0   \n",
       "BIOMD0000000397_url.xml                       0         0            0   \n",
       "BIOMD0000000413_url.xml                       0         0            0   \n",
       "\n",
       "                         gamespp_error  type1_error  type2_error  \\\n",
       "BIOMD0000000199_url.xml              0            0            0   \n",
       "BIOMD0000000189_url.xml              0            0            0   \n",
       "BIOMD0000000387_url.xml              0            0            0   \n",
       "BIOMD0000000397_url.xml              0            0            0   \n",
       "BIOMD0000000413_url.xml              0            0            0   \n",
       "\n",
       "                         canceling_error  echelon_error  type3_error  \n",
       "BIOMD0000000199_url.xml                0              0            0  \n",
       "BIOMD0000000189_url.xml                0              0            0  \n",
       "BIOMD0000000387_url.xml                0              0            0  \n",
       "BIOMD0000000397_url.xml                0              0            0  \n",
       "BIOMD0000000413_url.xml                0              0            0  "
      ]
     },
     "execution_count": 6,
     "metadata": {},
     "output_type": "execute_result"
    }
   ],
   "source": [
    "results = pd.DataFrame(0, index=files, columns=result_columns)\n",
    "results[:5]"
   ]
  },
  {
   "cell_type": "code",
   "execution_count": null,
   "metadata": {},
   "outputs": [],
   "source": []
  },
  {
   "cell_type": "code",
   "execution_count": 7,
   "metadata": {},
   "outputs": [
    {
     "name": "stdout",
     "output_type": "stream",
     "text": [
      "consistent?  False\n"
     ]
    },
    {
     "name": "stderr",
     "output_type": "stream",
     "text": [
      "//anaconda3/envs/sbmllint_env/lib/python3.6/site-packages/scipy/optimize/_linprog_util.py:763: OptimizeWarning:\n",
      "\n",
      "A_eq does not appear to be of full row rank. To improve performance, check the problem formulation for redundant equality constraints.\n",
      "\n"
     ]
    }
   ],
   "source": [
    "simple = SimpleSBML()\n",
    "simple.initialize(os.path.join(data_dir, \"BIOMD0000000244_url.xml\"))\n",
    "s = StoichiometryMatrix(simple)\n",
    "consistent = s.isConsistent()\n",
    "print(\"consistent? \", consistent)"
   ]
  },
  {
   "cell_type": "code",
   "execution_count": 8,
   "metadata": {},
   "outputs": [
    {
     "name": "stderr",
     "output_type": "stream",
     "text": [
      "/Users/woosubs/Desktop/ModelEngineering/SBMLLint/SBMLLint/SBMLLint/common/stoichiometry_matrix.py:88: OptimizeWarning:\n",
      "\n",
      "Solving system with option 'cholesky':True failed. It is normal for this to happen occasionally, especially as the solution is approached. However, if you see this frequently, consider setting option 'cholesky' to False.\n",
      "\n",
      "/Users/woosubs/Desktop/ModelEngineering/SBMLLint/SBMLLint/SBMLLint/common/stoichiometry_matrix.py:88: OptimizeWarning:\n",
      "\n",
      "Solving system with option 'sym_pos':True failed. It is normal for this to happen occasionally, especially as the solution is approached. However, if you see this frequently, consider setting option 'sym_pos' to False.\n",
      "\n",
      "//anaconda3/envs/sbmllint_env/lib/python3.6/site-packages/scipy/optimize/_linprog_ip.py:110: LinAlgWarning:\n",
      "\n",
      "Ill-conditioned matrix (rcond=5.45464e-39): result may not be accurate.\n",
      "\n",
      "//anaconda3/envs/sbmllint_env/lib/python3.6/site-packages/scipy/optimize/_linprog_ip.py:110: LinAlgWarning:\n",
      "\n",
      "Ill-conditioned matrix (rcond=1.12904e-35): result may not be accurate.\n",
      "\n",
      "//anaconda3/envs/sbmllint_env/lib/python3.6/site-packages/scipy/optimize/_linprog_ip.py:110: LinAlgWarning:\n",
      "\n",
      "Ill-conditioned matrix (rcond=3.1411e-35): result may not be accurate.\n",
      "\n",
      "//anaconda3/envs/sbmllint_env/lib/python3.6/site-packages/scipy/optimize/_linprog_ip.py:110: LinAlgWarning:\n",
      "\n",
      "Ill-conditioned matrix (rcond=5.4561e-36): result may not be accurate.\n",
      "\n",
      "//anaconda3/envs/sbmllint_env/lib/python3.6/site-packages/scipy/optimize/_linprog_ip.py:110: LinAlgWarning:\n",
      "\n",
      "Ill-conditioned matrix (rcond=4.63069e-36): result may not be accurate.\n",
      "\n",
      "//anaconda3/envs/sbmllint_env/lib/python3.6/site-packages/scipy/optimize/_linprog_ip.py:110: LinAlgWarning:\n",
      "\n",
      "Ill-conditioned matrix (rcond=1.0886e-36): result may not be accurate.\n",
      "\n",
      "//anaconda3/envs/sbmllint_env/lib/python3.6/site-packages/scipy/optimize/_linprog_ip.py:110: LinAlgWarning:\n",
      "\n",
      "Ill-conditioned matrix (rcond=1.32519e-38): result may not be accurate.\n",
      "\n",
      "//anaconda3/envs/sbmllint_env/lib/python3.6/site-packages/scipy/optimize/_linprog_ip.py:110: LinAlgWarning:\n",
      "\n",
      "Ill-conditioned matrix (rcond=1.8947e-42): result may not be accurate.\n",
      "\n",
      "//anaconda3/envs/sbmllint_env/lib/python3.6/site-packages/scipy/optimize/_linprog_ip.py:110: LinAlgWarning:\n",
      "\n",
      "Ill-conditioned matrix (rcond=3.30406e-19): result may not be accurate.\n",
      "\n",
      "//anaconda3/envs/sbmllint_env/lib/python3.6/site-packages/scipy/optimize/_linprog_ip.py:110: LinAlgWarning:\n",
      "\n",
      "Ill-conditioned matrix (rcond=7.4024e-24): result may not be accurate.\n",
      "\n",
      "//anaconda3/envs/sbmllint_env/lib/python3.6/site-packages/scipy/optimize/_linprog_ip.py:110: LinAlgWarning:\n",
      "\n",
      "Ill-conditioned matrix (rcond=1.24993e-22): result may not be accurate.\n",
      "\n",
      "//anaconda3/envs/sbmllint_env/lib/python3.6/site-packages/scipy/optimize/_linprog_ip.py:110: LinAlgWarning:\n",
      "\n",
      "Ill-conditioned matrix (rcond=3.77201e-23): result may not be accurate.\n",
      "\n",
      "//anaconda3/envs/sbmllint_env/lib/python3.6/site-packages/scipy/optimize/_linprog_ip.py:110: LinAlgWarning:\n",
      "\n",
      "Ill-conditioned matrix (rcond=5.25014e-24): result may not be accurate.\n",
      "\n",
      "//anaconda3/envs/sbmllint_env/lib/python3.6/site-packages/scipy/optimize/_linprog_ip.py:110: LinAlgWarning:\n",
      "\n",
      "Ill-conditioned matrix (rcond=7.91279e-20): result may not be accurate.\n",
      "\n"
     ]
    },
    {
     "name": "stdout",
     "output_type": "stream",
     "text": [
      "we are analyzing Model number: 100\n"
     ]
    },
    {
     "name": "stderr",
     "output_type": "stream",
     "text": [
      "//anaconda3/envs/sbmllint_env/lib/python3.6/site-packages/scipy/optimize/_linprog_ip.py:110: LinAlgWarning:\n",
      "\n",
      "Ill-conditioned matrix (rcond=1.04018e-19): result may not be accurate.\n",
      "\n",
      "//anaconda3/envs/sbmllint_env/lib/python3.6/site-packages/scipy/optimize/_linprog_ip.py:110: LinAlgWarning:\n",
      "\n",
      "Ill-conditioned matrix (rcond=1.88655e-35): result may not be accurate.\n",
      "\n",
      "//anaconda3/envs/sbmllint_env/lib/python3.6/site-packages/scipy/optimize/_linprog_ip.py:110: LinAlgWarning:\n",
      "\n",
      "Ill-conditioned matrix (rcond=1.05148e-19): result may not be accurate.\n",
      "\n",
      "//anaconda3/envs/sbmllint_env/lib/python3.6/site-packages/scipy/optimize/_linprog_ip.py:110: LinAlgWarning:\n",
      "\n",
      "Ill-conditioned matrix (rcond=1.6748e-19): result may not be accurate.\n",
      "\n",
      "//anaconda3/envs/sbmllint_env/lib/python3.6/site-packages/scipy/optimize/_linprog_ip.py:110: LinAlgWarning:\n",
      "\n",
      "Ill-conditioned matrix (rcond=5.83777e-20): result may not be accurate.\n",
      "\n",
      "//anaconda3/envs/sbmllint_env/lib/python3.6/site-packages/scipy/optimize/_linprog_ip.py:110: LinAlgWarning:\n",
      "\n",
      "Ill-conditioned matrix (rcond=4.65813e-20): result may not be accurate.\n",
      "\n"
     ]
    },
    {
     "name": "stdout",
     "output_type": "stream",
     "text": [
      "we are analyzing Model number: 200\n"
     ]
    },
    {
     "name": "stderr",
     "output_type": "stream",
     "text": [
      "//anaconda3/envs/sbmllint_env/lib/python3.6/site-packages/scipy/optimize/_linprog_ip.py:110: LinAlgWarning:\n",
      "\n",
      "Ill-conditioned matrix (rcond=4.36544e-18): result may not be accurate.\n",
      "\n",
      "//anaconda3/envs/sbmllint_env/lib/python3.6/site-packages/scipy/optimize/_linprog_ip.py:110: LinAlgWarning:\n",
      "\n",
      "Ill-conditioned matrix (rcond=8.60304e-19): result may not be accurate.\n",
      "\n",
      "/Users/woosubs/Desktop/ModelEngineering/SBMLLint/SBMLLint/SBMLLint/common/stoichiometry_matrix.py:88: OptimizeWarning:\n",
      "\n",
      "Solving system with option 'sym_pos':False failed. This may happen occasionally, especially as the solution is approached. However, if you see this frequently, your problem may be numerically challenging. If you cannot improve the formulation, consider setting 'lstsq' to True. Consider also setting `presolve` to True, if it is not already.\n",
      "\n"
     ]
    },
    {
     "name": "stdout",
     "output_type": "stream",
     "text": [
      "we are analyzing Model number: 300\n"
     ]
    },
    {
     "name": "stderr",
     "output_type": "stream",
     "text": [
      "//anaconda3/envs/sbmllint_env/lib/python3.6/site-packages/scipy/optimize/_linprog_ip.py:110: LinAlgWarning:\n",
      "\n",
      "Ill-conditioned matrix (rcond=2.5285e-18): result may not be accurate.\n",
      "\n",
      "//anaconda3/envs/sbmllint_env/lib/python3.6/site-packages/scipy/optimize/_linprog_ip.py:110: LinAlgWarning:\n",
      "\n",
      "Ill-conditioned matrix (rcond=1.09031e-20): result may not be accurate.\n",
      "\n"
     ]
    },
    {
     "name": "stdout",
     "output_type": "stream",
     "text": [
      "we are analyzing Model number: 400\n"
     ]
    },
    {
     "name": "stderr",
     "output_type": "stream",
     "text": [
      "//anaconda3/envs/sbmllint_env/lib/python3.6/site-packages/scipy/optimize/_linprog_ip.py:110: LinAlgWarning:\n",
      "\n",
      "Ill-conditioned matrix (rcond=3.89357e-19): result may not be accurate.\n",
      "\n",
      "//anaconda3/envs/sbmllint_env/lib/python3.6/site-packages/scipy/optimize/_linprog_ip.py:110: LinAlgWarning:\n",
      "\n",
      "Ill-conditioned matrix (rcond=1.77837e-19): result may not be accurate.\n",
      "\n",
      "//anaconda3/envs/sbmllint_env/lib/python3.6/site-packages/scipy/optimize/_linprog_ip.py:110: LinAlgWarning:\n",
      "\n",
      "Ill-conditioned matrix (rcond=3.78425e-18): result may not be accurate.\n",
      "\n",
      "//anaconda3/envs/sbmllint_env/lib/python3.6/site-packages/scipy/optimize/_linprog_ip.py:110: LinAlgWarning:\n",
      "\n",
      "Ill-conditioned matrix (rcond=3.75545e-20): result may not be accurate.\n",
      "\n"
     ]
    },
    {
     "name": "stdout",
     "output_type": "stream",
     "text": [
      "we are analyzing Model number: 500\n"
     ]
    },
    {
     "name": "stderr",
     "output_type": "stream",
     "text": [
      "//anaconda3/envs/sbmllint_env/lib/python3.6/site-packages/scipy/optimize/_linprog_ip.py:110: LinAlgWarning:\n",
      "\n",
      "Ill-conditioned matrix (rcond=1.88272e-19): result may not be accurate.\n",
      "\n",
      "//anaconda3/envs/sbmllint_env/lib/python3.6/site-packages/scipy/optimize/_linprog_ip.py:110: LinAlgWarning:\n",
      "\n",
      "Ill-conditioned matrix (rcond=1.49388e-18): result may not be accurate.\n",
      "\n",
      "//anaconda3/envs/sbmllint_env/lib/python3.6/site-packages/scipy/optimize/_linprog_ip.py:110: LinAlgWarning:\n",
      "\n",
      "Ill-conditioned matrix (rcond=3.67095e-36): result may not be accurate.\n",
      "\n",
      "//anaconda3/envs/sbmllint_env/lib/python3.6/site-packages/scipy/optimize/_linprog_ip.py:110: LinAlgWarning:\n",
      "\n",
      "Ill-conditioned matrix (rcond=1.78232e-19): result may not be accurate.\n",
      "\n",
      "//anaconda3/envs/sbmllint_env/lib/python3.6/site-packages/scipy/optimize/_linprog_ip.py:110: LinAlgWarning:\n",
      "\n",
      "Ill-conditioned matrix (rcond=1.10128e-35): result may not be accurate.\n",
      "\n",
      "//anaconda3/envs/sbmllint_env/lib/python3.6/site-packages/scipy/optimize/_linprog_ip.py:110: LinAlgWarning:\n",
      "\n",
      "Ill-conditioned matrix (rcond=3.58365e-19): result may not be accurate.\n",
      "\n",
      "//anaconda3/envs/sbmllint_env/lib/python3.6/site-packages/scipy/optimize/_linprog_ip.py:110: LinAlgWarning:\n",
      "\n",
      "Ill-conditioned matrix (rcond=2.76768e-18): result may not be accurate.\n",
      "\n"
     ]
    },
    {
     "name": "stdout",
     "output_type": "stream",
     "text": [
      "we are analyzing Model number: 600\n"
     ]
    },
    {
     "name": "stderr",
     "output_type": "stream",
     "text": [
      "//anaconda3/envs/sbmllint_env/lib/python3.6/site-packages/scipy/optimize/_linprog_ip.py:110: LinAlgWarning:\n",
      "\n",
      "Ill-conditioned matrix (rcond=1.31854e-21): result may not be accurate.\n",
      "\n",
      "//anaconda3/envs/sbmllint_env/lib/python3.6/site-packages/scipy/optimize/_linprog_ip.py:110: LinAlgWarning:\n",
      "\n",
      "Ill-conditioned matrix (rcond=2.42617e-21): result may not be accurate.\n",
      "\n",
      "//anaconda3/envs/sbmllint_env/lib/python3.6/site-packages/scipy/optimize/_linprog_ip.py:110: LinAlgWarning:\n",
      "\n",
      "Ill-conditioned matrix (rcond=1.94225e-39): result may not be accurate.\n",
      "\n",
      "//anaconda3/envs/sbmllint_env/lib/python3.6/site-packages/scipy/optimize/_linprog_ip.py:110: LinAlgWarning:\n",
      "\n",
      "Ill-conditioned matrix (rcond=2.8262e-27): result may not be accurate.\n",
      "\n",
      "//anaconda3/envs/sbmllint_env/lib/python3.6/site-packages/scipy/optimize/_linprog_ip.py:110: LinAlgWarning:\n",
      "\n",
      "Ill-conditioned matrix (rcond=2.34782e-24): result may not be accurate.\n",
      "\n",
      "//anaconda3/envs/sbmllint_env/lib/python3.6/site-packages/scipy/optimize/_linprog_ip.py:110: LinAlgWarning:\n",
      "\n",
      "Ill-conditioned matrix (rcond=5.24629e-25): result may not be accurate.\n",
      "\n",
      "//anaconda3/envs/sbmllint_env/lib/python3.6/site-packages/scipy/optimize/_linprog_ip.py:110: LinAlgWarning:\n",
      "\n",
      "Ill-conditioned matrix (rcond=1.36197e-24): result may not be accurate.\n",
      "\n",
      "//anaconda3/envs/sbmllint_env/lib/python3.6/site-packages/scipy/optimize/_linprog_ip.py:110: LinAlgWarning:\n",
      "\n",
      "Ill-conditioned matrix (rcond=4.37713e-25): result may not be accurate.\n",
      "\n",
      "//anaconda3/envs/sbmllint_env/lib/python3.6/site-packages/scipy/optimize/_linprog_ip.py:110: LinAlgWarning:\n",
      "\n",
      "Ill-conditioned matrix (rcond=4.41197e-26): result may not be accurate.\n",
      "\n",
      "//anaconda3/envs/sbmllint_env/lib/python3.6/site-packages/scipy/optimize/_linprog_ip.py:110: LinAlgWarning:\n",
      "\n",
      "Ill-conditioned matrix (rcond=1.46257e-23): result may not be accurate.\n",
      "\n",
      "//anaconda3/envs/sbmllint_env/lib/python3.6/site-packages/scipy/optimize/_linprog_ip.py:110: LinAlgWarning:\n",
      "\n",
      "Ill-conditioned matrix (rcond=1.31485e-23): result may not be accurate.\n",
      "\n",
      "//anaconda3/envs/sbmllint_env/lib/python3.6/site-packages/scipy/optimize/_linprog_ip.py:110: LinAlgWarning:\n",
      "\n",
      "Ill-conditioned matrix (rcond=8.01852e-24): result may not be accurate.\n",
      "\n",
      "//anaconda3/envs/sbmllint_env/lib/python3.6/site-packages/scipy/optimize/_linprog_ip.py:110: LinAlgWarning:\n",
      "\n",
      "Ill-conditioned matrix (rcond=1.10251e-23): result may not be accurate.\n",
      "\n",
      "//anaconda3/envs/sbmllint_env/lib/python3.6/site-packages/scipy/optimize/_linprog_ip.py:110: LinAlgWarning:\n",
      "\n",
      "Ill-conditioned matrix (rcond=2.97798e-23): result may not be accurate.\n",
      "\n",
      "//anaconda3/envs/sbmllint_env/lib/python3.6/site-packages/scipy/optimize/_linprog_ip.py:110: LinAlgWarning:\n",
      "\n",
      "Ill-conditioned matrix (rcond=4.73527e-23): result may not be accurate.\n",
      "\n",
      "//anaconda3/envs/sbmllint_env/lib/python3.6/site-packages/scipy/optimize/_linprog_ip.py:110: LinAlgWarning:\n",
      "\n",
      "Ill-conditioned matrix (rcond=5.32892e-22): result may not be accurate.\n",
      "\n",
      "//anaconda3/envs/sbmllint_env/lib/python3.6/site-packages/scipy/optimize/_linprog_ip.py:110: LinAlgWarning:\n",
      "\n",
      "Ill-conditioned matrix (rcond=5.01974e-23): result may not be accurate.\n",
      "\n",
      "//anaconda3/envs/sbmllint_env/lib/python3.6/site-packages/scipy/optimize/_linprog_ip.py:110: LinAlgWarning:\n",
      "\n",
      "Ill-conditioned matrix (rcond=1.87308e-35): result may not be accurate.\n",
      "\n",
      "//anaconda3/envs/sbmllint_env/lib/python3.6/site-packages/scipy/optimize/_linprog_ip.py:110: LinAlgWarning:\n",
      "\n",
      "Ill-conditioned matrix (rcond=6.8005e-24): result may not be accurate.\n",
      "\n",
      "//anaconda3/envs/sbmllint_env/lib/python3.6/site-packages/scipy/optimize/_linprog_ip.py:110: LinAlgWarning:\n",
      "\n",
      "Ill-conditioned matrix (rcond=1.27194e-38): result may not be accurate.\n",
      "\n",
      "//anaconda3/envs/sbmllint_env/lib/python3.6/site-packages/scipy/optimize/_linprog_ip.py:110: LinAlgWarning:\n",
      "\n",
      "Ill-conditioned matrix (rcond=4.55872e-23): result may not be accurate.\n",
      "\n",
      "//anaconda3/envs/sbmllint_env/lib/python3.6/site-packages/scipy/optimize/_linprog_ip.py:110: LinAlgWarning:\n",
      "\n",
      "Ill-conditioned matrix (rcond=1.507e-37): result may not be accurate.\n",
      "\n",
      "//anaconda3/envs/sbmllint_env/lib/python3.6/site-packages/scipy/optimize/_linprog_ip.py:110: LinAlgWarning:\n",
      "\n",
      "Ill-conditioned matrix (rcond=5.21744e-23): result may not be accurate.\n",
      "\n",
      "//anaconda3/envs/sbmllint_env/lib/python3.6/site-packages/scipy/optimize/_linprog_ip.py:110: LinAlgWarning:\n",
      "\n",
      "Ill-conditioned matrix (rcond=8.7186e-38): result may not be accurate.\n",
      "\n",
      "//anaconda3/envs/sbmllint_env/lib/python3.6/site-packages/scipy/optimize/_linprog_ip.py:110: LinAlgWarning:\n",
      "\n",
      "Ill-conditioned matrix (rcond=1.53165e-22): result may not be accurate.\n",
      "\n",
      "//anaconda3/envs/sbmllint_env/lib/python3.6/site-packages/scipy/optimize/_linprog_ip.py:110: LinAlgWarning:\n",
      "\n",
      "Ill-conditioned matrix (rcond=1.1622e-23): result may not be accurate.\n",
      "\n",
      "//anaconda3/envs/sbmllint_env/lib/python3.6/site-packages/scipy/optimize/_linprog_ip.py:110: LinAlgWarning:\n",
      "\n",
      "Ill-conditioned matrix (rcond=1.47999e-22): result may not be accurate.\n",
      "\n",
      "//anaconda3/envs/sbmllint_env/lib/python3.6/site-packages/scipy/optimize/_linprog_ip.py:110: LinAlgWarning:\n",
      "\n",
      "Ill-conditioned matrix (rcond=3.53679e-19): result may not be accurate.\n",
      "\n"
     ]
    },
    {
     "name": "stdout",
     "output_type": "stream",
     "text": [
      "Analysis finished!\n",
      "LP time: 44.068581104278564\n"
     ]
    }
   ],
   "source": [
    "# LP only\n",
    "simple = SimpleSBML()\n",
    "count = 0\n",
    "lp_start = time.time()\n",
    "for file in files:\n",
    "  count += 1\n",
    "  if (count%100)==0:\n",
    "    print(\"we are analyzing Model number:\", count)\n",
    "  try:\n",
    "    simple.initialize(os.path.join(data_dir, file))\n",
    "    s = StoichiometryMatrix(simple)\n",
    "    num_reactions = s.stoichiometry_matrix.shape[1]\n",
    "    results.at[file, NUM_REACTIONS] = num_reactions\n",
    "    if num_reactions:\n",
    "      consistent = s.isConsistent()\n",
    "    else:\n",
    "      consistent = -1\n",
    "    results.at[file, LP_ERROR] = 1 - int(consistent)\n",
    "  except:\n",
    "    results.at[file, LP_ERROR] = -1\n",
    "lp_end = time.time()\n",
    "lp_time = lp_end - lp_start\n",
    "print(\"Analysis finished!\")\n",
    "print(\"LP time:\", lp_time)"
   ]
  },
  {
   "cell_type": "code",
   "execution_count": 9,
   "metadata": {},
   "outputs": [
    {
     "name": "stdout",
     "output_type": "stream",
     "text": [
      "(Mean) ISS for LP is: 55.51048951048951\n",
      "(STD) ISS for LP is: 94.38982308045166\n"
     ]
    }
   ],
   "source": [
    "lp_results = results[results[LP_ERROR] == 1]\n",
    "len(lp_results)\n",
    "print(\"(Mean) ISS for LP is:\", np.mean(lp_results[NUM_REACTIONS]))\n",
    "print(\"(STD) ISS for LP is:\", np.std(lp_results[NUM_REACTIONS]))"
   ]
  },
  {
   "cell_type": "code",
   "execution_count": 10,
   "metadata": {},
   "outputs": [
    {
     "data": {
      "text/plain": [
       "143"
      ]
     },
     "execution_count": 10,
     "metadata": {},
     "output_type": "execute_result"
    }
   ],
   "source": [
    "len(results[results[LP_ERROR]==1])"
   ]
  },
  {
   "cell_type": "code",
   "execution_count": 11,
   "metadata": {},
   "outputs": [
    {
     "data": {
      "text/plain": [
       "0"
      ]
     },
     "execution_count": 11,
     "metadata": {},
     "output_type": "execute_result"
    }
   ],
   "source": [
    "len(results[results[LP_ERROR]==-1])"
   ]
  },
  {
   "cell_type": "code",
   "execution_count": 1,
   "metadata": {},
   "outputs": [
    {
     "ename": "NameError",
     "evalue": "name 'SimpleSBML' is not defined",
     "output_type": "error",
     "traceback": [
      "\u001b[0;31m---------------------------------------------------------------------------\u001b[0m",
      "\u001b[0;31mNameError\u001b[0m                                 Traceback (most recent call last)",
      "\u001b[0;32m<ipython-input-1-f8aeed4a345a>\u001b[0m in \u001b[0;36m<module>\u001b[0;34m\u001b[0m\n\u001b[1;32m      1\u001b[0m \u001b[0;31m# GAMES only\u001b[0m\u001b[0;34m\u001b[0m\u001b[0;34m\u001b[0m\u001b[0;34m\u001b[0m\u001b[0m\n\u001b[0;32m----> 2\u001b[0;31m \u001b[0msimple\u001b[0m \u001b[0;34m=\u001b[0m \u001b[0mSimpleSBML\u001b[0m\u001b[0;34m(\u001b[0m\u001b[0;34m)\u001b[0m\u001b[0;34m\u001b[0m\u001b[0;34m\u001b[0m\u001b[0m\n\u001b[0m\u001b[1;32m      3\u001b[0m \u001b[0mcount\u001b[0m \u001b[0;34m=\u001b[0m \u001b[0;36m0\u001b[0m\u001b[0;34m\u001b[0m\u001b[0;34m\u001b[0m\u001b[0m\n\u001b[1;32m      4\u001b[0m \u001b[0mgames_start\u001b[0m \u001b[0;34m=\u001b[0m \u001b[0mtime\u001b[0m\u001b[0;34m.\u001b[0m\u001b[0mtime\u001b[0m\u001b[0;34m(\u001b[0m\u001b[0;34m)\u001b[0m\u001b[0;34m\u001b[0m\u001b[0;34m\u001b[0m\u001b[0m\n\u001b[1;32m      5\u001b[0m \u001b[0;32mfor\u001b[0m \u001b[0mfile\u001b[0m \u001b[0;32min\u001b[0m \u001b[0mfiles\u001b[0m\u001b[0;34m:\u001b[0m\u001b[0;34m\u001b[0m\u001b[0;34m\u001b[0m\u001b[0m\n",
      "\u001b[0;31mNameError\u001b[0m: name 'SimpleSBML' is not defined"
     ]
    }
   ],
   "source": [
    "# GAMES only\n",
    "simple = SimpleSBML()\n",
    "count = 0\n",
    "games_start = time.time()\n",
    "for file in files:\n",
    "  count += 1\n",
    "  if (count%100)==0:\n",
    "    print(\"we are analyzing Model number:\", count)\n",
    "  try:\n",
    "    simple.initialize(os.path.join(data_dir, file))\n",
    "    m = GAMES_PP(simple)\n",
    "    if simple.reactions:\n",
    "      res = m.analyze(simple_games=True, error_details=False)\n",
    "      results.at[file, GAMES_ERROR] = int(res)\n",
    "      if res:\n",
    "        gr = GAMESReport(m)\n",
    "        summary = m.error_summary\n",
    "        if m.type_one_errors:\n",
    "          results.at[file, TYPEI_ERROR] = len(m.type_one_errors)\n",
    "          report, error_num = gr.reportTypeOneError(m.type_one_errors, explain_details=True)\n",
    "        if m.type_two_errors:\n",
    "          results.at[file, TYPEII_ERROR] = len(m.type_two_errors)\n",
    "          report, error_num = gr.reportTypeTwoError(m.type_two_errors, explain_details=True)\n",
    "  except:\n",
    "    results.at[file, GAMES_ERROR] = -1   \n",
    "games_end = time.time()\n",
    "games_time = games_end - games_start\n",
    "print(\"Analysis finished!\")\n",
    "print(\"GAMES time:\", games_time)"
   ]
  },
  {
   "cell_type": "code",
   "execution_count": 13,
   "metadata": {},
   "outputs": [
    {
     "name": "stdout",
     "output_type": "stream",
     "text": [
      "number of detected errors:  109\n",
      "number of GAMES but not in LP 0\n"
     ]
    }
   ],
   "source": [
    "print(\"number of detected errors: \", len(results[results[GAMES_ERROR]==1]))\n",
    "print(\"number of GAMES but not in LP\", len(results[(results[GAMES_ERROR]==1) & (results[LP_ERROR]!=1)]))"
   ]
  },
  {
   "cell_type": "code",
   "execution_count": 14,
   "metadata": {},
   "outputs": [
    {
     "data": {
      "text/html": [
       "<div>\n",
       "<style scoped>\n",
       "    .dataframe tbody tr th:only-of-type {\n",
       "        vertical-align: middle;\n",
       "    }\n",
       "\n",
       "    .dataframe tbody tr th {\n",
       "        vertical-align: top;\n",
       "    }\n",
       "\n",
       "    .dataframe thead th {\n",
       "        text-align: right;\n",
       "    }\n",
       "</style>\n",
       "<table border=\"1\" class=\"dataframe\">\n",
       "  <thead>\n",
       "    <tr style=\"text-align: right;\">\n",
       "      <th></th>\n",
       "      <th>num_reactions(nonbdry)</th>\n",
       "      <th>lp_error</th>\n",
       "      <th>games_error</th>\n",
       "      <th>gamespp_error</th>\n",
       "      <th>type1_error</th>\n",
       "      <th>type2_error</th>\n",
       "      <th>canceling_error</th>\n",
       "      <th>echelon_error</th>\n",
       "      <th>type3_error</th>\n",
       "    </tr>\n",
       "  </thead>\n",
       "  <tbody>\n",
       "  </tbody>\n",
       "</table>\n",
       "</div>"
      ],
      "text/plain": [
       "Empty DataFrame\n",
       "Columns: [num_reactions(nonbdry), lp_error, games_error, gamespp_error, type1_error, type2_error, canceling_error, echelon_error, type3_error]\n",
       "Index: []"
      ]
     },
     "execution_count": 14,
     "metadata": {},
     "output_type": "execute_result"
    }
   ],
   "source": [
    "results[results[GAMES_ERROR]==-1]"
   ]
  },
  {
   "cell_type": "code",
   "execution_count": 15,
   "metadata": {},
   "outputs": [
    {
     "name": "stdout",
     "output_type": "stream",
     "text": [
      "we are analyzing Model number: 100\n",
      "we are analyzing Model number: 200\n",
      "we are analyzing Model number: 300\n",
      "we are analyzing Model number: 400\n",
      "we are analyzing Model number: 500\n",
      "we are analyzing Model number: 600\n",
      "\n",
      "Analysis finished!\n",
      "GAMES++ time: 192.53740882873535\n"
     ]
    }
   ],
   "source": [
    "# GAMES+\n",
    "# file, GAMES_ERROR coding:\n",
    "# 0; normal - no error found\n",
    "# -1; not loaded or error found\n",
    "# 1; normal - error found\n",
    "# 2; echelon error found, but it is not explainable\n",
    "# 3; type III error found, but it is not explainable\n",
    "simple = SimpleSBML()\n",
    "count = 0\n",
    "gamespp_start = time.time()\n",
    "for file in files:\n",
    "  count += 1\n",
    "  if (count%100)==0:\n",
    "    print(\"we are analyzing Model number:\", count)\n",
    "  try:\n",
    "    simple.initialize(os.path.join(data_dir, file))\n",
    "    m = GAMES_PP(simple)\n",
    "    if simple.reactions:\n",
    "      res = m.analyze(simple_games=False, error_details=False)\n",
    "      results.at[file, GAMESPP_ERROR] = int(res)\n",
    "      if res:\n",
    "#         if m.echelon_errors or m.type_three_errors:\n",
    "#           try:\n",
    "#             #k = inv(m.lower)\n",
    "#             k = np.linalg.inv(m.lower)\n",
    "#           except:\n",
    "#             print(\"model %s has as a singular L matrix:\" % file)\n",
    "#         condition_number = np.linalg.cond(m.lower)\n",
    "#         if condition_number > 300:\n",
    "#           print(\"*****The L matrix of the model %s has a condition number %f*****\" % (file, condition_number))\n",
    "        gr = GAMESReport(m)\n",
    "        summary = m.error_summary\n",
    "        if m.type_one_errors:\n",
    "          results.at[file, TYPEI_ERROR] = len(m.type_one_errors)\n",
    "          report, error_num = gr.reportTypeOneError(m.type_one_errors, explain_details=True)\n",
    "        if m.type_two_errors:\n",
    "          results.at[file, TYPEII_ERROR] = len(m.type_two_errors)\n",
    "          report, error_num = gr.reportTypeTwoError(m.type_two_errors, explain_details=True)\n",
    "        if m.canceling_errors:\n",
    "          results.at[file, CANCELING_ERROR] = len(m.canceling_errors)\n",
    "          report, error_num = gr.reportCancelingError(m.canceling_errors, explain_details=True)\n",
    "        if m.echelon_errors:\n",
    "          #print(\"Model %s has an echelon error:\" % file)\n",
    "          results.at[file, ECHELON_ERROR] = len(m.echelon_errors)\n",
    "          report, error_num = gr.reportEchelonError(m.echelon_errors, explain_details=True)\n",
    "          if report is False:\n",
    "            results.at[file, GAMESPP_ERROR] = 2\n",
    "#             print(\"Model %s has an inexplainable Echelon Error\" % file)\n",
    "#             print(\"As the lower matrix has a condition number %f\" % condition_number)\n",
    "#             print(\"Decide if the matrix is invertible\")\n",
    "        if m.type_three_errors:\n",
    "          #print(\"Model %s has a type III error:\" % file)\n",
    "          results.at[file, TYPEIII_ERROR] = len(m.type_three_errors)\n",
    "          report, error_num = gr.reportTypeThreeError(m.type_three_errors, explain_details=True)\n",
    "          if report is False:\n",
    "            results.at[file, GAMESPP_ERROR] = 3\n",
    "#             print(\"Model %s has an inexplainable Type III Error\" % file)\n",
    "#             print(\"As the lower matrix has a condition number %f\" % condition_number)\n",
    "#             print(\"Decide if the matrix is invertible\")\n",
    "  except:\n",
    "    results.at[file, GAMES_ERROR] = -1   \n",
    "gamespp_end = time.time()\n",
    "gamespp_time = gamespp_end - gamespp_start\n",
    "print(\"\\nAnalysis finished!\")\n",
    "print(\"GAMES++ time:\", gamespp_time)"
   ]
  },
  {
   "cell_type": "code",
   "execution_count": 16,
   "metadata": {},
   "outputs": [
    {
     "name": "stdout",
     "output_type": "stream",
     "text": [
      "number of detected errors:  135\n",
      "number of GAMES errors not in LP 0\n"
     ]
    },
    {
     "data": {
      "text/plain": [
       "0"
      ]
     },
     "execution_count": 16,
     "metadata": {},
     "output_type": "execute_result"
    }
   ],
   "source": [
    "print(\"number of detected errors: \", len(results[results[GAMESPP_ERROR]==1]))\n",
    "print(\"number of GAMES errors not in LP\", len(results[(results[GAMESPP_ERROR]==1) & (results[LP_ERROR]!=1)]))\n",
    "len(results[results[GAMESPP_ERROR]==-1])"
   ]
  },
  {
   "cell_type": "code",
   "execution_count": 17,
   "metadata": {},
   "outputs": [
    {
     "data": {
      "text/plain": [
       "0"
      ]
     },
     "execution_count": 17,
     "metadata": {},
     "output_type": "execute_result"
    }
   ],
   "source": [
    "len(results[results[GAMESPP_ERROR]==2])"
   ]
  },
  {
   "cell_type": "code",
   "execution_count": 18,
   "metadata": {},
   "outputs": [
    {
     "data": {
      "text/plain": [
       "3"
      ]
     },
     "execution_count": 18,
     "metadata": {},
     "output_type": "execute_result"
    }
   ],
   "source": [
    "len(results[results[GAMESPP_ERROR]==3])"
   ]
  },
  {
   "cell_type": "code",
   "execution_count": 19,
   "metadata": {},
   "outputs": [
    {
     "data": {
      "text/html": [
       "<div>\n",
       "<style scoped>\n",
       "    .dataframe tbody tr th:only-of-type {\n",
       "        vertical-align: middle;\n",
       "    }\n",
       "\n",
       "    .dataframe tbody tr th {\n",
       "        vertical-align: top;\n",
       "    }\n",
       "\n",
       "    .dataframe thead th {\n",
       "        text-align: right;\n",
       "    }\n",
       "</style>\n",
       "<table border=\"1\" class=\"dataframe\">\n",
       "  <thead>\n",
       "    <tr style=\"text-align: right;\">\n",
       "      <th></th>\n",
       "      <th>num_reactions(nonbdry)</th>\n",
       "      <th>lp_error</th>\n",
       "      <th>games_error</th>\n",
       "      <th>gamespp_error</th>\n",
       "      <th>type1_error</th>\n",
       "      <th>type2_error</th>\n",
       "      <th>canceling_error</th>\n",
       "      <th>echelon_error</th>\n",
       "      <th>type3_error</th>\n",
       "    </tr>\n",
       "  </thead>\n",
       "  <tbody>\n",
       "    <tr>\n",
       "      <th>BIOMD0000000014_url.xml</th>\n",
       "      <td>300</td>\n",
       "      <td>0</td>\n",
       "      <td>0</td>\n",
       "      <td>3</td>\n",
       "      <td>0</td>\n",
       "      <td>0</td>\n",
       "      <td>0</td>\n",
       "      <td>31</td>\n",
       "      <td>5</td>\n",
       "    </tr>\n",
       "    <tr>\n",
       "      <th>BIOMD0000000574_url.xml</th>\n",
       "      <td>576</td>\n",
       "      <td>0</td>\n",
       "      <td>0</td>\n",
       "      <td>3</td>\n",
       "      <td>0</td>\n",
       "      <td>0</td>\n",
       "      <td>0</td>\n",
       "      <td>15</td>\n",
       "      <td>10</td>\n",
       "    </tr>\n",
       "    <tr>\n",
       "      <th>BIOMD0000000243_url.xml</th>\n",
       "      <td>19</td>\n",
       "      <td>1</td>\n",
       "      <td>0</td>\n",
       "      <td>3</td>\n",
       "      <td>0</td>\n",
       "      <td>0</td>\n",
       "      <td>0</td>\n",
       "      <td>2</td>\n",
       "      <td>1</td>\n",
       "    </tr>\n",
       "  </tbody>\n",
       "</table>\n",
       "</div>"
      ],
      "text/plain": [
       "                         num_reactions(nonbdry)  lp_error  games_error  \\\n",
       "BIOMD0000000014_url.xml                     300         0            0   \n",
       "BIOMD0000000574_url.xml                     576         0            0   \n",
       "BIOMD0000000243_url.xml                      19         1            0   \n",
       "\n",
       "                         gamespp_error  type1_error  type2_error  \\\n",
       "BIOMD0000000014_url.xml              3            0            0   \n",
       "BIOMD0000000574_url.xml              3            0            0   \n",
       "BIOMD0000000243_url.xml              3            0            0   \n",
       "\n",
       "                         canceling_error  echelon_error  type3_error  \n",
       "BIOMD0000000014_url.xml                0             31            5  \n",
       "BIOMD0000000574_url.xml                0             15           10  \n",
       "BIOMD0000000243_url.xml                0              2            1  "
      ]
     },
     "execution_count": 19,
     "metadata": {},
     "output_type": "execute_result"
    }
   ],
   "source": [
    "results[results[GAMESPP_ERROR]==3]"
   ]
  },
  {
   "cell_type": "code",
   "execution_count": null,
   "metadata": {},
   "outputs": [],
   "source": [
    "simple = load_file_from_games(574)\n",
    "m = GAMES_PP(simple)\n",
    "res = m.analyze(simple_games=False, error_details=True)"
   ]
  },
  {
   "cell_type": "code",
   "execution_count": 71,
   "metadata": {},
   "outputs": [
    {
     "data": {
      "text/plain": [
       "array([[1., 0., 0., ..., 0., 0., 0.],\n",
       "       [0., 1., 0., ..., 0., 0., 0.],\n",
       "       [0., 0., 1., ..., 0., 0., 0.],\n",
       "       ...,\n",
       "       [0., 0., 0., ..., 1., 0., 0.],\n",
       "       [0., 0., 0., ..., 0., 1., 0.],\n",
       "       [0., 0., 0., ..., 0., 0., 1.]])"
      ]
     },
     "execution_count": 71,
     "metadata": {},
     "output_type": "execute_result"
    }
   ],
   "source": [
    "m.lower"
   ]
  },
  {
   "cell_type": "code",
   "execution_count": 72,
   "metadata": {},
   "outputs": [
    {
     "data": {
      "text/plain": [
       "1.0"
      ]
     },
     "execution_count": 72,
     "metadata": {},
     "output_type": "execute_result"
    }
   ],
   "source": [
    "np.linalg.det(m.lower)"
   ]
  },
  {
   "cell_type": "code",
   "execution_count": null,
   "metadata": {},
   "outputs": [],
   "source": []
  }
 ],
 "metadata": {
  "kernelspec": {
   "display_name": "Python 3",
   "language": "python",
   "name": "python3"
  },
  "language_info": {
   "codemirror_mode": {
    "name": "ipython",
    "version": 3
   },
   "file_extension": ".py",
   "mimetype": "text/x-python",
   "name": "python",
   "nbconvert_exporter": "python",
   "pygments_lexer": "ipython3",
   "version": "3.6.10"
  }
 },
 "nbformat": 4,
 "nbformat_minor": 4
}
