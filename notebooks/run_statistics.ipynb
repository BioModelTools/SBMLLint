{
 "cells": [
  {
   "cell_type": "code",
   "execution_count": 9,
   "metadata": {},
   "outputs": [],
   "source": [
    "from games_setup import *\n",
    "import SBMLLint.common.constants as cn\n",
    "from SBMLLint.common.reaction import Reaction\n",
    "from SBMLLint.common.stoichiometry_matrix import StoichiometryMatrix\n",
    "from SBMLLint.games.som import SOM\n",
    "from SBMLLint.games.mesgraph import MESGraph\n",
    "from SBMLLint.games.games_pp import GAMES_PP, SOMStoichiometry, SOMReaction, TOLERANCE\n",
    "from SBMLLint.games.games_report import GAMESReport, SimplifiedReaction\n",
    "import collections\n",
    "import numpy as np\n",
    "import pandas as pd\n",
    "import matplotlib.pyplot as plt\n",
    "%matplotlib inline\n",
    "import time\n",
    "from scipy.linalg import lu, inv"
   ]
  },
  {
   "cell_type": "code",
   "execution_count": 10,
   "metadata": {},
   "outputs": [],
   "source": [
    "# The following models are not loadable by simple SBML\n",
    "EXCEPTIONS = [\"BIOMD0000000094.xml\",\n",
    "              \"BIOMD0000000596.xml\",\n",
    "              \"BIOMD0000000786.xml\",\n",
    "              \"BIOMD0000000794.xml\",\n",
    "              \"BIOMD0000000830.xml\",\n",
    "             ]\n",
    "\n",
    "# we can exclude EXCEPTIONS from files, as they are not loaded by simpleSBML\n",
    "raw_files = [f for f in os.listdir(cn.BIOMODELS_DIR) if f[-4:] == \".xml\"]\n",
    "files = [f for f in raw_files if f not in EXCEPTIONS]\n",
    "paths = [os.path.join(cn.BIOMODELS_DIR, filename) for filename in files]"
   ]
  },
  {
   "cell_type": "code",
   "execution_count": 11,
   "metadata": {},
   "outputs": [
    {
     "data": {
      "text/plain": [
       "826"
      ]
     },
     "execution_count": 11,
     "metadata": {},
     "output_type": "execute_result"
    }
   ],
   "source": [
    "len(files)"
   ]
  },
  {
   "cell_type": "code",
   "execution_count": 12,
   "metadata": {},
   "outputs": [],
   "source": [
    "# statistics columns\n",
    "NUM_REACTIONS = \"num_reactions(nonbdry)\"\n",
    "LP_ERROR = \"lp_error\"\n",
    "GAMES_ERROR = \"games_error\"\n",
    "GAMESPP_ERROR = \"gamespp_error\"\n",
    "TYPEI_ERROR = \"type1_error\"\n",
    "TYPEII_ERROR = \"type2_error\"\n",
    "CANCELING_ERROR = \"canceling_error\"\n",
    "ECHELON_ERROR = \"echelon_error\"\n",
    "TYPEIII_ERROR = \"type3_error\"\n",
    "result_columns = [NUM_REACTIONS,\n",
    "                  LP_ERROR,\n",
    "                  GAMES_ERROR,\n",
    "                  GAMESPP_ERROR,\n",
    "                  TYPEI_ERROR,\n",
    "                  TYPEII_ERROR,\n",
    "                  CANCELING_ERROR,\n",
    "                  ECHELON_ERROR,\n",
    "                  TYPEIII_ERROR]"
   ]
  },
  {
   "cell_type": "code",
   "execution_count": 13,
   "metadata": {},
   "outputs": [
    {
     "data": {
      "text/html": [
       "<div>\n",
       "<style scoped>\n",
       "    .dataframe tbody tr th:only-of-type {\n",
       "        vertical-align: middle;\n",
       "    }\n",
       "\n",
       "    .dataframe tbody tr th {\n",
       "        vertical-align: top;\n",
       "    }\n",
       "\n",
       "    .dataframe thead th {\n",
       "        text-align: right;\n",
       "    }\n",
       "</style>\n",
       "<table border=\"1\" class=\"dataframe\">\n",
       "  <thead>\n",
       "    <tr style=\"text-align: right;\">\n",
       "      <th></th>\n",
       "      <th>num_reactions(nonbdry)</th>\n",
       "      <th>lp_error</th>\n",
       "      <th>games_error</th>\n",
       "      <th>gamespp_error</th>\n",
       "      <th>type1_error</th>\n",
       "      <th>type2_error</th>\n",
       "      <th>canceling_error</th>\n",
       "      <th>echelon_error</th>\n",
       "      <th>type3_error</th>\n",
       "    </tr>\n",
       "  </thead>\n",
       "  <tbody>\n",
       "    <tr>\n",
       "      <th>BIOMD0000000634.xml</th>\n",
       "      <td>0</td>\n",
       "      <td>0</td>\n",
       "      <td>0</td>\n",
       "      <td>0</td>\n",
       "      <td>0</td>\n",
       "      <td>0</td>\n",
       "      <td>0</td>\n",
       "      <td>0</td>\n",
       "      <td>0</td>\n",
       "    </tr>\n",
       "    <tr>\n",
       "      <th>BIOMD0000000152.xml</th>\n",
       "      <td>0</td>\n",
       "      <td>0</td>\n",
       "      <td>0</td>\n",
       "      <td>0</td>\n",
       "      <td>0</td>\n",
       "      <td>0</td>\n",
       "      <td>0</td>\n",
       "      <td>0</td>\n",
       "      <td>0</td>\n",
       "    </tr>\n",
       "    <tr>\n",
       "      <th>BIOMD0000000146.xml</th>\n",
       "      <td>0</td>\n",
       "      <td>0</td>\n",
       "      <td>0</td>\n",
       "      <td>0</td>\n",
       "      <td>0</td>\n",
       "      <td>0</td>\n",
       "      <td>0</td>\n",
       "      <td>0</td>\n",
       "      <td>0</td>\n",
       "    </tr>\n",
       "    <tr>\n",
       "      <th>BIOMD0000000620.xml</th>\n",
       "      <td>0</td>\n",
       "      <td>0</td>\n",
       "      <td>0</td>\n",
       "      <td>0</td>\n",
       "      <td>0</td>\n",
       "      <td>0</td>\n",
       "      <td>0</td>\n",
       "      <td>0</td>\n",
       "      <td>0</td>\n",
       "    </tr>\n",
       "    <tr>\n",
       "      <th>BIOMD0000000608.xml</th>\n",
       "      <td>0</td>\n",
       "      <td>0</td>\n",
       "      <td>0</td>\n",
       "      <td>0</td>\n",
       "      <td>0</td>\n",
       "      <td>0</td>\n",
       "      <td>0</td>\n",
       "      <td>0</td>\n",
       "      <td>0</td>\n",
       "    </tr>\n",
       "  </tbody>\n",
       "</table>\n",
       "</div>"
      ],
      "text/plain": [
       "                     num_reactions(nonbdry)  lp_error  games_error  \\\n",
       "BIOMD0000000634.xml                       0         0            0   \n",
       "BIOMD0000000152.xml                       0         0            0   \n",
       "BIOMD0000000146.xml                       0         0            0   \n",
       "BIOMD0000000620.xml                       0         0            0   \n",
       "BIOMD0000000608.xml                       0         0            0   \n",
       "\n",
       "                     gamespp_error  type1_error  type2_error  canceling_error  \\\n",
       "BIOMD0000000634.xml              0            0            0                0   \n",
       "BIOMD0000000152.xml              0            0            0                0   \n",
       "BIOMD0000000146.xml              0            0            0                0   \n",
       "BIOMD0000000620.xml              0            0            0                0   \n",
       "BIOMD0000000608.xml              0            0            0                0   \n",
       "\n",
       "                     echelon_error  type3_error  \n",
       "BIOMD0000000634.xml              0            0  \n",
       "BIOMD0000000152.xml              0            0  \n",
       "BIOMD0000000146.xml              0            0  \n",
       "BIOMD0000000620.xml              0            0  \n",
       "BIOMD0000000608.xml              0            0  "
      ]
     },
     "execution_count": 13,
     "metadata": {},
     "output_type": "execute_result"
    }
   ],
   "source": [
    "results = pd.DataFrame(0, index=files, columns=result_columns)\n",
    "results[:5]"
   ]
  },
  {
   "cell_type": "code",
   "execution_count": null,
   "metadata": {},
   "outputs": [],
   "source": []
  },
  {
   "cell_type": "code",
   "execution_count": 14,
   "metadata": {},
   "outputs": [
    {
     "name": "stdout",
     "output_type": "stream",
     "text": [
      "consistent?  False\n"
     ]
    }
   ],
   "source": [
    "simple = SimpleSBML()\n",
    "simple.initialize(os.path.join(cn.BIOMODELS_DIR, \"BIOMD0000000244.xml\"))\n",
    "s = StoichiometryMatrix(simple)\n",
    "consistent = s.isConsistent()\n",
    "print(\"consistent? \", consistent)"
   ]
  },
  {
   "cell_type": "code",
   "execution_count": 15,
   "metadata": {},
   "outputs": [
    {
     "name": "stdout",
     "output_type": "stream",
     "text": [
      "we are analyzing Model number: 100\n",
      "we are analyzing Model number: 200\n",
      "we are analyzing Model number: 300\n",
      "we are analyzing Model number: 400\n",
      "we are analyzing Model number: 500\n",
      "we are analyzing Model number: 600\n",
      "we are analyzing Model number: 700\n",
      "we are analyzing Model number: 800\n",
      "Analysis finished!\n",
      "LP time: 52.44812822341919\n"
     ]
    }
   ],
   "source": [
    "import warnings\n",
    "warnings.filterwarnings('ignore')\n",
    "# LP only\n",
    "simple = SimpleSBML()\n",
    "count = 0\n",
    "lp_start = time.time()\n",
    "for file in files:\n",
    "  count += 1\n",
    "  if (count%100)==0:\n",
    "    print(\"we are analyzing Model number:\", count)\n",
    "  try:\n",
    "    simple.initialize(os.path.join(cn.BIOMODELS_DIR, file))\n",
    "    s = StoichiometryMatrix(simple)\n",
    "    num_reactions = s.stoichiometry_matrix.shape[1]\n",
    "    results.at[file, NUM_REACTIONS] = num_reactions\n",
    "    if num_reactions:\n",
    "      consistent = s.isConsistent()\n",
    "    else:\n",
    "      consistent = -1\n",
    "    results.at[file, LP_ERROR] = 1 - int(consistent)\n",
    "  except:\n",
    "    results.at[file, LP_ERROR] = -1\n",
    "lp_end = time.time()\n",
    "lp_time = lp_end - lp_start\n",
    "print(\"Analysis finished!\")\n",
    "print(\"LP time:\", lp_time)"
   ]
  },
  {
   "cell_type": "code",
   "execution_count": 16,
   "metadata": {},
   "outputs": [
    {
     "name": "stdout",
     "output_type": "stream",
     "text": [
      "(Mean) ISS for LP is: 53.11392405063291\n",
      "(STD) ISS for LP is: 90.84825118201051\n"
     ]
    }
   ],
   "source": [
    "lp_results = results[results[LP_ERROR] == 1]\n",
    "len(lp_results)\n",
    "print(\"(Mean) ISS for LP is:\", np.mean(lp_results[NUM_REACTIONS]))\n",
    "print(\"(STD) ISS for LP is:\", np.std(lp_results[NUM_REACTIONS]))"
   ]
  },
  {
   "cell_type": "code",
   "execution_count": 17,
   "metadata": {},
   "outputs": [
    {
     "data": {
      "text/plain": [
       "158"
      ]
     },
     "execution_count": 17,
     "metadata": {},
     "output_type": "execute_result"
    }
   ],
   "source": [
    "len(results[results[LP_ERROR]==1])"
   ]
  },
  {
   "cell_type": "code",
   "execution_count": 18,
   "metadata": {},
   "outputs": [
    {
     "data": {
      "text/plain": [
       "0"
      ]
     },
     "execution_count": 18,
     "metadata": {},
     "output_type": "execute_result"
    }
   ],
   "source": [
    "len(results[results[LP_ERROR]==-1])"
   ]
  },
  {
   "cell_type": "code",
   "execution_count": 19,
   "metadata": {},
   "outputs": [
    {
     "data": {
      "text/plain": [
       "Index(['BIOMD0000000634.xml', 'BIOMD0000000608.xml', 'BIOMD0000000344.xml'], dtype='object')"
      ]
     },
     "execution_count": 19,
     "metadata": {},
     "output_type": "execute_result"
    }
   ],
   "source": [
    "models_test_by_games = results[results[LP_ERROR]==1].index\n",
    "models_test_by_games[:3]"
   ]
  },
  {
   "cell_type": "code",
   "execution_count": null,
   "metadata": {},
   "outputs": [],
   "source": []
  },
  {
   "cell_type": "code",
   "execution_count": 20,
   "metadata": {},
   "outputs": [
    {
     "name": "stdout",
     "output_type": "stream",
     "text": [
      "we are analyzing Model number: 100\n",
      "Analysis finished with total 158 models!\n",
      "GAMES time: 54.53418588638306\n"
     ]
    }
   ],
   "source": [
    "# bGAMES \n",
    "simple = SimpleSBML()\n",
    "count = 0\n",
    "games_start = time.time()\n",
    "# for file in files:\n",
    "for file in models_test_by_games:\n",
    "  count += 1\n",
    "  if (count%100)==0:\n",
    "    print(\"we are analyzing Model number:\", count)\n",
    "  try:\n",
    "    simple.initialize(os.path.join(cn.BIOMODELS_DIR, file))\n",
    "    m = GAMES_PP(simple)\n",
    "    if simple.reactions:\n",
    "      res = m.analyze(simple_games=True, error_details=False, suppress_message=True)\n",
    "      results.at[file, GAMES_ERROR] = int(res)\n",
    "#       if res:\n",
    "#         gr = GAMESReport(m)\n",
    "#         summary = m.error_summary\n",
    "#         if m.type_one_errors:\n",
    "#           results.at[file, TYPEI_ERROR] = len(m.type_one_errors)\n",
    "#           report, error_num = gr.reportTypeOneError(m.type_one_errors, explain_details=True)\n",
    "#         if m.type_two_errors:\n",
    "#           results.at[file, TYPEII_ERROR] = len(m.type_two_errors)\n",
    "#           report, error_num = gr.reportTypeTwoError(m.type_two_errors, explain_details=True)\n",
    "  except:\n",
    "    results.at[file, GAMES_ERROR] = -1   \n",
    "games_end = time.time()\n",
    "games_time = games_end - games_start\n",
    "print(\"Analysis finished with total %d models!\" % count)\n",
    "print(\"GAMES time:\", games_time)"
   ]
  },
  {
   "cell_type": "code",
   "execution_count": 21,
   "metadata": {},
   "outputs": [
    {
     "name": "stdout",
     "output_type": "stream",
     "text": [
      "number of detected errors:  123\n",
      "number of GAMES but not in LP 0\n"
     ]
    }
   ],
   "source": [
    "print(\"number of detected errors: \", len(results[results[GAMES_ERROR]==1]))\n",
    "print(\"number of GAMES but not in LP\", len(results[(results[GAMES_ERROR]==1) & (results[LP_ERROR]!=1)]))"
   ]
  },
  {
   "cell_type": "code",
   "execution_count": 24,
   "metadata": {},
   "outputs": [
    {
     "data": {
      "text/html": [
       "<div>\n",
       "<style scoped>\n",
       "    .dataframe tbody tr th:only-of-type {\n",
       "        vertical-align: middle;\n",
       "    }\n",
       "\n",
       "    .dataframe tbody tr th {\n",
       "        vertical-align: top;\n",
       "    }\n",
       "\n",
       "    .dataframe thead th {\n",
       "        text-align: right;\n",
       "    }\n",
       "</style>\n",
       "<table border=\"1\" class=\"dataframe\">\n",
       "  <thead>\n",
       "    <tr style=\"text-align: right;\">\n",
       "      <th></th>\n",
       "      <th>num_reactions(nonbdry)</th>\n",
       "      <th>lp_error</th>\n",
       "      <th>games_error</th>\n",
       "      <th>gamespp_error</th>\n",
       "      <th>type1_error</th>\n",
       "      <th>type2_error</th>\n",
       "      <th>canceling_error</th>\n",
       "      <th>echelon_error</th>\n",
       "      <th>type3_error</th>\n",
       "    </tr>\n",
       "  </thead>\n",
       "  <tbody>\n",
       "    <tr>\n",
       "      <th>BIOMD0000000634.xml</th>\n",
       "      <td>112</td>\n",
       "      <td>1</td>\n",
       "      <td>-1</td>\n",
       "      <td>0</td>\n",
       "      <td>0</td>\n",
       "      <td>0</td>\n",
       "      <td>0</td>\n",
       "      <td>0</td>\n",
       "      <td>0</td>\n",
       "    </tr>\n",
       "    <tr>\n",
       "      <th>BIOMD0000000608.xml</th>\n",
       "      <td>96</td>\n",
       "      <td>1</td>\n",
       "      <td>-1</td>\n",
       "      <td>0</td>\n",
       "      <td>0</td>\n",
       "      <td>0</td>\n",
       "      <td>0</td>\n",
       "      <td>0</td>\n",
       "      <td>0</td>\n",
       "    </tr>\n",
       "    <tr>\n",
       "      <th>BIOMD0000000344.xml</th>\n",
       "      <td>80</td>\n",
       "      <td>1</td>\n",
       "      <td>-1</td>\n",
       "      <td>0</td>\n",
       "      <td>0</td>\n",
       "      <td>0</td>\n",
       "      <td>0</td>\n",
       "      <td>0</td>\n",
       "      <td>0</td>\n",
       "    </tr>\n",
       "    <tr>\n",
       "      <th>BIOMD0000000542.xml</th>\n",
       "      <td>82</td>\n",
       "      <td>1</td>\n",
       "      <td>-1</td>\n",
       "      <td>0</td>\n",
       "      <td>0</td>\n",
       "      <td>0</td>\n",
       "      <td>0</td>\n",
       "      <td>0</td>\n",
       "      <td>0</td>\n",
       "    </tr>\n",
       "    <tr>\n",
       "      <th>BIOMD0000000230.xml</th>\n",
       "      <td>64</td>\n",
       "      <td>1</td>\n",
       "      <td>-1</td>\n",
       "      <td>0</td>\n",
       "      <td>0</td>\n",
       "      <td>0</td>\n",
       "      <td>0</td>\n",
       "      <td>0</td>\n",
       "      <td>0</td>\n",
       "    </tr>\n",
       "    <tr>\n",
       "      <th>...</th>\n",
       "      <td>...</td>\n",
       "      <td>...</td>\n",
       "      <td>...</td>\n",
       "      <td>...</td>\n",
       "      <td>...</td>\n",
       "      <td>...</td>\n",
       "      <td>...</td>\n",
       "      <td>...</td>\n",
       "      <td>...</td>\n",
       "    </tr>\n",
       "    <tr>\n",
       "      <th>BIOMD0000000573.xml</th>\n",
       "      <td>3</td>\n",
       "      <td>1</td>\n",
       "      <td>-1</td>\n",
       "      <td>0</td>\n",
       "      <td>0</td>\n",
       "      <td>0</td>\n",
       "      <td>0</td>\n",
       "      <td>0</td>\n",
       "      <td>0</td>\n",
       "    </tr>\n",
       "    <tr>\n",
       "      <th>BIOMD0000000407.xml</th>\n",
       "      <td>34</td>\n",
       "      <td>1</td>\n",
       "      <td>-1</td>\n",
       "      <td>0</td>\n",
       "      <td>0</td>\n",
       "      <td>0</td>\n",
       "      <td>0</td>\n",
       "      <td>0</td>\n",
       "      <td>0</td>\n",
       "    </tr>\n",
       "    <tr>\n",
       "      <th>BIOMD0000000413.xml</th>\n",
       "      <td>5</td>\n",
       "      <td>1</td>\n",
       "      <td>-1</td>\n",
       "      <td>0</td>\n",
       "      <td>0</td>\n",
       "      <td>0</td>\n",
       "      <td>0</td>\n",
       "      <td>0</td>\n",
       "      <td>0</td>\n",
       "    </tr>\n",
       "    <tr>\n",
       "      <th>BIOMD0000000188.xml</th>\n",
       "      <td>19</td>\n",
       "      <td>1</td>\n",
       "      <td>-1</td>\n",
       "      <td>0</td>\n",
       "      <td>0</td>\n",
       "      <td>0</td>\n",
       "      <td>0</td>\n",
       "      <td>0</td>\n",
       "      <td>0</td>\n",
       "    </tr>\n",
       "    <tr>\n",
       "      <th>BIOMD0000000163.xml</th>\n",
       "      <td>20</td>\n",
       "      <td>1</td>\n",
       "      <td>-1</td>\n",
       "      <td>0</td>\n",
       "      <td>0</td>\n",
       "      <td>0</td>\n",
       "      <td>0</td>\n",
       "      <td>0</td>\n",
       "      <td>0</td>\n",
       "    </tr>\n",
       "  </tbody>\n",
       "</table>\n",
       "<p>158 rows × 9 columns</p>\n",
       "</div>"
      ],
      "text/plain": [
       "                     num_reactions(nonbdry)  lp_error  games_error  \\\n",
       "BIOMD0000000634.xml                     112         1           -1   \n",
       "BIOMD0000000608.xml                      96         1           -1   \n",
       "BIOMD0000000344.xml                      80         1           -1   \n",
       "BIOMD0000000542.xml                      82         1           -1   \n",
       "BIOMD0000000230.xml                      64         1           -1   \n",
       "...                                     ...       ...          ...   \n",
       "BIOMD0000000573.xml                       3         1           -1   \n",
       "BIOMD0000000407.xml                      34         1           -1   \n",
       "BIOMD0000000413.xml                       5         1           -1   \n",
       "BIOMD0000000188.xml                      19         1           -1   \n",
       "BIOMD0000000163.xml                      20         1           -1   \n",
       "\n",
       "                     gamespp_error  type1_error  type2_error  canceling_error  \\\n",
       "BIOMD0000000634.xml              0            0            0                0   \n",
       "BIOMD0000000608.xml              0            0            0                0   \n",
       "BIOMD0000000344.xml              0            0            0                0   \n",
       "BIOMD0000000542.xml              0            0            0                0   \n",
       "BIOMD0000000230.xml              0            0            0                0   \n",
       "...                            ...          ...          ...              ...   \n",
       "BIOMD0000000573.xml              0            0            0                0   \n",
       "BIOMD0000000407.xml              0            0            0                0   \n",
       "BIOMD0000000413.xml              0            0            0                0   \n",
       "BIOMD0000000188.xml              0            0            0                0   \n",
       "BIOMD0000000163.xml              0            0            0                0   \n",
       "\n",
       "                     echelon_error  type3_error  \n",
       "BIOMD0000000634.xml              0            0  \n",
       "BIOMD0000000608.xml              0            0  \n",
       "BIOMD0000000344.xml              0            0  \n",
       "BIOMD0000000542.xml              0            0  \n",
       "BIOMD0000000230.xml              0            0  \n",
       "...                            ...          ...  \n",
       "BIOMD0000000573.xml              0            0  \n",
       "BIOMD0000000407.xml              0            0  \n",
       "BIOMD0000000413.xml              0            0  \n",
       "BIOMD0000000188.xml              0            0  \n",
       "BIOMD0000000163.xml              0            0  \n",
       "\n",
       "[158 rows x 9 columns]"
      ]
     },
     "execution_count": 24,
     "metadata": {},
     "output_type": "execute_result"
    }
   ],
   "source": [
    "results[results[GAMES_ERROR]==-1]"
   ]
  },
  {
   "cell_type": "code",
   "execution_count": null,
   "metadata": {},
   "outputs": [],
   "source": []
  },
  {
   "cell_type": "code",
   "execution_count": 27,
   "metadata": {},
   "outputs": [
    {
     "name": "stdout",
     "output_type": "stream",
     "text": [
      "we are analyzing Model number: 100\n",
      "\n",
      "Initial analysis finished with total 158 models!\n",
      "number of (initially) detected errors:  152\n",
      "(INITIAL) xGAMES time: 87.6510899066925\n",
      "\n",
      "\n",
      "The following have not been detected by games\n",
      "['BIOMD0000000469.xml', 'BIOMD0000000247.xml', 'BIOMD0000000281.xml', 'BIOMD0000000070.xml', 'BIOMD0000000503.xml', 'BIOMD0000000473.xml']\n",
      "\n",
      "\n",
      "Now start secondary iteration\n",
      "We are working on model BIOMD0000000469.xml\n",
      "Found error at iteration 2!\n",
      "We are working on model BIOMD0000000281.xml\n",
      "Found error at iteration 1!\n",
      "Total analysis finished, with additional iteration for 2 models!\n",
      "(excluding four errors) total xGAMES time: 125.809475\n",
      "number of (finally) detected errors:  154\n"
     ]
    }
   ],
   "source": [
    "# GAMES+\n",
    "# file, GAMES_ERROR coding:\n",
    "# 0; normal - no error found\n",
    "# -1; not loaded or error found\n",
    "# 1; normal - error found\n",
    "# 2; echelon error found, but it is not explainable\n",
    "# 3; type III error found, but it is not explainable\n",
    "simple = SimpleSBML()\n",
    "count = 0\n",
    "failed_to_find_error = list()\n",
    "gamespp_start = time.time()\n",
    "# for file in files:\n",
    "for file in models_test_by_games:\n",
    "  count += 1\n",
    "  if (count%100)==0:\n",
    "    print(\"we are analyzing Model number:\", count)\n",
    "  try:\n",
    "    simple.initialize(os.path.join(cn.BIOMODELS_DIR, file))\n",
    "    m = GAMES_PP(simple)\n",
    "    if simple.reactions:\n",
    "      res = m.analyze(simple_games=False, error_details=False, suppress_message=True)\n",
    "      results.at[file, GAMESPP_ERROR] = int(res)\n",
    "      if not res:\n",
    "        failed_to_find_error.append(file)\n",
    "#       if res:\n",
    "#         gr = GAMESReport(m)\n",
    "#         summary = m.error_summary\n",
    "#         if m.type_one_errors:\n",
    "#           results.at[file, TYPEI_ERROR] = len(m.type_one_errors)\n",
    "#           report, error_num = gr.reportTypeOneError(m.type_one_errors, explain_details=True)\n",
    "#         if m.type_two_errors:\n",
    "#           results.at[file, TYPEII_ERROR] = len(m.type_two_errors)\n",
    "#           report, error_num = gr.reportTypeTwoError(m.type_two_errors, explain_details=True)\n",
    "#         if m.canceling_errors:\n",
    "#           results.at[file, CANCELING_ERROR] = len(m.canceling_errors)\n",
    "#           report, error_num = gr.reportCancelingError(m.canceling_errors, explain_details=True)\n",
    "#         if m.echelon_errors:\n",
    "#           #print(\"Model %s has an echelon error:\" % file)\n",
    "#           results.at[file, ECHELON_ERROR] = len(m.echelon_errors)\n",
    "#           report, error_num = gr.reportEchelonError(m.echelon_errors, explain_details=True)\n",
    "#           if report is False:\n",
    "#             results.at[file, GAMESPP_ERROR] = 2\n",
    "# #             print(\"Model %s has an inexplainable Echelon Error\" % file)\n",
    "# #             print(\"As the lower matrix has a condition number %f\" % condition_number)\n",
    "# #             print(\"Decide if the matrix is invertible\")\n",
    "#         if m.type_three_errors:\n",
    "#           #print(\"Model %s has a type III error:\" % file)\n",
    "#           results.at[file, TYPEIII_ERROR] = len(m.type_three_errors)\n",
    "#           report, error_num = gr.reportTypeThreeError(m.type_three_errors, explain_details=True)\n",
    "#           if report is False:\n",
    "#             results.at[file, GAMESPP_ERROR] = 3\n",
    "# #             print(\"Model %s has an inexplainable Type III Error\" % file)\n",
    "# #             print(\"As the lower matrix has a condition number %f\" % condition_number)\n",
    "# #             print(\"Decide if the matrix is invertible\")\n",
    "  except:\n",
    "    results.at[file, GAMES_ERROR] = -1   \n",
    "gamespp_end = time.time()\n",
    "initial_xgames_time = gamespp_end - gamespp_start\n",
    "print(\"\\nInitial analysis finished with total %d models!\" % count)\n",
    "print(\"number of (initially) detected errors: \", len(results[results[GAMESPP_ERROR]==1]))\n",
    "print(\"(INITIAL) xGAMES time:\", initial_xgames_time)\n",
    "print(\"\\n\\nThe following have not been detected by games\")\n",
    "print(failed_to_find_error)\n",
    "print(\"\\n\\nNow start secondary iteration\")\n",
    "MAX_ITR = 15\n",
    "found_error = False\n",
    "retest_begin = time.time()\n",
    "NO_RETEST = [\"BIOMD0000000070.xml\",\n",
    "             \"BIOMD0000000247.xml\",\n",
    "             \"BIOMD0000000473.xml\",\n",
    "             \"BIOMD0000000503.xml\"]\n",
    "retest_models = [f for f in failed_to_find_error if f not in NO_RETEST]\n",
    "for f in retest_models:\n",
    "  print(\"We are working on model %s\" % f)\n",
    "  itr = 0\n",
    "  found_error = False\n",
    "  while (itr<MAX_ITR) and (found_error is False):\n",
    "    itr += 1\n",
    "    if itr%5==0:\n",
    "      print(\"Current iteration is %d\" % itr)\n",
    "    simple.initialize(os.path.join(cn.BIOMODELS_DIR, f))\n",
    "    m = GAMES_PP(simple)\n",
    "    res = m.analyze(simple_games=False, error_details=False, suppress_message=True)\n",
    "    if res:\n",
    "      found_error = True\n",
    "      results.at[f, GAMESPP_ERROR] = 2\n",
    "      print(\"Found error at iteration %d!\" %itr)\n",
    "    if itr==MAX_ITR:\n",
    "      print(\"max itr reached!\")\n",
    "retest_end = time.time()\n",
    "retest_xgames_time = retest_end - retest_begin\n",
    "print(\"Total analysis finished, with additional iteration for %d models!\" % len(retest_models))\n",
    "print(\"(excluding four errors) total xGAMES time: %f\" % (initial_xgames_time + retest_xgames_time))\n",
    "print(\"number of (finally) detected errors: \", len(results[results[GAMESPP_ERROR]>=1]))"
   ]
  },
  {
   "cell_type": "code",
   "execution_count": 41,
   "metadata": {},
   "outputs": [
    {
     "data": {
      "text/plain": [
       "['BIOMD0000000247.xml',\n",
       " 'BIOMD0000000281.xml',\n",
       " 'BIOMD0000000070.xml',\n",
       " 'BIOMD0000000503.xml',\n",
       " 'BIOMD0000000473.xml',\n",
       " 'BIOMD0000000470.xml',\n",
       " 'BIOMD0000000572.xml']"
      ]
     },
     "execution_count": 41,
     "metadata": {},
     "output_type": "execute_result"
    }
   ],
   "source": [
    "failed_to_find_error"
   ]
  },
  {
   "cell_type": "code",
   "execution_count": 38,
   "metadata": {},
   "outputs": [
    {
     "name": "stdout",
     "output_type": "stream",
     "text": [
      "number of detected errors:  151\n",
      "number of GAMES errors not in LP 0\n"
     ]
    },
    {
     "data": {
      "text/plain": [
       "0"
      ]
     },
     "execution_count": 38,
     "metadata": {},
     "output_type": "execute_result"
    }
   ],
   "source": [
    "print(\"number of detected errors: \", len(results[results[GAMESPP_ERROR]==1]))\n",
    "print(\"number of GAMES errors not in LP\", len(results[(results[GAMESPP_ERROR]==1) & (results[LP_ERROR]!=1)]))\n",
    "len(results[results[GAMESPP_ERROR]==-1])"
   ]
  },
  {
   "cell_type": "code",
   "execution_count": 28,
   "metadata": {},
   "outputs": [
    {
     "data": {
      "text/plain": [
       "r_9     1.00\n",
       "r_3     1.00\n",
       "r_1     1.00\n",
       "r_11    1.00\n",
       "r_15    1.00\n",
       "r_12    1.00\n",
       "r_8     1.00\n",
       "r_2     0.50\n",
       "r_10    1.00\n",
       "r_5     1.00\n",
       "r_7     1.00\n",
       "r_21    1.00\n",
       "r_6     1.00\n",
       "r_22    0.50\n",
       "r_17    1.00\n",
       "r_4     0.50\n",
       "r_18    1.00\n",
       "r_13    1.00\n",
       "r_14    1.00\n",
       "r_16    0.25\n",
       "dtype: float64"
      ]
     },
     "execution_count": 28,
     "metadata": {},
     "output_type": "execute_result"
    }
   ],
   "source": [
    "df = m.lower_inverse\n",
    "df1 = m.lower\n",
    "df[df > .000001].min(axis=1)"
   ]
  },
  {
   "cell_type": "code",
   "execution_count": 29,
   "metadata": {},
   "outputs": [
    {
     "data": {
      "text/plain": [
       "0.5"
      ]
     },
     "execution_count": 29,
     "metadata": {},
     "output_type": "execute_result"
    }
   ],
   "source": [
    "df1[df1 > .01].min()"
   ]
  },
  {
   "cell_type": "code",
   "execution_count": null,
   "metadata": {},
   "outputs": [],
   "source": []
  },
  {
   "cell_type": "code",
   "execution_count": 30,
   "metadata": {},
   "outputs": [
    {
     "name": "stdout",
     "output_type": "stream",
     "text": [
      "number of LP errors not in GAMES\n",
      "Index(['BIOMD0000000469.xml', 'BIOMD0000000247.xml', 'BIOMD0000000281.xml',\n",
      "       'BIOMD0000000070.xml', 'BIOMD0000000503.xml', 'BIOMD0000000473.xml'],\n",
      "      dtype='object')\n"
     ]
    }
   ],
   "source": [
    "print(\"number of LP errors not in GAMES\")\n",
    "print(results[(results[GAMESPP_ERROR]!=1) & (results[LP_ERROR]==1)].index)"
   ]
  },
  {
   "cell_type": "code",
   "execution_count": 87,
   "metadata": {},
   "outputs": [
    {
     "name": "stdout",
     "output_type": "stream",
     "text": [
      "We are working on model BIOMD0000000070.xml\n",
      "Current iteration is 5\n",
      "Current iteration is 10\n",
      "Current iteration is 15\n",
      "Current iteration is 20\n",
      "Current iteration is 25\n",
      "max itr reached!\n",
      "We are working on model BIOMD0000000247.xml\n",
      "Current iteration is 5\n",
      "Current iteration is 10\n",
      "Current iteration is 15\n",
      "Current iteration is 20\n",
      "Current iteration is 25\n",
      "max itr reached!\n",
      "We are working on model BIOMD0000000473.xml\n",
      "Current iteration is 5\n",
      "Current iteration is 10\n",
      "Current iteration is 15\n",
      "Current iteration is 20\n",
      "Current iteration is 25\n",
      "max itr reached!\n",
      "We are working on model BIOMD0000000503.xml\n",
      "Current iteration is 5\n",
      "Current iteration is 10\n",
      "Current iteration is 15\n",
      "Current iteration is 20\n",
      "Current iteration is 25\n",
      "max itr reached!\n"
     ]
    }
   ],
   "source": [
    "# The following is to make sure to not be able to found an error though GAMES\n",
    "# re_retest_files = [\"BIOMD0000000070.xml\",\n",
    "#                   \"BIOMD0000000247.xml\",\n",
    "#                   \"BIOMD0000000473.xml\",\n",
    "#                   \"BIOMD0000000503.xml\"]\n",
    "# MAX_ITR = 25\n",
    "# found_error = False\n",
    "# for f in re_retest_files:\n",
    "#   print(\"We are working on model %s\" % f)\n",
    "#   itr = 0\n",
    "#   found_error = False\n",
    "#   while (itr<MAX_ITR) and (found_error is False):\n",
    "#     itr += 1\n",
    "#     if itr%5==0:\n",
    "#       print(\"Current iteration is %d\" % itr)\n",
    "#     simple = SimpleSBML()\n",
    "#     simple.initialize(os.path.join(data_dir, f))\n",
    "#     m = GAMES_PP(simple)\n",
    "#     res = m.analyze(simple_games=False, error_details=False, suppress_message=True)\n",
    "#     if res:\n",
    "#       found_error = True\n",
    "#       print(\"Found error!\")\n",
    "#     if itr==MAX_ITR:\n",
    "#       print(\"max itr reached!\")"
   ]
  },
  {
   "cell_type": "code",
   "execution_count": 36,
   "metadata": {},
   "outputs": [
    {
     "name": "stdout",
     "output_type": "stream",
     "text": [
      "Model analyzed...\n",
      "At least one error found.\n",
      "\n",
      "[ErrorSummary(type='type3', errors=[re13: {ATP} -> {ADP}]), ErrorSummary(type='echelon', errors=[re14: {Pext} -> , re25:  -> {Pint}])]\n",
      "Model analyzed...\n",
      "At least one error found.\n",
      "\n",
      "[ErrorSummary(type='type3', errors=[re21: {F6P=G6P} -> {FBP}])]\n",
      "found re21 error!\n"
     ]
    }
   ],
   "source": [
    "# to test if P-matrix is stable for the same error/LP, we test it\n",
    "simple = SimpleSBML()\n",
    "MAX_ITR = 25\n",
    "found_same_error_count = 0\n",
    "for i1 in range(MAX_ITR):\n",
    "  simple.initialize(os.path.join(cn.BIOMODELS_DIR, \"BIOMD0000000572.xml\"))\n",
    "  m = GAMES_PP(simple)\n",
    "  res = m.analyze()\n",
    "  print(m.error_summary)\n",
    "  if res and m.type_three_errors[0].label==\"re21\":\n",
    "    print(\"found re21 error!\")\n",
    "    break"
   ]
  },
  {
   "cell_type": "code",
   "execution_count": 37,
   "metadata": {},
   "outputs": [],
   "source": [
    "# test if p-matrix is applied (perm_df), resulting l/u are stable\n",
    "# from scipy.linalg import lu\n",
    "# p1, l1, u1 = lu(m.permuted_matrix)\n",
    "# p2, l2, u2 = lu(m.permuted_matrix)\n",
    "# p3, l3, u3 = lu(m.permuted_matrix)\n",
    "# print((l1==l2).sum())\n",
    "# print((l2==l3).sum())\n",
    "# print((u1==u2).sum())\n",
    "# print((u2==u3).sum())"
   ]
  },
  {
   "cell_type": "code",
   "execution_count": null,
   "metadata": {},
   "outputs": [],
   "source": []
  }
 ],
 "metadata": {
  "kernelspec": {
   "display_name": "Python 3",
   "language": "python",
   "name": "python3"
  },
  "language_info": {
   "codemirror_mode": {
    "name": "ipython",
    "version": 3
   },
   "file_extension": ".py",
   "mimetype": "text/x-python",
   "name": "python",
   "nbconvert_exporter": "python",
   "pygments_lexer": "ipython3",
   "version": "3.6.10"
  }
 },
 "nbformat": 4,
 "nbformat_minor": 4
}
