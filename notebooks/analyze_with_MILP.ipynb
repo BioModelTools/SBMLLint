{
 "cells": [
  {
   "cell_type": "code",
   "execution_count": 1,
   "metadata": {},
   "outputs": [],
   "source": [
    "from pulp import *"
   ]
  },
  {
   "cell_type": "code",
   "execution_count": 2,
   "metadata": {},
   "outputs": [],
   "source": [
    "import init\n",
    "import SBMLLint.common.constants as cn\n",
    "from SBMLLint.common.simple_sbml import SimpleSBML\n",
    "from SBMLLint.common.stoichiometry_matrix import StoichiometryMatrix\n",
    "\n",
    "import numpy as np\n",
    "import pandas as pd\n",
    "import matplotlib.pyplot as plt\n",
    "%matplotlib inline\n",
    "import time"
   ]
  },
  {
   "cell_type": "code",
   "execution_count": 3,
   "metadata": {},
   "outputs": [],
   "source": [
    "TOLERANCE = 0.0001"
   ]
  },
  {
   "cell_type": "code",
   "execution_count": 4,
   "metadata": {},
   "outputs": [],
   "source": [
    "MODEL = \"BIOMD0000000167_url.xml\"\n",
    "simple = SimpleSBML()\n",
    "simple.initialize(os.path.join(cn.BIOMODELS_DIR, MODEL))"
   ]
  },
  {
   "cell_type": "code",
   "execution_count": 442,
   "metadata": {},
   "outputs": [],
   "source": [
    "# SAMPLE_MODEL = \"iCN718.xml\"\n",
    "SAMPLE_MODEL = \"Recon3D.xml\"\n",
    "bigg_filepath = os.path.join(cn.BIGG_DIR, SAMPLE_MODEL)\n",
    "simple = SimpleSBML()\n",
    "simple.initialize(bigg_filepath)"
   ]
  },
  {
   "cell_type": "code",
   "execution_count": 7,
   "metadata": {},
   "outputs": [
    {
     "data": {
      "text/plain": [
       "[PstatDimerisation: 2.00 Pstat_sol -> PstatDimer_sol; (Kf_PstatDimerisation * pow(Pstat_sol, 2) + -(Kr_PstatDimerisation * PstatDimer_sol)) * sol,\n",
       " statDephosphorylation: Pstat_nuc -> stat_nuc; Kcat_dephos * statPhosphatase_nuc * Pstat_nuc * (1 / (Km_dephos + Pstat_nuc)) * nuc,\n",
       " statPhosphorylation: stat_sol -> Pstat_sol + species_test; Kcat_phos * statKinase_sol * stat_sol * (1 / (Km_phos + stat_sol)) * sol,\n",
       " PstatDimerisationNuc: 2.00 Pstat_nuc -> PstatDimer_nuc; (Kf_PstatDimerisation * pow(Pstat_nuc, 2) + -(Kr_PstatDimerisation * PstatDimer_nuc)) * nuc,\n",
       " PstatDimer__import: PstatDimer_sol -> PstatDimer_nuc; PstatDimer_impMax * PstatDimer_sol * (1 / (Kpsd_imp + PstatDimer_sol)) * nm,\n",
       " stat_export: stat_sol -> stat_nuc; nuc * stat_expMax * stat_nuc * (1 / (Ks_exp + stat_nuc)) * nm,\n",
       " stat_import: stat_sol -> stat_nuc; nuc * stat_impMax * stat_sol * (1 / (Ks_imp + stat_sol)) * nm]"
      ]
     },
     "execution_count": 7,
     "metadata": {},
     "output_type": "execute_result"
    }
   ],
   "source": [
    "simple.reactions"
   ]
  },
  {
   "cell_type": "code",
   "execution_count": 8,
   "metadata": {},
   "outputs": [
    {
     "data": {
      "text/plain": [
       "(7, 7)"
      ]
     },
     "execution_count": 8,
     "metadata": {},
     "output_type": "execute_result"
    }
   ],
   "source": [
    "s = StoichiometryMatrix(simple)\n",
    "mat = s.stoichiometry_matrix\n",
    "mat.shape"
   ]
  },
  {
   "cell_type": "code",
   "execution_count": 7,
   "metadata": {},
   "outputs": [],
   "source": [
    "# # reduce mat and see what happens\n",
    "# submat = mat[['reaction9', 'reaction10']]\n",
    "# print(submat)"
   ]
  },
  {
   "cell_type": "code",
   "execution_count": null,
   "metadata": {},
   "outputs": [],
   "source": []
  },
  {
   "cell_type": "code",
   "execution_count": 67,
   "metadata": {},
   "outputs": [
    {
     "name": "stdout",
     "output_type": "stream",
     "text": [
      "Status: Optimal\n"
     ]
    }
   ],
   "source": [
    "prob = LpProblem(\"Finding_Unconserved_Metabolites\", LpMaximize)\n",
    "milp_begin = time.time()\n",
    "species = list(mat.index)\n",
    "species_inclusion = pulp.LpVariable.dicts(\"species\", species, cat=\"Binary\")\n",
    "species_mass = pulp.LpVariable.dicts(\"mass\", species, cat=\"Continuous\")\n",
    "# objective function (to maximize the number of species)\n",
    "prob += lpSum([species_inclusion[i] for i in species])\n",
    "# constraint 1 (for each reaction, the sum(stoichiometry[i]*mass[i])=0)\n",
    "for reaction in mat.columns:\n",
    "  prob += lpSum(sum([mat[reaction][species]*species_mass[species] for species in species_inclusion])) == 0\n",
    "# constraint 2 (species_inclusion is less than or equal to mass of each species)\n",
    "# prob += lpSum(species_inclusion[species] <= species_mass[species] for speices in species_inclusion)\n",
    "for species in species_mass.keys():\n",
    "  prob += species_inclusion[species] <= species_mass[species]\n",
    "###########\n",
    "# solve problem\n",
    "milp_middle = time.time()\n",
    "prob.solve()\n",
    "print(\"Status:\", LpStatus[prob.status])\n",
    "milp_end = time.time()"
   ]
  },
  {
   "cell_type": "markdown",
   "metadata": {},
   "source": []
  },
  {
   "cell_type": "code",
   "execution_count": null,
   "metadata": {},
   "outputs": [],
   "source": []
  },
  {
   "cell_type": "code",
   "execution_count": 9,
   "metadata": {},
   "outputs": [
    {
     "name": "stdout",
     "output_type": "stream",
     "text": [
      "MILP took 0.044254\n"
     ]
    }
   ],
   "source": [
    "milp_time = milp_end - milp_begin\n",
    "print(\"MILP took %f\" % milp_time)"
   ]
  },
  {
   "cell_type": "code",
   "execution_count": null,
   "metadata": {},
   "outputs": [],
   "source": []
  },
  {
   "cell_type": "code",
   "execution_count": 10,
   "metadata": {},
   "outputs": [],
   "source": [
    "res = []\n",
    "for v in prob.variables()[round(len(prob.variables())/2):]:\n",
    "  if v.varValue == 0.0:\n",
    "    res.append(v.name[8:])"
   ]
  },
  {
   "cell_type": "code",
   "execution_count": 11,
   "metadata": {},
   "outputs": [],
   "source": [
    "ext_res = []\n",
    "for v in prob.variables():\n",
    "  if v.varValue == 0.0:\n",
    "    ext_res.append(v.name)"
   ]
  },
  {
   "cell_type": "code",
   "execution_count": 12,
   "metadata": {},
   "outputs": [
    {
     "name": "stdout",
     "output_type": "stream",
     "text": [
      "Among 7 species 1 are unconserved.\n"
     ]
    }
   ],
   "source": [
    "print(\"Among %d species %d are unconserved.\" % (len(mat.index), len(res)))"
   ]
  },
  {
   "cell_type": "code",
   "execution_count": 13,
   "metadata": {},
   "outputs": [],
   "source": [
    "# find reactions that contains all unconserved metabolites\n",
    "reaction = set()\n",
    "# from stoichiometry matrix, choose metabolites only, and remove null reactions for the metabolites\n",
    "unconserved_mat = mat.T[res].T"
   ]
  },
  {
   "cell_type": "code",
   "execution_count": 14,
   "metadata": {},
   "outputs": [
    {
     "data": {
      "text/plain": [
       "(1, 7)"
      ]
     },
     "execution_count": 14,
     "metadata": {},
     "output_type": "execute_result"
    }
   ],
   "source": [
    "unconserved_mat.shape"
   ]
  },
  {
   "cell_type": "code",
   "execution_count": 15,
   "metadata": {},
   "outputs": [],
   "source": [
    "red_uncons_mat = unconserved_mat.loc[:,(unconserved_mat!=0).any()]"
   ]
  },
  {
   "cell_type": "code",
   "execution_count": 16,
   "metadata": {},
   "outputs": [
    {
     "data": {
      "text/plain": [
       "(1, 1)"
      ]
     },
     "execution_count": 16,
     "metadata": {},
     "output_type": "execute_result"
    }
   ],
   "source": [
    "red_uncons_mat.shape"
   ]
  },
  {
   "cell_type": "code",
   "execution_count": 431,
   "metadata": {},
   "outputs": [
    {
     "data": {
      "text/plain": [
       "False"
      ]
     },
     "execution_count": 431,
     "metadata": {},
     "output_type": "execute_result"
    }
   ],
   "source": [
    "# from i718 model\n",
    "# R_SEAHCYSHYD: M_h2o_c + M_seahcys_c -> M_adn_c + M_selhcys_c\n",
    "# R_SEAHCYSHYD_1: M_h2o_c + M_seahcys_c -> M_adn_c + M_h_c + M_selhcys_c\n",
    "\"M_h_c\" in res"
   ]
  },
  {
   "cell_type": "code",
   "execution_count": 502,
   "metadata": {},
   "outputs": [
    {
     "data": {
      "text/plain": [
       "(array([7.359e+03, 7.370e+02, 1.000e+00, 1.000e+00, 0.000e+00, 0.000e+00,\n",
       "        1.000e+00, 1.000e+00, 0.000e+00, 2.000e+00]),\n",
       " array([ 1. ,  6.7, 12.4, 18.1, 23.8, 29.5, 35.2, 40.9, 46.6, 52.3, 58. ]),\n",
       " <a list of 10 Patch objects>)"
      ]
     },
     "execution_count": 502,
     "metadata": {},
     "output_type": "execute_result"
    },
    {
     "data": {
      "image/png": "[encoded data removed]",
      "text/plain": [
       "<Figure size 432x288 with 1 Axes>"
      ]
     },
     "metadata": {
      "needs_background": "light"
     },
     "output_type": "display_data"
    }
   ],
   "source": [
    "nonzero_vals = []\n",
    "for col in red_uncons_mat.columns:\n",
    "  num_nonzero = (red_uncons_mat[col]!=0).sum()\n",
    "  if num_nonzero ==0:\n",
    "    print(\"Error! Error!\")\n",
    "  else: \n",
    "    nonzero_vals.append(num_nonzero)\n",
    "plt.hist(nonzero_vals)"
   ]
  },
  {
   "cell_type": "code",
   "execution_count": 505,
   "metadata": {},
   "outputs": [
    {
     "data": {
      "text/plain": [
       "8102"
      ]
     },
     "execution_count": 505,
     "metadata": {},
     "output_type": "execute_result"
    }
   ],
   "source": [
    "len(red_uncons_mat.columns)"
   ]
  },
  {
   "cell_type": "code",
   "execution_count": 489,
   "metadata": {},
   "outputs": [
    {
     "data": {
      "text/html": [
       "<div>\n",
       "<style scoped>\n",
       "    .dataframe tbody tr th:only-of-type {\n",
       "        vertical-align: middle;\n",
       "    }\n",
       "\n",
       "    .dataframe tbody tr th {\n",
       "        vertical-align: top;\n",
       "    }\n",
       "\n",
       "    .dataframe thead th {\n",
       "        text-align: right;\n",
       "    }\n",
       "</style>\n",
       "<table border=\"1\" class=\"dataframe\">\n",
       "  <thead>\n",
       "    <tr style=\"text-align: right;\">\n",
       "      <th></th>\n",
       "      <th>R_24_25DHVITD3tm</th>\n",
       "      <th>R_25HVITD3t</th>\n",
       "      <th>R_COAtl</th>\n",
       "      <th>R_24_25VITD3Hm</th>\n",
       "      <th>R_11DOCRTSLtr</th>\n",
       "      <th>R_13DAMPPOX</th>\n",
       "      <th>R_24_25DHVITD3t</th>\n",
       "      <th>R_25VITD2Hm</th>\n",
       "      <th>R_2AMACHYD</th>\n",
       "      <th>R_2AMACSULT</th>\n",
       "      <th>...</th>\n",
       "      <th>R_3DHCDCHOLabc</th>\n",
       "      <th>R_3DHCDCHOLt</th>\n",
       "      <th>R_3DHCDCHOLt2</th>\n",
       "      <th>R_3DHDCAS</th>\n",
       "      <th>R_3DHDCAt</th>\n",
       "      <th>R_3DHLCAt</th>\n",
       "      <th>R_ACMPGLUTTRsc</th>\n",
       "      <th>R_FVSCOAhc</th>\n",
       "      <th>R_MDZGLChr</th>\n",
       "      <th>R_TMACMPhr</th>\n",
       "    </tr>\n",
       "  </thead>\n",
       "  <tbody>\n",
       "    <tr>\n",
       "      <th>M_11docrtsl_c</th>\n",
       "      <td>0.0</td>\n",
       "      <td>0.0</td>\n",
       "      <td>0.0</td>\n",
       "      <td>0.0</td>\n",
       "      <td>-1.0</td>\n",
       "      <td>0.0</td>\n",
       "      <td>0.0</td>\n",
       "      <td>0.0</td>\n",
       "      <td>0.0</td>\n",
       "      <td>0.0</td>\n",
       "      <td>...</td>\n",
       "      <td>0.0</td>\n",
       "      <td>0.0</td>\n",
       "      <td>0.0</td>\n",
       "      <td>0.0</td>\n",
       "      <td>0.0</td>\n",
       "      <td>0.0</td>\n",
       "      <td>0.0</td>\n",
       "      <td>0.0</td>\n",
       "      <td>0.0</td>\n",
       "      <td>0.0</td>\n",
       "    </tr>\n",
       "    <tr>\n",
       "      <th>M_11docrtsl_e</th>\n",
       "      <td>0.0</td>\n",
       "      <td>0.0</td>\n",
       "      <td>0.0</td>\n",
       "      <td>0.0</td>\n",
       "      <td>0.0</td>\n",
       "      <td>0.0</td>\n",
       "      <td>0.0</td>\n",
       "      <td>0.0</td>\n",
       "      <td>0.0</td>\n",
       "      <td>0.0</td>\n",
       "      <td>...</td>\n",
       "      <td>0.0</td>\n",
       "      <td>0.0</td>\n",
       "      <td>0.0</td>\n",
       "      <td>0.0</td>\n",
       "      <td>0.0</td>\n",
       "      <td>0.0</td>\n",
       "      <td>0.0</td>\n",
       "      <td>0.0</td>\n",
       "      <td>0.0</td>\n",
       "      <td>0.0</td>\n",
       "    </tr>\n",
       "    <tr>\n",
       "      <th>M_11docrtsl_m</th>\n",
       "      <td>0.0</td>\n",
       "      <td>0.0</td>\n",
       "      <td>0.0</td>\n",
       "      <td>0.0</td>\n",
       "      <td>0.0</td>\n",
       "      <td>0.0</td>\n",
       "      <td>0.0</td>\n",
       "      <td>0.0</td>\n",
       "      <td>0.0</td>\n",
       "      <td>0.0</td>\n",
       "      <td>...</td>\n",
       "      <td>0.0</td>\n",
       "      <td>0.0</td>\n",
       "      <td>0.0</td>\n",
       "      <td>0.0</td>\n",
       "      <td>0.0</td>\n",
       "      <td>0.0</td>\n",
       "      <td>0.0</td>\n",
       "      <td>0.0</td>\n",
       "      <td>0.0</td>\n",
       "      <td>0.0</td>\n",
       "    </tr>\n",
       "    <tr>\n",
       "      <th>M_11docrtsl_r</th>\n",
       "      <td>0.0</td>\n",
       "      <td>0.0</td>\n",
       "      <td>0.0</td>\n",
       "      <td>0.0</td>\n",
       "      <td>1.0</td>\n",
       "      <td>0.0</td>\n",
       "      <td>0.0</td>\n",
       "      <td>0.0</td>\n",
       "      <td>0.0</td>\n",
       "      <td>0.0</td>\n",
       "      <td>...</td>\n",
       "      <td>0.0</td>\n",
       "      <td>0.0</td>\n",
       "      <td>0.0</td>\n",
       "      <td>0.0</td>\n",
       "      <td>0.0</td>\n",
       "      <td>0.0</td>\n",
       "      <td>0.0</td>\n",
       "      <td>0.0</td>\n",
       "      <td>0.0</td>\n",
       "      <td>0.0</td>\n",
       "    </tr>\n",
       "    <tr>\n",
       "      <th>M_11docrtstrn_c</th>\n",
       "      <td>0.0</td>\n",
       "      <td>0.0</td>\n",
       "      <td>0.0</td>\n",
       "      <td>0.0</td>\n",
       "      <td>0.0</td>\n",
       "      <td>0.0</td>\n",
       "      <td>0.0</td>\n",
       "      <td>0.0</td>\n",
       "      <td>0.0</td>\n",
       "      <td>0.0</td>\n",
       "      <td>...</td>\n",
       "      <td>0.0</td>\n",
       "      <td>0.0</td>\n",
       "      <td>0.0</td>\n",
       "      <td>0.0</td>\n",
       "      <td>0.0</td>\n",
       "      <td>0.0</td>\n",
       "      <td>0.0</td>\n",
       "      <td>0.0</td>\n",
       "      <td>0.0</td>\n",
       "      <td>0.0</td>\n",
       "    </tr>\n",
       "    <tr>\n",
       "      <th>...</th>\n",
       "      <td>...</td>\n",
       "      <td>...</td>\n",
       "      <td>...</td>\n",
       "      <td>...</td>\n",
       "      <td>...</td>\n",
       "      <td>...</td>\n",
       "      <td>...</td>\n",
       "      <td>...</td>\n",
       "      <td>...</td>\n",
       "      <td>...</td>\n",
       "      <td>...</td>\n",
       "      <td>...</td>\n",
       "      <td>...</td>\n",
       "      <td>...</td>\n",
       "      <td>...</td>\n",
       "      <td>...</td>\n",
       "      <td>...</td>\n",
       "      <td>...</td>\n",
       "      <td>...</td>\n",
       "      <td>...</td>\n",
       "      <td>...</td>\n",
       "    </tr>\n",
       "    <tr>\n",
       "      <th>M_zym_int2_r</th>\n",
       "      <td>0.0</td>\n",
       "      <td>0.0</td>\n",
       "      <td>0.0</td>\n",
       "      <td>0.0</td>\n",
       "      <td>0.0</td>\n",
       "      <td>0.0</td>\n",
       "      <td>0.0</td>\n",
       "      <td>0.0</td>\n",
       "      <td>0.0</td>\n",
       "      <td>0.0</td>\n",
       "      <td>...</td>\n",
       "      <td>0.0</td>\n",
       "      <td>0.0</td>\n",
       "      <td>0.0</td>\n",
       "      <td>0.0</td>\n",
       "      <td>0.0</td>\n",
       "      <td>0.0</td>\n",
       "      <td>0.0</td>\n",
       "      <td>0.0</td>\n",
       "      <td>0.0</td>\n",
       "      <td>0.0</td>\n",
       "    </tr>\n",
       "    <tr>\n",
       "      <th>M_zymst_c</th>\n",
       "      <td>0.0</td>\n",
       "      <td>0.0</td>\n",
       "      <td>0.0</td>\n",
       "      <td>0.0</td>\n",
       "      <td>0.0</td>\n",
       "      <td>0.0</td>\n",
       "      <td>0.0</td>\n",
       "      <td>0.0</td>\n",
       "      <td>0.0</td>\n",
       "      <td>0.0</td>\n",
       "      <td>...</td>\n",
       "      <td>0.0</td>\n",
       "      <td>0.0</td>\n",
       "      <td>0.0</td>\n",
       "      <td>0.0</td>\n",
       "      <td>0.0</td>\n",
       "      <td>0.0</td>\n",
       "      <td>0.0</td>\n",
       "      <td>0.0</td>\n",
       "      <td>0.0</td>\n",
       "      <td>0.0</td>\n",
       "    </tr>\n",
       "    <tr>\n",
       "      <th>M_zymst_r</th>\n",
       "      <td>0.0</td>\n",
       "      <td>0.0</td>\n",
       "      <td>0.0</td>\n",
       "      <td>0.0</td>\n",
       "      <td>0.0</td>\n",
       "      <td>0.0</td>\n",
       "      <td>0.0</td>\n",
       "      <td>0.0</td>\n",
       "      <td>0.0</td>\n",
       "      <td>0.0</td>\n",
       "      <td>...</td>\n",
       "      <td>0.0</td>\n",
       "      <td>0.0</td>\n",
       "      <td>0.0</td>\n",
       "      <td>0.0</td>\n",
       "      <td>0.0</td>\n",
       "      <td>0.0</td>\n",
       "      <td>0.0</td>\n",
       "      <td>0.0</td>\n",
       "      <td>0.0</td>\n",
       "      <td>0.0</td>\n",
       "    </tr>\n",
       "    <tr>\n",
       "      <th>M_zymstnl_c</th>\n",
       "      <td>0.0</td>\n",
       "      <td>0.0</td>\n",
       "      <td>0.0</td>\n",
       "      <td>0.0</td>\n",
       "      <td>0.0</td>\n",
       "      <td>0.0</td>\n",
       "      <td>0.0</td>\n",
       "      <td>0.0</td>\n",
       "      <td>0.0</td>\n",
       "      <td>0.0</td>\n",
       "      <td>...</td>\n",
       "      <td>0.0</td>\n",
       "      <td>0.0</td>\n",
       "      <td>0.0</td>\n",
       "      <td>0.0</td>\n",
       "      <td>0.0</td>\n",
       "      <td>0.0</td>\n",
       "      <td>0.0</td>\n",
       "      <td>0.0</td>\n",
       "      <td>0.0</td>\n",
       "      <td>0.0</td>\n",
       "    </tr>\n",
       "    <tr>\n",
       "      <th>M_zymstnl_r</th>\n",
       "      <td>0.0</td>\n",
       "      <td>0.0</td>\n",
       "      <td>0.0</td>\n",
       "      <td>0.0</td>\n",
       "      <td>0.0</td>\n",
       "      <td>0.0</td>\n",
       "      <td>0.0</td>\n",
       "      <td>0.0</td>\n",
       "      <td>0.0</td>\n",
       "      <td>0.0</td>\n",
       "      <td>...</td>\n",
       "      <td>0.0</td>\n",
       "      <td>0.0</td>\n",
       "      <td>0.0</td>\n",
       "      <td>0.0</td>\n",
       "      <td>0.0</td>\n",
       "      <td>0.0</td>\n",
       "      <td>0.0</td>\n",
       "      <td>0.0</td>\n",
       "      <td>0.0</td>\n",
       "      <td>0.0</td>\n",
       "    </tr>\n",
       "  </tbody>\n",
       "</table>\n",
       "<p>4357 rows × 8102 columns</p>\n",
       "</div>"
      ],
      "text/plain": [
       "                 R_24_25DHVITD3tm  R_25HVITD3t  R_COAtl  R_24_25VITD3Hm  \\\n",
       "M_11docrtsl_c                 0.0          0.0      0.0             0.0   \n",
       "M_11docrtsl_e                 0.0          0.0      0.0             0.0   \n",
       "M_11docrtsl_m                 0.0          0.0      0.0             0.0   \n",
       "M_11docrtsl_r                 0.0          0.0      0.0             0.0   \n",
       "M_11docrtstrn_c               0.0          0.0      0.0             0.0   \n",
       "...                           ...          ...      ...             ...   \n",
       "M_zym_int2_r                  0.0          0.0      0.0             0.0   \n",
       "M_zymst_c                     0.0          0.0      0.0             0.0   \n",
       "M_zymst_r                     0.0          0.0      0.0             0.0   \n",
       "M_zymstnl_c                   0.0          0.0      0.0             0.0   \n",
       "M_zymstnl_r                   0.0          0.0      0.0             0.0   \n",
       "\n",
       "                 R_11DOCRTSLtr  R_13DAMPPOX  R_24_25DHVITD3t  R_25VITD2Hm  \\\n",
       "M_11docrtsl_c             -1.0          0.0              0.0          0.0   \n",
       "M_11docrtsl_e              0.0          0.0              0.0          0.0   \n",
       "M_11docrtsl_m              0.0          0.0              0.0          0.0   \n",
       "M_11docrtsl_r              1.0          0.0              0.0          0.0   \n",
       "M_11docrtstrn_c            0.0          0.0              0.0          0.0   \n",
       "...                        ...          ...              ...          ...   \n",
       "M_zym_int2_r               0.0          0.0              0.0          0.0   \n",
       "M_zymst_c                  0.0          0.0              0.0          0.0   \n",
       "M_zymst_r                  0.0          0.0              0.0          0.0   \n",
       "M_zymstnl_c                0.0          0.0              0.0          0.0   \n",
       "M_zymstnl_r                0.0          0.0              0.0          0.0   \n",
       "\n",
       "                 R_2AMACHYD  R_2AMACSULT  ...  R_3DHCDCHOLabc  R_3DHCDCHOLt  \\\n",
       "M_11docrtsl_c           0.0          0.0  ...             0.0           0.0   \n",
       "M_11docrtsl_e           0.0          0.0  ...             0.0           0.0   \n",
       "M_11docrtsl_m           0.0          0.0  ...             0.0           0.0   \n",
       "M_11docrtsl_r           0.0          0.0  ...             0.0           0.0   \n",
       "M_11docrtstrn_c         0.0          0.0  ...             0.0           0.0   \n",
       "...                     ...          ...  ...             ...           ...   \n",
       "M_zym_int2_r            0.0          0.0  ...             0.0           0.0   \n",
       "M_zymst_c               0.0          0.0  ...             0.0           0.0   \n",
       "M_zymst_r               0.0          0.0  ...             0.0           0.0   \n",
       "M_zymstnl_c             0.0          0.0  ...             0.0           0.0   \n",
       "M_zymstnl_r             0.0          0.0  ...             0.0           0.0   \n",
       "\n",
       "                 R_3DHCDCHOLt2  R_3DHDCAS  R_3DHDCAt  R_3DHLCAt  \\\n",
       "M_11docrtsl_c              0.0        0.0        0.0        0.0   \n",
       "M_11docrtsl_e              0.0        0.0        0.0        0.0   \n",
       "M_11docrtsl_m              0.0        0.0        0.0        0.0   \n",
       "M_11docrtsl_r              0.0        0.0        0.0        0.0   \n",
       "M_11docrtstrn_c            0.0        0.0        0.0        0.0   \n",
       "...                        ...        ...        ...        ...   \n",
       "M_zym_int2_r               0.0        0.0        0.0        0.0   \n",
       "M_zymst_c                  0.0        0.0        0.0        0.0   \n",
       "M_zymst_r                  0.0        0.0        0.0        0.0   \n",
       "M_zymstnl_c                0.0        0.0        0.0        0.0   \n",
       "M_zymstnl_r                0.0        0.0        0.0        0.0   \n",
       "\n",
       "                 R_ACMPGLUTTRsc  R_FVSCOAhc  R_MDZGLChr  R_TMACMPhr  \n",
       "M_11docrtsl_c               0.0         0.0         0.0         0.0  \n",
       "M_11docrtsl_e               0.0         0.0         0.0         0.0  \n",
       "M_11docrtsl_m               0.0         0.0         0.0         0.0  \n",
       "M_11docrtsl_r               0.0         0.0         0.0         0.0  \n",
       "M_11docrtstrn_c             0.0         0.0         0.0         0.0  \n",
       "...                         ...         ...         ...         ...  \n",
       "M_zym_int2_r                0.0         0.0         0.0         0.0  \n",
       "M_zymst_c                   0.0         0.0         0.0         0.0  \n",
       "M_zymst_r                   0.0         0.0         0.0         0.0  \n",
       "M_zymstnl_c                 0.0         0.0         0.0         0.0  \n",
       "M_zymstnl_r                 0.0         0.0         0.0         0.0  \n",
       "\n",
       "[4357 rows x 8102 columns]"
      ]
     },
     "execution_count": 489,
     "metadata": {},
     "output_type": "execute_result"
    }
   ],
   "source": [
    "red_uncons_mat"
   ]
  },
  {
   "cell_type": "code",
   "execution_count": null,
   "metadata": {},
   "outputs": [],
   "source": []
  },
  {
   "cell_type": "code",
   "execution_count": null,
   "metadata": {},
   "outputs": [],
   "source": []
  },
  {
   "cell_type": "code",
   "execution_count": null,
   "metadata": {},
   "outputs": [],
   "source": []
  },
  {
   "cell_type": "code",
   "execution_count": 22,
   "metadata": {},
   "outputs": [
    {
     "data": {
      "text/plain": [
       "array([2.61469658e+00, 2.46912358e+00, 2.16281004e+00, 1.33790409e+00,\n",
       "       1.18447891e+00, 4.42793057e-01, 2.38794632e-32])"
      ]
     },
     "execution_count": 22,
     "metadata": {},
     "output_type": "execute_result"
    }
   ],
   "source": [
    "sigma"
   ]
  },
  {
   "cell_type": "code",
   "execution_count": 5,
   "metadata": {},
   "outputs": [],
   "source": [
    "## test from memote LP\n",
    "from numpy.linalg import svd"
   ]
  },
  {
   "cell_type": "code",
   "execution_count": 9,
   "metadata": {},
   "outputs": [],
   "source": [
    "matrix = np.atleast_2d(mat.T)"
   ]
  },
  {
   "cell_type": "code",
   "execution_count": 10,
   "metadata": {},
   "outputs": [],
   "source": [
    "_, sigma, vh = svd(matrix)"
   ]
  },
  {
   "cell_type": "code",
   "execution_count": 11,
   "metadata": {},
   "outputs": [
    {
     "name": "stdout",
     "output_type": "stream",
     "text": [
      "6\n"
     ]
    }
   ],
   "source": [
    "atol = 1e-13\n",
    "rtol = 0.0\n",
    "tol = max(atol, rtol*sigma[0])\n",
    "num_nonzero = (sigma >= tol).sum()\n",
    "print(num_nonzero)"
   ]
  },
  {
   "cell_type": "code",
   "execution_count": 23,
   "metadata": {},
   "outputs": [
    {
     "name": "stdout",
     "output_type": "stream",
     "text": [
      "                       0\n",
      "species_test    0.000000\n",
      "PstatDimer_nuc  0.577350\n",
      "PstatDimer_sol  0.577350\n",
      "Pstat_sol       0.288675\n",
      "stat_nuc        0.288675\n",
      "Pstat_nuc       0.288675\n",
      "stat_sol        0.288675\n"
     ]
    }
   ],
   "source": [
    "# left_ns = vh[num_nonzero:].conj().T\n",
    "left_ns = pd.DataFrame(vh[num_nonzero:].conj().T, index=mat.index)\n",
    "print(left_ns)"
   ]
  },
  {
   "cell_type": "code",
   "execution_count": 29,
   "metadata": {},
   "outputs": [
    {
     "data": {
      "text/html": [
       "<div>\n",
       "<style scoped>\n",
       "    .dataframe tbody tr th:only-of-type {\n",
       "        vertical-align: middle;\n",
       "    }\n",
       "\n",
       "    .dataframe tbody tr th {\n",
       "        vertical-align: top;\n",
       "    }\n",
       "\n",
       "    .dataframe thead th {\n",
       "        text-align: right;\n",
       "    }\n",
       "</style>\n",
       "<table border=\"1\" class=\"dataframe\">\n",
       "  <thead>\n",
       "    <tr style=\"text-align: right;\">\n",
       "      <th></th>\n",
       "      <th>species_test</th>\n",
       "      <th>PstatDimer_nuc</th>\n",
       "      <th>PstatDimer_sol</th>\n",
       "      <th>Pstat_sol</th>\n",
       "      <th>stat_nuc</th>\n",
       "      <th>Pstat_nuc</th>\n",
       "      <th>stat_sol</th>\n",
       "    </tr>\n",
       "  </thead>\n",
       "  <tbody>\n",
       "    <tr>\n",
       "      <th>0</th>\n",
       "      <td>0</td>\n",
       "      <td>2</td>\n",
       "      <td>2</td>\n",
       "      <td>1</td>\n",
       "      <td>1</td>\n",
       "      <td>1</td>\n",
       "      <td>1</td>\n",
       "    </tr>\n",
       "  </tbody>\n",
       "</table>\n",
       "</div>"
      ],
      "text/plain": [
       "   species_test  PstatDimer_nuc  PstatDimer_sol  Pstat_sol  stat_nuc  \\\n",
       "0             0               2               2          1         1   \n",
       "\n",
       "   Pstat_nuc  stat_sol  \n",
       "0          1         1  "
      ]
     },
     "execution_count": 29,
     "metadata": {},
     "output_type": "execute_result"
    }
   ],
   "source": [
    "pd.DataFrame(np.array([0, 2, 2, 1, 1, 1, 1]), index=mat.index).T"
   ]
  },
  {
   "cell_type": "code",
   "execution_count": 30,
   "metadata": {},
   "outputs": [
    {
     "data": {
      "text/html": [
       "<div>\n",
       "<style scoped>\n",
       "    .dataframe tbody tr th:only-of-type {\n",
       "        vertical-align: middle;\n",
       "    }\n",
       "\n",
       "    .dataframe tbody tr th {\n",
       "        vertical-align: top;\n",
       "    }\n",
       "\n",
       "    .dataframe thead th {\n",
       "        text-align: right;\n",
       "    }\n",
       "</style>\n",
       "<table border=\"1\" class=\"dataframe\">\n",
       "  <thead>\n",
       "    <tr style=\"text-align: right;\">\n",
       "      <th></th>\n",
       "      <th>PstatDimerisation</th>\n",
       "      <th>statDephosphorylation</th>\n",
       "      <th>statPhosphorylation</th>\n",
       "      <th>PstatDimerisationNuc</th>\n",
       "      <th>PstatDimer__import</th>\n",
       "      <th>stat_export</th>\n",
       "      <th>stat_import</th>\n",
       "    </tr>\n",
       "  </thead>\n",
       "  <tbody>\n",
       "    <tr>\n",
       "      <th>0</th>\n",
       "      <td>1.110223e-16</td>\n",
       "      <td>-1.665335e-16</td>\n",
       "      <td>1.110223e-16</td>\n",
       "      <td>3.330669e-16</td>\n",
       "      <td>0.0</td>\n",
       "      <td>-1.665335e-16</td>\n",
       "      <td>-1.665335e-16</td>\n",
       "    </tr>\n",
       "  </tbody>\n",
       "</table>\n",
       "</div>"
      ],
      "text/plain": [
       "   PstatDimerisation  statDephosphorylation  statPhosphorylation  \\\n",
       "0       1.110223e-16          -1.665335e-16         1.110223e-16   \n",
       "\n",
       "   PstatDimerisationNuc  PstatDimer__import   stat_export   stat_import  \n",
       "0          3.330669e-16                 0.0 -1.665335e-16 -1.665335e-16  "
      ]
     },
     "execution_count": 30,
     "metadata": {},
     "output_type": "execute_result"
    }
   ],
   "source": [
    "result_back = left_ns.T.dot(mat)\n",
    "result_back"
   ]
  },
  {
   "cell_type": "code",
   "execution_count": 31,
   "metadata": {},
   "outputs": [
    {
     "data": {
      "text/html": [
       "<div>\n",
       "<style scoped>\n",
       "    .dataframe tbody tr th:only-of-type {\n",
       "        vertical-align: middle;\n",
       "    }\n",
       "\n",
       "    .dataframe tbody tr th {\n",
       "        vertical-align: top;\n",
       "    }\n",
       "\n",
       "    .dataframe thead th {\n",
       "        text-align: right;\n",
       "    }\n",
       "</style>\n",
       "<table border=\"1\" class=\"dataframe\">\n",
       "  <thead>\n",
       "    <tr style=\"text-align: right;\">\n",
       "      <th></th>\n",
       "      <th>PstatDimerisation</th>\n",
       "      <th>statDephosphorylation</th>\n",
       "      <th>statPhosphorylation</th>\n",
       "      <th>PstatDimerisationNuc</th>\n",
       "      <th>PstatDimer__import</th>\n",
       "      <th>stat_export</th>\n",
       "      <th>stat_import</th>\n",
       "    </tr>\n",
       "  </thead>\n",
       "  <tbody>\n",
       "    <tr>\n",
       "      <th>species_test</th>\n",
       "      <td>0.0</td>\n",
       "      <td>0.0</td>\n",
       "      <td>1.0</td>\n",
       "      <td>0.0</td>\n",
       "      <td>0.0</td>\n",
       "      <td>0.0</td>\n",
       "      <td>0.0</td>\n",
       "    </tr>\n",
       "    <tr>\n",
       "      <th>PstatDimer_nuc</th>\n",
       "      <td>0.0</td>\n",
       "      <td>0.0</td>\n",
       "      <td>0.0</td>\n",
       "      <td>1.0</td>\n",
       "      <td>1.0</td>\n",
       "      <td>0.0</td>\n",
       "      <td>0.0</td>\n",
       "    </tr>\n",
       "    <tr>\n",
       "      <th>PstatDimer_sol</th>\n",
       "      <td>1.0</td>\n",
       "      <td>0.0</td>\n",
       "      <td>0.0</td>\n",
       "      <td>0.0</td>\n",
       "      <td>-1.0</td>\n",
       "      <td>0.0</td>\n",
       "      <td>0.0</td>\n",
       "    </tr>\n",
       "    <tr>\n",
       "      <th>Pstat_sol</th>\n",
       "      <td>-2.0</td>\n",
       "      <td>0.0</td>\n",
       "      <td>1.0</td>\n",
       "      <td>0.0</td>\n",
       "      <td>0.0</td>\n",
       "      <td>0.0</td>\n",
       "      <td>0.0</td>\n",
       "    </tr>\n",
       "    <tr>\n",
       "      <th>stat_nuc</th>\n",
       "      <td>0.0</td>\n",
       "      <td>1.0</td>\n",
       "      <td>0.0</td>\n",
       "      <td>0.0</td>\n",
       "      <td>0.0</td>\n",
       "      <td>1.0</td>\n",
       "      <td>1.0</td>\n",
       "    </tr>\n",
       "    <tr>\n",
       "      <th>Pstat_nuc</th>\n",
       "      <td>0.0</td>\n",
       "      <td>-1.0</td>\n",
       "      <td>0.0</td>\n",
       "      <td>-2.0</td>\n",
       "      <td>0.0</td>\n",
       "      <td>0.0</td>\n",
       "      <td>0.0</td>\n",
       "    </tr>\n",
       "    <tr>\n",
       "      <th>stat_sol</th>\n",
       "      <td>0.0</td>\n",
       "      <td>0.0</td>\n",
       "      <td>-1.0</td>\n",
       "      <td>0.0</td>\n",
       "      <td>0.0</td>\n",
       "      <td>-1.0</td>\n",
       "      <td>-1.0</td>\n",
       "    </tr>\n",
       "  </tbody>\n",
       "</table>\n",
       "</div>"
      ],
      "text/plain": [
       "                PstatDimerisation  statDephosphorylation  statPhosphorylation  \\\n",
       "species_test                  0.0                    0.0                  1.0   \n",
       "PstatDimer_nuc                0.0                    0.0                  0.0   \n",
       "PstatDimer_sol                1.0                    0.0                  0.0   \n",
       "Pstat_sol                    -2.0                    0.0                  1.0   \n",
       "stat_nuc                      0.0                    1.0                  0.0   \n",
       "Pstat_nuc                     0.0                   -1.0                  0.0   \n",
       "stat_sol                      0.0                    0.0                 -1.0   \n",
       "\n",
       "                PstatDimerisationNuc  PstatDimer__import  stat_export  \\\n",
       "species_test                     0.0                 0.0          0.0   \n",
       "PstatDimer_nuc                   1.0                 1.0          0.0   \n",
       "PstatDimer_sol                   0.0                -1.0          0.0   \n",
       "Pstat_sol                        0.0                 0.0          0.0   \n",
       "stat_nuc                         0.0                 0.0          1.0   \n",
       "Pstat_nuc                       -2.0                 0.0          0.0   \n",
       "stat_sol                         0.0                 0.0         -1.0   \n",
       "\n",
       "                stat_import  \n",
       "species_test            0.0  \n",
       "PstatDimer_nuc          0.0  \n",
       "PstatDimer_sol          0.0  \n",
       "Pstat_sol               0.0  \n",
       "stat_nuc                1.0  \n",
       "Pstat_nuc               0.0  \n",
       "stat_sol               -1.0  "
      ]
     },
     "execution_count": 31,
     "metadata": {},
     "output_type": "execute_result"
    }
   ],
   "source": [
    "# solve inconsistent net stoichiometry\n",
    "mat"
   ]
  },
  {
   "cell_type": "code",
   "execution_count": 32,
   "metadata": {},
   "outputs": [
    {
     "data": {
      "text/plain": [
       "Index(['species_test', 'PstatDimer_nuc', 'PstatDimer_sol', 'Pstat_sol',\n",
       "       'stat_nuc', 'Pstat_nuc'],\n",
       "      dtype='object')"
      ]
     },
     "execution_count": 32,
     "metadata": {},
     "output_type": "execute_result"
    }
   ],
   "source": [
    "k_mat.index[:-1]"
   ]
  },
  {
   "cell_type": "code",
   "execution_count": 36,
   "metadata": {},
   "outputs": [
    {
     "name": "stdout",
     "output_type": "stream",
     "text": [
      "Status: Optimal\n",
      "include_A has value: 0.00000000000000000000\n",
      "True\n",
      "include_Ap has value: 0.00000000000000000000\n",
      "True\n",
      "include_B has value: 0.00000000000000000000\n",
      "True\n",
      "include_Bp has value: 0.00000000000000000000\n",
      "True\n",
      "include_C has value: 0.00000000000000000000\n",
      "True\n",
      "include_Cp has value: 1.00000000000000000000\n",
      "False\n",
      "weight_A has value: 0.00000000000010000000\n",
      "False\n",
      "weight_Ap has value: 0.00000000000010000000\n",
      "False\n",
      "weight_B has value: 0.00000000000010000000\n",
      "False\n",
      "weight_Bp has value: 0.00000000000010000000\n",
      "False\n",
      "weight_C has value: 0.00000000000010000000\n",
      "False\n",
      "weight_Cp has value: 0.00000000000010000000\n",
      "False\n"
     ]
    }
   ],
   "source": [
    "# To verify Gevorgyan algorithm\n",
    "k_mat = pd.DataFrame(np.array([0.0, -1.0, -1.0, 1.0, 0.0, 0.0]), index=['A', 'Ap', 'B', 'Bp', 'C', 'Cp'])[0]\n",
    "prob_min_net_stoi = LpProblem(\"Finding_Minimal_Net_Stoichiometry\", LpMinimize)\n",
    "milp_min_net_stoi_begin = time.time()\n",
    "species = list(k_mat.index)\n",
    "species_inclusion_net_stoi = pulp.LpVariable.dicts(\"include\", species, cat=\"Binary\")\n",
    "species_weight_net_stoi = pulp.LpVariable.dicts(\"weight\", species, lowBound=atol, cat=\"Continuous\")\n",
    "# objective function to minimize\n",
    "prob_min_net_stoi += lpSum([species_inclusion_net_stoi[i] for i in species])\n",
    "# constraint 1 (for each metabolite, species_weight_net_stoi[i]*species_inclusion_net_stoi[i])=0)\n",
    "# for metabolite in k_mat.index:\n",
    "prob_min_net_stoi += lpSum(species_weight_net_stoi[metabolite]*k_mat[metabolite] for metabolite in k_mat.index)==0\n",
    "# constraint 2 (species_inclusion is less than or equal to mass of each species)\n",
    "for species in species_weight_net_stoi.keys():\n",
    "  prob_min_net_stoi += species_weight_net_stoi[species] <= species_inclusion_net_stoi[species]\n",
    "# constraint 3 (at least one element nonzero)\n",
    "prob_min_net_stoi += sum(species_inclusion_net_stoi[metabolite] for metabolite in k_mat.index) >= 1\n",
    "###########\n",
    "# # solve problem\n",
    "prob_min_net_stoi.solve()\n",
    "print(\"Status:\", LpStatus[prob_min_net_stoi.status])\n",
    "for v in prob_min_net_stoi.variables():\n",
    "  print(\"%s has value: %.20f\" % (v.name, v.varValue))\n",
    "  print(v.varValue == 0.0)"
   ]
  },
  {
   "cell_type": "code",
   "execution_count": 35,
   "metadata": {},
   "outputs": [
    {
     "data": {
      "text/plain": [
       "Finding_Minimal_Net_Stoichiometry:\n",
       "MINIMIZE\n",
       "1*include_A + 1*include_Ap + 1*include_B + 1*include_Bp + 1*include_C + 1*include_Cp + 0\n",
       "SUBJECT TO\n",
       "_C1: - weight_Ap - weight_B + weight_Bp = 0\n",
       "\n",
       "_C2: - include_A + weight_A <= 0\n",
       "\n",
       "_C3: - include_Ap + weight_Ap <= 0\n",
       "\n",
       "_C4: - include_B + weight_B <= 0\n",
       "\n",
       "_C5: - include_Bp + weight_Bp <= 0\n",
       "\n",
       "_C6: - include_C + weight_C <= 0\n",
       "\n",
       "_C7: - include_Cp + weight_Cp <= 0\n",
       "\n",
       "_C8: include_A + include_Ap + include_B + include_Bp + include_C + include_Cp\n",
       " >= 1\n",
       "\n",
       "VARIABLES\n",
       "0 <= include_A <= 1 Integer\n",
       "0 <= include_Ap <= 1 Integer\n",
       "0 <= include_B <= 1 Integer\n",
       "0 <= include_Bp <= 1 Integer\n",
       "0 <= include_C <= 1 Integer\n",
       "0 <= include_Cp <= 1 Integer\n",
       "1e-13 <= weight_A Continuous\n",
       "1e-13 <= weight_Ap Continuous\n",
       "1e-13 <= weight_B Continuous\n",
       "1e-13 <= weight_Bp Continuous\n",
       "1e-13 <= weight_C Continuous\n",
       "1e-13 <= weight_Cp Continuous"
      ]
     },
     "execution_count": 35,
     "metadata": {},
     "output_type": "execute_result"
    }
   ],
   "source": [
    "prob_min_net_stoi"
   ]
  },
  {
   "cell_type": "code",
   "execution_count": 42,
   "metadata": {},
   "outputs": [
    {
     "data": {
      "text/plain": [
       "species_test      0.000000\n",
       "PstatDimer_nuc    0.577350\n",
       "PstatDimer_sol    0.577350\n",
       "Pstat_sol         0.288675\n",
       "stat_nuc          0.288675\n",
       "Pstat_nuc         0.288675\n",
       "stat_sol          0.288675\n",
       "Name: 0, dtype: float64"
      ]
     },
     "execution_count": 42,
     "metadata": {},
     "output_type": "execute_result"
    }
   ],
   "source": [
    "k_mat"
   ]
  },
  {
   "cell_type": "code",
   "execution_count": 44,
   "metadata": {},
   "outputs": [
    {
     "name": "stdout",
     "output_type": "stream",
     "text": [
      "Status: Optimal\n"
     ]
    }
   ],
   "source": [
    "# to find minimal net stoichiometry\n",
    "# from Gevorgyan formula (13), k_mat is is K_met, y is species_weight_net_stoi, k_i is species_inclusion_net_stoi\n",
    "# this runs for each column of left_ns, so here, just select first column\n",
    "k_mat = left_ns[0]\n",
    "prob_min_net_stoi = LpProblem(\"Finding_Minimal_Net_Stoichiometry\", LpMinimize)\n",
    "milp_min_net_stoi_begin = time.time()\n",
    "species = list(k_mat.index)\n",
    "species_inclusion_net_stoi = pulp.LpVariable.dicts(\"include\", species, cat=\"Binary\")\n",
    "species_weight_net_stoi = pulp.LpVariable.dicts(\"weight\", species, lowBound=0.0, cat=\"Continuous\")\n",
    "# objective function to minimize\n",
    "prob_min_net_stoi += lpSum([species_inclusion_net_stoi[i] for i in species])\n",
    "# constraint 1 (for each metabolite, species_weight_net_stoi[i]*species_inclusion_net_stoi[i])=0)\n",
    "# for metabolite in k_mat.index:\n",
    "prob_min_net_stoi += lpSum(species_weight_net_stoi[metabolite]*k_mat[metabolite] for metabolite in k_mat.index)==0\n",
    "# constraint 2 (species_inclusion is less than or equal to mass of each species)\n",
    "for species in species_weight_net_stoi.keys():\n",
    "  prob_min_net_stoi += species_weight_net_stoi[species] <= species_inclusion_net_stoi[species] \n",
    "# constraint 3 (at least one element nonzero)\n",
    "prob_min_net_stoi += sum(species_inclusion_net_stoi[metabolite] for metabolite in k_mat.index) >= 1\n",
    "###########\n",
    "# # solve problem\n",
    "prob_min_net_stoi.solve()\n",
    "print(\"Status:\", LpStatus[prob_min_net_stoi.status])"
   ]
  },
  {
   "cell_type": "code",
   "execution_count": 47,
   "metadata": {},
   "outputs": [
    {
     "name": "stdout",
     "output_type": "stream",
     "text": [
      "include_PstatDimer_nuc has value: 0.0000000000\n",
      "include_PstatDimer_sol has value: 0.0000000000\n",
      "include_Pstat_nuc has value: 0.0000000000\n",
      "include_Pstat_sol has value: 0.0000000000\n",
      "include_species_test has value: 0.0000000000\n",
      "include_stat_nuc has value: 0.0000000000\n",
      "include_stat_sol has value: 1.0000000000\n",
      "weight_PstatDimer_nuc has value: 0.0000000000\n",
      "weight_PstatDimer_sol has value: 0.0000000000\n",
      "weight_Pstat_nuc has value: 0.0000000000\n",
      "weight_Pstat_sol has value: 0.0000000000\n",
      "weight_species_test has value: 0.0000000000\n",
      "weight_stat_nuc has value: 0.0000000000\n",
      "weight_stat_sol has value: 0.0000000000\n"
     ]
    }
   ],
   "source": [
    "for v in prob_min_net_stoi.variables():\n",
    "  print(\"%s has value: %.10f\" % (v.name, v.varValue))"
   ]
  },
  {
   "cell_type": "code",
   "execution_count": 46,
   "metadata": {},
   "outputs": [
    {
     "data": {
      "text/plain": [
       "Finding_Minimal_Net_Stoichiometry:\n",
       "MINIMIZE\n",
       "1*include_PstatDimer_nuc + 1*include_PstatDimer_sol + 1*include_Pstat_nuc + 1*include_Pstat_sol + 1*include_species_test + 1*include_stat_nuc + 1*include_stat_sol + 0\n",
       "SUBJECT TO\n",
       "_C1: 0.57735026919 weight_PstatDimer_nuc + 0.57735026919 weight_PstatDimer_sol\n",
       " + 0.288675134595 weight_Pstat_nuc + 0.288675134595 weight_Pstat_sol\n",
       " + 0.288675134595 weight_stat_nuc + 0.288675134595 weight_stat_sol = 0\n",
       "\n",
       "_C2: - include_species_test + weight_species_test <= 0\n",
       "\n",
       "_C3: - include_PstatDimer_nuc + weight_PstatDimer_nuc <= 0\n",
       "\n",
       "_C4: - include_PstatDimer_sol + weight_PstatDimer_sol <= 0\n",
       "\n",
       "_C5: - include_Pstat_sol + weight_Pstat_sol <= 0\n",
       "\n",
       "_C6: - include_stat_nuc + weight_stat_nuc <= 0\n",
       "\n",
       "_C7: - include_Pstat_nuc + weight_Pstat_nuc <= 0\n",
       "\n",
       "_C8: - include_stat_sol + weight_stat_sol <= 0\n",
       "\n",
       "_C9: include_PstatDimer_nuc + include_PstatDimer_sol + include_Pstat_nuc\n",
       " + include_Pstat_sol + include_species_test + include_stat_nuc\n",
       " + include_stat_sol >= 1\n",
       "\n",
       "VARIABLES\n",
       "0 <= include_PstatDimer_nuc <= 1 Integer\n",
       "0 <= include_PstatDimer_sol <= 1 Integer\n",
       "0 <= include_Pstat_nuc <= 1 Integer\n",
       "0 <= include_Pstat_sol <= 1 Integer\n",
       "0 <= include_species_test <= 1 Integer\n",
       "0 <= include_stat_nuc <= 1 Integer\n",
       "0 <= include_stat_sol <= 1 Integer\n",
       "weight_PstatDimer_nuc Continuous\n",
       "weight_PstatDimer_sol Continuous\n",
       "weight_Pstat_nuc Continuous\n",
       "weight_Pstat_sol Continuous\n",
       "weight_species_test Continuous\n",
       "weight_stat_nuc Continuous\n",
       "weight_stat_sol Continuous"
      ]
     },
     "execution_count": 46,
     "metadata": {},
     "output_type": "execute_result"
    }
   ],
   "source": [
    "prob_min_net_stoi"
   ]
  },
  {
   "cell_type": "code",
   "execution_count": 60,
   "metadata": {},
   "outputs": [
    {
     "data": {
      "text/html": [
       "<div>\n",
       "<style scoped>\n",
       "    .dataframe tbody tr th:only-of-type {\n",
       "        vertical-align: middle;\n",
       "    }\n",
       "\n",
       "    .dataframe tbody tr th {\n",
       "        vertical-align: top;\n",
       "    }\n",
       "\n",
       "    .dataframe thead th {\n",
       "        text-align: right;\n",
       "    }\n",
       "</style>\n",
       "<table border=\"1\" class=\"dataframe\">\n",
       "  <thead>\n",
       "    <tr style=\"text-align: right;\">\n",
       "      <th></th>\n",
       "      <th>0</th>\n",
       "    </tr>\n",
       "  </thead>\n",
       "  <tbody>\n",
       "    <tr>\n",
       "      <th>species_test</th>\n",
       "      <td>0.000000</td>\n",
       "    </tr>\n",
       "    <tr>\n",
       "      <th>stat_nuc</th>\n",
       "      <td>-0.288675</td>\n",
       "    </tr>\n",
       "    <tr>\n",
       "      <th>PstatDimer_sol</th>\n",
       "      <td>-0.577350</td>\n",
       "    </tr>\n",
       "    <tr>\n",
       "      <th>Pstat_sol</th>\n",
       "      <td>-0.288675</td>\n",
       "    </tr>\n",
       "    <tr>\n",
       "      <th>PstatDimer_nuc</th>\n",
       "      <td>-0.577350</td>\n",
       "    </tr>\n",
       "    <tr>\n",
       "      <th>stat_sol</th>\n",
       "      <td>-0.288675</td>\n",
       "    </tr>\n",
       "    <tr>\n",
       "      <th>Pstat_nuc</th>\n",
       "      <td>-0.288675</td>\n",
       "    </tr>\n",
       "  </tbody>\n",
       "</table>\n",
       "</div>"
      ],
      "text/plain": [
       "                       0\n",
       "species_test    0.000000\n",
       "stat_nuc       -0.288675\n",
       "PstatDimer_sol -0.577350\n",
       "Pstat_sol      -0.288675\n",
       "PstatDimer_nuc -0.577350\n",
       "stat_sol       -0.288675\n",
       "Pstat_nuc      -0.288675"
      ]
     },
     "execution_count": 60,
     "metadata": {},
     "output_type": "execute_result"
    }
   ],
   "source": [
    "left_ns"
   ]
  },
  {
   "cell_type": "code",
   "execution_count": 527,
   "metadata": {},
   "outputs": [
    {
     "data": {
      "text/plain": [
       "array([[2.88675135e-01],\n",
       "       [5.77350269e-01],\n",
       "       [2.88675135e-01],\n",
       "       [1.06315346e-16],\n",
       "       [5.77350269e-01],\n",
       "       [2.88675135e-01],\n",
       "       [2.88675135e-01]])"
      ]
     },
     "execution_count": 527,
     "metadata": {},
     "output_type": "execute_result"
    }
   ],
   "source": [
    "left_ns"
   ]
  },
  {
   "cell_type": "code",
   "execution_count": null,
   "metadata": {},
   "outputs": [],
   "source": []
  }
 ],
 "metadata": {
  "kernelspec": {
   "display_name": "Python 3",
   "language": "python",
   "name": "python3"
  },
  "language_info": {
   "codemirror_mode": {
    "name": "ipython",
    "version": 3
   },
   "file_extension": ".py",
   "mimetype": "text/x-python",
   "name": "python",
   "nbconvert_exporter": "python",
   "pygments_lexer": "ipython3",
   "version": "3.6.10"
  }
 },
 "nbformat": 4,
 "nbformat_minor": 4
}
